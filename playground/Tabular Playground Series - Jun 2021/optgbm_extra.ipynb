{
 "cells": [
  {
   "cell_type": "code",
   "execution_count": 1,
   "id": "e26a425a",
   "metadata": {},
   "outputs": [
    {
     "name": "stdout",
     "output_type": "stream",
     "text": [
      "Requirement already satisfied: optgbm in /opt/conda/lib/python3.9/site-packages (0.10.0)\n",
      "Requirement already satisfied: numpy in /opt/conda/lib/python3.9/site-packages (from optgbm) (1.19.5)\n",
      "Requirement already satisfied: scikit-learn>=0.19.0 in /opt/conda/lib/python3.9/site-packages (from optgbm) (0.24.2)\n",
      "Requirement already satisfied: pandas in /opt/conda/lib/python3.9/site-packages (from optgbm) (1.2.4)\n",
      "Requirement already satisfied: optuna>=0.17 in /opt/conda/lib/python3.9/site-packages (from optgbm) (2.8.0)\n",
      "Requirement already satisfied: lightgbm>=2.2.2 in /opt/conda/lib/python3.9/site-packages (from optgbm) (3.2.1)\n",
      "Requirement already satisfied: scipy in /opt/conda/lib/python3.9/site-packages (from lightgbm>=2.2.2->optgbm) (1.6.3)\n",
      "Requirement already satisfied: wheel in /opt/conda/lib/python3.9/site-packages (from lightgbm>=2.2.2->optgbm) (0.36.2)\n",
      "Requirement already satisfied: cliff in /opt/conda/lib/python3.9/site-packages (from optuna>=0.17->optgbm) (3.8.0)\n",
      "Requirement already satisfied: colorlog in /opt/conda/lib/python3.9/site-packages (from optuna>=0.17->optgbm) (5.0.1)\n",
      "Requirement already satisfied: packaging>=20.0 in /opt/conda/lib/python3.9/site-packages (from optuna>=0.17->optgbm) (20.9)\n",
      "Requirement already satisfied: alembic in /opt/conda/lib/python3.9/site-packages (from optuna>=0.17->optgbm) (1.6.5)\n",
      "Requirement already satisfied: cmaes>=0.8.2 in /opt/conda/lib/python3.9/site-packages (from optuna>=0.17->optgbm) (0.8.2)\n",
      "Requirement already satisfied: sqlalchemy>=1.1.0 in /opt/conda/lib/python3.9/site-packages (from optuna>=0.17->optgbm) (1.4.18)\n",
      "Requirement already satisfied: tqdm in /opt/conda/lib/python3.9/site-packages (from optuna>=0.17->optgbm) (4.61.1)\n",
      "Requirement already satisfied: pyparsing>=2.0.2 in /opt/conda/lib/python3.9/site-packages (from packaging>=20.0->optuna>=0.17->optgbm) (2.4.7)\n",
      "Requirement already satisfied: joblib>=0.11 in /opt/conda/lib/python3.9/site-packages (from scikit-learn>=0.19.0->optgbm) (1.0.1)\n",
      "Requirement already satisfied: threadpoolctl>=2.0.0 in /opt/conda/lib/python3.9/site-packages (from scikit-learn>=0.19.0->optgbm) (2.1.0)\n",
      "Requirement already satisfied: greenlet!=0.4.17 in /opt/conda/lib/python3.9/site-packages (from sqlalchemy>=1.1.0->optuna>=0.17->optgbm) (1.1.0)\n",
      "Requirement already satisfied: python-editor>=0.3 in /opt/conda/lib/python3.9/site-packages (from alembic->optuna>=0.17->optgbm) (1.0.4)\n",
      "Requirement already satisfied: python-dateutil in /opt/conda/lib/python3.9/site-packages (from alembic->optuna>=0.17->optgbm) (2.8.1)\n",
      "Requirement already satisfied: Mako in /opt/conda/lib/python3.9/site-packages (from alembic->optuna>=0.17->optgbm) (1.1.4)\n",
      "Requirement already satisfied: PrettyTable>=0.7.2 in /opt/conda/lib/python3.9/site-packages (from cliff->optuna>=0.17->optgbm) (2.1.0)\n",
      "Requirement already satisfied: cmd2>=1.0.0 in /opt/conda/lib/python3.9/site-packages (from cliff->optuna>=0.17->optgbm) (2.1.1)\n",
      "Requirement already satisfied: pbr!=2.1.0,>=2.0.0 in /opt/conda/lib/python3.9/site-packages (from cliff->optuna>=0.17->optgbm) (5.6.0)\n",
      "Requirement already satisfied: PyYAML>=3.12 in /opt/conda/lib/python3.9/site-packages (from cliff->optuna>=0.17->optgbm) (5.4.1)\n",
      "Requirement already satisfied: stevedore>=2.0.1 in /opt/conda/lib/python3.9/site-packages (from cliff->optuna>=0.17->optgbm) (3.3.0)\n",
      "Requirement already satisfied: wcwidth>=0.1.7 in /opt/conda/lib/python3.9/site-packages (from cmd2>=1.0.0->cliff->optuna>=0.17->optgbm) (0.2.5)\n",
      "Requirement already satisfied: pyperclip>=1.6 in /opt/conda/lib/python3.9/site-packages (from cmd2>=1.0.0->cliff->optuna>=0.17->optgbm) (1.8.2)\n",
      "Requirement already satisfied: attrs>=16.3.0 in /opt/conda/lib/python3.9/site-packages (from cmd2>=1.0.0->cliff->optuna>=0.17->optgbm) (21.2.0)\n",
      "Requirement already satisfied: colorama>=0.3.7 in /opt/conda/lib/python3.9/site-packages (from cmd2>=1.0.0->cliff->optuna>=0.17->optgbm) (0.4.4)\n",
      "Requirement already satisfied: MarkupSafe>=0.9.2 in /opt/conda/lib/python3.9/site-packages (from Mako->alembic->optuna>=0.17->optgbm) (2.0.1)\n",
      "Requirement already satisfied: pytz>=2017.3 in /opt/conda/lib/python3.9/site-packages (from pandas->optgbm) (2021.1)\n",
      "Requirement already satisfied: six>=1.5 in /opt/conda/lib/python3.9/site-packages (from python-dateutil->alembic->optuna>=0.17->optgbm) (1.15.0)\n"
     ]
    }
   ],
   "source": [
    "!pip install optgbm"
   ]
  },
  {
   "cell_type": "code",
   "execution_count": 16,
   "id": "8a711117",
   "metadata": {},
   "outputs": [],
   "source": [
    "import time\n",
    "import datetime\n",
    "\n",
    "import numpy as np\n",
    "import pandas as pd\n",
    "import optgbm as opt"
   ]
  },
  {
   "cell_type": "code",
   "execution_count": 17,
   "id": "795fef01",
   "metadata": {},
   "outputs": [],
   "source": [
    "train_df = pd.read_csv('train.csv')\n",
    "test_df = pd.read_csv('test.csv')"
   ]
  },
  {
   "cell_type": "code",
   "execution_count": 18,
   "id": "a1816f59",
   "metadata": {},
   "outputs": [
    {
     "name": "stdout",
     "output_type": "stream",
     "text": [
      "0    5\n",
      "1    5\n",
      "2    1\n",
      "3    7\n",
      "4    1\n",
      "Name: target, dtype: int64\n"
     ]
    }
   ],
   "source": [
    "from sklearn.preprocessing import LabelEncoder\n",
    "features_target = ['target'] \n",
    "\n",
    "for feature in features_target:\n",
    "    le = LabelEncoder()\n",
    "    le.fit(train_df[feature])\n",
    "    train_df[feature] = le.transform(train_df[feature])\n",
    "    \n",
    "print(train_df['target'].head())"
   ]
  },
  {
   "cell_type": "code",
   "execution_count": 19,
   "id": "d63441fb",
   "metadata": {},
   "outputs": [
    {
     "data": {
      "text/plain": [
       "['Booster',\n",
       " 'CVBooster',\n",
       " 'DaskLGBMClassifier',\n",
       " 'DaskLGBMRanker',\n",
       " 'DaskLGBMRegressor',\n",
       " 'Dataset',\n",
       " 'DistributionNotFound',\n",
       " 'LGBMClassifier',\n",
       " 'LGBMModel',\n",
       " 'LGBMRanker',\n",
       " 'LGBMRegressor',\n",
       " 'OGBMClassifier',\n",
       " 'OGBMRegressor',\n",
       " '__builtins__',\n",
       " '__cached__',\n",
       " '__doc__',\n",
       " '__file__',\n",
       " '__loader__',\n",
       " '__name__',\n",
       " '__package__',\n",
       " '__path__',\n",
       " '__spec__',\n",
       " '__version__',\n",
       " 'compat',\n",
       " 'create_tree_digraph',\n",
       " 'cv',\n",
       " 'distribution',\n",
       " 'early_stopping',\n",
       " 'get_distribution',\n",
       " 'handler',\n",
       " 'logger',\n",
       " 'logging',\n",
       " 'plot_importance',\n",
       " 'plot_metric',\n",
       " 'plot_split_value_histogram',\n",
       " 'plot_tree',\n",
       " 'print_evaluation',\n",
       " 'record_evaluation',\n",
       " 'register_logger',\n",
       " 'reset_parameter',\n",
       " 'sklearn',\n",
       " 'train',\n",
       " 'typing',\n",
       " 'utils']"
      ]
     },
     "execution_count": 19,
     "metadata": {},
     "output_type": "execute_result"
    }
   ],
   "source": [
    "dir(opt)"
   ]
  },
  {
   "cell_type": "code",
   "execution_count": 20,
   "id": "b969afb1",
   "metadata": {},
   "outputs": [
    {
     "name": "stderr",
     "output_type": "stream",
     "text": [
      "/opt/conda/lib/python3.9/site-packages/sklearn/utils/validation.py:70: FutureWarning: Pass classifier=True as keyword args. From version 1.0 (renaming of 0.25) passing these as positional arguments will result in an error\n",
      "  warnings.warn(f\"Pass {args_msg} as keyword args. From version \"\n",
      "\u001b[32m[I 2021-06-25 21:53:23,728]\u001b[0m A new study created in memory with name: no-name-744132b2-5b46-4ace-9357-81393e73ac1c\u001b[0m\n",
      "Searching the best hyperparameters...\n"
     ]
    },
    {
     "name": "stdout",
     "output_type": "stream",
     "text": [
      "2021-06-25 21:53:23.637549\n"
     ]
    },
    {
     "name": "stderr",
     "output_type": "stream",
     "text": [
      "\u001b[32m[I 2021-06-25 21:53:45,752]\u001b[0m Trial 0 finished with value: 1.752720133639236 and parameters: {'feature_fraction': 0.65, 'max_depth': 4, 'num_leaves': 4, 'min_data_in_leaf': 14224, 'lambda_l1': 4.097758796753091e-05, 'lambda_l2': 1.6310528798823705, 'bagging_fraction': 0.55, 'bagging_freq': 1}. Best is trial 0 with value: 1.752720133639236.\u001b[0m\n",
      "\u001b[32m[I 2021-06-25 21:54:48,704]\u001b[0m Trial 1 finished with value: 1.7509025311539557 and parameters: {'feature_fraction': 0.25, 'max_depth': 7, 'num_leaves': 91, 'min_data_in_leaf': 326, 'lambda_l1': 1.970060273262244e-08, 'lambda_l2': 5.026026819423698e-09, 'bagging_fraction': 0.75, 'bagging_freq': 8}. Best is trial 1 with value: 1.7509025311539557.\u001b[0m\n",
      "\u001b[32m[I 2021-06-25 21:55:39,845]\u001b[0m Trial 2 finished with value: 1.768411271163534 and parameters: {'feature_fraction': 0.6, 'max_depth': 2, 'num_leaves': 4, 'min_data_in_leaf': 38094, 'lambda_l1': 2.4824128631188513e-05, 'lambda_l2': 6.485249778900093e-07, 'bagging_fraction': 0.7, 'bagging_freq': 4}. Best is trial 1 with value: 1.7509025311539557.\u001b[0m\n",
      "\u001b[32m[I 2021-06-25 21:56:24,358]\u001b[0m Trial 3 finished with value: 1.7493772577731204 and parameters: {'feature_fraction': 0.65, 'max_depth': 6, 'num_leaves': 17, 'min_data_in_leaf': 2115, 'lambda_l1': 5.119582422591953e-09, 'lambda_l2': 0.00020672235492802038, 'bagging_fraction': 0.6, 'bagging_freq': 9}. Best is trial 3 with value: 1.7493772577731204.\u001b[0m\n",
      "\u001b[32m[I 2021-06-25 21:57:01,806]\u001b[0m Trial 4 finished with value: 1.7512234730428315 and parameters: {'feature_fraction': 0.8, 'max_depth': 4, 'num_leaves': 6, 'min_data_in_leaf': 105, 'lambda_l1': 1.4885748399482313e-09, 'lambda_l2': 7.266218765820176e-07, 'bagging_fraction': 0.75, 'bagging_freq': 9}. Best is trial 3 with value: 1.7493772577731204.\u001b[0m\n",
      "\u001b[32m[I 2021-06-25 21:58:03,819]\u001b[0m Trial 5 finished with value: 1.7616764248900865 and parameters: {'feature_fraction': 0.5, 'max_depth': 4, 'num_leaves': 7, 'min_data_in_leaf': 24350, 'lambda_l1': 0.012753686786654353, 'lambda_l2': 6.024540641753863e-07, 'bagging_fraction': 0.55, 'bagging_freq': 8}. Best is trial 3 with value: 1.7493772577731204.\u001b[0m\n",
      "\u001b[32m[I 2021-06-25 21:58:06,225]\u001b[0m Trial 6 finished with value: 2.0752378676359795 and parameters: {'feature_fraction': 0.8, 'max_depth': 3, 'num_leaves': 2, 'min_data_in_leaf': 56725, 'lambda_l1': 3.239617514905167e-05, 'lambda_l2': 9.772623055000229e-05, 'bagging_fraction': 0.7, 'bagging_freq': 4}. Best is trial 3 with value: 1.7493772577731204.\u001b[0m\n",
      "\u001b[32m[I 2021-06-25 21:58:50,850]\u001b[0m Trial 7 finished with value: 1.750250997381329 and parameters: {'feature_fraction': 0.9500000000000001, 'max_depth': 6, 'num_leaves': 56, 'min_data_in_leaf': 1852, 'lambda_l1': 3.1540010946636135e-05, 'lambda_l2': 3.148761455534818e-09, 'bagging_fraction': 0.65, 'bagging_freq': 4}. Best is trial 3 with value: 1.7493772577731204.\u001b[0m\n",
      "\u001b[32m[I 2021-06-25 21:59:30,865]\u001b[0m Trial 8 finished with value: 1.749650307767875 and parameters: {'feature_fraction': 0.9, 'max_depth': 4, 'num_leaves': 12, 'min_data_in_leaf': 7067, 'lambda_l1': 0.15243173666529394, 'lambda_l2': 0.003685328096116465, 'bagging_fraction': 0.6, 'bagging_freq': 3}. Best is trial 3 with value: 1.7493772577731204.\u001b[0m\n",
      "\u001b[32m[I 2021-06-25 21:59:32,581]\u001b[0m Trial 9 finished with value: 2.0752378676359795 and parameters: {'feature_fraction': 0.6, 'max_depth': 1, 'num_leaves': 2, 'min_data_in_leaf': 94247, 'lambda_l1': 3.0190362013914496, 'lambda_l2': 6.451748279856407, 'bagging_fraction': 0.65, 'bagging_freq': 10}. Best is trial 3 with value: 1.7493772577731204.\u001b[0m\n",
      "\u001b[32m[I 2021-06-25 22:01:11,221]\u001b[0m Trial 10 finished with value: 1.7481586305532033 and parameters: {'feature_fraction': 0.35, 'max_depth': 6, 'num_leaves': 26, 'min_data_in_leaf': 4909, 'lambda_l1': 1.1500655480363457e-07, 'lambda_l2': 0.01247518091359521, 'bagging_fraction': 0.9, 'bagging_freq': 7}. Best is trial 10 with value: 1.7481586305532033.\u001b[0m\n",
      "\u001b[32m[I 2021-06-25 22:02:44,395]\u001b[0m Trial 11 finished with value: 1.7479482575759875 and parameters: {'feature_fraction': 0.30000000000000004, 'max_depth': 6, 'num_leaves': 26, 'min_data_in_leaf': 5215, 'lambda_l1': 5.689213110754051e-08, 'lambda_l2': 0.016805193962579894, 'bagging_fraction': 0.9, 'bagging_freq': 7}. Best is trial 11 with value: 1.7479482575759875.\u001b[0m\n",
      "\u001b[32m[I 2021-06-25 22:04:07,673]\u001b[0m Trial 12 finished with value: 1.7471665899457816 and parameters: {'feature_fraction': 0.2, 'max_depth': 6, 'num_leaves': 32, 'min_data_in_leaf': 5486, 'lambda_l1': 2.714177424767256e-07, 'lambda_l2': 0.05018877074000788, 'bagging_fraction': 0.95, 'bagging_freq': 6}. Best is trial 12 with value: 1.7471665899457816.\u001b[0m\n",
      "\u001b[32m[I 2021-06-25 22:05:20,988]\u001b[0m Trial 13 finished with value: 1.74925543430096 and parameters: {'feature_fraction': 0.1, 'max_depth': 7, 'num_leaves': 43, 'min_data_in_leaf': 4599, 'lambda_l1': 4.909650231444021e-07, 'lambda_l2': 0.10508006867328629, 'bagging_fraction': 0.95, 'bagging_freq': 6}. Best is trial 12 with value: 1.7471665899457816.\u001b[0m\n",
      "\u001b[32m[I 2021-06-25 22:06:20,673]\u001b[0m Trial 14 finished with value: 1.7500757855428533 and parameters: {'feature_fraction': 0.1, 'max_depth': 5, 'num_leaves': 32, 'min_data_in_leaf': 6139, 'lambda_l1': 1.2036342519313115e-06, 'lambda_l2': 0.13339586285600272, 'bagging_fraction': 0.8500000000000001, 'bagging_freq': 6}. Best is trial 12 with value: 1.7471665899457816.\u001b[0m\n",
      "\u001b[32m[I 2021-06-25 22:07:40,756]\u001b[0m Trial 15 finished with value: 1.7481717953048068 and parameters: {'feature_fraction': 0.25, 'max_depth': 5, 'num_leaves': 32, 'min_data_in_leaf': 6042, 'lambda_l1': 0.002412671606385958, 'lambda_l2': 0.00041231894934339985, 'bagging_fraction': 0.8500000000000001, 'bagging_freq': 7}. Best is trial 12 with value: 1.7471665899457816.\u001b[0m\n",
      "\u001b[32m[I 2021-06-25 22:09:17,309]\u001b[0m Trial 16 finished with value: 1.7486530964576215 and parameters: {'feature_fraction': 0.4, 'max_depth': 7, 'num_leaves': 83, 'min_data_in_leaf': 2398, 'lambda_l1': 1.2641153656245687e-06, 'lambda_l2': 0.4681753409877386, 'bagging_fraction': 0.95, 'bagging_freq': 5}. Best is trial 12 with value: 1.7471665899457816.\u001b[0m\n",
      "\u001b[32m[I 2021-06-25 22:10:32,098]\u001b[0m Trial 17 finished with value: 1.747757896561793 and parameters: {'feature_fraction': 0.2, 'max_depth': 5, 'num_leaves': 27, 'min_data_in_leaf': 6828, 'lambda_l1': 4.661038676387653e-08, 'lambda_l2': 0.019293742526898985, 'bagging_fraction': 0.8500000000000001, 'bagging_freq': 2}. Best is trial 12 with value: 1.7471665899457816.\u001b[0m\n",
      "\u001b[32m[I 2021-06-25 22:11:33,903]\u001b[0m Trial 18 finished with value: 1.7473811395141499 and parameters: {'feature_fraction': 0.15000000000000002, 'max_depth': 5, 'num_leaves': 32, 'min_data_in_leaf': 3966, 'lambda_l1': 1.1526385468374282e-09, 'lambda_l2': 1.1996757189283956e-05, 'bagging_fraction': 0.8, 'bagging_freq': 1}. Best is trial 12 with value: 1.7471665899457816.\u001b[0m\n",
      "\u001b[32m[I 2021-06-25 22:12:27,335]\u001b[0m Trial 19 finished with value: 1.7503041286371441 and parameters: {'feature_fraction': 0.15000000000000002, 'max_depth': 3, 'num_leaves': 8, 'min_data_in_leaf': 9864, 'lambda_l1': 1.1863795463809422e-09, 'lambda_l2': 7.467718566640249e-06, 'bagging_fraction': 0.8, 'bagging_freq': 1}. Best is trial 12 with value: 1.7471665899457816.\u001b[0m\n",
      "\u001b[32m[I 2021-06-25 22:14:03,553]\u001b[0m Trial 20 finished with value: 1.7486318408759463 and parameters: {'feature_fraction': 0.45000000000000007, 'max_depth': 5, 'num_leaves': 32, 'min_data_in_leaf': 3567, 'lambda_l1': 1.3020228581762807e-09, 'lambda_l2': 1.9499482538461043e-05, 'bagging_fraction': 0.8, 'bagging_freq': 5}. Best is trial 12 with value: 1.7471665899457816.\u001b[0m\n",
      "\u001b[32m[I 2021-06-25 22:15:21,347]\u001b[0m Trial 21 finished with value: 1.7478713700559854 and parameters: {'feature_fraction': 0.2, 'max_depth': 5, 'num_leaves': 28, 'min_data_in_leaf': 6990, 'lambda_l1': 1.1103874760172355e-08, 'lambda_l2': 0.002067169545057629, 'bagging_fraction': 0.9, 'bagging_freq': 2}. Best is trial 12 with value: 1.7471665899457816.\u001b[0m\n",
      "\u001b[32m[I 2021-06-25 22:16:26,081]\u001b[0m Trial 22 finished with value: 1.7495594002676558 and parameters: {'feature_fraction': 0.1, 'max_depth': 5, 'num_leaves': 29, 'min_data_in_leaf': 3874, 'lambda_l1': 2.4772732016908093e-07, 'lambda_l2': 0.09523503372735247, 'bagging_fraction': 0.8500000000000001, 'bagging_freq': 2}. Best is trial 12 with value: 1.7471665899457816.\u001b[0m\n"
     ]
    },
    {
     "name": "stderr",
     "output_type": "stream",
     "text": [
      "\u001b[32m[I 2021-06-25 22:17:45,912]\u001b[0m Trial 23 finished with value: 1.747220125784338 and parameters: {'feature_fraction': 0.2, 'max_depth': 6, 'num_leaves': 41, 'min_data_in_leaf': 3392, 'lambda_l1': 3.7912130748909686e-06, 'lambda_l2': 8.645467431715012, 'bagging_fraction': 0.8, 'bagging_freq': 2}. Best is trial 12 with value: 1.7471665899457816.\u001b[0m\n",
      "\u001b[32m[I 2021-06-25 22:19:04,545]\u001b[0m Trial 24 finished with value: 1.7482500270938452 and parameters: {'feature_fraction': 0.35, 'max_depth': 6, 'num_leaves': 44, 'min_data_in_leaf': 2977, 'lambda_l1': 6.3677976850762815e-06, 'lambda_l2': 5.992044300431125, 'bagging_fraction': 0.8, 'bagging_freq': 1}. Best is trial 12 with value: 1.7471665899457816.\u001b[0m\n",
      "\u001b[32m[I 2021-06-25 22:20:17,018]\u001b[0m Trial 25 finished with value: 1.7482400931283038 and parameters: {'feature_fraction': 0.2, 'max_depth': 7, 'num_leaves': 124, 'min_data_in_leaf': 1272, 'lambda_l1': 0.00048770809654882883, 'lambda_l2': 3.378085003841226e-06, 'bagging_fraction': 0.75, 'bagging_freq': 3}. Best is trial 12 with value: 1.7471665899457816.\u001b[0m\n",
      "\u001b[32m[I 2021-06-25 22:21:56,624]\u001b[0m Trial 26 finished with value: 1.7480711703971177 and parameters: {'feature_fraction': 0.30000000000000004, 'max_depth': 6, 'num_leaves': 40, 'min_data_in_leaf': 3952, 'lambda_l1': 5.01642127562198e-06, 'lambda_l2': 1.21716538507377e-07, 'bagging_fraction': 0.95, 'bagging_freq': 3}. Best is trial 12 with value: 1.7471665899457816.\u001b[0m\n",
      "\u001b[32m[I 2021-06-25 22:23:06,007]\u001b[0m Trial 27 finished with value: 1.7495359089138725 and parameters: {'feature_fraction': 0.1, 'max_depth': 7, 'num_leaves': 61, 'min_data_in_leaf': 2932, 'lambda_l1': 0.00016788934542923172, 'lambda_l2': 5.606276284140596e-05, 'bagging_fraction': 0.8, 'bagging_freq': 5}. Best is trial 12 with value: 1.7471665899457816.\u001b[0m\n",
      "\u001b[32m[I 2021-06-25 22:24:51,221]\u001b[0m Trial 28 finished with value: 1.7481907183311836 and parameters: {'feature_fraction': 0.4, 'max_depth': 6, 'num_leaves': 38, 'min_data_in_leaf': 4390, 'lambda_l1': 2.4957550463998064e-06, 'lambda_l2': 5.676465645694613e-08, 'bagging_fraction': 0.9, 'bagging_freq': 2}. Best is trial 12 with value: 1.7471665899457816.\u001b[0m\n",
      "\u001b[32m[I 2021-06-25 22:25:31,764]\u001b[0m Trial 29 finished with value: 1.7565007825025556 and parameters: {'feature_fraction': 0.15000000000000002, 'max_depth': 3, 'num_leaves': 8, 'min_data_in_leaf': 15973, 'lambda_l1': 2.8844756088800987e-07, 'lambda_l2': 0.8846880505441899, 'bagging_fraction': 0.5, 'bagging_freq': 1}. Best is trial 12 with value: 1.7471665899457816.\u001b[0m\n",
      "\u001b[32m[I 2021-06-25 22:26:38,256]\u001b[0m Trial 30 finished with value: 1.7491455682675077 and parameters: {'feature_fraction': 0.25, 'max_depth': 5, 'num_leaves': 21, 'min_data_in_leaf': 9000, 'lambda_l1': 6.077473421815647e-09, 'lambda_l2': 0.001324294301170746, 'bagging_fraction': 0.7, 'bagging_freq': 6}. Best is trial 12 with value: 1.7471665899457816.\u001b[0m\n",
      "\u001b[32m[I 2021-06-25 22:27:54,822]\u001b[0m Trial 31 finished with value: 1.7476955958475506 and parameters: {'feature_fraction': 0.2, 'max_depth': 5, 'num_leaves': 22, 'min_data_in_leaf': 5588, 'lambda_l1': 3.8822775279229646e-08, 'lambda_l2': 0.01568231081702845, 'bagging_fraction': 0.8500000000000001, 'bagging_freq': 2}. Best is trial 12 with value: 1.7471665899457816.\u001b[0m\n",
      "\u001b[32m[I 2021-06-25 22:28:50,591]\u001b[0m Trial 32 finished with value: 1.74966997186134 and parameters: {'feature_fraction': 0.15000000000000002, 'max_depth': 4, 'num_leaves': 12, 'min_data_in_leaf': 10206, 'lambda_l1': 2.7110631000875453e-08, 'lambda_l2': 1.955417890184019, 'bagging_fraction': 0.8, 'bagging_freq': 1}. Best is trial 12 with value: 1.7471665899457816.\u001b[0m\n",
      "\u001b[32m[I 2021-06-25 22:30:16,783]\u001b[0m Trial 33 finished with value: 1.7478942268835447 and parameters: {'feature_fraction': 0.30000000000000004, 'max_depth': 6, 'num_leaves': 47, 'min_data_in_leaf': 3137, 'lambda_l1': 9.438108489119345e-06, 'lambda_l2': 0.0010162658603373562, 'bagging_fraction': 0.75, 'bagging_freq': 3}. Best is trial 12 with value: 1.7471665899457816.\u001b[0m\n",
      "\u001b[32m[I 2021-06-25 22:31:37,871]\u001b[0m Trial 34 finished with value: 1.7478893680487553 and parameters: {'feature_fraction': 0.25, 'max_depth': 5, 'num_leaves': 22, 'min_data_in_leaf': 5577, 'lambda_l1': 3.025553965182634e-09, 'lambda_l2': 0.2713030599821886, 'bagging_fraction': 0.8500000000000001, 'bagging_freq': 4}. Best is trial 12 with value: 1.7471665899457816.\u001b[0m\n",
      "\u001b[32m[I 2021-06-25 22:32:53,440]\u001b[0m Trial 35 finished with value: 1.7472197895751402 and parameters: {'feature_fraction': 0.2, 'max_depth': 6, 'num_leaves': 38, 'min_data_in_leaf': 3461, 'lambda_l1': 1.7479272901281557e-08, 'lambda_l2': 2.5687786379014903, 'bagging_fraction': 0.75, 'bagging_freq': 2}. Best is trial 12 with value: 1.7471665899457816.\u001b[0m\n",
      "\u001b[32m[I 2021-06-25 22:34:00,489]\u001b[0m Trial 36 finished with value: 1.7479836319230995 and parameters: {'feature_fraction': 0.15000000000000002, 'max_depth': 7, 'num_leaves': 76, 'min_data_in_leaf': 922, 'lambda_l1': 1.1187451369887123e-08, 'lambda_l2': 8.140270874841809, 'bagging_fraction': 0.75, 'bagging_freq': 1}. Best is trial 12 with value: 1.7471665899457816.\u001b[0m\n",
      "\u001b[32m[I 2021-06-25 22:35:26,128]\u001b[0m Trial 37 finished with value: 1.7491838561727082 and parameters: {'feature_fraction': 0.5, 'max_depth': 6, 'num_leaves': 37, 'min_data_in_leaf': 3304, 'lambda_l1': 1.4929782200919855e-07, 'lambda_l2': 2.03058470834896, 'bagging_fraction': 0.65, 'bagging_freq': 8}. Best is trial 12 with value: 1.7471665899457816.\u001b[0m\n",
      "\u001b[32m[I 2021-06-25 22:36:47,632]\u001b[0m Trial 38 finished with value: 1.748142048633202 and parameters: {'feature_fraction': 0.35, 'max_depth': 6, 'num_leaves': 55, 'min_data_in_leaf': 2609, 'lambda_l1': 6.1938554322724e-07, 'lambda_l2': 9.227009105872407, 'bagging_fraction': 0.7, 'bagging_freq': 3}. Best is trial 12 with value: 1.7471665899457816.\u001b[0m\n",
      "\u001b[32m[I 2021-06-25 22:38:15,808]\u001b[0m Trial 39 finished with value: 1.7481251361475878 and parameters: {'feature_fraction': 0.30000000000000004, 'max_depth': 7, 'num_leaves': 51, 'min_data_in_leaf': 3856, 'lambda_l1': 2.729786530895375e-09, 'lambda_l2': 2.3106600327768276e-05, 'bagging_fraction': 0.7, 'bagging_freq': 2}. Best is trial 12 with value: 1.7471665899457816.\u001b[0m\n",
      "Finished hyperparemeter search! (elapsed time: 2692.047 sec.) The best_iteration is 99.\n",
      "Making booster(s)...\n",
      "Finished making booster(s)! (elapsed time: 19.931 sec.)\n"
     ]
    },
    {
     "name": "stdout",
     "output_type": "stream",
     "text": [
      "45.2\n",
      "2021-06-25 22:38:35.745515\n"
     ]
    }
   ],
   "source": [
    "print(datetime.datetime.now())\n",
    "start = time.time()\n",
    "\n",
    "X_train = train_df.drop(['id', 'target'], 1)\n",
    "y_train = train_df['target']\n",
    "\n",
    "opt_obgm = opt.OGBMClassifier()\n",
    "opt_obgm.fit(X_train, y_train)\n",
    "\n",
    "minutes = (time.time() - start) / 60\n",
    "print(round(minutes, 2))\n",
    "print(datetime.datetime.now())"
   ]
  },
  {
   "cell_type": "code",
   "execution_count": 21,
   "id": "7c19f4e5",
   "metadata": {},
   "outputs": [
    {
     "name": "stdout",
     "output_type": "stream",
     "text": [
      "2021-06-25 22:47:59.834379\n",
      "2021-06-25 22:48:01.158657\n"
     ]
    }
   ],
   "source": [
    "print(datetime.datetime.now())\n",
    "X_test = test_df.drop('id', 1)\n",
    "test_preds = opt_obgm.predict_proba(X_test)\n",
    "print(datetime.datetime.now())"
   ]
  },
  {
   "cell_type": "code",
   "execution_count": 22,
   "id": "1753c128",
   "metadata": {},
   "outputs": [],
   "source": [
    "submission = pd.DataFrame(test_preds)\n",
    "submission.columns = ['Class_1', 'Class_2', 'Class_3', 'Class_4', 'Class_5', 'Class_6', 'Class_7', 'Class_8', 'Class_9']\n",
    "submission['id'] = test_df['id']\n",
    "\n",
    "submission.to_csv(\"submission_opt_obgm.csv\", index=False)"
   ]
  }
 ],
 "metadata": {
  "kernelspec": {
   "display_name": "Python 3",
   "language": "python",
   "name": "python3"
  },
  "language_info": {
   "codemirror_mode": {
    "name": "ipython",
    "version": 3
   },
   "file_extension": ".py",
   "mimetype": "text/x-python",
   "name": "python",
   "nbconvert_exporter": "python",
   "pygments_lexer": "ipython3",
   "version": "3.9.4"
  }
 },
 "nbformat": 4,
 "nbformat_minor": 5
}
