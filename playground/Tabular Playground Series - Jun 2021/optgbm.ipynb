{
 "cells": [
  {
   "cell_type": "code",
   "execution_count": 1,
   "id": "e26a425a",
   "metadata": {},
   "outputs": [
    {
     "name": "stdout",
     "output_type": "stream",
     "text": [
      "Collecting optgbm\n",
      "  Downloading OptGBM-0.10.0-py3-none-any.whl (13 kB)\n",
      "Collecting optuna>=0.17\n",
      "  Downloading optuna-2.8.0-py3-none-any.whl (301 kB)\n",
      "\u001b[K     |████████████████████████████████| 301 kB 7.4 MB/s eta 0:00:01\n",
      "\u001b[?25hCollecting lightgbm>=2.2.2\n",
      "  Downloading lightgbm-3.2.1-py3-none-manylinux1_x86_64.whl (2.0 MB)\n",
      "\u001b[K     |████████████████████████████████| 2.0 MB 7.1 MB/s eta 0:00:01     |██▌                             | 153 kB 7.1 MB/s eta 0:00:01\n",
      "\u001b[?25hRequirement already satisfied: scikit-learn>=0.19.0 in /opt/conda/lib/python3.9/site-packages (from optgbm) (0.24.2)\n",
      "Requirement already satisfied: numpy in /opt/conda/lib/python3.9/site-packages (from optgbm) (1.19.5)\n",
      "Requirement already satisfied: pandas in /opt/conda/lib/python3.9/site-packages (from optgbm) (1.2.4)\n",
      "Requirement already satisfied: scipy in /opt/conda/lib/python3.9/site-packages (from lightgbm>=2.2.2->optgbm) (1.6.3)\n",
      "Requirement already satisfied: wheel in /opt/conda/lib/python3.9/site-packages (from lightgbm>=2.2.2->optgbm) (0.36.2)\n",
      "Requirement already satisfied: alembic in /opt/conda/lib/python3.9/site-packages (from optuna>=0.17->optgbm) (1.6.5)\n",
      "Requirement already satisfied: tqdm in /opt/conda/lib/python3.9/site-packages (from optuna>=0.17->optgbm) (4.61.1)\n",
      "Requirement already satisfied: packaging>=20.0 in /opt/conda/lib/python3.9/site-packages (from optuna>=0.17->optgbm) (20.9)\n",
      "Collecting cliff\n",
      "  Downloading cliff-3.8.0-py3-none-any.whl (80 kB)\n",
      "\u001b[K     |████████████████████████████████| 80 kB 6.3 MB/s  eta 0:00:01\n",
      "\u001b[?25hRequirement already satisfied: sqlalchemy>=1.1.0 in /opt/conda/lib/python3.9/site-packages (from optuna>=0.17->optgbm) (1.4.18)\n",
      "Collecting cmaes>=0.8.2\n",
      "  Downloading cmaes-0.8.2-py3-none-any.whl (15 kB)\n",
      "Collecting colorlog\n",
      "  Downloading colorlog-5.0.1-py2.py3-none-any.whl (10 kB)\n",
      "Requirement already satisfied: pyparsing>=2.0.2 in /opt/conda/lib/python3.9/site-packages (from packaging>=20.0->optuna>=0.17->optgbm) (2.4.7)\n",
      "Requirement already satisfied: joblib>=0.11 in /opt/conda/lib/python3.9/site-packages (from scikit-learn>=0.19.0->optgbm) (1.0.1)\n",
      "Requirement already satisfied: threadpoolctl>=2.0.0 in /opt/conda/lib/python3.9/site-packages (from scikit-learn>=0.19.0->optgbm) (2.1.0)\n",
      "Requirement already satisfied: greenlet!=0.4.17 in /opt/conda/lib/python3.9/site-packages (from sqlalchemy>=1.1.0->optuna>=0.17->optgbm) (1.1.0)\n",
      "Requirement already satisfied: python-editor>=0.3 in /opt/conda/lib/python3.9/site-packages (from alembic->optuna>=0.17->optgbm) (1.0.4)\n",
      "Requirement already satisfied: python-dateutil in /opt/conda/lib/python3.9/site-packages (from alembic->optuna>=0.17->optgbm) (2.8.1)\n",
      "Requirement already satisfied: Mako in /opt/conda/lib/python3.9/site-packages (from alembic->optuna>=0.17->optgbm) (1.1.4)\n",
      "Requirement already satisfied: PyYAML>=3.12 in /opt/conda/lib/python3.9/site-packages (from cliff->optuna>=0.17->optgbm) (5.4.1)\n",
      "Collecting pbr!=2.1.0,>=2.0.0\n",
      "  Downloading pbr-5.6.0-py2.py3-none-any.whl (111 kB)\n",
      "\u001b[K     |████████████████████████████████| 111 kB 10.7 MB/s eta 0:00:01\n",
      "\u001b[?25hCollecting stevedore>=2.0.1\n",
      "  Downloading stevedore-3.3.0-py3-none-any.whl (49 kB)\n",
      "\u001b[K     |████████████████████████████████| 49 kB 4.7 MB/s  eta 0:00:01\n",
      "\u001b[?25hCollecting PrettyTable>=0.7.2\n",
      "  Downloading prettytable-2.1.0-py3-none-any.whl (22 kB)\n",
      "Collecting cmd2>=1.0.0\n",
      "  Downloading cmd2-2.1.1-py3-none-any.whl (140 kB)\n",
      "\u001b[K     |████████████████████████████████| 140 kB 7.7 MB/s eta 0:00:01\n",
      "\u001b[?25hCollecting colorama>=0.3.7\n",
      "  Downloading colorama-0.4.4-py2.py3-none-any.whl (16 kB)\n",
      "Requirement already satisfied: attrs>=16.3.0 in /opt/conda/lib/python3.9/site-packages (from cmd2>=1.0.0->cliff->optuna>=0.17->optgbm) (21.2.0)\n",
      "Requirement already satisfied: wcwidth>=0.1.7 in /opt/conda/lib/python3.9/site-packages (from cmd2>=1.0.0->cliff->optuna>=0.17->optgbm) (0.2.5)\n",
      "Collecting pyperclip>=1.6\n",
      "  Downloading pyperclip-1.8.2.tar.gz (20 kB)\n",
      "Requirement already satisfied: MarkupSafe>=0.9.2 in /opt/conda/lib/python3.9/site-packages (from Mako->alembic->optuna>=0.17->optgbm) (2.0.1)\n",
      "Requirement already satisfied: pytz>=2017.3 in /opt/conda/lib/python3.9/site-packages (from pandas->optgbm) (2021.1)\n",
      "Requirement already satisfied: six>=1.5 in /opt/conda/lib/python3.9/site-packages (from python-dateutil->alembic->optuna>=0.17->optgbm) (1.15.0)\n",
      "Building wheels for collected packages: pyperclip\n",
      "  Building wheel for pyperclip (setup.py) ... \u001b[?25ldone\n",
      "\u001b[?25h  Created wheel for pyperclip: filename=pyperclip-1.8.2-py3-none-any.whl size=11107 sha256=004ab677ca227de610f6d8eaeea418e870fec9965f71d902ac7181e60fc0c0a3\n",
      "  Stored in directory: /home/jovyan/.cache/pip/wheels/0c/09/9e/49e21a6840ef7955b06d47394afef0058f0378c0914e48b8b8\n",
      "Successfully built pyperclip\n",
      "Installing collected packages: pyperclip, pbr, colorama, stevedore, PrettyTable, cmd2, colorlog, cmaes, cliff, optuna, lightgbm, optgbm\n",
      "Successfully installed PrettyTable-2.1.0 cliff-3.8.0 cmaes-0.8.2 cmd2-2.1.1 colorama-0.4.4 colorlog-5.0.1 lightgbm-3.2.1 optgbm-0.10.0 optuna-2.8.0 pbr-5.6.0 pyperclip-1.8.2 stevedore-3.3.0\n"
     ]
    }
   ],
   "source": [
    "!pip install optgbm"
   ]
  },
  {
   "cell_type": "code",
   "execution_count": 16,
   "id": "8a711117",
   "metadata": {},
   "outputs": [],
   "source": [
    "import time\n",
    "import datetime\n",
    "\n",
    "import numpy as np\n",
    "import pandas as pd\n",
    "import optgbm as lgb"
   ]
  },
  {
   "cell_type": "code",
   "execution_count": 17,
   "id": "795fef01",
   "metadata": {},
   "outputs": [],
   "source": [
    "train_df = pd.read_csv('train.csv')\n",
    "test_df = pd.read_csv('test.csv')"
   ]
  },
  {
   "cell_type": "code",
   "execution_count": 18,
   "id": "a1816f59",
   "metadata": {},
   "outputs": [
    {
     "name": "stdout",
     "output_type": "stream",
     "text": [
      "0    5\n",
      "1    5\n",
      "2    1\n",
      "3    7\n",
      "4    1\n",
      "Name: target, dtype: int64\n"
     ]
    }
   ],
   "source": [
    "from sklearn.preprocessing import LabelEncoder\n",
    "features_target = ['target'] \n",
    "\n",
    "for feature in features_target:\n",
    "    le = LabelEncoder()\n",
    "    le.fit(train_df[feature])\n",
    "    train_df[feature] = le.transform(train_df[feature])\n",
    "    \n",
    "print(train_df['target'].head())"
   ]
  },
  {
   "cell_type": "code",
   "execution_count": 19,
   "id": "b969afb1",
   "metadata": {},
   "outputs": [
    {
     "name": "stderr",
     "output_type": "stream",
     "text": [
      "/opt/conda/lib/python3.9/site-packages/sklearn/utils/validation.py:70: FutureWarning: Pass classifier=True as keyword args. From version 1.0 (renaming of 0.25) passing these as positional arguments will result in an error\n",
      "  warnings.warn(f\"Pass {args_msg} as keyword args. From version \"\n",
      "\u001b[32m[I 2021-06-24 02:19:32,889]\u001b[0m A new study created in memory with name: no-name-3edbc662-793f-4590-ae37-5fa4fe555385\u001b[0m\n",
      "Searching the best hyperparameters...\n"
     ]
    },
    {
     "name": "stdout",
     "output_type": "stream",
     "text": [
      "2021-06-24 02:19:32.789852\n"
     ]
    },
    {
     "name": "stderr",
     "output_type": "stream",
     "text": [
      "\u001b[32m[I 2021-06-24 02:20:05,501]\u001b[0m Trial 0 finished with value: 1.7506762381903733 and parameters: {'feature_fraction': 0.9, 'max_depth': 6, 'num_leaves': 35, 'min_data_in_leaf': 1427, 'lambda_l1': 0.01188286906225038, 'lambda_l2': 3.998827637719738e-06, 'bagging_fraction': 0.75, 'bagging_freq': 1}. Best is trial 0 with value: 1.7506762381903733.\u001b[0m\n",
      "\u001b[32m[I 2021-06-24 02:20:32,706]\u001b[0m Trial 1 finished with value: 1.7528605239589914 and parameters: {'feature_fraction': 0.85, 'max_depth': 6, 'num_leaves': 10, 'min_data_in_leaf': 14790, 'lambda_l1': 2.3203947411817016e-05, 'lambda_l2': 3.928555792696273, 'bagging_fraction': 0.55, 'bagging_freq': 8}. Best is trial 0 with value: 1.7506762381903733.\u001b[0m\n",
      "\u001b[32m[I 2021-06-24 02:21:25,236]\u001b[0m Trial 2 finished with value: 1.7492868501044345 and parameters: {'feature_fraction': 0.30000000000000004, 'max_depth': 7, 'num_leaves': 116, 'min_data_in_leaf': 855, 'lambda_l1': 0.080262819376488, 'lambda_l2': 1.1123528113075993, 'bagging_fraction': 0.5, 'bagging_freq': 2}. Best is trial 2 with value: 1.7492868501044345.\u001b[0m\n",
      "\u001b[32m[I 2021-06-24 02:22:24,838]\u001b[0m Trial 3 finished with value: 1.7491201664237281 and parameters: {'feature_fraction': 0.6, 'max_depth': 5, 'num_leaves': 21, 'min_data_in_leaf': 6791, 'lambda_l1': 0.0003641396069623155, 'lambda_l2': 0.0001114548981415682, 'bagging_fraction': 0.6, 'bagging_freq': 3}. Best is trial 3 with value: 1.7491201664237281.\u001b[0m\n",
      "\u001b[32m[I 2021-06-24 02:23:52,926]\u001b[0m Trial 4 finished with value: 1.7481265129588912 and parameters: {'feature_fraction': 0.30000000000000004, 'max_depth': 5, 'num_leaves': 27, 'min_data_in_leaf': 5157, 'lambda_l1': 0.052119468118195095, 'lambda_l2': 4.0170290549217124e-08, 'bagging_fraction': 0.9, 'bagging_freq': 8}. Best is trial 4 with value: 1.7481265129588912.\u001b[0m\n",
      "\u001b[32m[I 2021-06-24 02:25:00,101]\u001b[0m Trial 5 finished with value: 1.7542717662763085 and parameters: {'feature_fraction': 0.5, 'max_depth': 4, 'num_leaves': 3, 'min_data_in_leaf': 3409, 'lambda_l1': 0.512751012644659, 'lambda_l2': 5.3657981749677486e-06, 'bagging_fraction': 0.65, 'bagging_freq': 2}. Best is trial 4 with value: 1.7481265129588912.\u001b[0m\n",
      "\u001b[32m[I 2021-06-24 02:26:18,167]\u001b[0m Trial 6 finished with value: 1.7518467072948485 and parameters: {'feature_fraction': 0.30000000000000004, 'max_depth': 3, 'num_leaves': 7, 'min_data_in_leaf': 18658, 'lambda_l1': 0.0009650876460284908, 'lambda_l2': 1.087056579129956, 'bagging_fraction': 0.95, 'bagging_freq': 7}. Best is trial 4 with value: 1.7481265129588912.\u001b[0m\n",
      "\u001b[32m[I 2021-06-24 02:26:41,411]\u001b[0m Trial 7 finished with value: 1.767712792439865 and parameters: {'feature_fraction': 0.65, 'max_depth': 3, 'num_leaves': 4, 'min_data_in_leaf': 47470, 'lambda_l1': 5.217922805750113e-08, 'lambda_l2': 1.169708553506207e-07, 'bagging_fraction': 0.9, 'bagging_freq': 1}. Best is trial 4 with value: 1.7481265129588912.\u001b[0m\n",
      "\u001b[32m[I 2021-06-24 02:27:34,812]\u001b[0m Trial 8 finished with value: 1.7529204838131591 and parameters: {'feature_fraction': 0.1, 'max_depth': 3, 'num_leaves': 6, 'min_data_in_leaf': 13744, 'lambda_l1': 0.0026507966814745742, 'lambda_l2': 2.8791153832806668e-05, 'bagging_fraction': 0.95, 'bagging_freq': 10}. Best is trial 4 with value: 1.7481265129588912.\u001b[0m\n",
      "\u001b[32m[I 2021-06-24 02:28:11,889]\u001b[0m Trial 9 finished with value: 1.7497399951516215 and parameters: {'feature_fraction': 0.8, 'max_depth': 7, 'num_leaves': 116, 'min_data_in_leaf': 1646, 'lambda_l1': 1.2653243726681267e-05, 'lambda_l2': 6.330323619787306, 'bagging_fraction': 0.6, 'bagging_freq': 1}. Best is trial 4 with value: 1.7481265129588912.\u001b[0m\n",
      "\u001b[32m[I 2021-06-24 02:28:14,416]\u001b[0m Trial 10 finished with value: 2.0752378676359795 and parameters: {'feature_fraction': 0.15000000000000002, 'max_depth': 1, 'num_leaves': 2, 'min_data_in_leaf': 83219, 'lambda_l1': 2.630247822835684, 'lambda_l2': 1.1995796721664496e-09, 'bagging_fraction': 0.8, 'bagging_freq': 5}. Best is trial 4 with value: 1.7481265129588912.\u001b[0m\n",
      "\u001b[32m[I 2021-06-24 02:29:34,108]\u001b[0m Trial 11 finished with value: 1.7489009922120222 and parameters: {'feature_fraction': 0.5, 'max_depth': 5, 'num_leaves': 27, 'min_data_in_leaf': 6924, 'lambda_l1': 5.247274806937906e-07, 'lambda_l2': 0.005207352448797039, 'bagging_fraction': 0.65, 'bagging_freq': 4}. Best is trial 4 with value: 1.7481265129588912.\u001b[0m\n",
      "\u001b[32m[I 2021-06-24 02:31:06,657]\u001b[0m Trial 12 finished with value: 1.7485148691955648 and parameters: {'feature_fraction': 0.4, 'max_depth': 5, 'num_leaves': 30, 'min_data_in_leaf': 6330, 'lambda_l1': 5.2502765211497276e-08, 'lambda_l2': 0.008373735192573428, 'bagging_fraction': 0.8500000000000001, 'bagging_freq': 6}. Best is trial 4 with value: 1.7481265129588912.\u001b[0m\n",
      "\u001b[32m[I 2021-06-24 02:32:31,020]\u001b[0m Trial 13 finished with value: 1.7481240152643291 and parameters: {'feature_fraction': 0.30000000000000004, 'max_depth': 5, 'num_leaves': 32, 'min_data_in_leaf': 5936, 'lambda_l1': 2.9006796615077733e-09, 'lambda_l2': 0.010275648353698073, 'bagging_fraction': 0.8500000000000001, 'bagging_freq': 7}. Best is trial 13 with value: 1.7481240152643291.\u001b[0m\n",
      "\u001b[32m[I 2021-06-24 02:33:43,242]\u001b[0m Trial 14 finished with value: 1.7492368259839703 and parameters: {'feature_fraction': 0.25, 'max_depth': 4, 'num_leaves': 14, 'min_data_in_leaf': 9357, 'lambda_l1': 2.8009357168251344e-09, 'lambda_l2': 2.4849923373093876e-09, 'bagging_fraction': 0.8500000000000001, 'bagging_freq': 9}. Best is trial 13 with value: 1.7481240152643291.\u001b[0m\n",
      "\u001b[32m[I 2021-06-24 02:35:00,213]\u001b[0m Trial 15 finished with value: 1.7469282908555468 and parameters: {'feature_fraction': 0.2, 'max_depth': 6, 'num_leaves': 44, 'min_data_in_leaf': 4497, 'lambda_l1': 6.176775663791213, 'lambda_l2': 0.008511982294836155, 'bagging_fraction': 0.8500000000000001, 'bagging_freq': 8}. Best is trial 15 with value: 1.7469282908555468.\u001b[0m\n",
      "\u001b[32m[I 2021-06-24 02:35:57,855]\u001b[0m Trial 16 finished with value: 1.7497284008100906 and parameters: {'feature_fraction': 0.1, 'max_depth': 6, 'num_leaves': 46, 'min_data_in_leaf': 4328, 'lambda_l1': 6.207043858848551, 'lambda_l2': 0.016267045576404147, 'bagging_fraction': 0.75, 'bagging_freq': 10}. Best is trial 15 with value: 1.7469282908555468.\u001b[0m\n",
      "\u001b[32m[I 2021-06-24 02:37:16,599]\u001b[0m Trial 17 finished with value: 1.7473757106309868 and parameters: {'feature_fraction': 0.2, 'max_depth': 7, 'num_leaves': 73, 'min_data_in_leaf': 2367, 'lambda_l1': 1.6696227109088935e-06, 'lambda_l2': 0.05339099455244749, 'bagging_fraction': 0.8, 'bagging_freq': 6}. Best is trial 15 with value: 1.7469282908555468.\u001b[0m\n",
      "\u001b[32m[I 2021-06-24 02:38:33,403]\u001b[0m Trial 18 finished with value: 1.747448784588217 and parameters: {'feature_fraction': 0.2, 'max_depth': 7, 'num_leaves': 81, 'min_data_in_leaf': 2319, 'lambda_l1': 2.391666656250451e-06, 'lambda_l2': 0.11186526817580118, 'bagging_fraction': 0.7, 'bagging_freq': 5}. Best is trial 15 with value: 1.7469282908555468.\u001b[0m\n",
      "\u001b[32m[I 2021-06-24 02:40:08,838]\u001b[0m Trial 19 finished with value: 1.7482152783986358 and parameters: {'feature_fraction': 0.4, 'max_depth': 7, 'num_leaves': 74, 'min_data_in_leaf': 2609, 'lambda_l1': 1.810196438495352e-07, 'lambda_l2': 0.0006185490069964839, 'bagging_fraction': 0.8, 'bagging_freq': 6}. Best is trial 15 with value: 1.7469282908555468.\u001b[0m\n",
      "\u001b[32m[I 2021-06-24 02:40:56,595]\u001b[0m Trial 20 finished with value: 1.7531322573970414 and parameters: {'feature_fraction': 0.7000000000000001, 'max_depth': 6, 'num_leaves': 59, 'min_data_in_leaf': 236, 'lambda_l1': 7.071764171914162e-05, 'lambda_l2': 0.09699696364102355, 'bagging_fraction': 0.8, 'bagging_freq': 8}. Best is trial 15 with value: 1.7469282908555468.\u001b[0m\n",
      "\u001b[32m[I 2021-06-24 02:42:10,344]\u001b[0m Trial 21 finished with value: 1.7475051781803912 and parameters: {'feature_fraction': 0.2, 'max_depth': 7, 'num_leaves': 90, 'min_data_in_leaf': 2172, 'lambda_l1': 3.2690180573276943e-06, 'lambda_l2': 0.13936030441547237, 'bagging_fraction': 0.7, 'bagging_freq': 5}. Best is trial 15 with value: 1.7469282908555468.\u001b[0m\n",
      "\u001b[32m[I 2021-06-24 02:43:15,223]\u001b[0m Trial 22 finished with value: 1.7498746863896364 and parameters: {'feature_fraction': 0.1, 'max_depth': 7, 'num_leaves': 87, 'min_data_in_leaf': 2277, 'lambda_l1': 8.931089081558235e-07, 'lambda_l2': 0.18586081523374154, 'bagging_fraction': 0.7, 'bagging_freq': 7}. Best is trial 15 with value: 1.7469282908555468.\u001b[0m\n"
     ]
    },
    {
     "name": "stderr",
     "output_type": "stream",
     "text": [
      "\u001b[32m[I 2021-06-24 02:44:38,711]\u001b[0m Trial 23 finished with value: 1.7481199414612143 and parameters: {'feature_fraction': 0.4, 'max_depth': 6, 'num_leaves': 64, 'min_data_in_leaf': 2913, 'lambda_l1': 5.635925261519328e-06, 'lambda_l2': 0.000789971683939972, 'bagging_fraction': 0.75, 'bagging_freq': 4}. Best is trial 15 with value: 1.7469282908555468.\u001b[0m\n",
      "\u001b[32m[I 2021-06-24 02:45:45,752]\u001b[0m Trial 24 finished with value: 1.7520781189391381 and parameters: {'feature_fraction': 0.2, 'max_depth': 7, 'num_leaves': 98, 'min_data_in_leaf': 107, 'lambda_l1': 1.6318993757401237e-08, 'lambda_l2': 0.0012065332535943253, 'bagging_fraction': 0.9, 'bagging_freq': 6}. Best is trial 15 with value: 1.7469282908555468.\u001b[0m\n",
      "\u001b[32m[I 2021-06-24 02:46:31,886]\u001b[0m Trial 25 finished with value: 1.7503614201702398 and parameters: {'feature_fraction': 1.0, 'max_depth': 6, 'num_leaves': 64, 'min_data_in_leaf': 1729, 'lambda_l1': 0.00014872200008382756, 'lambda_l2': 0.03766151275859032, 'bagging_fraction': 0.8, 'bagging_freq': 5}. Best is trial 15 with value: 1.7469282908555468.\u001b[0m\n",
      "\u001b[32m[I 2021-06-24 02:47:16,804]\u001b[0m Trial 26 finished with value: 1.7639298979145082 and parameters: {'feature_fraction': 0.2, 'max_depth': 1, 'num_leaves': 2, 'min_data_in_leaf': 25361, 'lambda_l1': 6.142122109642046e-07, 'lambda_l2': 0.7285024784105779, 'bagging_fraction': 0.7, 'bagging_freq': 4}. Best is trial 15 with value: 1.7469282908555468.\u001b[0m\n",
      "\u001b[32m[I 2021-06-24 02:48:19,326]\u001b[0m Trial 27 finished with value: 1.7475032564127784 and parameters: {'feature_fraction': 0.15000000000000002, 'max_depth': 7, 'num_leaves': 49, 'min_data_in_leaf': 3585, 'lambda_l1': 3.036717571793926e-05, 'lambda_l2': 0.0026550506185404536, 'bagging_fraction': 0.65, 'bagging_freq': 9}. Best is trial 15 with value: 1.7469282908555468.\u001b[0m\n",
      "\u001b[32m[I 2021-06-24 02:49:48,037]\u001b[0m Trial 28 finished with value: 1.7483522147664963 and parameters: {'feature_fraction': 0.35, 'max_depth': 6, 'num_leaves': 42, 'min_data_in_leaf': 3051, 'lambda_l1': 2.363255683428347e-06, 'lambda_l2': 0.04432980332797213, 'bagging_fraction': 0.8500000000000001, 'bagging_freq': 7}. Best is trial 15 with value: 1.7469282908555468.\u001b[0m\n",
      "\u001b[32m[I 2021-06-24 02:51:07,650]\u001b[0m Trial 29 finished with value: 1.749943062255447 and parameters: {'feature_fraction': 0.45000000000000007, 'max_depth': 6, 'num_leaves': 56, 'min_data_in_leaf': 1238, 'lambda_l1': 0.005618758324847999, 'lambda_l2': 9.816095487055736e-05, 'bagging_fraction': 0.75, 'bagging_freq': 6}. Best is trial 15 with value: 1.7469282908555468.\u001b[0m\n",
      "\u001b[32m[I 2021-06-24 02:52:14,343]\u001b[0m Trial 30 finished with value: 1.7495393493588562 and parameters: {'feature_fraction': 0.25, 'max_depth': 7, 'num_leaves': 77, 'min_data_in_leaf': 637, 'lambda_l1': 1.7803193177903864e-08, 'lambda_l2': 0.00019880391644997477, 'bagging_fraction': 0.75, 'bagging_freq': 9}. Best is trial 15 with value: 1.7469282908555468.\u001b[0m\n",
      "\u001b[32m[I 2021-06-24 02:53:14,164]\u001b[0m Trial 31 finished with value: 1.7475463790116987 and parameters: {'feature_fraction': 0.15000000000000002, 'max_depth': 7, 'num_leaves': 47, 'min_data_in_leaf': 3953, 'lambda_l1': 3.0312457109754623e-05, 'lambda_l2': 0.0034745328697551522, 'bagging_fraction': 0.65, 'bagging_freq': 9}. Best is trial 15 with value: 1.7469282908555468.\u001b[0m\n",
      "\u001b[32m[I 2021-06-24 02:54:18,898]\u001b[0m Trial 32 finished with value: 1.7477189460549039 and parameters: {'feature_fraction': 0.15000000000000002, 'max_depth': 7, 'num_leaves': 77, 'min_data_in_leaf': 2107, 'lambda_l1': 1.810732457361826e-05, 'lambda_l2': 0.33466229403899567, 'bagging_fraction': 0.6, 'bagging_freq': 8}. Best is trial 15 with value: 1.7469282908555468.\u001b[0m\n",
      "\u001b[32m[I 2021-06-24 02:55:36,416]\u001b[0m Trial 33 finished with value: 1.7475430885846017 and parameters: {'feature_fraction': 0.25, 'max_depth': 6, 'num_leaves': 38, 'min_data_in_leaf': 3813, 'lambda_l1': 0.00011675823679374059, 'lambda_l2': 3.580372709163716, 'bagging_fraction': 0.7, 'bagging_freq': 9}. Best is trial 15 with value: 1.7469282908555468.\u001b[0m\n",
      "\u001b[32m[I 2021-06-24 02:56:34,162]\u001b[0m Trial 34 finished with value: 1.7502373738433064 and parameters: {'feature_fraction': 0.1, 'max_depth': 7, 'num_leaves': 105, 'min_data_in_leaf': 1896, 'lambda_l1': 0.0007505914124072871, 'lambda_l2': 0.0018613612665174413, 'bagging_fraction': 0.55, 'bagging_freq': 10}. Best is trial 15 with value: 1.7469282908555468.\u001b[0m\n",
      "\u001b[32m[I 2021-06-24 02:57:45,433]\u001b[0m Trial 35 finished with value: 1.7476277377855862 and parameters: {'feature_fraction': 0.2, 'max_depth': 7, 'num_leaves': 52, 'min_data_in_leaf': 2530, 'lambda_l1': 6.9324430173695575e-06, 'lambda_l2': 0.03797538753162939, 'bagging_fraction': 0.65, 'bagging_freq': 8}. Best is trial 15 with value: 1.7469282908555468.\u001b[0m\n",
      "\u001b[32m[I 2021-06-24 02:58:50,393]\u001b[0m Trial 36 finished with value: 1.7487727818254075 and parameters: {'feature_fraction': 0.35, 'max_depth': 5, 'num_leaves': 19, 'min_data_in_leaf': 4906, 'lambda_l1': 1.6828200099795974e-07, 'lambda_l2': 0.00034963197904960017, 'bagging_fraction': 0.55, 'bagging_freq': 5}. Best is trial 15 with value: 1.7469282908555468.\u001b[0m\n",
      "\u001b[32m[I 2021-06-24 03:00:00,307]\u001b[0m Trial 37 finished with value: 1.747254866068284 and parameters: {'feature_fraction': 0.15000000000000002, 'max_depth': 6, 'num_leaves': 36, 'min_data_in_leaf': 3407, 'lambda_l1': 1.7438840412136496e-06, 'lambda_l2': 2.0558266512828203e-05, 'bagging_fraction': 0.8, 'bagging_freq': 7}. Best is trial 15 with value: 1.7469282908555468.\u001b[0m\n",
      "\u001b[32m[I 2021-06-24 03:01:24,138]\u001b[0m Trial 38 finished with value: 1.7478889678221414 and parameters: {'feature_fraction': 0.25, 'max_depth': 6, 'num_leaves': 40, 'min_data_in_leaf': 2872, 'lambda_l1': 1.461764752683147e-06, 'lambda_l2': 3.089724167897497e-06, 'bagging_fraction': 0.8, 'bagging_freq': 7}. Best is trial 15 with value: 1.7469282908555468.\u001b[0m\n",
      "\u001b[32m[I 2021-06-24 03:02:51,106]\u001b[0m Trial 39 finished with value: 1.7491029769068984 and parameters: {'feature_fraction': 0.35, 'max_depth': 4, 'num_leaves': 12, 'min_data_in_leaf': 8219, 'lambda_l1': 1.42814811961515e-07, 'lambda_l2': 3.767080208574762e-05, 'bagging_fraction': 0.9, 'bagging_freq': 3}. Best is trial 15 with value: 1.7469282908555468.\u001b[0m\n",
      "Finished hyperparemeter search! (elapsed time: 2598.184 sec.) The best_iteration is 100.\n",
      "Making booster(s)...\n",
      "Finished making booster(s)! (elapsed time: 18.934 sec.)\n"
     ]
    },
    {
     "name": "stdout",
     "output_type": "stream",
     "text": [
      "43.62\n",
      "2021-06-24 03:03:10.044005\n"
     ]
    }
   ],
   "source": [
    "print(datetime.datetime.now())\n",
    "start = time.time()\n",
    "\n",
    "X_train = train_df.drop(['id', 'target'], 1)\n",
    "y_train = train_df['target']\n",
    "\n",
    "lgbm = lgb.LGBMClassifier()\n",
    "lgbm.fit(X_train, y_train)\n",
    "\n",
    "minutes = (time.time() - start) / 60\n",
    "print(round(minutes, 2))\n",
    "print(datetime.datetime.now())"
   ]
  },
  {
   "cell_type": "code",
   "execution_count": 20,
   "id": "7c19f4e5",
   "metadata": {},
   "outputs": [
    {
     "name": "stdout",
     "output_type": "stream",
     "text": [
      "2021-06-24 12:56:40.388508\n",
      "2021-06-24 12:56:41.489464\n"
     ]
    }
   ],
   "source": [
    "print(datetime.datetime.now())\n",
    "X_test = test_df.drop('id', 1)\n",
    "test_preds = lgbm.predict_proba(X_test)\n",
    "print(datetime.datetime.now())"
   ]
  },
  {
   "cell_type": "code",
   "execution_count": 21,
   "id": "1753c128",
   "metadata": {},
   "outputs": [],
   "source": [
    "submission = pd.DataFrame(test_preds)\n",
    "submission.columns = ['Class_1', 'Class_2', 'Class_3', 'Class_4', 'Class_5', 'Class_6', 'Class_7', 'Class_8', 'Class_9']\n",
    "submission['id'] = test_df['id']\n",
    "\n",
    "submission.to_csv(\"submission_optgbm.csv\", index=False)"
   ]
  }
 ],
 "metadata": {
  "kernelspec": {
   "display_name": "Python 3",
   "language": "python",
   "name": "python3"
  },
  "language_info": {
   "codemirror_mode": {
    "name": "ipython",
    "version": 3
   },
   "file_extension": ".py",
   "mimetype": "text/x-python",
   "name": "python",
   "nbconvert_exporter": "python",
   "pygments_lexer": "ipython3",
   "version": "3.9.4"
  }
 },
 "nbformat": 4,
 "nbformat_minor": 5
}
