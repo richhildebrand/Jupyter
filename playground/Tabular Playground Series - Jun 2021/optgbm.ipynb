{
 "cells": [
  {
   "cell_type": "code",
   "execution_count": 1,
   "id": "e26a425a",
   "metadata": {},
   "outputs": [
    {
     "name": "stdout",
     "output_type": "stream",
     "text": [
      "Requirement already satisfied: optgbm in /opt/conda/lib/python3.9/site-packages (0.10.0)\n",
      "Requirement already satisfied: scikit-learn>=0.19.0 in /opt/conda/lib/python3.9/site-packages (from optgbm) (0.24.2)\n",
      "Requirement already satisfied: optuna>=0.17 in /opt/conda/lib/python3.9/site-packages (from optgbm) (2.8.0)\n",
      "Requirement already satisfied: pandas in /opt/conda/lib/python3.9/site-packages (from optgbm) (1.2.4)\n",
      "Requirement already satisfied: lightgbm>=2.2.2 in /opt/conda/lib/python3.9/site-packages (from optgbm) (3.2.1)\n",
      "Requirement already satisfied: numpy in /opt/conda/lib/python3.9/site-packages (from optgbm) (1.19.5)\n",
      "Requirement already satisfied: scipy in /opt/conda/lib/python3.9/site-packages (from lightgbm>=2.2.2->optgbm) (1.6.3)\n",
      "Requirement already satisfied: wheel in /opt/conda/lib/python3.9/site-packages (from lightgbm>=2.2.2->optgbm) (0.36.2)\n",
      "Requirement already satisfied: cmaes>=0.8.2 in /opt/conda/lib/python3.9/site-packages (from optuna>=0.17->optgbm) (0.8.2)\n",
      "Requirement already satisfied: tqdm in /opt/conda/lib/python3.9/site-packages (from optuna>=0.17->optgbm) (4.61.1)\n",
      "Requirement already satisfied: colorlog in /opt/conda/lib/python3.9/site-packages (from optuna>=0.17->optgbm) (5.0.1)\n",
      "Requirement already satisfied: sqlalchemy>=1.1.0 in /opt/conda/lib/python3.9/site-packages (from optuna>=0.17->optgbm) (1.4.18)\n",
      "Requirement already satisfied: packaging>=20.0 in /opt/conda/lib/python3.9/site-packages (from optuna>=0.17->optgbm) (20.9)\n",
      "Requirement already satisfied: alembic in /opt/conda/lib/python3.9/site-packages (from optuna>=0.17->optgbm) (1.6.5)\n",
      "Requirement already satisfied: cliff in /opt/conda/lib/python3.9/site-packages (from optuna>=0.17->optgbm) (3.8.0)\n",
      "Requirement already satisfied: pyparsing>=2.0.2 in /opt/conda/lib/python3.9/site-packages (from packaging>=20.0->optuna>=0.17->optgbm) (2.4.7)\n",
      "Requirement already satisfied: threadpoolctl>=2.0.0 in /opt/conda/lib/python3.9/site-packages (from scikit-learn>=0.19.0->optgbm) (2.1.0)\n",
      "Requirement already satisfied: joblib>=0.11 in /opt/conda/lib/python3.9/site-packages (from scikit-learn>=0.19.0->optgbm) (1.0.1)\n",
      "Requirement already satisfied: greenlet!=0.4.17 in /opt/conda/lib/python3.9/site-packages (from sqlalchemy>=1.1.0->optuna>=0.17->optgbm) (1.1.0)\n",
      "Requirement already satisfied: Mako in /opt/conda/lib/python3.9/site-packages (from alembic->optuna>=0.17->optgbm) (1.1.4)\n",
      "Requirement already satisfied: python-dateutil in /opt/conda/lib/python3.9/site-packages (from alembic->optuna>=0.17->optgbm) (2.8.1)\n",
      "Requirement already satisfied: python-editor>=0.3 in /opt/conda/lib/python3.9/site-packages (from alembic->optuna>=0.17->optgbm) (1.0.4)\n",
      "Requirement already satisfied: stevedore>=2.0.1 in /opt/conda/lib/python3.9/site-packages (from cliff->optuna>=0.17->optgbm) (3.3.0)\n",
      "Requirement already satisfied: PrettyTable>=0.7.2 in /opt/conda/lib/python3.9/site-packages (from cliff->optuna>=0.17->optgbm) (2.1.0)\n",
      "Requirement already satisfied: pbr!=2.1.0,>=2.0.0 in /opt/conda/lib/python3.9/site-packages (from cliff->optuna>=0.17->optgbm) (5.6.0)\n",
      "Requirement already satisfied: PyYAML>=3.12 in /opt/conda/lib/python3.9/site-packages (from cliff->optuna>=0.17->optgbm) (5.4.1)\n",
      "Requirement already satisfied: cmd2>=1.0.0 in /opt/conda/lib/python3.9/site-packages (from cliff->optuna>=0.17->optgbm) (2.1.1)\n",
      "Requirement already satisfied: pyperclip>=1.6 in /opt/conda/lib/python3.9/site-packages (from cmd2>=1.0.0->cliff->optuna>=0.17->optgbm) (1.8.2)\n",
      "Requirement already satisfied: attrs>=16.3.0 in /opt/conda/lib/python3.9/site-packages (from cmd2>=1.0.0->cliff->optuna>=0.17->optgbm) (21.2.0)\n",
      "Requirement already satisfied: wcwidth>=0.1.7 in /opt/conda/lib/python3.9/site-packages (from cmd2>=1.0.0->cliff->optuna>=0.17->optgbm) (0.2.5)\n",
      "Requirement already satisfied: colorama>=0.3.7 in /opt/conda/lib/python3.9/site-packages (from cmd2>=1.0.0->cliff->optuna>=0.17->optgbm) (0.4.4)\n",
      "Requirement already satisfied: MarkupSafe>=0.9.2 in /opt/conda/lib/python3.9/site-packages (from Mako->alembic->optuna>=0.17->optgbm) (2.0.1)\n",
      "Requirement already satisfied: pytz>=2017.3 in /opt/conda/lib/python3.9/site-packages (from pandas->optgbm) (2021.1)\n",
      "Requirement already satisfied: six>=1.5 in /opt/conda/lib/python3.9/site-packages (from python-dateutil->alembic->optuna>=0.17->optgbm) (1.15.0)\n"
     ]
    }
   ],
   "source": [
    "!pip install optgbm"
   ]
  },
  {
   "cell_type": "code",
   "execution_count": 5,
   "id": "8a711117",
   "metadata": {},
   "outputs": [],
   "source": [
    "import time\n",
    "import datetime\n",
    "\n",
    "import numpy as np\n",
    "import pandas as pd\n",
    "import optgbm as lgb"
   ]
  },
  {
   "cell_type": "code",
   "execution_count": 6,
   "id": "795fef01",
   "metadata": {},
   "outputs": [],
   "source": [
    "train_df = pd.read_csv('train.csv')\n",
    "test_df = pd.read_csv('test.csv')"
   ]
  },
  {
   "cell_type": "code",
   "execution_count": 7,
   "id": "a1816f59",
   "metadata": {},
   "outputs": [
    {
     "name": "stdout",
     "output_type": "stream",
     "text": [
      "0    5\n",
      "1    5\n",
      "2    1\n",
      "3    7\n",
      "4    1\n",
      "Name: target, dtype: int64\n"
     ]
    }
   ],
   "source": [
    "from sklearn.preprocessing import LabelEncoder\n",
    "features_target = ['target'] \n",
    "\n",
    "for feature in features_target:\n",
    "    le = LabelEncoder()\n",
    "    le.fit(train_df[feature])\n",
    "    train_df[feature] = le.transform(train_df[feature])\n",
    "    \n",
    "print(train_df['target'].head())"
   ]
  },
  {
   "cell_type": "code",
   "execution_count": 8,
   "id": "b969afb1",
   "metadata": {},
   "outputs": [
    {
     "name": "stderr",
     "output_type": "stream",
     "text": [
      "/opt/conda/lib/python3.9/site-packages/sklearn/utils/validation.py:70: FutureWarning: Pass classifier=True as keyword args. From version 1.0 (renaming of 0.25) passing these as positional arguments will result in an error\n",
      "  warnings.warn(f\"Pass {args_msg} as keyword args. From version \"\n",
      "\u001b[32m[I 2021-06-27 14:51:37,013]\u001b[0m A new study created in memory with name: no-name-a3ae981d-fa74-4ae7-a9a4-142bc8a2259f\u001b[0m\n",
      "Searching the best hyperparameters...\n"
     ]
    },
    {
     "name": "stdout",
     "output_type": "stream",
     "text": [
      "2021-06-27 14:51:36.916836\n"
     ]
    },
    {
     "name": "stderr",
     "output_type": "stream",
     "text": [
      "\u001b[32m[I 2021-06-27 14:52:07,599]\u001b[0m Trial 0 finished with value: 1.7671533685364769 and parameters: {'feature_fraction': 0.1, 'max_depth': 3, 'num_leaves': 2, 'min_data_in_leaf': 38976, 'lambda_l1': 1.914435065293874e-07, 'lambda_l2': 6.894554510897413e-07, 'bagging_fraction': 0.8500000000000001, 'bagging_freq': 1}. Best is trial 0 with value: 1.7671533685364769.\u001b[0m\n",
      "\u001b[32m[I 2021-06-27 14:53:14,806]\u001b[0m Trial 1 finished with value: 1.7482095004534073 and parameters: {'feature_fraction': 0.2, 'max_depth': 4, 'num_leaves': 14, 'min_data_in_leaf': 6392, 'lambda_l1': 0.039946596455145054, 'lambda_l2': 2.6675727890832353e-09, 'bagging_fraction': 0.95, 'bagging_freq': 7}. Best is trial 1 with value: 1.7482095004534073.\u001b[0m\n",
      "\u001b[32m[I 2021-06-27 14:54:08,562]\u001b[0m Trial 2 finished with value: 1.7494474085276237 and parameters: {'feature_fraction': 0.15000000000000002, 'max_depth': 6, 'num_leaves': 13, 'min_data_in_leaf': 10019, 'lambda_l1': 0.1711473751286286, 'lambda_l2': 0.10427746626695328, 'bagging_fraction': 0.75, 'bagging_freq': 2}. Best is trial 1 with value: 1.7482095004534073.\u001b[0m\n",
      "\u001b[32m[I 2021-06-27 14:55:23,873]\u001b[0m Trial 3 finished with value: 1.7484360964020138 and parameters: {'feature_fraction': 0.35, 'max_depth': 7, 'num_leaves': 22, 'min_data_in_leaf': 2996, 'lambda_l1': 0.04408672775779467, 'lambda_l2': 0.6052751831776729, 'bagging_fraction': 0.65, 'bagging_freq': 3}. Best is trial 1 with value: 1.7482095004534073.\u001b[0m\n",
      "\u001b[32m[I 2021-06-27 14:56:15,124]\u001b[0m Trial 4 finished with value: 1.7490000094834381 and parameters: {'feature_fraction': 0.65, 'max_depth': 7, 'num_leaves': 27, 'min_data_in_leaf': 2759, 'lambda_l1': 1.0859629551786813e-05, 'lambda_l2': 0.0005813912331328201, 'bagging_fraction': 0.65, 'bagging_freq': 3}. Best is trial 1 with value: 1.7482095004534073.\u001b[0m\n",
      "\u001b[32m[I 2021-06-27 14:57:00,725]\u001b[0m Trial 5 finished with value: 1.749465708851659 and parameters: {'feature_fraction': 0.8, 'max_depth': 5, 'num_leaves': 18, 'min_data_in_leaf': 8780, 'lambda_l1': 4.470064352697684e-07, 'lambda_l2': 1.4248991614772107e-08, 'bagging_fraction': 0.7, 'bagging_freq': 6}. Best is trial 1 with value: 1.7482095004534073.\u001b[0m\n",
      "\u001b[32m[I 2021-06-27 14:58:08,889]\u001b[0m Trial 6 finished with value: 1.7493732615099287 and parameters: {'feature_fraction': 0.6, 'max_depth': 7, 'num_leaves': 67, 'min_data_in_leaf': 2277, 'lambda_l1': 3.286066176297436e-08, 'lambda_l2': 3.222404538528805e-07, 'bagging_fraction': 0.75, 'bagging_freq': 10}. Best is trial 1 with value: 1.7482095004534073.\u001b[0m\n",
      "\u001b[32m[I 2021-06-27 14:58:26,920]\u001b[0m Trial 7 finished with value: 1.8672855898820149 and parameters: {'feature_fraction': 0.65, 'max_depth': 1, 'num_leaves': 2, 'min_data_in_leaf': 50847, 'lambda_l1': 4.658880345412804e-09, 'lambda_l2': 0.06056483204672713, 'bagging_fraction': 0.65, 'bagging_freq': 6}. Best is trial 1 with value: 1.7482095004534073.\u001b[0m\n",
      "\u001b[32m[I 2021-06-27 14:58:58,259]\u001b[0m Trial 8 finished with value: 1.750542556874009 and parameters: {'feature_fraction': 0.8, 'max_depth': 3, 'num_leaves': 5, 'min_data_in_leaf': 2680, 'lambda_l1': 1.213289598001656e-07, 'lambda_l2': 0.0007436063620163691, 'bagging_fraction': 0.55, 'bagging_freq': 6}. Best is trial 1 with value: 1.7482095004534073.\u001b[0m\n",
      "\u001b[32m[I 2021-06-27 15:00:10,827]\u001b[0m Trial 9 finished with value: 1.7489071516242412 and parameters: {'feature_fraction': 0.5, 'max_depth': 5, 'num_leaves': 25, 'min_data_in_leaf': 3963, 'lambda_l1': 3.9997622960184644e-07, 'lambda_l2': 1.3277962376922377e-05, 'bagging_fraction': 0.5, 'bagging_freq': 2}. Best is trial 1 with value: 1.7482095004534073.\u001b[0m\n",
      "\u001b[32m[I 2021-06-27 15:00:13,360]\u001b[0m Trial 10 finished with value: 2.0752378676359795 and parameters: {'feature_fraction': 0.30000000000000004, 'max_depth': 1, 'num_leaves': 2, 'min_data_in_leaf': 92688, 'lambda_l1': 0.002197441222799874, 'lambda_l2': 1.6758887747118218e-09, 'bagging_fraction': 0.9, 'bagging_freq': 9}. Best is trial 1 with value: 1.7482095004534073.\u001b[0m\n",
      "\u001b[32m[I 2021-06-27 15:01:36,051]\u001b[0m Trial 11 finished with value: 1.751370763852116 and parameters: {'feature_fraction': 0.35, 'max_depth': 3, 'num_leaves': 8, 'min_data_in_leaf': 17379, 'lambda_l1': 2.433864901147599, 'lambda_l2': 7.879355381521838, 'bagging_fraction': 0.95, 'bagging_freq': 4}. Best is trial 1 with value: 1.7482095004534073.\u001b[0m\n",
      "\u001b[32m[I 2021-06-27 15:02:40,436]\u001b[0m Trial 12 finished with value: 1.7489860644028148 and parameters: {'feature_fraction': 0.30000000000000004, 'max_depth': 5, 'num_leaves': 24, 'min_data_in_leaf': 6426, 'lambda_l1': 0.010972827614751605, 'lambda_l2': 4.741040284221377, 'bagging_fraction': 0.6, 'bagging_freq': 8}. Best is trial 1 with value: 1.7482095004534073.\u001b[0m\n",
      "\u001b[32m[I 2021-06-27 15:03:35,089]\u001b[0m Trial 13 finished with value: 1.7573808621681848 and parameters: {'feature_fraction': 0.2, 'max_depth': 2, 'num_leaves': 4, 'min_data_in_leaf': 26377, 'lambda_l1': 5.6768040567878835, 'lambda_l2': 0.06661474130040981, 'bagging_fraction': 0.8, 'bagging_freq': 4}. Best is trial 1 with value: 1.7482095004534073.\u001b[0m\n",
      "\u001b[32m[I 2021-06-27 15:04:21,816]\u001b[0m Trial 14 finished with value: 1.753910363035546 and parameters: {'feature_fraction': 0.45000000000000007, 'max_depth': 6, 'num_leaves': 40, 'min_data_in_leaf': 180, 'lambda_l1': 0.0003022701653942194, 'lambda_l2': 1.8323896540567162e-05, 'bagging_fraction': 0.5, 'bagging_freq': 8}. Best is trial 1 with value: 1.7482095004534073.\u001b[0m\n",
      "\u001b[32m[I 2021-06-27 15:05:14,331]\u001b[0m Trial 15 finished with value: 1.7496888773611103 and parameters: {'feature_fraction': 1.0, 'max_depth': 4, 'num_leaves': 16, 'min_data_in_leaf': 6217, 'lambda_l1': 0.10390614120404403, 'lambda_l2': 1.6964900678994568e-09, 'bagging_fraction': 0.95, 'bagging_freq': 5}. Best is trial 1 with value: 1.7482095004534073.\u001b[0m\n",
      "\u001b[32m[I 2021-06-27 15:06:12,309]\u001b[0m Trial 16 finished with value: 1.7535299349814182 and parameters: {'feature_fraction': 0.4, 'max_depth': 6, 'num_leaves': 37, 'min_data_in_leaf': 76, 'lambda_l1': 0.22557999807048337, 'lambda_l2': 0.005505956027814203, 'bagging_fraction': 0.6, 'bagging_freq': 7}. Best is trial 1 with value: 1.7482095004534073.\u001b[0m\n",
      "\u001b[32m[I 2021-06-27 15:07:24,426]\u001b[0m Trial 17 finished with value: 1.7500749442849077 and parameters: {'feature_fraction': 0.25, 'max_depth': 4, 'num_leaves': 12, 'min_data_in_leaf': 12671, 'lambda_l1': 8.936230064011057e-05, 'lambda_l2': 2.062881511863056, 'bagging_fraction': 0.8500000000000001, 'bagging_freq': 4}. Best is trial 1 with value: 1.7482095004534073.\u001b[0m\n",
      "\u001b[32m[I 2021-06-27 15:08:30,227]\u001b[0m Trial 18 finished with value: 1.750399682244827 and parameters: {'feature_fraction': 0.1, 'max_depth': 7, 'num_leaves': 106, 'min_data_in_leaf': 1417, 'lambda_l1': 0.009399527565226407, 'lambda_l2': 9.018132714884009e-08, 'bagging_fraction': 0.7, 'bagging_freq': 1}. Best is trial 1 with value: 1.7482095004534073.\u001b[0m\n",
      "\u001b[32m[I 2021-06-27 15:09:23,595]\u001b[0m Trial 19 finished with value: 1.7559841511105811 and parameters: {'feature_fraction': 0.2, 'max_depth': 2, 'num_leaves': 3, 'min_data_in_leaf': 21945, 'lambda_l1': 1.1797935292931618, 'lambda_l2': 4.710047523427437e-06, 'bagging_fraction': 0.8, 'bagging_freq': 5}. Best is trial 1 with value: 1.7482095004534073.\u001b[0m\n",
      "\u001b[32m[I 2021-06-27 15:10:20,238]\u001b[0m Trial 20 finished with value: 1.7645494219684768 and parameters: {'feature_fraction': 0.4, 'max_depth': 2, 'num_leaves': 4, 'min_data_in_leaf': 31296, 'lambda_l1': 0.0011058685242901424, 'lambda_l2': 1.0175283341015353, 'bagging_fraction': 0.65, 'bagging_freq': 7}. Best is trial 1 with value: 1.7482095004534073.\u001b[0m\n",
      "\u001b[32m[I 2021-06-27 15:11:32,074]\u001b[0m Trial 21 finished with value: 1.7490377598711238 and parameters: {'feature_fraction': 0.55, 'max_depth': 5, 'num_leaves': 24, 'min_data_in_leaf': 4418, 'lambda_l1': 1.2522589170388374e-05, 'lambda_l2': 0.00012503030367911328, 'bagging_fraction': 0.5, 'bagging_freq': 2}. Best is trial 1 with value: 1.7482095004534073.\u001b[0m\n",
      "\u001b[32m[I 2021-06-27 15:12:38,718]\u001b[0m Trial 22 finished with value: 1.7492119254089722 and parameters: {'feature_fraction': 0.5, 'max_depth': 4, 'num_leaves': 16, 'min_data_in_leaf': 4299, 'lambda_l1': 5.204345956975434e-06, 'lambda_l2': 1.3266189064830315e-08, 'bagging_fraction': 0.5, 'bagging_freq': 2}. Best is trial 1 with value: 1.7482095004534073.\u001b[0m\n"
     ]
    },
    {
     "name": "stderr",
     "output_type": "stream",
     "text": [
      "\u001b[32m[I 2021-06-27 15:14:11,307]\u001b[0m Trial 23 finished with value: 1.7486511733030201 and parameters: {'feature_fraction': 0.5, 'max_depth': 5, 'num_leaves': 29, 'min_data_in_leaf': 4052, 'lambda_l1': 0.02598788949557993, 'lambda_l2': 4.981029892140768e-06, 'bagging_fraction': 0.55, 'bagging_freq': 1}. Best is trial 1 with value: 1.7482095004534073.\u001b[0m\n",
      "\u001b[32m[I 2021-06-27 15:15:27,545]\u001b[0m Trial 24 finished with value: 1.7483149922943517 and parameters: {'feature_fraction': 0.35, 'max_depth': 6, 'num_leaves': 43, 'min_data_in_leaf': 3457, 'lambda_l1': 0.029203171003217485, 'lambda_l2': 2.0558914660026324e-06, 'bagging_fraction': 0.6, 'bagging_freq': 3}. Best is trial 1 with value: 1.7482095004534073.\u001b[0m\n",
      "\u001b[32m[I 2021-06-27 15:16:41,021]\u001b[0m Trial 25 finished with value: 1.7481506640161293 and parameters: {'feature_fraction': 0.30000000000000004, 'max_depth': 6, 'num_leaves': 46, 'min_data_in_leaf': 3586, 'lambda_l1': 0.0460994189853252, 'lambda_l2': 2.7614494497772835e-08, 'bagging_fraction': 0.6, 'bagging_freq': 3}. Best is trial 25 with value: 1.7481506640161293.\u001b[0m\n",
      "\u001b[32m[I 2021-06-27 15:17:47,301]\u001b[0m Trial 26 finished with value: 1.7484572415678907 and parameters: {'feature_fraction': 0.25, 'max_depth': 6, 'num_leaves': 48, 'min_data_in_leaf': 1208, 'lambda_l1': 0.9403960901205743, 'lambda_l2': 1.6833287477556383e-08, 'bagging_fraction': 0.6, 'bagging_freq': 3}. Best is trial 25 with value: 1.7481506640161293.\u001b[0m\n",
      "\u001b[32m[I 2021-06-27 15:18:42,742]\u001b[0m Trial 27 finished with value: 1.7477729902424763 and parameters: {'feature_fraction': 0.15000000000000002, 'max_depth': 6, 'num_leaves': 50, 'min_data_in_leaf': 3459, 'lambda_l1': 0.0028057218991553805, 'lambda_l2': 9.282329886944677e-08, 'bagging_fraction': 0.55, 'bagging_freq': 5}. Best is trial 27 with value: 1.7477729902424763.\u001b[0m\n",
      "\u001b[32m[I 2021-06-27 15:19:42,258]\u001b[0m Trial 28 finished with value: 1.7516766603092424 and parameters: {'feature_fraction': 0.1, 'max_depth': 6, 'num_leaves': 56, 'min_data_in_leaf': 649, 'lambda_l1': 0.002174481351121504, 'lambda_l2': 1.002633746896638e-09, 'bagging_fraction': 0.55, 'bagging_freq': 5}. Best is trial 27 with value: 1.7477729902424763.\u001b[0m\n",
      "\u001b[32m[I 2021-06-27 15:20:24,332]\u001b[0m Trial 29 finished with value: 1.7519853295940024 and parameters: {'feature_fraction': 0.1, 'max_depth': 4, 'num_leaves': 8, 'min_data_in_leaf': 7039, 'lambda_l1': 0.00018025324019225726, 'lambda_l2': 1.506408964107403e-07, 'bagging_fraction': 0.55, 'bagging_freq': 7}. Best is trial 27 with value: 1.7477729902424763.\u001b[0m\n",
      "\u001b[32m[I 2021-06-27 15:21:30,494]\u001b[0m Trial 30 finished with value: 1.750646370295215 and parameters: {'feature_fraction': 0.2, 'max_depth': 3, 'num_leaves': 8, 'min_data_in_leaf': 11363, 'lambda_l1': 9.109609020502763, 'lambda_l2': 5.030015726274006e-08, 'bagging_fraction': 0.9, 'bagging_freq': 4}. Best is trial 27 with value: 1.7477729902424763.\u001b[0m\n",
      "\u001b[32m[I 2021-06-27 15:22:29,937]\u001b[0m Trial 31 finished with value: 1.747794669774215 and parameters: {'feature_fraction': 0.15000000000000002, 'max_depth': 6, 'num_leaves': 49, 'min_data_in_leaf': 3481, 'lambda_l1': 0.00837646911183378, 'lambda_l2': 1.916692388808517e-06, 'bagging_fraction': 0.6, 'bagging_freq': 3}. Best is trial 27 with value: 1.7477729902424763.\u001b[0m\n",
      "\u001b[32m[I 2021-06-27 15:23:33,617]\u001b[0m Trial 32 finished with value: 1.7480194521338472 and parameters: {'feature_fraction': 0.15000000000000002, 'max_depth': 7, 'num_leaves': 70, 'min_data_in_leaf': 1844, 'lambda_l1': 0.28550698285423737, 'lambda_l2': 6.46691018667455e-07, 'bagging_fraction': 0.55, 'bagging_freq': 8}. Best is trial 27 with value: 1.7477729902424763.\u001b[0m\n",
      "\u001b[32m[I 2021-06-27 15:24:36,628]\u001b[0m Trial 33 finished with value: 1.7479905202673156 and parameters: {'feature_fraction': 0.15000000000000002, 'max_depth': 7, 'num_leaves': 78, 'min_data_in_leaf': 1921, 'lambda_l1': 0.27812701046874483, 'lambda_l2': 5.137842738169181e-07, 'bagging_fraction': 0.55, 'bagging_freq': 10}. Best is trial 27 with value: 1.7477729902424763.\u001b[0m\n",
      "\u001b[32m[I 2021-06-27 15:25:40,114]\u001b[0m Trial 34 finished with value: 1.7478349998923413 and parameters: {'feature_fraction': 0.15000000000000002, 'max_depth': 7, 'num_leaves': 79, 'min_data_in_leaf': 1861, 'lambda_l1': 0.42048821414378185, 'lambda_l2': 1.3155382661093706e-06, 'bagging_fraction': 0.55, 'bagging_freq': 9}. Best is trial 27 with value: 1.7477729902424763.\u001b[0m\n",
      "\u001b[32m[I 2021-06-27 15:26:42,859]\u001b[0m Trial 35 finished with value: 1.7479853954169127 and parameters: {'feature_fraction': 0.15000000000000002, 'max_depth': 7, 'num_leaves': 80, 'min_data_in_leaf': 1954, 'lambda_l1': 0.007368726678474833, 'lambda_l2': 1.0289310350934432e-06, 'bagging_fraction': 0.55, 'bagging_freq': 10}. Best is trial 27 with value: 1.7477729902424763.\u001b[0m\n",
      "\u001b[32m[I 2021-06-27 15:27:39,553]\u001b[0m Trial 36 finished with value: 1.7502141989438738 and parameters: {'feature_fraction': 0.1, 'max_depth': 7, 'num_leaves': 88, 'min_data_in_leaf': 1725, 'lambda_l1': 0.0007901613026668507, 'lambda_l2': 6.261407312740918e-05, 'bagging_fraction': 0.5, 'bagging_freq': 9}. Best is trial 27 with value: 1.7477729902424763.\u001b[0m\n",
      "\u001b[32m[I 2021-06-27 15:28:48,067]\u001b[0m Trial 37 finished with value: 1.747618597276965 and parameters: {'feature_fraction': 0.15000000000000002, 'max_depth': 7, 'num_leaves': 92, 'min_data_in_leaf': 2172, 'lambda_l1': 3.719277925752854e-05, 'lambda_l2': 1.646209207286982e-06, 'bagging_fraction': 0.65, 'bagging_freq': 9}. Best is trial 37 with value: 1.747618597276965.\u001b[0m\n",
      "\u001b[32m[I 2021-06-27 15:29:55,621]\u001b[0m Trial 38 finished with value: 1.749383381705672 and parameters: {'feature_fraction': 0.25, 'max_depth': 7, 'num_leaves': 102, 'min_data_in_leaf': 827, 'lambda_l1': 2.2139421918196157e-05, 'lambda_l2': 1.445411777282269e-07, 'bagging_fraction': 0.7, 'bagging_freq': 9}. Best is trial 37 with value: 1.747618597276965.\u001b[0m\n",
      "\u001b[32m[I 2021-06-27 15:30:52,975]\u001b[0m Trial 39 finished with value: 1.7498605677832397 and parameters: {'feature_fraction': 0.1, 'max_depth': 6, 'num_leaves': 55, 'min_data_in_leaf': 3167, 'lambda_l1': 3.8550915588981844e-05, 'lambda_l2': 2.3337342510801255e-06, 'bagging_fraction': 0.65, 'bagging_freq': 9}. Best is trial 37 with value: 1.747618597276965.\u001b[0m\n",
      "Finished hyperparemeter search! (elapsed time: 2355.931 sec.) The best_iteration is 99.\n",
      "Making booster(s)...\n",
      "Finished making booster(s)! (elapsed time: 15.739 sec.)\n"
     ]
    },
    {
     "name": "stdout",
     "output_type": "stream",
     "text": [
      "39.53\n",
      "2021-06-27 15:31:08.720554\n"
     ]
    }
   ],
   "source": [
    "print(datetime.datetime.now())\n",
    "start = time.time()\n",
    "\n",
    "X_train = train_df.drop(['id', 'target'], 1)\n",
    "y_train = train_df['target']\n",
    "\n",
    "lgbm = lgb.LGBMClassifier()\n",
    "lgbm.fit(X_train, y_train)\n",
    "\n",
    "minutes = (time.time() - start) / 60\n",
    "print(round(minutes, 2))\n",
    "print(datetime.datetime.now())"
   ]
  },
  {
   "cell_type": "code",
   "execution_count": 15,
   "id": "654d6064",
   "metadata": {},
   "outputs": [
    {
     "name": "stdout",
     "output_type": "stream",
     "text": [
      "2021-06-27 15:37:09.115918\n",
      "2021-06-27 15:37:11.804410\n"
     ]
    }
   ],
   "source": [
    "from sklearn.metrics import log_loss\n",
    "\n",
    "print(datetime.datetime.now())\n",
    "X_train = train_df.drop(['id', 'target'], 1)\n",
    "train_preds = lgbm.predict_proba(X_train)\n",
    "print(datetime.datetime.now())\n",
    "\n",
    "print(abs(log_loss(y_train, train_preds))\n",
    "\n",
    "submission = pd.DataFrame(train_preds)\n",
    "submission.columns = ['Class_1', 'Class_2', 'Class_3', 'Class_4', 'Class_5', 'Class_6', 'Class_7', 'Class_8', 'Class_9']\n",
    "submission['id'] = test_df['id']\n",
    "\n",
    "submission.to_csv(\"opt_lgbm_train.csv\", index=False)"
   ]
  },
  {
   "cell_type": "code",
   "execution_count": 20,
   "id": "7c19f4e5",
   "metadata": {},
   "outputs": [
    {
     "name": "stdout",
     "output_type": "stream",
     "text": [
      "2021-06-24 12:56:40.388508\n",
      "2021-06-24 12:56:41.489464\n"
     ]
    }
   ],
   "source": [
    "print(datetime.datetime.now())\n",
    "X_test = test_df.drop('id', 1)\n",
    "test_preds = lgbm.predict_proba(X_test)\n",
    "print(datetime.datetime.now())"
   ]
  },
  {
   "cell_type": "code",
   "execution_count": 21,
   "id": "1753c128",
   "metadata": {},
   "outputs": [],
   "source": [
    "submission = pd.DataFrame(test_preds)\n",
    "submission.columns = ['Class_1', 'Class_2', 'Class_3', 'Class_4', 'Class_5', 'Class_6', 'Class_7', 'Class_8', 'Class_9']\n",
    "submission['id'] = test_df['id']\n",
    "\n",
    "submission.to_csv(\"submission_opt_lgbm_test.csv\", index=False)"
   ]
  }
 ],
 "metadata": {
  "kernelspec": {
   "display_name": "Python 3",
   "language": "python",
   "name": "python3"
  },
  "language_info": {
   "codemirror_mode": {
    "name": "ipython",
    "version": 3
   },
   "file_extension": ".py",
   "mimetype": "text/x-python",
   "name": "python",
   "nbconvert_exporter": "python",
   "pygments_lexer": "ipython3",
   "version": "3.9.4"
  }
 },
 "nbformat": 4,
 "nbformat_minor": 5
}
