{
 "cells": [
  {
   "cell_type": "code",
   "execution_count": 10,
   "id": "b8553e44",
   "metadata": {},
   "outputs": [],
   "source": [
    "import numpy as np\n",
    "import pandas as pd\n",
    "from sklearn.model_selection import StratifiedKFold, train_test_split\n",
    "SEED = 777"
   ]
  },
  {
   "cell_type": "code",
   "execution_count": 11,
   "id": "40a0ca19",
   "metadata": {},
   "outputs": [],
   "source": [
    "train_df = pd.read_csv(\"train.csv\")\n",
    "test_df = pd.read_csv(\"test.csv\")"
   ]
  },
  {
   "cell_type": "code",
   "execution_count": 12,
   "id": "0dab817c",
   "metadata": {},
   "outputs": [
    {
     "name": "stdout",
     "output_type": "stream",
     "text": [
      "0    5\n",
      "1    5\n",
      "2    1\n",
      "3    7\n",
      "4    1\n",
      "Name: target, dtype: int64\n"
     ]
    }
   ],
   "source": [
    "from sklearn.preprocessing import LabelEncoder\n",
    "features_target = ['target'] \n",
    "\n",
    "for feature in features_target:\n",
    "    le = LabelEncoder()\n",
    "    le.fit(train_df[feature])\n",
    "    train_df[feature] = le.transform(train_df[feature])\n",
    "    \n",
    "print(train_df['target'].head())"
   ]
  },
  {
   "cell_type": "code",
   "execution_count": 13,
   "id": "9f4b3676",
   "metadata": {},
   "outputs": [
    {
     "name": "stdout",
     "output_type": "stream",
     "text": [
      "train count:  160000\n",
      "test count:  40000\n"
     ]
    }
   ],
   "source": [
    "train_no_predict = train_df.drop(['id', 'target'], 1)\n",
    "train_predict = train_df['target']\n",
    "\n",
    "train_percent = 0.80\n",
    "\n",
    "X_train, X_test, y_train, y_test = train_test_split(train_no_predict, train_predict, stratify=train_predict, \n",
    "                                                    train_size=train_percent, random_state=SEED)\n",
    "print('train count: ', len(y_train))\n",
    "print('test count: ', len(y_test))"
   ]
  },
  {
   "cell_type": "code",
   "execution_count": 44,
   "id": "16c64e9e",
   "metadata": {},
   "outputs": [
    {
     "name": "stdout",
     "output_type": "stream",
     "text": [
      "[5, 25, 50, 75]\n"
     ]
    }
   ],
   "source": [
    "count = len(train_no_predict.columns) + 1\n",
    "neighbors = [5, 25, 50, 75]\n",
    "#neighbors = [5, 10]\n",
    "print(neighbors)"
   ]
  },
  {
   "cell_type": "code",
   "execution_count": 45,
   "id": "3eb7bc57",
   "metadata": {},
   "outputs": [
    {
     "name": "stdout",
     "output_type": "stream",
     "text": [
      "starting KNN 5\n",
      "2021-06-26 17:11:36.900653\n",
      "2021-06-26 17:15:14.335819\n",
      "minutes 3.623919367790222 \n",
      "\n",
      "starting KNN 25\n",
      "2021-06-26 17:15:14.335954\n",
      "2021-06-26 17:18:58.651698\n",
      "minutes 3.738590923945109 \n",
      "\n",
      "starting KNN 50\n",
      "2021-06-26 17:18:58.651842\n",
      "2021-06-26 17:22:43.097016\n",
      "minutes 3.7407545407613116 \n",
      "\n",
      "starting KNN 75\n",
      "2021-06-26 17:22:43.097477\n",
      "2021-06-26 17:26:29.168557\n",
      "minutes 3.767852791150411 \n",
      "\n"
     ]
    }
   ],
   "source": [
    "import datetime;\n",
    "import time;\n",
    "from sklearn.neighbors import KNeighborsClassifier\n",
    "from sklearn.model_selection import cross_val_score\n",
    "\n",
    "cv_scores = []\n",
    "for K in neighbors:\n",
    "    print('starting KNN', K)\n",
    "    print(datetime.datetime.now())\n",
    "    start = time.time()\n",
    "    \n",
    "    knn = KNeighborsClassifier(n_neighbors = K)\n",
    "    scores = cross_val_score(knn, X_train, y_train, cv = 2, scoring =\"neg_log_loss\")\n",
    "    cv_scores.append(scores.mean())\n",
    "    \n",
    "    print(datetime.datetime.now())\n",
    "    minutes = (time.time() - start) / 60\n",
    "    print('minutes', minutes, '\\n')"
   ]
  },
  {
   "cell_type": "code",
   "execution_count": 48,
   "id": "a6ffb291",
   "metadata": {},
   "outputs": [
    {
     "name": "stdout",
     "output_type": "stream",
     "text": [
      "[-13.977068944616352, -4.117878072616625, -2.6594743996609194, -2.2486900792380515]\n",
      "The optimal the best K neighbors is 75\n"
     ]
    }
   ],
   "source": [
    "print(cv_scores)\n",
    "\n",
    "# print best K\n",
    "mse = [1-x for x in cv_scores]\n",
    "optimal_k = neighbors[mse.index(min(mse))]\n",
    "print(\"The optimal the best K neighbors is {}\".format(optimal_k))"
   ]
  },
  {
   "cell_type": "code",
   "execution_count": 47,
   "id": "8420ef5a",
   "metadata": {},
   "outputs": [
    {
     "data": {
      "image/png": "[encoded data removed]",
      "text/plain": [
       "<Figure size 648x432 with 1 Axes>"
      ]
     },
     "metadata": {
      "needs_background": "light"
     },
     "output_type": "display_data"
    }
   ],
   "source": [
    "import matplotlib.pyplot as plt\n",
    "def plot_log_loss(knn_list_scores):\n",
    "    knn_list_scores = abs(knn_list_scores)\n",
    "    pd.DataFrame({\"K\":[i for i in neighbors], \"log loss\":knn_list_scores}).set_index(\"K\").plot.bar()\n",
    "    plt.show()\n",
    "    \n",
    "plot_accuracy(cv_scores)"
   ]
  },
  {
   "cell_type": "code",
   "execution_count": 15,
   "id": "8c25f5df",
   "metadata": {},
   "outputs": [],
   "source": [
    "pred = knn.predict_proba(X_test)"
   ]
  },
  {
   "cell_type": "code",
   "execution_count": 17,
   "id": "6f58721c",
   "metadata": {},
   "outputs": [
    {
     "data": {
      "text/plain": [
       "18.536621253269875"
      ]
     },
     "execution_count": 17,
     "metadata": {},
     "output_type": "execute_result"
    }
   ],
   "source": [
    "from sklearn.metrics import log_loss\n",
    "log_loss(y_test, pred)"
   ]
  }
 ],
 "metadata": {
  "kernelspec": {
   "display_name": "Python 3",
   "language": "python",
   "name": "python3"
  },
  "language_info": {
   "codemirror_mode": {
    "name": "ipython",
    "version": 3
   },
   "file_extension": ".py",
   "mimetype": "text/x-python",
   "name": "python",
   "nbconvert_exporter": "python",
   "pygments_lexer": "ipython3",
   "version": "3.9.4"
  }
 },
 "nbformat": 4,
 "nbformat_minor": 5
}
