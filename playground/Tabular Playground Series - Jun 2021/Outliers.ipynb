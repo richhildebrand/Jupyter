{
 "cells": [
  {
   "cell_type": "code",
   "execution_count": 1,
   "id": "e26a425a",
   "metadata": {},
   "outputs": [
    {
     "name": "stdout",
     "output_type": "stream",
     "text": [
      "Requirement already satisfied: optgbm in /opt/conda/lib/python3.9/site-packages (0.10.0)\n",
      "Requirement already satisfied: numpy in /opt/conda/lib/python3.9/site-packages (from optgbm) (1.19.5)\n",
      "Requirement already satisfied: optuna>=0.17 in /opt/conda/lib/python3.9/site-packages (from optgbm) (2.8.0)\n",
      "Requirement already satisfied: scikit-learn>=0.19.0 in /opt/conda/lib/python3.9/site-packages (from optgbm) (0.24.2)\n",
      "Requirement already satisfied: lightgbm>=2.2.2 in /opt/conda/lib/python3.9/site-packages (from optgbm) (3.2.1)\n",
      "Requirement already satisfied: pandas in /opt/conda/lib/python3.9/site-packages (from optgbm) (1.2.4)\n",
      "Requirement already satisfied: wheel in /opt/conda/lib/python3.9/site-packages (from lightgbm>=2.2.2->optgbm) (0.36.2)\n",
      "Requirement already satisfied: scipy in /opt/conda/lib/python3.9/site-packages (from lightgbm>=2.2.2->optgbm) (1.6.3)\n",
      "Requirement already satisfied: tqdm in /opt/conda/lib/python3.9/site-packages (from optuna>=0.17->optgbm) (4.61.1)\n",
      "Requirement already satisfied: sqlalchemy>=1.1.0 in /opt/conda/lib/python3.9/site-packages (from optuna>=0.17->optgbm) (1.4.18)\n",
      "Requirement already satisfied: cliff in /opt/conda/lib/python3.9/site-packages (from optuna>=0.17->optgbm) (3.8.0)\n",
      "Requirement already satisfied: alembic in /opt/conda/lib/python3.9/site-packages (from optuna>=0.17->optgbm) (1.6.5)\n",
      "Requirement already satisfied: packaging>=20.0 in /opt/conda/lib/python3.9/site-packages (from optuna>=0.17->optgbm) (20.9)\n",
      "Requirement already satisfied: cmaes>=0.8.2 in /opt/conda/lib/python3.9/site-packages (from optuna>=0.17->optgbm) (0.8.2)\n",
      "Requirement already satisfied: colorlog in /opt/conda/lib/python3.9/site-packages (from optuna>=0.17->optgbm) (5.0.1)\n",
      "Requirement already satisfied: pyparsing>=2.0.2 in /opt/conda/lib/python3.9/site-packages (from packaging>=20.0->optuna>=0.17->optgbm) (2.4.7)\n",
      "Requirement already satisfied: joblib>=0.11 in /opt/conda/lib/python3.9/site-packages (from scikit-learn>=0.19.0->optgbm) (1.0.1)\n",
      "Requirement already satisfied: threadpoolctl>=2.0.0 in /opt/conda/lib/python3.9/site-packages (from scikit-learn>=0.19.0->optgbm) (2.1.0)\n",
      "Requirement already satisfied: greenlet!=0.4.17 in /opt/conda/lib/python3.9/site-packages (from sqlalchemy>=1.1.0->optuna>=0.17->optgbm) (1.1.0)\n",
      "Requirement already satisfied: python-editor>=0.3 in /opt/conda/lib/python3.9/site-packages (from alembic->optuna>=0.17->optgbm) (1.0.4)\n",
      "Requirement already satisfied: Mako in /opt/conda/lib/python3.9/site-packages (from alembic->optuna>=0.17->optgbm) (1.1.4)\n",
      "Requirement already satisfied: python-dateutil in /opt/conda/lib/python3.9/site-packages (from alembic->optuna>=0.17->optgbm) (2.8.1)\n",
      "Requirement already satisfied: PyYAML>=3.12 in /opt/conda/lib/python3.9/site-packages (from cliff->optuna>=0.17->optgbm) (5.4.1)\n",
      "Requirement already satisfied: stevedore>=2.0.1 in /opt/conda/lib/python3.9/site-packages (from cliff->optuna>=0.17->optgbm) (3.3.0)\n",
      "Requirement already satisfied: PrettyTable>=0.7.2 in /opt/conda/lib/python3.9/site-packages (from cliff->optuna>=0.17->optgbm) (2.1.0)\n",
      "Requirement already satisfied: cmd2>=1.0.0 in /opt/conda/lib/python3.9/site-packages (from cliff->optuna>=0.17->optgbm) (2.1.1)\n",
      "Requirement already satisfied: pbr!=2.1.0,>=2.0.0 in /opt/conda/lib/python3.9/site-packages (from cliff->optuna>=0.17->optgbm) (5.6.0)\n",
      "Requirement already satisfied: wcwidth>=0.1.7 in /opt/conda/lib/python3.9/site-packages (from cmd2>=1.0.0->cliff->optuna>=0.17->optgbm) (0.2.5)\n",
      "Requirement already satisfied: attrs>=16.3.0 in /opt/conda/lib/python3.9/site-packages (from cmd2>=1.0.0->cliff->optuna>=0.17->optgbm) (21.2.0)\n",
      "Requirement already satisfied: colorama>=0.3.7 in /opt/conda/lib/python3.9/site-packages (from cmd2>=1.0.0->cliff->optuna>=0.17->optgbm) (0.4.4)\n",
      "Requirement already satisfied: pyperclip>=1.6 in /opt/conda/lib/python3.9/site-packages (from cmd2>=1.0.0->cliff->optuna>=0.17->optgbm) (1.8.2)\n",
      "Requirement already satisfied: MarkupSafe>=0.9.2 in /opt/conda/lib/python3.9/site-packages (from Mako->alembic->optuna>=0.17->optgbm) (2.0.1)\n",
      "Requirement already satisfied: pytz>=2017.3 in /opt/conda/lib/python3.9/site-packages (from pandas->optgbm) (2021.1)\n",
      "Requirement already satisfied: six>=1.5 in /opt/conda/lib/python3.9/site-packages (from python-dateutil->alembic->optuna>=0.17->optgbm) (1.15.0)\n"
     ]
    }
   ],
   "source": [
    "!pip install optgbm"
   ]
  },
  {
   "cell_type": "code",
   "execution_count": 2,
   "id": "8a711117",
   "metadata": {},
   "outputs": [],
   "source": [
    "import time\n",
    "import datetime\n",
    "\n",
    "import numpy as np\n",
    "import pandas as pd\n",
    "import optgbm as lgb"
   ]
  },
  {
   "cell_type": "code",
   "execution_count": 3,
   "id": "795fef01",
   "metadata": {},
   "outputs": [],
   "source": [
    "train_df = pd.read_csv('train.csv')\n",
    "test_df = pd.read_csv('test.csv')"
   ]
  },
  {
   "cell_type": "code",
   "execution_count": 4,
   "id": "a1816f59",
   "metadata": {},
   "outputs": [
    {
     "name": "stdout",
     "output_type": "stream",
     "text": [
      "0    5\n",
      "1    5\n",
      "2    1\n",
      "3    7\n",
      "4    1\n",
      "Name: target, dtype: int64\n"
     ]
    }
   ],
   "source": [
    "from sklearn.preprocessing import LabelEncoder\n",
    "features_target = ['target'] \n",
    "\n",
    "for feature in features_target:\n",
    "    le = LabelEncoder()\n",
    "    le.fit(train_df[feature])\n",
    "    train_df[feature] = le.transform(train_df[feature])\n",
    "    \n",
    "print(train_df['target'].head())"
   ]
  },
  {
   "cell_type": "code",
   "execution_count": 5,
   "id": "646acd63",
   "metadata": {},
   "outputs": [
    {
     "name": "stdout",
     "output_type": "stream",
     "text": [
      "train count:  100000\n",
      "test count:  100000\n"
     ]
    }
   ],
   "source": [
    "from sklearn.model_selection import train_test_split\n",
    "train_no_predict = train_df.drop(['id', 'target'], 1)\n",
    "train_predict = train_df['target']\n",
    "\n",
    "train_percent = 0.50\n",
    "\n",
    "X_train, X_test, y_train, y_test = train_test_split(train_no_predict, train_predict, stratify=train_predict, train_size=train_percent)\n",
    "print('train count: ', len(y_train))\n",
    "print('test count: ', len(y_test))"
   ]
  },
  {
   "cell_type": "code",
   "execution_count": 6,
   "id": "5a0f2c32",
   "metadata": {},
   "outputs": [
    {
     "name": "stdout",
     "output_type": "stream",
     "text": [
      "2021-06-28 18:35:15.487523\n",
      "3.55\n",
      "2021-06-28 18:38:48.263041\n"
     ]
    }
   ],
   "source": [
    "from sklearn.neighbors import LocalOutlierFactor\n",
    "print(datetime.datetime.now())\n",
    "start = time.time()\n",
    "\n",
    "column_count = len(X_train.columns)\n",
    "lof = LocalOutlierFactor(n_neighbors=column_count)\n",
    "yhat = lof.fit_predict(X_train)\n",
    "\n",
    "minutes = (time.time() - start) / 60\n",
    "print(round(minutes, 2))\n",
    "print(datetime.datetime.now())"
   ]
  },
  {
   "cell_type": "code",
   "execution_count": 7,
   "id": "2287b21e",
   "metadata": {},
   "outputs": [
    {
     "data": {
      "text/plain": [
       "100000"
      ]
     },
     "execution_count": 7,
     "metadata": {},
     "output_type": "execute_result"
    }
   ],
   "source": [
    "len(y_train)"
   ]
  },
  {
   "cell_type": "code",
   "execution_count": 8,
   "id": "2334a891",
   "metadata": {},
   "outputs": [
    {
     "name": "stdout",
     "output_type": "stream",
     "text": [
      "without outliers 52619\n",
      "with outliers 100000\n"
     ]
    }
   ],
   "source": [
    "mask = yhat != -1\n",
    "X_train_non_outliers, y_train_non_outliers = X_train.iloc[mask, :], y_train.iloc[mask]\n",
    "\n",
    "print('without outliers', len(X_train_non_outliers))\n",
    "print('with outliers', len(X_train))"
   ]
  },
  {
   "cell_type": "markdown",
   "id": "78216d67",
   "metadata": {},
   "source": [
    "## With outliers"
   ]
  },
  {
   "cell_type": "code",
   "execution_count": 9,
   "id": "b969afb1",
   "metadata": {},
   "outputs": [
    {
     "name": "stderr",
     "output_type": "stream",
     "text": [
      "/opt/conda/lib/python3.9/site-packages/sklearn/utils/validation.py:70: FutureWarning: Pass classifier=True as keyword args. From version 1.0 (renaming of 0.25) passing these as positional arguments will result in an error\n",
      "  warnings.warn(f\"Pass {args_msg} as keyword args. From version \"\n",
      "\u001b[32m[I 2021-06-28 18:38:48,340]\u001b[0m A new study created in memory with name: no-name-a48ceedd-b65f-4a68-a8d3-3162af66dcd1\u001b[0m\n",
      "Searching the best hyperparameters...\n"
     ]
    },
    {
     "name": "stdout",
     "output_type": "stream",
     "text": [
      "2021-06-28 18:38:48.320249\n"
     ]
    },
    {
     "name": "stderr",
     "output_type": "stream",
     "text": [
      "\u001b[32m[I 2021-06-28 18:39:06,339]\u001b[0m Trial 0 finished with value: 1.7646115119783663 and parameters: {'feature_fraction': 1.0, 'max_depth': 1, 'num_leaves': 2, 'min_data_in_leaf': 11919, 'lambda_l1': 9.473638581982025e-07, 'lambda_l2': 4.631716901174686e-09, 'bagging_fraction': 0.75, 'bagging_freq': 4}. Best is trial 0 with value: 1.7646115119783663.\u001b[0m\n",
      "\u001b[32m[I 2021-06-28 18:40:04,975]\u001b[0m Trial 1 finished with value: 1.7645922447026492 and parameters: {'feature_fraction': 0.4, 'max_depth': 1, 'num_leaves': 2, 'min_data_in_leaf': 5104, 'lambda_l1': 2.1046335185526698e-05, 'lambda_l2': 7.9188082368761e-06, 'bagging_fraction': 0.95, 'bagging_freq': 9}. Best is trial 1 with value: 1.7645922447026492.\u001b[0m\n",
      "\u001b[32m[I 2021-06-28 18:40:42,975]\u001b[0m Trial 2 finished with value: 1.7574055752142137 and parameters: {'feature_fraction': 0.9, 'max_depth': 2, 'num_leaves': 3, 'min_data_in_leaf': 13514, 'lambda_l1': 1.9643362448879027e-05, 'lambda_l2': 1.1008746733379623e-08, 'bagging_fraction': 0.8, 'bagging_freq': 3}. Best is trial 2 with value: 1.7574055752142137.\u001b[0m\n",
      "\u001b[32m[I 2021-06-28 18:41:24,082]\u001b[0m Trial 3 finished with value: 1.7669170483822174 and parameters: {'feature_fraction': 0.55, 'max_depth': 3, 'num_leaves': 6, 'min_data_in_leaf': 13667, 'lambda_l1': 0.0013023295140873498, 'lambda_l2': 0.0001263396246942969, 'bagging_fraction': 0.55, 'bagging_freq': 7}. Best is trial 2 with value: 1.7574055752142137.\u001b[0m\n",
      "\u001b[32m[I 2021-06-28 18:42:10,607]\u001b[0m Trial 4 finished with value: 1.7636574281632913 and parameters: {'feature_fraction': 0.45000000000000007, 'max_depth': 1, 'num_leaves': 2, 'min_data_in_leaf': 7483, 'lambda_l1': 2.825117410647036e-07, 'lambda_l2': 0.0044710078693726745, 'bagging_fraction': 0.55, 'bagging_freq': 1}. Best is trial 2 with value: 1.7574055752142137.\u001b[0m\n",
      "\u001b[32m[I 2021-06-28 18:43:02,956]\u001b[0m Trial 5 finished with value: 1.7524442368697564 and parameters: {'feature_fraction': 0.55, 'max_depth': 5, 'num_leaves': 9, 'min_data_in_leaf': 4929, 'lambda_l1': 7.2943194734376026e-09, 'lambda_l2': 6.215595438193914e-07, 'bagging_fraction': 0.6, 'bagging_freq': 4}. Best is trial 5 with value: 1.7524442368697564.\u001b[0m\n",
      "\u001b[32m[I 2021-06-28 18:43:52,539]\u001b[0m Trial 6 finished with value: 1.7510948910723243 and parameters: {'feature_fraction': 0.25, 'max_depth': 6, 'num_leaves': 52, 'min_data_in_leaf': 1214, 'lambda_l1': 1.6340933198888772e-06, 'lambda_l2': 8.540654641363173e-06, 'bagging_fraction': 0.8500000000000001, 'bagging_freq': 6}. Best is trial 6 with value: 1.7510948910723243.\u001b[0m\n",
      "\u001b[32m[I 2021-06-28 18:44:16,659]\u001b[0m Trial 7 finished with value: 1.7556047011937508 and parameters: {'feature_fraction': 0.8, 'max_depth': 6, 'num_leaves': 59, 'min_data_in_leaf': 523, 'lambda_l1': 0.033867328959623515, 'lambda_l2': 4.5967929769904936e-05, 'bagging_fraction': 0.6, 'bagging_freq': 2}. Best is trial 6 with value: 1.7510948910723243.\u001b[0m\n",
      "\u001b[32m[I 2021-06-28 18:45:06,507]\u001b[0m Trial 8 finished with value: 1.7534530020831411 and parameters: {'feature_fraction': 0.45000000000000007, 'max_depth': 4, 'num_leaves': 4, 'min_data_in_leaf': 6310, 'lambda_l1': 0.021803347258649585, 'lambda_l2': 1.379778226528579, 'bagging_fraction': 0.8500000000000001, 'bagging_freq': 3}. Best is trial 6 with value: 1.7510948910723243.\u001b[0m\n",
      "\u001b[32m[I 2021-06-28 18:45:25,146]\u001b[0m Trial 9 finished with value: 1.75375130176816 and parameters: {'feature_fraction': 0.7000000000000001, 'max_depth': 3, 'num_leaves': 5, 'min_data_in_leaf': 8244, 'lambda_l1': 0.0017685755755368034, 'lambda_l2': 1.841933575546979e-07, 'bagging_fraction': 0.7, 'bagging_freq': 3}. Best is trial 6 with value: 1.7510948910723243.\u001b[0m\n",
      "\u001b[32m[I 2021-06-28 18:46:07,515]\u001b[0m Trial 10 finished with value: 1.7516310732238136 and parameters: {'feature_fraction': 0.1, 'max_depth': 7, 'num_leaves': 78, 'min_data_in_leaf': 1214, 'lambda_l1': 9.79820610813831, 'lambda_l2': 0.020451877512029912, 'bagging_fraction': 0.95, 'bagging_freq': 7}. Best is trial 6 with value: 1.7510948910723243.\u001b[0m\n",
      "\u001b[32m[I 2021-06-28 18:46:50,653]\u001b[0m Trial 11 finished with value: 1.753180454878797 and parameters: {'feature_fraction': 0.1, 'max_depth': 7, 'num_leaves': 79, 'min_data_in_leaf': 1244, 'lambda_l1': 1.84457583332803e-08, 'lambda_l2': 0.06999731688602105, 'bagging_fraction': 0.95, 'bagging_freq': 7}. Best is trial 6 with value: 1.7510948910723243.\u001b[0m\n",
      "\u001b[32m[I 2021-06-28 18:47:31,159]\u001b[0m Trial 12 finished with value: 1.752699754454041 and parameters: {'feature_fraction': 0.1, 'max_depth': 7, 'num_leaves': 116, 'min_data_in_leaf': 835, 'lambda_l1': 3.712547046418136, 'lambda_l2': 0.002882345045821921, 'bagging_fraction': 0.9, 'bagging_freq': 7}. Best is trial 6 with value: 1.7510948910723243.\u001b[0m\n",
      "\u001b[32m[I 2021-06-28 18:48:06,813]\u001b[0m Trial 13 finished with value: 1.7506041120889555 and parameters: {'feature_fraction': 0.25, 'max_depth': 6, 'num_leaves': 62, 'min_data_in_leaf': 1459, 'lambda_l1': 0.9853466849619634, 'lambda_l2': 4.831544949421607, 'bagging_fraction': 0.8500000000000001, 'bagging_freq': 10}. Best is trial 13 with value: 1.7506041120889555.\u001b[0m\n",
      "\u001b[32m[I 2021-06-28 18:48:45,734]\u001b[0m Trial 14 finished with value: 1.7507267783456917 and parameters: {'feature_fraction': 0.25, 'max_depth': 5, 'num_leaves': 32, 'min_data_in_leaf': 2093, 'lambda_l1': 7.452230544639829e-07, 'lambda_l2': 7.867591679054002, 'bagging_fraction': 0.8500000000000001, 'bagging_freq': 10}. Best is trial 13 with value: 1.7506041120889555.\u001b[0m\n",
      "\u001b[32m[I 2021-06-28 18:49:23,645]\u001b[0m Trial 15 finished with value: 1.7509121445940443 and parameters: {'feature_fraction': 0.30000000000000004, 'max_depth': 5, 'num_leaves': 30, 'min_data_in_leaf': 2413, 'lambda_l1': 0.4046152358732281, 'lambda_l2': 9.174393284407866, 'bagging_fraction': 0.7, 'bagging_freq': 10}. Best is trial 13 with value: 1.7506041120889555.\u001b[0m\n",
      "\u001b[32m[I 2021-06-28 18:50:03,443]\u001b[0m Trial 16 finished with value: 1.750735720803784 and parameters: {'feature_fraction': 0.25, 'max_depth': 5, 'num_leaves': 27, 'min_data_in_leaf': 2425, 'lambda_l1': 5.4297913632878503e-08, 'lambda_l2': 8.16855061885227, 'bagging_fraction': 0.8, 'bagging_freq': 10}. Best is trial 13 with value: 1.7506041120889555.\u001b[0m\n",
      "\u001b[32m[I 2021-06-28 18:50:41,476]\u001b[0m Trial 17 finished with value: 1.7505787561170219 and parameters: {'feature_fraction': 0.2, 'max_depth': 6, 'num_leaves': 41, 'min_data_in_leaf': 2073, 'lambda_l1': 1.2399494971758628e-09, 'lambda_l2': 0.4942085202507053, 'bagging_fraction': 0.8500000000000001, 'bagging_freq': 9}. Best is trial 17 with value: 1.7505787561170219.\u001b[0m\n",
      "\u001b[32m[I 2021-06-28 18:51:15,553]\u001b[0m Trial 18 finished with value: 1.7504648250559676 and parameters: {'feature_fraction': 0.15000000000000002, 'max_depth': 6, 'num_leaves': 47, 'min_data_in_leaf': 1655, 'lambda_l1': 1.8221228992229e-09, 'lambda_l2': 0.44060597483005187, 'bagging_fraction': 0.75, 'bagging_freq': 9}. Best is trial 18 with value: 1.7504648250559676.\u001b[0m\n",
      "\u001b[32m[I 2021-06-28 18:51:48,143]\u001b[0m Trial 19 finished with value: 1.7505354697521203 and parameters: {'feature_fraction': 0.15000000000000002, 'max_depth': 6, 'num_leaves': 43, 'min_data_in_leaf': 1745, 'lambda_l1': 2.5885856650141746e-09, 'lambda_l2': 0.31191566428511625, 'bagging_fraction': 0.75, 'bagging_freq': 8}. Best is trial 18 with value: 1.7504648250559676.\u001b[0m\n",
      "\u001b[32m[I 2021-06-28 18:52:26,735]\u001b[0m Trial 20 finished with value: 1.7514600376654161 and parameters: {'feature_fraction': 0.35, 'max_depth': 4, 'num_leaves': 15, 'min_data_in_leaf': 3275, 'lambda_l1': 1.6427377841969985e-09, 'lambda_l2': 0.1171772673497063, 'bagging_fraction': 0.75, 'bagging_freq': 8}. Best is trial 18 with value: 1.7504648250559676.\u001b[0m\n",
      "\u001b[32m[I 2021-06-28 18:52:59,969]\u001b[0m Trial 21 finished with value: 1.7507508359600483 and parameters: {'feature_fraction': 0.15000000000000002, 'max_depth': 6, 'num_leaves': 42, 'min_data_in_leaf': 1914, 'lambda_l1': 1.2480021132097825e-09, 'lambda_l2': 0.43233716174031295, 'bagging_fraction': 0.7, 'bagging_freq': 9}. Best is trial 18 with value: 1.7504648250559676.\u001b[0m\n",
      "\u001b[32m[I 2021-06-28 18:53:31,901]\u001b[0m Trial 22 finished with value: 1.7508391426371646 and parameters: {'feature_fraction': 0.15000000000000002, 'max_depth': 7, 'num_leaves': 44, 'min_data_in_leaf': 1689, 'lambda_l1': 1.5005022067577035e-09, 'lambda_l2': 0.0011704151119186637, 'bagging_fraction': 0.65, 'bagging_freq': 9}. Best is trial 18 with value: 1.7504648250559676.\u001b[0m\n"
     ]
    },
    {
     "name": "stderr",
     "output_type": "stream",
     "text": [
      "\u001b[32m[I 2021-06-28 18:54:07,670]\u001b[0m Trial 23 finished with value: 1.7503618195919866 and parameters: {'feature_fraction': 0.2, 'max_depth': 6, 'num_leaves': 40, 'min_data_in_leaf': 2211, 'lambda_l1': 5.998106814820692e-08, 'lambda_l2': 0.5701570342716147, 'bagging_fraction': 0.8, 'bagging_freq': 8}. Best is trial 23 with value: 1.7503618195919866.\u001b[0m\n",
      "\u001b[32m[I 2021-06-28 18:54:37,706]\u001b[0m Trial 24 finished with value: 1.7523784810560794 and parameters: {'feature_fraction': 0.1, 'max_depth': 5, 'num_leaves': 24, 'min_data_in_leaf': 2980, 'lambda_l1': 7.930687667895634e-08, 'lambda_l2': 0.042264830985325436, 'bagging_fraction': 0.8, 'bagging_freq': 8}. Best is trial 23 with value: 1.7503618195919866.\u001b[0m\n",
      "\u001b[32m[I 2021-06-28 18:55:13,924]\u001b[0m Trial 25 finished with value: 1.7517346206667148 and parameters: {'feature_fraction': 0.35, 'max_depth': 6, 'num_leaves': 48, 'min_data_in_leaf': 1689, 'lambda_l1': 1.1200954451895484e-08, 'lambda_l2': 1.019286204365929, 'bagging_fraction': 0.75, 'bagging_freq': 8}. Best is trial 23 with value: 1.7503618195919866.\u001b[0m\n",
      "\u001b[32m[I 2021-06-28 18:55:42,424]\u001b[0m Trial 26 finished with value: 1.7614026718875326 and parameters: {'feature_fraction': 0.2, 'max_depth': 7, 'num_leaves': 78, 'min_data_in_leaf': 10, 'lambda_l1': 7.907968859283937e-09, 'lambda_l2': 0.015715813876615567, 'bagging_fraction': 0.8, 'bagging_freq': 6}. Best is trial 23 with value: 1.7503618195919866.\u001b[0m\n",
      "\u001b[32m[I 2021-06-28 18:56:09,193]\u001b[0m Trial 27 finished with value: 1.7512683313901332 and parameters: {'feature_fraction': 0.15000000000000002, 'max_depth': 4, 'num_leaves': 16, 'min_data_in_leaf': 3107, 'lambda_l1': 5.198463380162229e-06, 'lambda_l2': 0.0005696821727472349, 'bagging_fraction': 0.65, 'bagging_freq': 8}. Best is trial 23 with value: 1.7503618195919866.\u001b[0m\n",
      "\u001b[32m[I 2021-06-28 18:56:49,578]\u001b[0m Trial 28 finished with value: 1.7513237806682895 and parameters: {'feature_fraction': 0.35, 'max_depth': 6, 'num_leaves': 36, 'min_data_in_leaf': 2397, 'lambda_l1': 1.043021095392815e-07, 'lambda_l2': 0.11528255183411343, 'bagging_fraction': 0.75, 'bagging_freq': 5}. Best is trial 23 with value: 1.7503618195919866.\u001b[0m\n",
      "\u001b[32m[I 2021-06-28 18:57:07,505]\u001b[0m Trial 29 finished with value: 1.7536458302723184 and parameters: {'feature_fraction': 0.65, 'max_depth': 5, 'num_leaves': 21, 'min_data_in_leaf': 642, 'lambda_l1': 4.019701157645728e-09, 'lambda_l2': 2.80856272772073, 'bagging_fraction': 0.65, 'bagging_freq': 5}. Best is trial 23 with value: 1.7503618195919866.\u001b[0m\n",
      "\u001b[32m[I 2021-06-28 18:57:48,242]\u001b[0m Trial 30 finished with value: 1.7527261026434853 and parameters: {'feature_fraction': 0.45000000000000007, 'max_depth': 7, 'num_leaves': 71, 'min_data_in_leaf': 1377, 'lambda_l1': 3.097546227851951e-08, 'lambda_l2': 0.3259905985875864, 'bagging_fraction': 0.9, 'bagging_freq': 9}. Best is trial 23 with value: 1.7503618195919866.\u001b[0m\n",
      "\u001b[32m[I 2021-06-28 18:58:22,542]\u001b[0m Trial 31 finished with value: 1.7504103159634767 and parameters: {'feature_fraction': 0.2, 'max_depth': 6, 'num_leaves': 37, 'min_data_in_leaf': 2162, 'lambda_l1': 1.306275086722493e-09, 'lambda_l2': 0.5810347627684005, 'bagging_fraction': 0.75, 'bagging_freq': 9}. Best is trial 23 with value: 1.7503618195919866.\u001b[0m\n",
      "\u001b[32m[I 2021-06-28 18:58:58,719]\u001b[0m Trial 32 finished with value: 1.7503319720022414 and parameters: {'feature_fraction': 0.2, 'max_depth': 6, 'num_leaves': 37, 'min_data_in_leaf': 2642, 'lambda_l1': 1.1599938007280325e-09, 'lambda_l2': 0.009236708679483114, 'bagging_fraction': 0.75, 'bagging_freq': 8}. Best is trial 32 with value: 1.7503319720022414.\u001b[0m\n",
      "\u001b[32m[I 2021-06-28 18:59:22,267]\u001b[0m Trial 33 finished with value: 1.7524780137204103 and parameters: {'feature_fraction': 1.0, 'max_depth': 6, 'num_leaves': 35, 'min_data_in_leaf': 2654, 'lambda_l1': 2.606670226673189e-07, 'lambda_l2': 0.009260724195828712, 'bagging_fraction': 0.8, 'bagging_freq': 9}. Best is trial 32 with value: 1.7503319720022414.\u001b[0m\n",
      "\u001b[32m[I 2021-06-28 18:59:55,350]\u001b[0m Trial 34 finished with value: 1.7506759935444858 and parameters: {'feature_fraction': 0.2, 'max_depth': 5, 'num_leaves': 32, 'min_data_in_leaf': 2721, 'lambda_l1': 0.00016111945120521416, 'lambda_l2': 1.4698424307408082, 'bagging_fraction': 0.7, 'bagging_freq': 9}. Best is trial 32 with value: 1.7503319720022414.\u001b[0m\n",
      "\u001b[32m[I 2021-06-28 19:00:29,588]\u001b[0m Trial 35 finished with value: 1.7511966248671342 and parameters: {'feature_fraction': 0.30000000000000004, 'max_depth': 7, 'num_leaves': 54, 'min_data_in_leaf': 1839, 'lambda_l1': 1.5118111577916527e-08, 'lambda_l2': 0.000342479539059657, 'bagging_fraction': 0.75, 'bagging_freq': 7}. Best is trial 32 with value: 1.7503319720022414.\u001b[0m\n",
      "\u001b[32m[I 2021-06-28 19:01:09,816]\u001b[0m Trial 36 finished with value: 1.7516725800867328 and parameters: {'feature_fraction': 0.4, 'max_depth': 6, 'num_leaves': 47, 'min_data_in_leaf': 2105, 'lambda_l1': 1.196863463466619e-09, 'lambda_l2': 0.0032970228488590787, 'bagging_fraction': 0.8, 'bagging_freq': 8}. Best is trial 32 with value: 1.7503319720022414.\u001b[0m\n",
      "\u001b[32m[I 2021-06-28 19:01:43,979]\u001b[0m Trial 37 finished with value: 1.7522018204397551 and parameters: {'feature_fraction': 0.30000000000000004, 'max_depth': 3, 'num_leaves': 8, 'min_data_in_leaf': 4045, 'lambda_l1': 6.411086855714817e-06, 'lambda_l2': 0.034144603226440716, 'bagging_fraction': 0.75, 'bagging_freq': 6}. Best is trial 32 with value: 1.7503319720022414.\u001b[0m\n",
      "\u001b[32m[I 2021-06-28 19:02:17,068]\u001b[0m Trial 38 finished with value: 1.7506237153776314 and parameters: {'feature_fraction': 0.2, 'max_depth': 5, 'num_leaves': 32, 'min_data_in_leaf': 2613, 'lambda_l1': 2.446028792439406e-07, 'lambda_l2': 0.10184121678774452, 'bagging_fraction': 0.7, 'bagging_freq': 10}. Best is trial 32 with value: 1.7503319720022414.\u001b[0m\n",
      "\u001b[32m[I 2021-06-28 19:03:00,226]\u001b[0m Trial 39 finished with value: 1.7516927110787393 and parameters: {'feature_fraction': 0.5, 'max_depth': 6, 'num_leaves': 38, 'min_data_in_leaf': 2232, 'lambda_l1': 5.817659601699305e-09, 'lambda_l2': 1.0654090376601646e-09, 'bagging_fraction': 0.9, 'bagging_freq': 9}. Best is trial 32 with value: 1.7503319720022414.\u001b[0m\n",
      "Finished hyperparemeter search! (elapsed time: 1451.864 sec.) The best_iteration is 90.\n",
      "Making booster(s)...\n",
      "Finished making booster(s)! (elapsed time: 8.265 sec.)\n"
     ]
    },
    {
     "name": "stdout",
     "output_type": "stream",
     "text": [
      "24.34\n",
      "2021-06-28 19:03:08.498420\n"
     ]
    }
   ],
   "source": [
    "print(datetime.datetime.now())\n",
    "start = time.time()\n",
    "\n",
    "lgbm = lgb.LGBMClassifier()\n",
    "lgbm.fit(X_train, y_train)\n",
    "\n",
    "minutes = (time.time() - start) / 60\n",
    "print(round(minutes, 2))\n",
    "print(datetime.datetime.now())"
   ]
  },
  {
   "cell_type": "code",
   "execution_count": 10,
   "id": "654d6064",
   "metadata": {},
   "outputs": [
    {
     "name": "stdout",
     "output_type": "stream",
     "text": [
      "1.748085512373771\n"
     ]
    }
   ],
   "source": [
    "from sklearn.metrics import log_loss\n",
    "test_preds = lgbm.predict_proba(X_test)\n",
    "print(abs(log_loss(y_test, test_preds)))"
   ]
  },
  {
   "cell_type": "markdown",
   "id": "9edd84a4",
   "metadata": {},
   "source": [
    "## Without outliers"
   ]
  },
  {
   "cell_type": "code",
   "execution_count": 11,
   "id": "467d8f13",
   "metadata": {},
   "outputs": [
    {
     "name": "stderr",
     "output_type": "stream",
     "text": [
      "/opt/conda/lib/python3.9/site-packages/sklearn/utils/validation.py:70: FutureWarning: Pass classifier=True as keyword args. From version 1.0 (renaming of 0.25) passing these as positional arguments will result in an error\n",
      "  warnings.warn(f\"Pass {args_msg} as keyword args. From version \"\n",
      "\u001b[32m[I 2021-06-28 19:03:10,211]\u001b[0m A new study created in memory with name: no-name-bcfefda0-7d40-46fa-b594-5dae9bb5bd6b\u001b[0m\n",
      "Searching the best hyperparameters...\n"
     ]
    },
    {
     "name": "stdout",
     "output_type": "stream",
     "text": [
      "2021-06-28 19:03:10.200997\n"
     ]
    },
    {
     "name": "stderr",
     "output_type": "stream",
     "text": [
      "\u001b[32m[I 2021-06-28 19:03:15,928]\u001b[0m Trial 0 finished with value: 1.7191255592617989 and parameters: {'feature_fraction': 0.9500000000000001, 'max_depth': 1, 'num_leaves': 2, 'min_data_in_leaf': 2948, 'lambda_l1': 0.6992236582314836, 'lambda_l2': 2.0628076982625547, 'bagging_fraction': 0.65, 'bagging_freq': 9}. Best is trial 0 with value: 1.7191255592617989.\u001b[0m\n",
      "\u001b[32m[I 2021-06-28 19:03:33,387]\u001b[0m Trial 1 finished with value: 1.710119295918601 and parameters: {'feature_fraction': 0.35, 'max_depth': 3, 'num_leaves': 6, 'min_data_in_leaf': 4176, 'lambda_l1': 0.5199111594413819, 'lambda_l2': 0.0002183843234858541, 'bagging_fraction': 0.75, 'bagging_freq': 8}. Best is trial 1 with value: 1.710119295918601.\u001b[0m\n",
      "\u001b[32m[I 2021-06-28 19:03:49,788]\u001b[0m Trial 2 finished with value: 1.7127100065047092 and parameters: {'feature_fraction': 0.4, 'max_depth': 4, 'num_leaves': 13, 'min_data_in_leaf': 225, 'lambda_l1': 0.24503189493477853, 'lambda_l2': 4.115079970491543e-06, 'bagging_fraction': 0.8, 'bagging_freq': 4}. Best is trial 1 with value: 1.710119295918601.\u001b[0m\n",
      "\u001b[32m[I 2021-06-28 19:03:50,428]\u001b[0m Trial 3 finished with value: 2.066942188511488 and parameters: {'feature_fraction': 0.8, 'max_depth': 1, 'num_leaves': 2, 'min_data_in_leaf': 11393, 'lambda_l1': 0.09737766758272597, 'lambda_l2': 1.0300228213686675e-07, 'bagging_fraction': 0.5, 'bagging_freq': 3}. Best is trial 1 with value: 1.710119295918601.\u001b[0m\n",
      "\u001b[32m[I 2021-06-28 19:04:04,782]\u001b[0m Trial 4 finished with value: 1.711200404032627 and parameters: {'feature_fraction': 0.55, 'max_depth': 6, 'num_leaves': 39, 'min_data_in_leaf': 1174, 'lambda_l1': 1.2486319139829025e-05, 'lambda_l2': 3.594681959854734, 'bagging_fraction': 0.6, 'bagging_freq': 4}. Best is trial 1 with value: 1.710119295918601.\u001b[0m\n",
      "\u001b[32m[I 2021-06-28 19:04:23,938]\u001b[0m Trial 5 finished with value: 1.7118721272969455 and parameters: {'feature_fraction': 0.4, 'max_depth': 2, 'num_leaves': 3, 'min_data_in_leaf': 2765, 'lambda_l1': 0.17898125215161748, 'lambda_l2': 3.982742847849486e-08, 'bagging_fraction': 0.8500000000000001, 'bagging_freq': 10}. Best is trial 1 with value: 1.710119295918601.\u001b[0m\n",
      "\u001b[32m[I 2021-06-28 19:04:36,813]\u001b[0m Trial 6 finished with value: 1.7168545002107707 and parameters: {'feature_fraction': 0.1, 'max_depth': 6, 'num_leaves': 33, 'min_data_in_leaf': 97, 'lambda_l1': 2.6439499523072163e-05, 'lambda_l2': 8.657489874924224, 'bagging_fraction': 0.5, 'bagging_freq': 7}. Best is trial 1 with value: 1.710119295918601.\u001b[0m\n",
      "\u001b[32m[I 2021-06-28 19:04:54,526]\u001b[0m Trial 7 finished with value: 1.710162611655377 and parameters: {'feature_fraction': 0.45000000000000007, 'max_depth': 6, 'num_leaves': 23, 'min_data_in_leaf': 1117, 'lambda_l1': 1.2276642273271547e-06, 'lambda_l2': 0.006152339940358046, 'bagging_fraction': 0.8500000000000001, 'bagging_freq': 4}. Best is trial 1 with value: 1.710119295918601.\u001b[0m\n",
      "\u001b[32m[I 2021-06-28 19:05:06,074]\u001b[0m Trial 8 finished with value: 1.7155323100253146 and parameters: {'feature_fraction': 0.9, 'max_depth': 7, 'num_leaves': 100, 'min_data_in_leaf': 418, 'lambda_l1': 0.00014656793783074262, 'lambda_l2': 3.427705815919352e-08, 'bagging_fraction': 0.95, 'bagging_freq': 6}. Best is trial 1 with value: 1.710119295918601.\u001b[0m\n",
      "\u001b[32m[I 2021-06-28 19:05:15,970]\u001b[0m Trial 9 finished with value: 1.7106460730727915 and parameters: {'feature_fraction': 0.85, 'max_depth': 4, 'num_leaves': 14, 'min_data_in_leaf': 3300, 'lambda_l1': 0.2783672797378917, 'lambda_l2': 1.3087157463288167e-08, 'bagging_fraction': 0.65, 'bagging_freq': 8}. Best is trial 1 with value: 1.710119295918601.\u001b[0m\n",
      "\u001b[32m[I 2021-06-28 19:05:29,638]\u001b[0m Trial 10 finished with value: 1.7140990226405421 and parameters: {'feature_fraction': 0.15000000000000002, 'max_depth': 3, 'num_leaves': 7, 'min_data_in_leaf': 6371, 'lambda_l1': 2.6531120894256316e-09, 'lambda_l2': 0.002038771206953513, 'bagging_fraction': 0.75, 'bagging_freq': 1}. Best is trial 1 with value: 1.710119295918601.\u001b[0m\n",
      "\u001b[32m[I 2021-06-28 19:05:47,641]\u001b[0m Trial 11 finished with value: 1.7095627916405927 and parameters: {'feature_fraction': 0.35, 'max_depth': 5, 'num_leaves': 23, 'min_data_in_leaf': 1279, 'lambda_l1': 2.827504755010479e-07, 'lambda_l2': 0.003272964980944731, 'bagging_fraction': 0.9, 'bagging_freq': 1}. Best is trial 11 with value: 1.7095627916405927.\u001b[0m\n",
      "\u001b[32m[I 2021-06-28 19:06:05,210]\u001b[0m Trial 12 finished with value: 1.7086475138207557 and parameters: {'feature_fraction': 0.25, 'max_depth': 5, 'num_leaves': 25, 'min_data_in_leaf': 1875, 'lambda_l1': 2.8309310179880928e-08, 'lambda_l2': 0.00024044713225182673, 'bagging_fraction': 0.95, 'bagging_freq': 1}. Best is trial 12 with value: 1.7086475138207557.\u001b[0m\n",
      "\u001b[32m[I 2021-06-28 19:06:21,129]\u001b[0m Trial 13 finished with value: 1.7085784193267617 and parameters: {'feature_fraction': 0.25, 'max_depth': 5, 'num_leaves': 25, 'min_data_in_leaf': 1687, 'lambda_l1': 2.7341459495586384e-09, 'lambda_l2': 0.06152521390432919, 'bagging_fraction': 0.95, 'bagging_freq': 1}. Best is trial 13 with value: 1.7085784193267617.\u001b[0m\n",
      "\u001b[32m[I 2021-06-28 19:06:39,605]\u001b[0m Trial 14 finished with value: 1.7081817088883144 and parameters: {'feature_fraction': 0.2, 'max_depth': 5, 'num_leaves': 29, 'min_data_in_leaf': 1804, 'lambda_l1': 1.0169145170271073e-09, 'lambda_l2': 0.0705752198672, 'bagging_fraction': 0.95, 'bagging_freq': 2}. Best is trial 14 with value: 1.7081817088883144.\u001b[0m\n",
      "\u001b[32m[I 2021-06-28 19:06:57,752]\u001b[0m Trial 15 finished with value: 1.7084545272790153 and parameters: {'feature_fraction': 0.2, 'max_depth': 5, 'num_leaves': 32, 'min_data_in_leaf': 1599, 'lambda_l1': 1.981920051115371e-09, 'lambda_l2': 0.13179029921844748, 'bagging_fraction': 0.95, 'bagging_freq': 2}. Best is trial 14 with value: 1.7081817088883144.\u001b[0m\n",
      "\u001b[32m[I 2021-06-28 19:07:11,884]\u001b[0m Trial 16 finished with value: 1.7114218364410712 and parameters: {'feature_fraction': 0.65, 'max_depth': 7, 'num_leaves': 58, 'min_data_in_leaf': 851, 'lambda_l1': 1.0026986951035359e-09, 'lambda_l2': 0.22560523494038007, 'bagging_fraction': 0.9, 'bagging_freq': 3}. Best is trial 14 with value: 1.7081817088883144.\u001b[0m\n",
      "\u001b[32m[I 2021-06-28 19:07:28,011]\u001b[0m Trial 17 finished with value: 1.7090511387179448 and parameters: {'feature_fraction': 0.2, 'max_depth': 5, 'num_leaves': 32, 'min_data_in_leaf': 1563, 'lambda_l1': 5.6063972815066846e-08, 'lambda_l2': 0.133877497128036, 'bagging_fraction': 0.8500000000000001, 'bagging_freq': 2}. Best is trial 14 with value: 1.7081817088883144.\u001b[0m\n",
      "\u001b[32m[I 2021-06-28 19:07:41,903]\u001b[0m Trial 18 finished with value: 1.7132141290754692 and parameters: {'feature_fraction': 0.1, 'max_depth': 3, 'num_leaves': 8, 'min_data_in_leaf': 4795, 'lambda_l1': 0.0014819201608871292, 'lambda_l2': 2.974068425805729e-06, 'bagging_fraction': 0.9, 'bagging_freq': 5}. Best is trial 14 with value: 1.7081817088883144.\u001b[0m\n",
      "\u001b[32m[I 2021-06-28 19:08:03,992]\u001b[0m Trial 19 finished with value: 1.7100737950951548 and parameters: {'feature_fraction': 0.55, 'max_depth': 4, 'num_leaves': 16, 'min_data_in_leaf': 2112, 'lambda_l1': 8.254076097082456e-09, 'lambda_l2': 0.02564672349194354, 'bagging_fraction': 0.95, 'bagging_freq': 2}. Best is trial 14 with value: 1.7081817088883144.\u001b[0m\n",
      "\u001b[32m[I 2021-06-28 19:08:20,175]\u001b[0m Trial 20 finished with value: 1.709471205675292 and parameters: {'feature_fraction': 0.25, 'max_depth': 6, 'num_leaves': 49, 'min_data_in_leaf': 759, 'lambda_l1': 8.55105413501272e-07, 'lambda_l2': 0.31596077567065833, 'bagging_fraction': 0.8, 'bagging_freq': 2}. Best is trial 14 with value: 1.7081817088883144.\u001b[0m\n",
      "\u001b[32m[I 2021-06-28 19:08:38,470]\u001b[0m Trial 21 finished with value: 1.708967038828814 and parameters: {'feature_fraction': 0.30000000000000004, 'max_depth': 5, 'num_leaves': 29, 'min_data_in_leaf': 1813, 'lambda_l1': 2.1551975674083847e-09, 'lambda_l2': 0.04501826655304847, 'bagging_fraction': 0.95, 'bagging_freq': 1}. Best is trial 14 with value: 1.7081817088883144.\u001b[0m\n",
      "\u001b[32m[I 2021-06-28 19:08:55,391]\u001b[0m Trial 22 finished with value: 1.7110539053829972 and parameters: {'feature_fraction': 0.1, 'max_depth': 5, 'num_leaves': 28, 'min_data_in_leaf': 1604, 'lambda_l1': 1.2804242512410523e-09, 'lambda_l2': 0.9122577028462279, 'bagging_fraction': 0.9, 'bagging_freq': 3}. Best is trial 14 with value: 1.7081817088883144.\u001b[0m\n"
     ]
    },
    {
     "name": "stderr",
     "output_type": "stream",
     "text": [
      "\u001b[32m[I 2021-06-28 19:09:14,819]\u001b[0m Trial 23 finished with value: 1.7088802677478085 and parameters: {'feature_fraction': 0.2, 'max_depth': 4, 'num_leaves': 16, 'min_data_in_leaf': 2304, 'lambda_l1': 3.361527183551423e-08, 'lambda_l2': 0.029002761517840505, 'bagging_fraction': 0.95, 'bagging_freq': 2}. Best is trial 14 with value: 1.7081817088883144.\u001b[0m\n",
      "\u001b[32m[I 2021-06-28 19:09:30,454]\u001b[0m Trial 24 finished with value: 1.7088390860400398 and parameters: {'feature_fraction': 0.2, 'max_depth': 6, 'num_leaves': 39, 'min_data_in_leaf': 1349, 'lambda_l1': 7.722032537973647e-09, 'lambda_l2': 0.0009590887125615376, 'bagging_fraction': 0.9, 'bagging_freq': 3}. Best is trial 14 with value: 1.7081817088883144.\u001b[0m\n",
      "\u001b[32m[I 2021-06-28 19:09:48,456]\u001b[0m Trial 25 finished with value: 1.70999166894615 and parameters: {'feature_fraction': 0.45000000000000007, 'max_depth': 5, 'num_leaves': 32, 'min_data_in_leaf': 1625, 'lambda_l1': 8.801205929148821e-08, 'lambda_l2': 3.3801462901106745e-05, 'bagging_fraction': 0.8, 'bagging_freq': 1}. Best is trial 14 with value: 1.7081817088883144.\u001b[0m\n",
      "\u001b[32m[I 2021-06-28 19:10:08,618]\u001b[0m Trial 26 finished with value: 1.7082389213891556 and parameters: {'feature_fraction': 0.30000000000000004, 'max_depth': 7, 'num_leaves': 81, 'min_data_in_leaf': 524, 'lambda_l1': 7.694123516660927, 'lambda_l2': 0.008247157613024294, 'bagging_fraction': 0.8500000000000001, 'bagging_freq': 5}. Best is trial 14 with value: 1.7081817088883144.\u001b[0m\n",
      "\u001b[32m[I 2021-06-28 19:10:20,072]\u001b[0m Trial 27 finished with value: 1.7130102838698427 and parameters: {'feature_fraction': 0.7000000000000001, 'max_depth': 7, 'num_leaves': 88, 'min_data_in_leaf': 532, 'lambda_l1': 0.0005536445004748078, 'lambda_l2': 0.012703086595497353, 'bagging_fraction': 0.8500000000000001, 'bagging_freq': 5}. Best is trial 14 with value: 1.7081817088883144.\u001b[0m\n",
      "\u001b[32m[I 2021-06-28 19:10:37,215]\u001b[0m Trial 28 finished with value: 1.7069975160991464 and parameters: {'feature_fraction': 0.15000000000000002, 'max_depth': 7, 'num_leaves': 74, 'min_data_in_leaf': 708, 'lambda_l1': 7.768128933363408, 'lambda_l2': 0.7805185418942268, 'bagging_fraction': 0.7, 'bagging_freq': 6}. Best is trial 28 with value: 1.7069975160991464.\u001b[0m\n",
      "\u001b[32m[I 2021-06-28 19:10:49,425]\u001b[0m Trial 29 finished with value: 1.7133420826394488 and parameters: {'feature_fraction': 1.0, 'max_depth': 7, 'num_leaves': 76, 'min_data_in_leaf': 623, 'lambda_l1': 4.636821697954349, 'lambda_l2': 1.2409207076008655, 'bagging_fraction': 0.65, 'bagging_freq': 6}. Best is trial 28 with value: 1.7069975160991464.\u001b[0m\n",
      "\u001b[32m[I 2021-06-28 19:11:05,553]\u001b[0m Trial 30 finished with value: 1.7105500053671299 and parameters: {'feature_fraction': 0.1, 'max_depth': 7, 'num_leaves': 116, 'min_data_in_leaf': 369, 'lambda_l1': 8.20305600856215, 'lambda_l2': 4.447943655336289, 'bagging_fraction': 0.7, 'bagging_freq': 7}. Best is trial 28 with value: 1.7069975160991464.\u001b[0m\n",
      "\u001b[32m[I 2021-06-28 19:11:19,544]\u001b[0m Trial 31 finished with value: 1.7084450011695438 and parameters: {'feature_fraction': 0.15000000000000002, 'max_depth': 6, 'num_leaves': 40, 'min_data_in_leaf': 923, 'lambda_l1': 0.010955884602723998, 'lambda_l2': 0.5641809196906681, 'bagging_fraction': 0.6, 'bagging_freq': 5}. Best is trial 28 with value: 1.7069975160991464.\u001b[0m\n",
      "\u001b[32m[I 2021-06-28 19:11:33,631]\u001b[0m Trial 32 finished with value: 1.710534246314733 and parameters: {'feature_fraction': 0.30000000000000004, 'max_depth': 6, 'num_leaves': 64, 'min_data_in_leaf': 752, 'lambda_l1': 0.03928030315094168, 'lambda_l2': 0.6484790119054695, 'bagging_fraction': 0.55, 'bagging_freq': 7}. Best is trial 28 with value: 1.7069975160991464.\u001b[0m\n",
      "\u001b[32m[I 2021-06-28 19:11:48,877]\u001b[0m Trial 33 finished with value: 1.7093050269603922 and parameters: {'feature_fraction': 0.15000000000000002, 'max_depth': 7, 'num_leaves': 75, 'min_data_in_leaf': 544, 'lambda_l1': 0.009718005201978607, 'lambda_l2': 1.6243593037222457, 'bagging_fraction': 0.7, 'bagging_freq': 5}. Best is trial 28 with value: 1.7069975160991464.\u001b[0m\n",
      "\u001b[32m[I 2021-06-28 19:12:07,772]\u001b[0m Trial 34 finished with value: 1.7080979938545737 and parameters: {'feature_fraction': 0.30000000000000004, 'max_depth': 6, 'num_leaves': 64, 'min_data_in_leaf': 822, 'lambda_l1': 5.987209300233938, 'lambda_l2': 9.586784025596563, 'bagging_fraction': 0.6, 'bagging_freq': 6}. Best is trial 28 with value: 1.7069975160991464.\u001b[0m\n",
      "\u001b[32m[I 2021-06-28 19:12:23,717]\u001b[0m Trial 35 finished with value: 1.710760474324394 and parameters: {'feature_fraction': 0.35, 'max_depth': 7, 'num_leaves': 91, 'min_data_in_leaf': 186, 'lambda_l1': 1.5063715963819126, 'lambda_l2': 6.544829359741309, 'bagging_fraction': 0.6, 'bagging_freq': 8}. Best is trial 28 with value: 1.7069975160991464.\u001b[0m\n",
      "\u001b[32m[I 2021-06-28 19:12:42,666]\u001b[0m Trial 36 finished with value: 1.7112923686172703 and parameters: {'feature_fraction': 0.45000000000000007, 'max_depth': 6, 'num_leaves': 64, 'min_data_in_leaf': 668, 'lambda_l1': 1.4977810153629247, 'lambda_l2': 0.0007785988336591878, 'bagging_fraction': 0.7, 'bagging_freq': 6}. Best is trial 28 with value: 1.7069975160991464.\u001b[0m\n",
      "\u001b[32m[I 2021-06-28 19:13:02,283]\u001b[0m Trial 37 finished with value: 1.7076092194100998 and parameters: {'feature_fraction': 0.30000000000000004, 'max_depth': 6, 'num_leaves': 64, 'min_data_in_leaf': 405, 'lambda_l1': 7.355080323475096, 'lambda_l2': 1.709382728920426e-05, 'bagging_fraction': 0.75, 'bagging_freq': 9}. Best is trial 28 with value: 1.7069975160991464.\u001b[0m\n",
      "\u001b[32m[I 2021-06-28 19:13:15,992]\u001b[0m Trial 38 finished with value: 1.7129130098851397 and parameters: {'feature_fraction': 0.4, 'max_depth': 6, 'num_leaves': 64, 'min_data_in_leaf': 338, 'lambda_l1': 1.05101474221197, 'lambda_l2': 9.239028119541635e-07, 'bagging_fraction': 0.55, 'bagging_freq': 10}. Best is trial 28 with value: 1.7069975160991464.\u001b[0m\n",
      "\u001b[32m[I 2021-06-28 19:13:33,848]\u001b[0m Trial 39 finished with value: 1.7136680543708032 and parameters: {'feature_fraction': 0.5, 'max_depth': 6, 'num_leaves': 59, 'min_data_in_leaf': 263, 'lambda_l1': 0.051038884158191106, 'lambda_l2': 4.0882339474403e-05, 'bagging_fraction': 0.75, 'bagging_freq': 9}. Best is trial 28 with value: 1.7069975160991464.\u001b[0m\n",
      "Finished hyperparemeter search! (elapsed time: 623.625 sec.) The best_iteration is 88.\n",
      "Making booster(s)...\n",
      "Finished making booster(s)! (elapsed time: 4.500 sec.)\n"
     ]
    },
    {
     "name": "stdout",
     "output_type": "stream",
     "text": [
      "10.47\n",
      "2021-06-28 19:13:38.357858\n"
     ]
    }
   ],
   "source": [
    "print(datetime.datetime.now())\n",
    "start = time.time()\n",
    "\n",
    "lgbm_no_outliers = lgb.LGBMClassifier()\n",
    "lgbm_no_outliers.fit(X_train_non_outliers, y_train_non_outliers)\n",
    "\n",
    "minutes = (time.time() - start) / 60\n",
    "print(round(minutes, 2))\n",
    "print(datetime.datetime.now())"
   ]
  },
  {
   "cell_type": "code",
   "execution_count": 12,
   "id": "b046f4dc",
   "metadata": {},
   "outputs": [
    {
     "name": "stdout",
     "output_type": "stream",
     "text": [
      "1.7496646180610862\n"
     ]
    }
   ],
   "source": [
    "from sklearn.metrics import log_loss\n",
    "test_preds = lgbm_no_outliers.predict_proba(X_test)\n",
    "print(abs(log_loss(y_test, test_preds)))"
   ]
  },
  {
   "cell_type": "markdown",
   "id": "3e5b3776",
   "metadata": {},
   "source": [
    "## 2x weight to non outliers"
   ]
  },
  {
   "cell_type": "code",
   "execution_count": 15,
   "id": "92916cb4",
   "metadata": {},
   "outputs": [],
   "source": [
    "X_weighted = pd.concat([X_train, X_train_non_outliers])\n",
    "y_weighted = pd.concat([y_train, y_train_non_outliers])"
   ]
  },
  {
   "cell_type": "code",
   "execution_count": 16,
   "id": "47bd1a7b",
   "metadata": {},
   "outputs": [
    {
     "name": "stderr",
     "output_type": "stream",
     "text": [
      "/opt/conda/lib/python3.9/site-packages/sklearn/utils/validation.py:70: FutureWarning: Pass classifier=True as keyword args. From version 1.0 (renaming of 0.25) passing these as positional arguments will result in an error\n",
      "  warnings.warn(f\"Pass {args_msg} as keyword args. From version \"\n",
      "\u001b[32m[I 2021-06-28 20:08:49,040]\u001b[0m A new study created in memory with name: no-name-09f765e3-b6a0-47ee-9ed7-86c7eea73fee\u001b[0m\n",
      "Searching the best hyperparameters...\n"
     ]
    },
    {
     "name": "stdout",
     "output_type": "stream",
     "text": [
      "2021-06-28 20:08:49.013494\n"
     ]
    },
    {
     "name": "stderr",
     "output_type": "stream",
     "text": [
      "\u001b[32m[I 2021-06-28 20:08:50,688]\u001b[0m Trial 0 finished with value: 2.0722800536584427 and parameters: {'feature_fraction': 0.6, 'max_depth': 1, 'num_leaves': 2, 'min_data_in_leaf': 64409, 'lambda_l1': 0.00011456295028046865, 'lambda_l2': 4.891187380336318e-06, 'bagging_fraction': 0.75, 'bagging_freq': 3}. Best is trial 0 with value: 2.0722800536584427.\u001b[0m\n",
      "\u001b[32m[I 2021-06-28 20:09:57,585]\u001b[0m Trial 1 finished with value: 1.7023707045465089 and parameters: {'feature_fraction': 0.5, 'max_depth': 6, 'num_leaves': 39, 'min_data_in_leaf': 1128, 'lambda_l1': 0.014757926045446752, 'lambda_l2': 0.012351089630623802, 'bagging_fraction': 0.7, 'bagging_freq': 1}. Best is trial 1 with value: 1.7023707045465089.\u001b[0m\n",
      "\u001b[32m[I 2021-06-28 20:10:02,205]\u001b[0m Trial 2 finished with value: 2.0722800536584423 and parameters: {'feature_fraction': 0.35, 'max_depth': 4, 'num_leaves': 3, 'min_data_in_leaf': 49367, 'lambda_l1': 1.1534195668359748e-05, 'lambda_l2': 4.785137901156185e-05, 'bagging_fraction': 0.7, 'bagging_freq': 10}. Best is trial 1 with value: 1.7023707045465089.\u001b[0m\n",
      "\u001b[32m[I 2021-06-28 20:10:58,544]\u001b[0m Trial 3 finished with value: 1.7266974697330681 and parameters: {'feature_fraction': 0.6, 'max_depth': 4, 'num_leaves': 6, 'min_data_in_leaf': 5093, 'lambda_l1': 0.00010458031023856499, 'lambda_l2': 2.018795260273877e-09, 'bagging_fraction': 0.95, 'bagging_freq': 4}. Best is trial 1 with value: 1.7023707045465089.\u001b[0m\n",
      "\u001b[32m[I 2021-06-28 20:11:00,946]\u001b[0m Trial 4 finished with value: 2.0722800536584423 and parameters: {'feature_fraction': 0.9500000000000001, 'max_depth': 2, 'num_leaves': 2, 'min_data_in_leaf': 44325, 'lambda_l1': 0.058968656173892256, 'lambda_l2': 1.2696377152950242, 'bagging_fraction': 0.55, 'bagging_freq': 4}. Best is trial 1 with value: 1.7023707045465089.\u001b[0m\n",
      "\u001b[32m[I 2021-06-28 20:11:02,015]\u001b[0m Trial 5 finished with value: 2.0722800536584427 and parameters: {'feature_fraction': 0.25, 'max_depth': 1, 'num_leaves': 2, 'min_data_in_leaf': 74078, 'lambda_l1': 0.22631592407883083, 'lambda_l2': 1.3590924956798991e-05, 'bagging_fraction': 0.8500000000000001, 'bagging_freq': 1}. Best is trial 1 with value: 1.7023707045465089.\u001b[0m\n",
      "\u001b[32m[I 2021-06-28 20:11:27,011]\u001b[0m Trial 6 finished with value: 1.7795205564989103 and parameters: {'feature_fraction': 0.15000000000000002, 'max_depth': 1, 'num_leaves': 2, 'min_data_in_leaf': 44302, 'lambda_l1': 3.3330038201572415e-06, 'lambda_l2': 1.092964729004268e-05, 'bagging_fraction': 0.8500000000000001, 'bagging_freq': 4}. Best is trial 1 with value: 1.7023707045465089.\u001b[0m\n",
      "\u001b[32m[I 2021-06-28 20:12:00,112]\u001b[0m Trial 7 finished with value: 1.722717057028433 and parameters: {'feature_fraction': 0.85, 'max_depth': 7, 'num_leaves': 18, 'min_data_in_leaf': 4157, 'lambda_l1': 1.372848239050327, 'lambda_l2': 1.6512141842593536e-07, 'bagging_fraction': 0.5, 'bagging_freq': 8}. Best is trial 1 with value: 1.7023707045465089.\u001b[0m\n",
      "\u001b[32m[I 2021-06-28 20:12:02,764]\u001b[0m Trial 8 finished with value: 2.0722800536584423 and parameters: {'feature_fraction': 0.45000000000000007, 'max_depth': 3, 'num_leaves': 2, 'min_data_in_leaf': 63571, 'lambda_l1': 3.123203644701789e-05, 'lambda_l2': 1.4476914798332968e-07, 'bagging_fraction': 0.8, 'bagging_freq': 1}. Best is trial 1 with value: 1.7023707045465089.\u001b[0m\n",
      "\u001b[32m[I 2021-06-28 20:13:15,941]\u001b[0m Trial 9 finished with value: 1.6928444966656269 and parameters: {'feature_fraction': 0.6, 'max_depth': 7, 'num_leaves': 127, 'min_data_in_leaf': 1011, 'lambda_l1': 0.40453219703794613, 'lambda_l2': 0.003592584095594711, 'bagging_fraction': 0.7, 'bagging_freq': 2}. Best is trial 9 with value: 1.6928444966656269.\u001b[0m\n",
      "\u001b[32m[I 2021-06-28 20:14:02,185]\u001b[0m Trial 10 finished with value: 1.694159117425842 and parameters: {'feature_fraction': 0.75, 'max_depth': 6, 'num_leaves': 64, 'min_data_in_leaf': 411, 'lambda_l1': 3.350056715116795e-09, 'lambda_l2': 0.014307359392624381, 'bagging_fraction': 0.6, 'bagging_freq': 7}. Best is trial 9 with value: 1.6928444966656269.\u001b[0m\n",
      "\u001b[32m[I 2021-06-28 20:14:56,605]\u001b[0m Trial 11 finished with value: 1.6917330449881522 and parameters: {'feature_fraction': 0.75, 'max_depth': 6, 'num_leaves': 63, 'min_data_in_leaf': 270, 'lambda_l1': 2.7538756902325242e-09, 'lambda_l2': 0.025997985164463742, 'bagging_fraction': 0.6, 'bagging_freq': 7}. Best is trial 11 with value: 1.6917330449881522.\u001b[0m\n",
      "\u001b[32m[I 2021-06-28 20:15:51,136]\u001b[0m Trial 12 finished with value: 1.6970192240136002 and parameters: {'feature_fraction': 0.75, 'max_depth': 7, 'num_leaves': 127, 'min_data_in_leaf': 992, 'lambda_l1': 3.2328577404021096e-08, 'lambda_l2': 0.01083766231908201, 'bagging_fraction': 0.6, 'bagging_freq': 7}. Best is trial 11 with value: 1.6917330449881522.\u001b[0m\n",
      "\u001b[32m[I 2021-06-28 20:16:57,609]\u001b[0m Trial 13 finished with value: 1.6788177651262945 and parameters: {'feature_fraction': 1.0, 'max_depth': 6, 'num_leaves': 63, 'min_data_in_leaf': 130, 'lambda_l1': 7.692847974591271, 'lambda_l2': 2.209980150715636, 'bagging_fraction': 0.65, 'bagging_freq': 10}. Best is trial 13 with value: 1.6788177651262945.\u001b[0m\n",
      "\u001b[32m[I 2021-06-28 20:17:45,572]\u001b[0m Trial 14 finished with value: 1.702026759200633 and parameters: {'feature_fraction': 0.9, 'max_depth': 5, 'num_leaves': 32, 'min_data_in_leaf': 114, 'lambda_l1': 1.3603688047443975e-07, 'lambda_l2': 7.660925691130193, 'bagging_fraction': 0.6, 'bagging_freq': 10}. Best is trial 13 with value: 1.6788177651262945.\u001b[0m\n",
      "\u001b[32m[I 2021-06-28 20:18:32,817]\u001b[0m Trial 15 finished with value: 1.719005872608335 and parameters: {'feature_fraction': 1.0, 'max_depth': 5, 'num_leaves': 32, 'min_data_in_leaf': 2375, 'lambda_l1': 0.0015814201019462768, 'lambda_l2': 0.9178434961594679, 'bagging_fraction': 0.5, 'bagging_freq': 9}. Best is trial 13 with value: 1.6788177651262945.\u001b[0m\n",
      "\u001b[32m[I 2021-06-28 20:20:18,958]\u001b[0m Trial 16 finished with value: 1.6946298124268466 and parameters: {'feature_fraction': 0.75, 'max_depth': 6, 'num_leaves': 63, 'min_data_in_leaf': 526, 'lambda_l1': 9.852643398994921, 'lambda_l2': 0.49539430772723664, 'bagging_fraction': 0.65, 'bagging_freq': 6}. Best is trial 13 with value: 1.6788177651262945.\u001b[0m\n",
      "\u001b[32m[I 2021-06-28 20:21:10,251]\u001b[0m Trial 17 finished with value: 1.731382317873371 and parameters: {'feature_fraction': 1.0, 'max_depth': 5, 'num_leaves': 15, 'min_data_in_leaf': 8915, 'lambda_l1': 1.63431367806411e-09, 'lambda_l2': 0.001204239312743926, 'bagging_fraction': 0.55, 'bagging_freq': 9}. Best is trial 13 with value: 1.6788177651262945.\u001b[0m\n",
      "\u001b[32m[I 2021-06-28 20:22:09,890]\u001b[0m Trial 18 finished with value: 1.6768507969680457 and parameters: {'feature_fraction': 0.85, 'max_depth': 6, 'num_leaves': 64, 'min_data_in_leaf': 45, 'lambda_l1': 5.572871248048049e-07, 'lambda_l2': 0.13328979108294967, 'bagging_fraction': 0.65, 'bagging_freq': 6}. Best is trial 18 with value: 1.6768507969680457.\u001b[0m\n",
      "\u001b[32m[I 2021-06-28 20:22:54,759]\u001b[0m Trial 19 finished with value: 1.71171829730075 and parameters: {'feature_fraction': 0.85, 'max_depth': 5, 'num_leaves': 32, 'min_data_in_leaf': 1882, 'lambda_l1': 6.045040337616399e-07, 'lambda_l2': 8.584208096210324, 'bagging_fraction': 0.75, 'bagging_freq': 5}. Best is trial 18 with value: 1.6768507969680457.\u001b[0m\n",
      "\u001b[32m[I 2021-06-28 20:23:18,315]\u001b[0m Trial 20 finished with value: 1.7392586012549607 and parameters: {'feature_fraction': 1.0, 'max_depth': 3, 'num_leaves': 8, 'min_data_in_leaf': 17089, 'lambda_l1': 0.0011585266723865095, 'lambda_l2': 0.13616818303807696, 'bagging_fraction': 0.65, 'bagging_freq': 9}. Best is trial 18 with value: 1.6768507969680457.\u001b[0m\n",
      "\u001b[32m[I 2021-06-28 20:24:13,678]\u001b[0m Trial 21 finished with value: 1.6579878624153963 and parameters: {'feature_fraction': 0.75, 'max_depth': 6, 'num_leaves': 62, 'min_data_in_leaf': 4, 'lambda_l1': 5.176681520051614e-09, 'lambda_l2': 0.07944200118572507, 'bagging_fraction': 0.65, 'bagging_freq': 6}. Best is trial 21 with value: 1.6579878624153963.\u001b[0m\n",
      "\u001b[32m[I 2021-06-28 20:25:19,108]\u001b[0m Trial 22 finished with value: 1.6345933530888945 and parameters: {'feature_fraction': 0.85, 'max_depth': 7, 'num_leaves': 86, 'min_data_in_leaf': 20, 'lambda_l1': 3.2911973849486946e-08, 'lambda_l2': 0.000398076173300669, 'bagging_fraction': 0.65, 'bagging_freq': 6}. Best is trial 22 with value: 1.6345933530888945.\u001b[0m\n"
     ]
    },
    {
     "name": "stderr",
     "output_type": "stream",
     "text": [
      "\u001b[32m[I 2021-06-28 20:26:22,732]\u001b[0m Trial 23 finished with value: 1.6436662818241854 and parameters: {'feature_fraction': 0.85, 'max_depth': 7, 'num_leaves': 87, 'min_data_in_leaf': 34, 'lambda_l1': 1.8622046233411302e-08, 'lambda_l2': 0.0003719914561228127, 'bagging_fraction': 0.65, 'bagging_freq': 6}. Best is trial 22 with value: 1.6345933530888945.\u001b[0m\n",
      "\u001b[32m[I 2021-06-28 20:27:24,043]\u001b[0m Trial 24 finished with value: 1.6429630939791493 and parameters: {'feature_fraction': 0.7000000000000001, 'max_depth': 7, 'num_leaves': 101, 'min_data_in_leaf': 23, 'lambda_l1': 1.5470282995760458e-08, 'lambda_l2': 0.00046160930325423057, 'bagging_fraction': 0.55, 'bagging_freq': 5}. Best is trial 22 with value: 1.6345933530888945.\u001b[0m\n",
      "\u001b[32m[I 2021-06-28 20:28:17,436]\u001b[0m Trial 25 finished with value: 1.6764864709587026 and parameters: {'feature_fraction': 0.7000000000000001, 'max_depth': 7, 'num_leaves': 105, 'min_data_in_leaf': 246, 'lambda_l1': 2.4664018359692654e-08, 'lambda_l2': 0.00035706365351485103, 'bagging_fraction': 0.55, 'bagging_freq': 5}. Best is trial 22 with value: 1.6345933530888945.\u001b[0m\n",
      "\u001b[32m[I 2021-06-28 20:29:05,123]\u001b[0m Trial 26 finished with value: 1.6937651430236833 and parameters: {'feature_fraction': 0.65, 'max_depth': 7, 'num_leaves': 94, 'min_data_in_leaf': 643, 'lambda_l1': 2.6648557739543487e-08, 'lambda_l2': 0.0002057092632717817, 'bagging_fraction': 0.5, 'bagging_freq': 5}. Best is trial 22 with value: 1.6345933530888945.\u001b[0m\n",
      "\u001b[32m[I 2021-06-28 20:29:53,061]\u001b[0m Trial 27 finished with value: 1.7020381099233357 and parameters: {'feature_fraction': 0.9, 'max_depth': 7, 'num_leaves': 87, 'min_data_in_leaf': 1380, 'lambda_l1': 4.04736709209541e-07, 'lambda_l2': 1.273622792930572e-06, 'bagging_fraction': 0.55, 'bagging_freq': 3}. Best is trial 22 with value: 1.6345933530888945.\u001b[0m\n",
      "\u001b[32m[I 2021-06-28 20:30:48,494]\u001b[0m Trial 28 finished with value: 1.6862865554552946 and parameters: {'feature_fraction': 0.8, 'max_depth': 7, 'num_leaves': 79, 'min_data_in_leaf': 765, 'lambda_l1': 1.0888635259249972e-09, 'lambda_l2': 0.0008902816976233679, 'bagging_fraction': 0.75, 'bagging_freq': 8}. Best is trial 22 with value: 1.6345933530888945.\u001b[0m\n",
      "\u001b[32m[I 2021-06-28 20:31:44,056]\u001b[0m Trial 29 finished with value: 1.6749004033331556 and parameters: {'feature_fraction': 0.65, 'max_depth': 7, 'num_leaves': 113, 'min_data_in_leaf': 254, 'lambda_l1': 2.641773142584294e-06, 'lambda_l2': 5.402800543134191e-05, 'bagging_fraction': 0.6, 'bagging_freq': 3}. Best is trial 22 with value: 1.6345933530888945.\u001b[0m\n",
      "\u001b[32m[I 2021-06-28 20:32:20,191]\u001b[0m Trial 30 finished with value: 1.7234267359647686 and parameters: {'feature_fraction': 0.9, 'max_depth': 5, 'num_leaves': 24, 'min_data_in_leaf': 5861, 'lambda_l1': 1.0435776616298624e-07, 'lambda_l2': 2.098664126684234e-06, 'bagging_fraction': 0.7, 'bagging_freq': 6}. Best is trial 22 with value: 1.6345933530888945.\u001b[0m\n",
      "\u001b[32m[I 2021-06-28 20:33:14,220]\u001b[0m Trial 31 finished with value: 1.6759917712590433 and parameters: {'feature_fraction': 0.7000000000000001, 'max_depth': 6, 'num_leaves': 53, 'min_data_in_leaf': 32, 'lambda_l1': 5.172325183935884e-09, 'lambda_l2': 0.0021027529314175336, 'bagging_fraction': 0.65, 'bagging_freq': 6}. Best is trial 22 with value: 1.6345933530888945.\u001b[0m\n",
      "\u001b[32m[I 2021-06-28 20:34:27,168]\u001b[0m Trial 32 finished with value: 1.713744107204937 and parameters: {'feature_fraction': 0.55, 'max_depth': 6, 'num_leaves': 48, 'min_data_in_leaf': 2743, 'lambda_l1': 9.988545681301022e-09, 'lambda_l2': 0.00022250095439981047, 'bagging_fraction': 0.7, 'bagging_freq': 5}. Best is trial 22 with value: 1.6345933530888945.\u001b[0m\n",
      "\u001b[32m[I 2021-06-28 20:35:28,527]\u001b[0m Trial 33 finished with value: 1.672130204461195 and parameters: {'feature_fraction': 0.8, 'max_depth': 7, 'num_leaves': 79, 'min_data_in_leaf': 370, 'lambda_l1': 9.273169367774532e-08, 'lambda_l2': 4.1650703523253355e-05, 'bagging_fraction': 0.8, 'bagging_freq': 7}. Best is trial 22 with value: 1.6345933530888945.\u001b[0m\n",
      "\u001b[32m[I 2021-06-28 20:36:39,314]\u001b[0m Trial 34 finished with value: 1.6042945499770631 and parameters: {'feature_fraction': 0.8, 'max_depth': 7, 'num_leaves': 100, 'min_data_in_leaf': 4, 'lambda_l1': 8.66644119206597e-09, 'lambda_l2': 0.06598101898869413, 'bagging_fraction': 0.65, 'bagging_freq': 6}. Best is trial 34 with value: 1.6042945499770631.\u001b[0m\n",
      "\u001b[32m[I 2021-06-28 20:37:45,971]\u001b[0m Trial 35 finished with value: 1.659072657022877 and parameters: {'feature_fraction': 0.65, 'max_depth': 7, 'num_leaves': 103, 'min_data_in_leaf': 128, 'lambda_l1': 1.5208256555402645e-08, 'lambda_l2': 0.0037407073178206823, 'bagging_fraction': 0.75, 'bagging_freq': 4}. Best is trial 34 with value: 1.6042945499770631.\u001b[0m\n",
      "\u001b[32m[I 2021-06-28 20:39:00,934]\u001b[0m Trial 36 finished with value: 1.6773331478172075 and parameters: {'feature_fraction': 0.45000000000000007, 'max_depth': 7, 'num_leaves': 117, 'min_data_in_leaf': 190, 'lambda_l1': 8.131248497933903e-08, 'lambda_l2': 0.0006121883795066316, 'bagging_fraction': 0.55, 'bagging_freq': 8}. Best is trial 34 with value: 1.6042945499770631.\u001b[0m\n",
      "\u001b[32m[I 2021-06-28 20:40:12,772]\u001b[0m Trial 37 finished with value: 1.6151787866087475 and parameters: {'feature_fraction': 0.9500000000000001, 'max_depth': 7, 'num_leaves': 91, 'min_data_in_leaf': 11, 'lambda_l1': 2.5909956917482786e-06, 'lambda_l2': 8.026553090635504e-05, 'bagging_fraction': 0.7, 'bagging_freq': 4}. Best is trial 34 with value: 1.6042945499770631.\u001b[0m\n",
      "\u001b[32m[I 2021-06-28 20:40:44,438]\u001b[0m Trial 38 finished with value: 1.7286165129782698 and parameters: {'feature_fraction': 0.9500000000000001, 'max_depth': 4, 'num_leaves': 13, 'min_data_in_leaf': 8772, 'lambda_l1': 4.481223936313291e-06, 'lambda_l2': 2.2714889048139e-07, 'bagging_fraction': 0.7, 'bagging_freq': 4}. Best is trial 34 with value: 1.6042945499770631.\u001b[0m\n",
      "\u001b[32m[I 2021-06-28 20:41:37,128]\u001b[0m Trial 39 finished with value: 1.7002639970575206 and parameters: {'feature_fraction': 0.9500000000000001, 'max_depth': 6, 'num_leaves': 37, 'min_data_in_leaf': 1363, 'lambda_l1': 2.8743075812255944e-05, 'lambda_l2': 1.6406575444468665e-05, 'bagging_fraction': 0.8, 'bagging_freq': 2}. Best is trial 34 with value: 1.6042945499770631.\u001b[0m\n",
      "Finished hyperparemeter search! (elapsed time: 1968.053 sec.) The best_iteration is 100.\n",
      "Making booster(s)...\n",
      "Finished making booster(s)! (elapsed time: 16.488 sec.)\n"
     ]
    },
    {
     "name": "stdout",
     "output_type": "stream",
     "text": [
      "33.08\n",
      "2021-06-28 20:41:53.622475\n"
     ]
    }
   ],
   "source": [
    "print(datetime.datetime.now())\n",
    "start = time.time()\n",
    "\n",
    "lgbm_weighted = lgb.LGBMClassifier()\n",
    "lgbm_weighted.fit(X_weighted, y_weighted)\n",
    "\n",
    "minutes = (time.time() - start) / 60\n",
    "print(round(minutes, 2))\n",
    "print(datetime.datetime.now())"
   ]
  },
  {
   "cell_type": "code",
   "execution_count": 18,
   "id": "f9b4c278",
   "metadata": {},
   "outputs": [
    {
     "name": "stdout",
     "output_type": "stream",
     "text": [
      "1.7842641817700742\n"
     ]
    }
   ],
   "source": [
    "from sklearn.metrics import log_loss\n",
    "test_preds = lgbm_weighted.predict_proba(X_test)\n",
    "print(abs(log_loss(y_test, test_preds)))"
   ]
  }
 ],
 "metadata": {
  "kernelspec": {
   "display_name": "Python 3",
   "language": "python",
   "name": "python3"
  },
  "language_info": {
   "codemirror_mode": {
    "name": "ipython",
    "version": 3
   },
   "file_extension": ".py",
   "mimetype": "text/x-python",
   "name": "python",
   "nbconvert_exporter": "python",
   "pygments_lexer": "ipython3",
   "version": "3.9.4"
  }
 },
 "nbformat": 4,
 "nbformat_minor": 5
}
