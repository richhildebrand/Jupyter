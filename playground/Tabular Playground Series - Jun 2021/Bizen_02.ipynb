{
 "cells": [
  {
   "cell_type": "code",
   "execution_count": null,
   "id": "67743db7",
   "metadata": {},
   "outputs": [],
   "source": [
    "# https://www.kaggle.com/hiro5299834/tps06-nns-gbts-optimization/\n",
    "\n",
    "# need to generate oof and pred first"
   ]
  },
  {
   "cell_type": "code",
   "execution_count": 1,
   "id": "be5b3618",
   "metadata": {},
   "outputs": [],
   "source": [
    "from tqdm.notebook import tqdm\n",
    "import pandas as pd\n",
    "import numpy as np\n",
    "import random\n",
    "import glob\n",
    "import os\n",
    "import gc\n",
    "\n",
    "from sklearn.metrics import log_loss, confusion_matrix, classification_report\n",
    "from scipy.optimize import minimize\n",
    "\n",
    "import matplotlib.pyplot as plt\n",
    "import seaborn as sns\n",
    "\n",
    "import warnings\n",
    "warnings.filterwarnings(\"ignore\")"
   ]
  },
  {
   "cell_type": "code",
   "execution_count": 2,
   "id": "a0dead3b",
   "metadata": {},
   "outputs": [],
   "source": [
    "CFG = {\n",
    "    'target': 'target',\n",
    "    'n_class': 9,\n",
    "    'seed': 2021,\n",
    "    'n_seed': 3\n",
    "}\n"
   ]
  },
  {
   "cell_type": "code",
   "execution_count": 3,
   "id": "261722c1",
   "metadata": {},
   "outputs": [],
   "source": [
    "def seed_everything(seed=2021):\n",
    "    random.seed(seed)\n",
    "    os.environ['PYTHONHASHSEED'] = str(seed)\n",
    "    np.random.seed(seed)\n",
    "\n",
    "seed_everything(CFG['seed'])"
   ]
  },
  {
   "cell_type": "code",
   "execution_count": 4,
   "id": "e8f75872",
   "metadata": {},
   "outputs": [],
   "source": [
    "train = pd.read_csv(\"train.csv\")\n",
    "test = pd.read_csv(\"test.csv\")\n",
    "submission = pd.read_csv(\"sample_submission.csv\")\n",
    "\n",
    "target = train[CFG['target']].apply(lambda x: int(x.split(\"_\")[-1])-1)\n",
    "train_shape0 = train.shape[0]\n",
    "test_shape0 = test.shape[0]\n",
    "\n",
    "del train, test\n",
    "_ = gc.collect()"
   ]
  },
  {
   "cell_type": "code",
   "execution_count": null,
   "id": "ea8aff15",
   "metadata": {},
   "outputs": [],
   "source": []
  }
 ],
 "metadata": {
  "kernelspec": {
   "display_name": "Python 3 (ipykernel)",
   "language": "python",
   "name": "python3"
  },
  "language_info": {
   "codemirror_mode": {
    "name": "ipython",
    "version": 3
   },
   "file_extension": ".py",
   "mimetype": "text/x-python",
   "name": "python",
   "nbconvert_exporter": "python",
   "pygments_lexer": "ipython3",
   "version": "3.9.5"
  }
 },
 "nbformat": 4,
 "nbformat_minor": 5
}
