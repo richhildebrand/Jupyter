{
 "cells": [
  {
   "cell_type": "code",
   "execution_count": 11,
   "id": "a30bf3bf",
   "metadata": {},
   "outputs": [
    {
     "name": "stdout",
     "output_type": "stream",
     "text": [
      "Collecting imblearn\n",
      "  Downloading imblearn-0.0-py2.py3-none-any.whl (1.9 kB)\n",
      "Collecting imbalanced-learn\n",
      "  Downloading imbalanced_learn-0.8.0-py3-none-any.whl (206 kB)\n",
      "\u001b[K     |████████████████████████████████| 206 kB 7.1 MB/s eta 0:00:01\n",
      "\u001b[?25hRequirement already satisfied: scipy>=0.19.1 in /opt/conda/lib/python3.9/site-packages (from imbalanced-learn->imblearn) (1.6.3)\n",
      "Requirement already satisfied: joblib>=0.11 in /opt/conda/lib/python3.9/site-packages (from imbalanced-learn->imblearn) (1.0.1)\n",
      "Requirement already satisfied: numpy>=1.13.3 in /opt/conda/lib/python3.9/site-packages (from imbalanced-learn->imblearn) (1.19.5)\n",
      "Requirement already satisfied: scikit-learn>=0.24 in /opt/conda/lib/python3.9/site-packages (from imbalanced-learn->imblearn) (0.24.2)\n",
      "Requirement already satisfied: threadpoolctl>=2.0.0 in /opt/conda/lib/python3.9/site-packages (from scikit-learn>=0.24->imbalanced-learn->imblearn) (2.1.0)\n",
      "Installing collected packages: imbalanced-learn, imblearn\n",
      "Successfully installed imbalanced-learn-0.8.0 imblearn-0.0\n"
     ]
    }
   ],
   "source": [
    "!pip install imblearn"
   ]
  },
  {
   "cell_type": "code",
   "execution_count": 1,
   "id": "e26a425a",
   "metadata": {},
   "outputs": [
    {
     "name": "stdout",
     "output_type": "stream",
     "text": [
      "Requirement already satisfied: optgbm in /opt/conda/lib/python3.9/site-packages (0.10.0)\n",
      "Requirement already satisfied: scikit-learn>=0.19.0 in /opt/conda/lib/python3.9/site-packages (from optgbm) (0.24.2)\n",
      "Requirement already satisfied: lightgbm>=2.2.2 in /opt/conda/lib/python3.9/site-packages (from optgbm) (3.2.1)\n",
      "Requirement already satisfied: numpy in /opt/conda/lib/python3.9/site-packages (from optgbm) (1.19.5)\n",
      "Requirement already satisfied: optuna>=0.17 in /opt/conda/lib/python3.9/site-packages (from optgbm) (2.8.0)\n",
      "Requirement already satisfied: pandas in /opt/conda/lib/python3.9/site-packages (from optgbm) (1.2.4)\n",
      "Requirement already satisfied: wheel in /opt/conda/lib/python3.9/site-packages (from lightgbm>=2.2.2->optgbm) (0.36.2)\n",
      "Requirement already satisfied: scipy in /opt/conda/lib/python3.9/site-packages (from lightgbm>=2.2.2->optgbm) (1.6.3)\n",
      "Requirement already satisfied: alembic in /opt/conda/lib/python3.9/site-packages (from optuna>=0.17->optgbm) (1.6.5)\n",
      "Requirement already satisfied: cmaes>=0.8.2 in /opt/conda/lib/python3.9/site-packages (from optuna>=0.17->optgbm) (0.8.2)\n",
      "Requirement already satisfied: cliff in /opt/conda/lib/python3.9/site-packages (from optuna>=0.17->optgbm) (3.8.0)\n",
      "Requirement already satisfied: tqdm in /opt/conda/lib/python3.9/site-packages (from optuna>=0.17->optgbm) (4.61.1)\n",
      "Requirement already satisfied: sqlalchemy>=1.1.0 in /opt/conda/lib/python3.9/site-packages (from optuna>=0.17->optgbm) (1.4.18)\n",
      "Requirement already satisfied: packaging>=20.0 in /opt/conda/lib/python3.9/site-packages (from optuna>=0.17->optgbm) (20.9)\n",
      "Requirement already satisfied: colorlog in /opt/conda/lib/python3.9/site-packages (from optuna>=0.17->optgbm) (5.0.1)\n",
      "Requirement already satisfied: pyparsing>=2.0.2 in /opt/conda/lib/python3.9/site-packages (from packaging>=20.0->optuna>=0.17->optgbm) (2.4.7)\n",
      "Requirement already satisfied: threadpoolctl>=2.0.0 in /opt/conda/lib/python3.9/site-packages (from scikit-learn>=0.19.0->optgbm) (2.1.0)\n",
      "Requirement already satisfied: joblib>=0.11 in /opt/conda/lib/python3.9/site-packages (from scikit-learn>=0.19.0->optgbm) (1.0.1)\n",
      "Requirement already satisfied: greenlet!=0.4.17 in /opt/conda/lib/python3.9/site-packages (from sqlalchemy>=1.1.0->optuna>=0.17->optgbm) (1.1.0)\n",
      "Requirement already satisfied: python-editor>=0.3 in /opt/conda/lib/python3.9/site-packages (from alembic->optuna>=0.17->optgbm) (1.0.4)\n",
      "Requirement already satisfied: Mako in /opt/conda/lib/python3.9/site-packages (from alembic->optuna>=0.17->optgbm) (1.1.4)\n",
      "Requirement already satisfied: python-dateutil in /opt/conda/lib/python3.9/site-packages (from alembic->optuna>=0.17->optgbm) (2.8.1)\n",
      "Requirement already satisfied: PrettyTable>=0.7.2 in /opt/conda/lib/python3.9/site-packages (from cliff->optuna>=0.17->optgbm) (2.1.0)\n",
      "Requirement already satisfied: stevedore>=2.0.1 in /opt/conda/lib/python3.9/site-packages (from cliff->optuna>=0.17->optgbm) (3.3.0)\n",
      "Requirement already satisfied: cmd2>=1.0.0 in /opt/conda/lib/python3.9/site-packages (from cliff->optuna>=0.17->optgbm) (2.1.1)\n",
      "Requirement already satisfied: PyYAML>=3.12 in /opt/conda/lib/python3.9/site-packages (from cliff->optuna>=0.17->optgbm) (5.4.1)\n",
      "Requirement already satisfied: pbr!=2.1.0,>=2.0.0 in /opt/conda/lib/python3.9/site-packages (from cliff->optuna>=0.17->optgbm) (5.6.0)\n",
      "Requirement already satisfied: colorama>=0.3.7 in /opt/conda/lib/python3.9/site-packages (from cmd2>=1.0.0->cliff->optuna>=0.17->optgbm) (0.4.4)\n",
      "Requirement already satisfied: attrs>=16.3.0 in /opt/conda/lib/python3.9/site-packages (from cmd2>=1.0.0->cliff->optuna>=0.17->optgbm) (21.2.0)\n",
      "Requirement already satisfied: pyperclip>=1.6 in /opt/conda/lib/python3.9/site-packages (from cmd2>=1.0.0->cliff->optuna>=0.17->optgbm) (1.8.2)\n",
      "Requirement already satisfied: wcwidth>=0.1.7 in /opt/conda/lib/python3.9/site-packages (from cmd2>=1.0.0->cliff->optuna>=0.17->optgbm) (0.2.5)\n",
      "Requirement already satisfied: MarkupSafe>=0.9.2 in /opt/conda/lib/python3.9/site-packages (from Mako->alembic->optuna>=0.17->optgbm) (2.0.1)\n",
      "Requirement already satisfied: pytz>=2017.3 in /opt/conda/lib/python3.9/site-packages (from pandas->optgbm) (2021.1)\n",
      "Requirement already satisfied: six>=1.5 in /opt/conda/lib/python3.9/site-packages (from python-dateutil->alembic->optuna>=0.17->optgbm) (1.15.0)\n"
     ]
    }
   ],
   "source": [
    "!pip install optgbm"
   ]
  },
  {
   "cell_type": "code",
   "execution_count": 6,
   "id": "8a711117",
   "metadata": {},
   "outputs": [],
   "source": [
    "import time\n",
    "import datetime\n",
    "\n",
    "import numpy as np\n",
    "import pandas as pd\n",
    "import optgbm as lgb\n",
    "from matplotlib import pyplot"
   ]
  },
  {
   "cell_type": "code",
   "execution_count": 3,
   "id": "795fef01",
   "metadata": {},
   "outputs": [],
   "source": [
    "train_df = pd.read_csv('train.csv')\n",
    "test_df = pd.read_csv('test.csv')"
   ]
  },
  {
   "cell_type": "code",
   "execution_count": 4,
   "id": "a1816f59",
   "metadata": {},
   "outputs": [
    {
     "name": "stdout",
     "output_type": "stream",
     "text": [
      "0    5\n",
      "1    5\n",
      "2    1\n",
      "3    7\n",
      "4    1\n",
      "Name: target, dtype: int64\n"
     ]
    }
   ],
   "source": [
    "from sklearn.preprocessing import LabelEncoder\n",
    "features_target = ['target'] \n",
    "\n",
    "for feature in features_target:\n",
    "    le = LabelEncoder()\n",
    "    le.fit(train_df[feature])\n",
    "    train_df[feature] = le.transform(train_df[feature])\n",
    "    \n",
    "print(train_df['target'].head())"
   ]
  },
  {
   "cell_type": "code",
   "execution_count": 5,
   "id": "564104d1",
   "metadata": {},
   "outputs": [
    {
     "name": "stdout",
     "output_type": "stream",
     "text": [
      "train count:  100000\n",
      "test count:  100000\n"
     ]
    }
   ],
   "source": [
    "from sklearn.model_selection import train_test_split\n",
    "train_no_predict = train_df.drop(['id', 'target'], 1)\n",
    "train_predict = train_df['target']\n",
    "\n",
    "train_percent = 0.50\n",
    "\n",
    "X_train, X_test, y_train, y_test = train_test_split(train_no_predict, train_predict, stratify=train_predict, train_size=train_percent)\n",
    "print('train count: ', len(y_train))\n",
    "print('test count: ', len(y_test))"
   ]
  },
  {
   "cell_type": "code",
   "execution_count": 9,
   "id": "f311cc44",
   "metadata": {},
   "outputs": [
    {
     "name": "stdout",
     "output_type": "stream",
     "text": [
      "Class=1, n=12215 (12.215%)\n",
      "Class=6, n=7385 (7.385%)\n",
      "Class=5, n=25906 (25.906%)\n",
      "Class=8, n=12771 (12.771%)\n",
      "Class=7, n=25881 (25.881%)\n",
      "Class=2, n=7399 (7.399%)\n",
      "Class=0, n=4559 (4.559%)\n",
      "Class=4, n=1532 (1.532%)\n",
      "Class=3, n=2352 (2.352%)\n"
     ]
    },
    {
     "data": {
      "image/png": "[encoded data removed]",
      "text/plain": [
       "<Figure size 432x288 with 1 Axes>"
      ]
     },
     "metadata": {
      "needs_background": "light"
     },
     "output_type": "display_data"
    }
   ],
   "source": [
    "from collections import Counter\n",
    "counter = Counter(y_train)\n",
    "for k,v in counter.items():\n",
    "    per = v / len(y_train) * 100\n",
    "    print('Class=%d, n=%d (%.3f%%)' % (k, v, per))\n",
    "\n",
    "pyplot.bar(counter.keys(), counter.values())\n",
    "pyplot.show()"
   ]
  },
  {
   "cell_type": "code",
   "execution_count": 12,
   "id": "69af6e0e",
   "metadata": {},
   "outputs": [],
   "source": [
    "from imblearn.over_sampling import SMOTE\n",
    "oversample = SMOTE()\n",
    "X_smote, y_smote = oversample.fit_resample(X_train, y_train)"
   ]
  },
  {
   "cell_type": "code",
   "execution_count": 14,
   "id": "78a3b383",
   "metadata": {},
   "outputs": [
    {
     "name": "stdout",
     "output_type": "stream",
     "text": [
      "Class=1, n=25906 (11.111%)\n",
      "Class=6, n=25906 (11.111%)\n",
      "Class=5, n=25906 (11.111%)\n",
      "Class=8, n=25906 (11.111%)\n",
      "Class=7, n=25906 (11.111%)\n",
      "Class=2, n=25906 (11.111%)\n",
      "Class=0, n=25906 (11.111%)\n",
      "Class=4, n=25906 (11.111%)\n",
      "Class=3, n=25906 (11.111%)\n"
     ]
    },
    {
     "data": {
      "image/png": "[encoded data removed]",
      "text/plain": [
       "<Figure size 432x288 with 1 Axes>"
      ]
     },
     "metadata": {
      "needs_background": "light"
     },
     "output_type": "display_data"
    }
   ],
   "source": [
    "from collections import Counter\n",
    "counter = Counter(y_smote)\n",
    "for k,v in counter.items():\n",
    "    per = v / len(y_smote) * 100\n",
    "    print('Class=%d, n=%d (%.3f%%)' % (k, v, per))\n",
    "\n",
    "pyplot.bar(counter.keys(), counter.values())\n",
    "pyplot.show()"
   ]
  },
  {
   "cell_type": "markdown",
   "id": "6af3bfb2",
   "metadata": {},
   "source": [
    "## Base Rate"
   ]
  },
  {
   "cell_type": "code",
   "execution_count": 15,
   "id": "b969afb1",
   "metadata": {},
   "outputs": [
    {
     "name": "stderr",
     "output_type": "stream",
     "text": [
      "/opt/conda/lib/python3.9/site-packages/sklearn/utils/validation.py:70: FutureWarning: Pass classifier=True as keyword args. From version 1.0 (renaming of 0.25) passing these as positional arguments will result in an error\n",
      "  warnings.warn(f\"Pass {args_msg} as keyword args. From version \"\n",
      "\u001b[32m[I 2021-06-28 16:56:01,616]\u001b[0m A new study created in memory with name: no-name-5c2cf7d3-71e7-4c97-9cd9-48a458635cdb\u001b[0m\n",
      "Searching the best hyperparameters...\n"
     ]
    },
    {
     "name": "stdout",
     "output_type": "stream",
     "text": [
      "2021-06-28 16:56:01.598410\n"
     ]
    },
    {
     "name": "stderr",
     "output_type": "stream",
     "text": [
      "\u001b[32m[I 2021-06-28 16:56:12,466]\u001b[0m Trial 0 finished with value: 1.7640538370306023 and parameters: {'feature_fraction': 0.75, 'max_depth': 1, 'num_leaves': 2, 'min_data_in_leaf': 1590, 'lambda_l1': 7.52692284536581e-06, 'lambda_l2': 4.101645619004518e-08, 'bagging_fraction': 0.95, 'bagging_freq': 3}. Best is trial 0 with value: 1.7640538370306023.\u001b[0m\n",
      "\u001b[32m[I 2021-06-28 16:56:39,471]\u001b[0m Trial 1 finished with value: 1.7514865013895222 and parameters: {'feature_fraction': 0.4, 'max_depth': 5, 'num_leaves': 6, 'min_data_in_leaf': 92, 'lambda_l1': 9.293102525789044, 'lambda_l2': 9.13777752690237e-08, 'bagging_fraction': 0.6, 'bagging_freq': 10}. Best is trial 1 with value: 1.7514865013895222.\u001b[0m\n",
      "\u001b[32m[I 2021-06-28 16:56:56,166]\u001b[0m Trial 2 finished with value: 1.7546123230166812 and parameters: {'feature_fraction': 0.9, 'max_depth': 2, 'num_leaves': 4, 'min_data_in_leaf': 710, 'lambda_l1': 0.0008944607549710193, 'lambda_l2': 0.11650995381649218, 'bagging_fraction': 0.9, 'bagging_freq': 2}. Best is trial 1 with value: 1.7514865013895222.\u001b[0m\n",
      "\u001b[32m[I 2021-06-28 16:57:17,038]\u001b[0m Trial 3 finished with value: 1.808070055589501 and parameters: {'feature_fraction': 0.35, 'max_depth': 2, 'num_leaves': 3, 'min_data_in_leaf': 24074, 'lambda_l1': 0.0007072669859259813, 'lambda_l2': 4.244018203886846e-05, 'bagging_fraction': 0.65, 'bagging_freq': 5}. Best is trial 1 with value: 1.7514865013895222.\u001b[0m\n",
      "\u001b[32m[I 2021-06-28 16:57:33,153]\u001b[0m Trial 4 finished with value: 1.7554450127253887 and parameters: {'feature_fraction': 0.7000000000000001, 'max_depth': 3, 'num_leaves': 3, 'min_data_in_leaf': 3145, 'lambda_l1': 0.0016335090211816936, 'lambda_l2': 0.02376511776062402, 'bagging_fraction': 0.9, 'bagging_freq': 2}. Best is trial 1 with value: 1.7514865013895222.\u001b[0m\n",
      "\u001b[32m[I 2021-06-28 16:57:55,592]\u001b[0m Trial 5 finished with value: 1.7525522238733888 and parameters: {'feature_fraction': 0.9, 'max_depth': 6, 'num_leaves': 33, 'min_data_in_leaf': 2569, 'lambda_l1': 1.8596421430775587e-08, 'lambda_l2': 4.253911763029595e-06, 'bagging_fraction': 0.8, 'bagging_freq': 10}. Best is trial 1 with value: 1.7514865013895222.\u001b[0m\n",
      "\u001b[32m[I 2021-06-28 16:58:24,606]\u001b[0m Trial 6 finished with value: 1.754840717727087 and parameters: {'feature_fraction': 0.4, 'max_depth': 6, 'num_leaves': 55, 'min_data_in_leaf': 128, 'lambda_l1': 0.5463122505903691, 'lambda_l2': 1.7624359487806183, 'bagging_fraction': 0.7, 'bagging_freq': 3}. Best is trial 1 with value: 1.7514865013895222.\u001b[0m\n",
      "\u001b[32m[I 2021-06-28 16:58:43,773]\u001b[0m Trial 7 finished with value: 1.753022148715429 and parameters: {'feature_fraction': 0.8, 'max_depth': 3, 'num_leaves': 8, 'min_data_in_leaf': 1283, 'lambda_l1': 8.012644207527957e-07, 'lambda_l2': 3.144372438079529e-07, 'bagging_fraction': 0.75, 'bagging_freq': 6}. Best is trial 1 with value: 1.7514865013895222.\u001b[0m\n",
      "\u001b[32m[I 2021-06-28 16:59:09,329]\u001b[0m Trial 8 finished with value: 1.7515286862284725 and parameters: {'feature_fraction': 0.8, 'max_depth': 4, 'num_leaves': 8, 'min_data_in_leaf': 3898, 'lambda_l1': 3.3857495424154135e-09, 'lambda_l2': 0.11692952423695581, 'bagging_fraction': 0.95, 'bagging_freq': 5}. Best is trial 1 with value: 1.7514865013895222.\u001b[0m\n",
      "\u001b[32m[I 2021-06-28 16:59:10,827]\u001b[0m Trial 9 finished with value: 2.0752402447810137 and parameters: {'feature_fraction': 0.9, 'max_depth': 1, 'num_leaves': 2, 'min_data_in_leaf': 29768, 'lambda_l1': 3.2179498410678417e-07, 'lambda_l2': 0.0007373817551220474, 'bagging_fraction': 0.75, 'bagging_freq': 2}. Best is trial 1 with value: 1.7514865013895222.\u001b[0m\n",
      "\u001b[32m[I 2021-06-28 16:59:43,800]\u001b[0m Trial 10 finished with value: 1.7529905073991494 and parameters: {'feature_fraction': 0.1, 'max_depth': 7, 'num_leaves': 117, 'min_data_in_leaf': 48, 'lambda_l1': 9.79466635301904, 'lambda_l2': 2.1343095489397717e-09, 'bagging_fraction': 0.5, 'bagging_freq': 10}. Best is trial 1 with value: 1.7514865013895222.\u001b[0m\n",
      "\u001b[32m[I 2021-06-28 17:00:18,890]\u001b[0m Trial 11 finished with value: 1.7523174419537972 and parameters: {'feature_fraction': 0.55, 'max_depth': 5, 'num_leaves': 14, 'min_data_in_leaf': 5420, 'lambda_l1': 2.8559792012439775e-09, 'lambda_l2': 0.0011991779581952168, 'bagging_fraction': 0.55, 'bagging_freq': 7}. Best is trial 1 with value: 1.7514865013895222.\u001b[0m\n",
      "\u001b[32m[I 2021-06-28 17:00:41,252]\u001b[0m Trial 12 finished with value: 1.7574858449494133 and parameters: {'feature_fraction': 0.2, 'max_depth': 4, 'num_leaves': 8, 'min_data_in_leaf': 9993, 'lambda_l1': 0.1702742808936657, 'lambda_l2': 9.292050069056621, 'bagging_fraction': 0.6, 'bagging_freq': 8}. Best is trial 1 with value: 1.7514865013895222.\u001b[0m\n",
      "\u001b[32m[I 2021-06-28 17:01:07,903]\u001b[0m Trial 13 finished with value: 1.7523909598925258 and parameters: {'feature_fraction': 0.6, 'max_depth': 5, 'num_leaves': 21, 'min_data_in_leaf': 4196, 'lambda_l1': 0.019793633349341228, 'lambda_l2': 4.416840396190008e-09, 'bagging_fraction': 0.5, 'bagging_freq': 5}. Best is trial 1 with value: 1.7514865013895222.\u001b[0m\n",
      "\u001b[32m[I 2021-06-28 17:01:39,633]\u001b[0m Trial 14 finished with value: 1.7527142553389765 and parameters: {'feature_fraction': 0.4, 'max_depth': 4, 'num_leaves': 11, 'min_data_in_leaf': 6668, 'lambda_l1': 2.3252380930810465e-05, 'lambda_l2': 3.5184227683254365e-06, 'bagging_fraction': 0.6, 'bagging_freq': 9}. Best is trial 1 with value: 1.7514865013895222.\u001b[0m\n",
      "\u001b[32m[I 2021-06-28 17:02:18,869]\u001b[0m Trial 15 finished with value: 1.7497292552245516 and parameters: {'feature_fraction': 0.25, 'max_depth': 5, 'num_leaves': 20, 'min_data_in_leaf': 4124, 'lambda_l1': 9.633759680145266, 'lambda_l2': 0.05542384871811159, 'bagging_fraction': 0.8500000000000001, 'bagging_freq': 4}. Best is trial 15 with value: 1.7497292552245516.\u001b[0m\n",
      "\u001b[32m[I 2021-06-28 17:02:54,475]\u001b[0m Trial 16 finished with value: 1.7500218629012405 and parameters: {'feature_fraction': 0.25, 'max_depth': 7, 'num_leaves': 97, 'min_data_in_leaf': 266, 'lambda_l1': 5.610438081790063, 'lambda_l2': 0.009172368244090989, 'bagging_fraction': 0.8500000000000001, 'bagging_freq': 4}. Best is trial 15 with value: 1.7497292552245516.\u001b[0m\n",
      "\u001b[32m[I 2021-06-28 17:03:27,883]\u001b[0m Trial 17 finished with value: 1.7517734487385261 and parameters: {'feature_fraction': 0.2, 'max_depth': 7, 'num_leaves': 105, 'min_data_in_leaf': 280, 'lambda_l1': 1.142484253905714, 'lambda_l2': 0.007324590962832128, 'bagging_fraction': 0.8500000000000001, 'bagging_freq': 4}. Best is trial 15 with value: 1.7497292552245516.\u001b[0m\n",
      "\u001b[32m[I 2021-06-28 17:03:56,393]\u001b[0m Trial 18 finished with value: 1.7528943106558998 and parameters: {'feature_fraction': 0.1, 'max_depth': 6, 'num_leaves': 35, 'min_data_in_leaf': 709, 'lambda_l1': 0.03290987982480379, 'lambda_l2': 3.2059636113918857, 'bagging_fraction': 0.8500000000000001, 'bagging_freq': 1}. Best is trial 15 with value: 1.7497292552245516.\u001b[0m\n",
      "\u001b[32m[I 2021-06-28 17:04:29,451]\u001b[0m Trial 19 finished with value: 1.7504757385097338 and parameters: {'feature_fraction': 0.25, 'max_depth': 7, 'num_leaves': 89, 'min_data_in_leaf': 354, 'lambda_l1': 4.015025461295959, 'lambda_l2': 0.12212293040983771, 'bagging_fraction': 0.8, 'bagging_freq': 4}. Best is trial 15 with value: 1.7497292552245516.\u001b[0m\n",
      "\u001b[32m[I 2021-06-28 17:05:09,022]\u001b[0m Trial 20 finished with value: 1.750058403461584 and parameters: {'feature_fraction': 0.30000000000000004, 'max_depth': 6, 'num_leaves': 44, 'min_data_in_leaf': 1954, 'lambda_l1': 0.050942547960809534, 'lambda_l2': 0.00012117617945309741, 'bagging_fraction': 0.8500000000000001, 'bagging_freq': 6}. Best is trial 15 with value: 1.7497292552245516.\u001b[0m\n",
      "\u001b[32m[I 2021-06-28 17:05:44,051]\u001b[0m Trial 21 finished with value: 1.750606878808 and parameters: {'feature_fraction': 0.30000000000000004, 'max_depth': 6, 'num_leaves': 59, 'min_data_in_leaf': 1352, 'lambda_l1': 0.055285656901230766, 'lambda_l2': 7.472252326996845e-05, 'bagging_fraction': 0.8500000000000001, 'bagging_freq': 6}. Best is trial 15 with value: 1.7497292552245516.\u001b[0m\n",
      "\u001b[32m[I 2021-06-28 17:06:20,033]\u001b[0m Trial 22 finished with value: 1.7491784255813159 and parameters: {'feature_fraction': 0.15000000000000002, 'max_depth': 5, 'num_leaves': 23, 'min_data_in_leaf': 2030, 'lambda_l1': 1.3071591315334306, 'lambda_l2': 0.000596431265110563, 'bagging_fraction': 0.9, 'bagging_freq': 7}. Best is trial 22 with value: 1.7491784255813159.\u001b[0m\n"
     ]
    },
    {
     "name": "stderr",
     "output_type": "stream",
     "text": [
      "\u001b[32m[I 2021-06-28 17:06:53,541]\u001b[0m Trial 23 finished with value: 1.749499525256137 and parameters: {'feature_fraction': 0.15000000000000002, 'max_depth': 5, 'num_leaves': 21, 'min_data_in_leaf': 4567, 'lambda_l1': 1.4281142410156291, 'lambda_l2': 0.0045814673816446366, 'bagging_fraction': 0.9, 'bagging_freq': 7}. Best is trial 22 with value: 1.7491784255813159.\u001b[0m\n",
      "\u001b[32m[I 2021-06-28 17:07:25,173]\u001b[0m Trial 24 finished with value: 1.7517028375211119 and parameters: {'feature_fraction': 0.1, 'max_depth': 5, 'num_leaves': 23, 'min_data_in_leaf': 4220, 'lambda_l1': 0.5782187842942877, 'lambda_l2': 0.002211564584135919, 'bagging_fraction': 0.95, 'bagging_freq': 8}. Best is trial 22 with value: 1.7491784255813159.\u001b[0m\n",
      "\u001b[32m[I 2021-06-28 17:08:00,168]\u001b[0m Trial 25 finished with value: 1.749244034896376 and parameters: {'feature_fraction': 0.15000000000000002, 'max_depth': 5, 'num_leaves': 22, 'min_data_in_leaf': 3404, 'lambda_l1': 1.3472145840895045, 'lambda_l2': 0.4568207144985941, 'bagging_fraction': 0.9, 'bagging_freq': 8}. Best is trial 22 with value: 1.7491784255813159.\u001b[0m\n",
      "\u001b[32m[I 2021-06-28 17:08:27,898]\u001b[0m Trial 26 finished with value: 1.7538804305357634 and parameters: {'feature_fraction': 0.15000000000000002, 'max_depth': 3, 'num_leaves': 7, 'min_data_in_leaf': 10682, 'lambda_l1': 0.010977456737928876, 'lambda_l2': 0.7338312603000262, 'bagging_fraction': 0.9, 'bagging_freq': 8}. Best is trial 22 with value: 1.7491784255813159.\u001b[0m\n",
      "\u001b[32m[I 2021-06-28 17:09:00,945]\u001b[0m Trial 27 finished with value: 1.750021527321218 and parameters: {'feature_fraction': 0.15000000000000002, 'max_depth': 4, 'num_leaves': 16, 'min_data_in_leaf': 5364, 'lambda_l1': 1.4276490319493171, 'lambda_l2': 0.4315066373924742, 'bagging_fraction': 0.95, 'bagging_freq': 7}. Best is trial 22 with value: 1.7491784255813159.\u001b[0m\n",
      "\u001b[32m[I 2021-06-28 17:09:35,102]\u001b[0m Trial 28 finished with value: 1.749239177032139 and parameters: {'feature_fraction': 0.15000000000000002, 'max_depth': 5, 'num_leaves': 26, 'min_data_in_leaf': 3522, 'lambda_l1': 0.18826886611316543, 'lambda_l2': 0.0003537399505359296, 'bagging_fraction': 0.9, 'bagging_freq': 7}. Best is trial 22 with value: 1.7491784255813159.\u001b[0m\n",
      "\u001b[32m[I 2021-06-28 17:10:22,161]\u001b[0m Trial 29 finished with value: 1.7516314116301792 and parameters: {'feature_fraction': 0.5, 'max_depth': 5, 'num_leaves': 27, 'min_data_in_leaf': 3329, 'lambda_l1': 0.004130169940709613, 'lambda_l2': 3.456110762253438e-06, 'bagging_fraction': 0.8, 'bagging_freq': 9}. Best is trial 22 with value: 1.7491784255813159.\u001b[0m\n",
      "\u001b[32m[I 2021-06-28 17:11:15,461]\u001b[0m Trial 30 finished with value: 1.7515220467779553 and parameters: {'feature_fraction': 0.5, 'max_depth': 4, 'num_leaves': 16, 'min_data_in_leaf': 2210, 'lambda_l1': 0.00011552670913441002, 'lambda_l2': 0.00026842819622403287, 'bagging_fraction': 0.95, 'bagging_freq': 9}. Best is trial 22 with value: 1.7491784255813159.\u001b[0m\n",
      "\u001b[32m[I 2021-06-28 17:11:49,065]\u001b[0m Trial 31 finished with value: 1.7492621079479709 and parameters: {'feature_fraction': 0.15000000000000002, 'max_depth': 5, 'num_leaves': 26, 'min_data_in_leaf': 3424, 'lambda_l1': 0.22781466639000753, 'lambda_l2': 2.1640063370025823e-05, 'bagging_fraction': 0.9, 'bagging_freq': 7}. Best is trial 22 with value: 1.7491784255813159.\u001b[0m\n",
      "\u001b[32m[I 2021-06-28 17:12:21,326]\u001b[0m Trial 32 finished with value: 1.7515775624446648 and parameters: {'feature_fraction': 0.1, 'max_depth': 5, 'num_leaves': 27, 'min_data_in_leaf': 3427, 'lambda_l1': 0.16917432902708765, 'lambda_l2': 2.9931247554174227e-05, 'bagging_fraction': 0.9, 'bagging_freq': 7}. Best is trial 22 with value: 1.7491784255813159.\u001b[0m\n",
      "\u001b[32m[I 2021-06-28 17:13:03,915]\u001b[0m Trial 33 finished with value: 1.749382889055111 and parameters: {'feature_fraction': 0.2, 'max_depth': 6, 'num_leaves': 39, 'min_data_in_leaf': 2561, 'lambda_l1': 0.18691269219941697, 'lambda_l2': 1.0182686339915963e-05, 'bagging_fraction': 0.95, 'bagging_freq': 8}. Best is trial 22 with value: 1.7491784255813159.\u001b[0m\n",
      "\u001b[32m[I 2021-06-28 17:13:46,185]\u001b[0m Trial 34 finished with value: 1.750114937400999 and parameters: {'feature_fraction': 0.30000000000000004, 'max_depth': 5, 'num_leaves': 26, 'min_data_in_leaf': 2865, 'lambda_l1': 0.1875290917305044, 'lambda_l2': 2.773365931478479e-07, 'bagging_fraction': 0.9, 'bagging_freq': 7}. Best is trial 22 with value: 1.7491784255813159.\u001b[0m\n",
      "\u001b[32m[I 2021-06-28 17:14:14,639]\u001b[0m Trial 35 finished with value: 1.751353143037787 and parameters: {'feature_fraction': 0.15000000000000002, 'max_depth': 4, 'num_leaves': 10, 'min_data_in_leaf': 6162, 'lambda_l1': 0.005765323845660097, 'lambda_l2': 0.0004612751190774771, 'bagging_fraction': 0.8, 'bagging_freq': 6}. Best is trial 22 with value: 1.7491784255813159.\u001b[0m\n",
      "\u001b[32m[I 2021-06-28 17:14:45,176]\u001b[0m Trial 36 finished with value: 1.7518502965801475 and parameters: {'feature_fraction': 1.0, 'max_depth': 6, 'num_leaves': 31, 'min_data_in_leaf': 3117, 'lambda_l1': 2.936803648434239, 'lambda_l2': 6.649301349519971e-07, 'bagging_fraction': 0.9, 'bagging_freq': 8}. Best is trial 22 with value: 1.7491784255813159.\u001b[0m\n",
      "\u001b[32m[I 2021-06-28 17:15:26,483]\u001b[0m Trial 37 finished with value: 1.752516357452913 and parameters: {'feature_fraction': 0.35, 'max_depth': 3, 'num_leaves': 5, 'min_data_in_leaf': 7918, 'lambda_l1': 0.0005463692332314358, 'lambda_l2': 2.0008630413682884e-05, 'bagging_fraction': 0.95, 'bagging_freq': 9}. Best is trial 22 with value: 1.7491784255813159.\u001b[0m\n",
      "\u001b[32m[I 2021-06-28 17:16:05,405]\u001b[0m Trial 38 finished with value: 1.749733318344688 and parameters: {'feature_fraction': 0.2, 'max_depth': 5, 'num_leaves': 24, 'min_data_in_leaf': 3698, 'lambda_l1': 0.5768997650703265, 'lambda_l2': 0.00020273208877073833, 'bagging_fraction': 0.9, 'bagging_freq': 7}. Best is trial 22 with value: 1.7491784255813159.\u001b[0m\n",
      "\u001b[32m[I 2021-06-28 17:16:34,691]\u001b[0m Trial 39 finished with value: 1.7520103895733619 and parameters: {'feature_fraction': 0.1, 'max_depth': 6, 'num_leaves': 29, 'min_data_in_leaf': 3430, 'lambda_l1': 0.002182785788586948, 'lambda_l2': 2.5114308032122316e-08, 'bagging_fraction': 0.75, 'bagging_freq': 6}. Best is trial 22 with value: 1.7491784255813159.\u001b[0m\n",
      "Finished hyperparemeter search! (elapsed time: 1233.055 sec.) The best_iteration is 99.\n",
      "Making booster(s)...\n",
      "Finished making booster(s)! (elapsed time: 8.425 sec.)\n"
     ]
    },
    {
     "name": "stdout",
     "output_type": "stream",
     "text": [
      "20.69\n",
      "2021-06-28 17:16:43.121425\n"
     ]
    }
   ],
   "source": [
    "print(datetime.datetime.now())\n",
    "start = time.time()\n",
    "\n",
    "lgbm = lgb.LGBMClassifier()\n",
    "lgbm.fit(X_train, y_train)\n",
    "\n",
    "minutes = (time.time() - start) / 60\n",
    "print(round(minutes, 2))\n",
    "print(datetime.datetime.now())"
   ]
  },
  {
   "cell_type": "code",
   "execution_count": 23,
   "id": "654d6064",
   "metadata": {},
   "outputs": [
    {
     "name": "stdout",
     "output_type": "stream",
     "text": [
      "1.7488895434947713\n"
     ]
    }
   ],
   "source": [
    "from sklearn.metrics import log_loss\n",
    "test_preds = lgbm.predict_proba(X_test)\n",
    "print(abs(log_loss(y_test, test_preds)))"
   ]
  },
  {
   "cell_type": "markdown",
   "id": "60f5aca7",
   "metadata": {},
   "source": [
    "## SMOTE"
   ]
  },
  {
   "cell_type": "code",
   "execution_count": 17,
   "id": "03254e7e",
   "metadata": {},
   "outputs": [
    {
     "name": "stderr",
     "output_type": "stream",
     "text": [
      "/opt/conda/lib/python3.9/site-packages/sklearn/utils/validation.py:70: FutureWarning: Pass classifier=True as keyword args. From version 1.0 (renaming of 0.25) passing these as positional arguments will result in an error\n",
      "  warnings.warn(f\"Pass {args_msg} as keyword args. From version \"\n",
      "\u001b[32m[I 2021-06-28 17:17:25,483]\u001b[0m A new study created in memory with name: no-name-dea5e8ec-53c3-44b5-be08-e4d89ebf943d\u001b[0m\n",
      "Searching the best hyperparameters...\n"
     ]
    },
    {
     "name": "stdout",
     "output_type": "stream",
     "text": [
      "2021-06-28 17:17:25.454010\n"
     ]
    },
    {
     "name": "stderr",
     "output_type": "stream",
     "text": [
      "\u001b[32m[I 2021-06-28 17:19:01,222]\u001b[0m Trial 0 finished with value: 2.0235637464335468 and parameters: {'feature_fraction': 0.6, 'max_depth': 5, 'num_leaves': 20, 'min_data_in_leaf': 11405, 'lambda_l1': 6.717955789505558, 'lambda_l2': 1.0124058281227153, 'bagging_fraction': 0.95, 'bagging_freq': 8}. Best is trial 0 with value: 2.0235637464335468.\u001b[0m\n",
      "\u001b[32m[I 2021-06-28 17:20:37,179]\u001b[0m Trial 1 finished with value: 1.862381457563798 and parameters: {'feature_fraction': 0.65, 'max_depth': 7, 'num_leaves': 93, 'min_data_in_leaf': 107, 'lambda_l1': 0.0008029571965182207, 'lambda_l2': 3.870598229515697e-08, 'bagging_fraction': 0.65, 'bagging_freq': 7}. Best is trial 1 with value: 1.862381457563798.\u001b[0m\n",
      "\u001b[32m[I 2021-06-28 17:22:07,039]\u001b[0m Trial 2 finished with value: 1.9725762858356248 and parameters: {'feature_fraction': 0.2, 'max_depth': 6, 'num_leaves': 51, 'min_data_in_leaf': 833, 'lambda_l1': 5.783139698421812, 'lambda_l2': 1.5309075628697684e-09, 'bagging_fraction': 0.75, 'bagging_freq': 1}. Best is trial 1 with value: 1.862381457563798.\u001b[0m\n",
      "\u001b[32m[I 2021-06-28 17:22:34,910]\u001b[0m Trial 3 finished with value: 2.069287027087692 and parameters: {'feature_fraction': 0.9500000000000001, 'max_depth': 1, 'num_leaves': 2, 'min_data_in_leaf': 28615, 'lambda_l1': 0.0004906853399263902, 'lambda_l2': 5.731176696060879e-05, 'bagging_fraction': 0.8500000000000001, 'bagging_freq': 8}. Best is trial 1 with value: 1.862381457563798.\u001b[0m\n",
      "\u001b[32m[I 2021-06-28 17:23:32,329]\u001b[0m Trial 4 finished with value: 1.9827838124524337 and parameters: {'feature_fraction': 0.8, 'max_depth': 5, 'num_leaves': 30, 'min_data_in_leaf': 1141, 'lambda_l1': 2.5738544380985984e-07, 'lambda_l2': 2.984542826764311, 'bagging_fraction': 0.5, 'bagging_freq': 2}. Best is trial 1 with value: 1.862381457563798.\u001b[0m\n",
      "\u001b[32m[I 2021-06-28 17:24:13,741]\u001b[0m Trial 5 finished with value: 2.0520493478900335 and parameters: {'feature_fraction': 0.8, 'max_depth': 3, 'num_leaves': 8, 'min_data_in_leaf': 22623, 'lambda_l1': 5.16311676577398e-07, 'lambda_l2': 1.4604781524518716e-07, 'bagging_fraction': 0.7, 'bagging_freq': 2}. Best is trial 1 with value: 1.862381457563798.\u001b[0m\n",
      "\u001b[32m[I 2021-06-28 17:25:50,660]\u001b[0m Trial 6 finished with value: 1.992813789195638 and parameters: {'feature_fraction': 0.55, 'max_depth': 5, 'num_leaves': 20, 'min_data_in_leaf': 1845, 'lambda_l1': 2.709649740563368e-06, 'lambda_l2': 0.6776043237953401, 'bagging_fraction': 0.6, 'bagging_freq': 2}. Best is trial 1 with value: 1.862381457563798.\u001b[0m\n",
      "\u001b[32m[I 2021-06-28 17:27:04,925]\u001b[0m Trial 7 finished with value: 1.99670085883722 and parameters: {'feature_fraction': 0.2, 'max_depth': 4, 'num_leaves': 12, 'min_data_in_leaf': 193, 'lambda_l1': 0.00015928910810539208, 'lambda_l2': 0.5706345023092504, 'bagging_fraction': 0.75, 'bagging_freq': 1}. Best is trial 1 with value: 1.862381457563798.\u001b[0m\n",
      "\u001b[32m[I 2021-06-28 17:28:00,646]\u001b[0m Trial 8 finished with value: 2.066577862431294 and parameters: {'feature_fraction': 0.30000000000000004, 'max_depth': 1, 'num_leaves': 2, 'min_data_in_leaf': 5130, 'lambda_l1': 6.53182289607595e-05, 'lambda_l2': 0.0005032353801173125, 'bagging_fraction': 0.65, 'bagging_freq': 10}. Best is trial 1 with value: 1.862381457563798.\u001b[0m\n",
      "\u001b[32m[I 2021-06-28 17:28:04,154]\u001b[0m Trial 9 finished with value: 2.19722458101533 and parameters: {'feature_fraction': 0.45000000000000007, 'max_depth': 2, 'num_leaves': 2, 'min_data_in_leaf': 80597, 'lambda_l1': 1.585540034537269, 'lambda_l2': 3.286889078296477e-09, 'bagging_fraction': 0.8500000000000001, 'bagging_freq': 1}. Best is trial 1 with value: 1.862381457563798.\u001b[0m\n",
      "\u001b[32m[I 2021-06-28 17:29:35,835]\u001b[0m Trial 10 finished with value: 1.8225522532018428 and parameters: {'feature_fraction': 0.75, 'max_depth': 7, 'num_leaves': 116, 'min_data_in_leaf': 34, 'lambda_l1': 0.010045993987420988, 'lambda_l2': 5.907234053135672e-07, 'bagging_fraction': 0.5, 'bagging_freq': 5}. Best is trial 10 with value: 1.8225522532018428.\u001b[0m\n",
      "\u001b[32m[I 2021-06-28 17:31:08,329]\u001b[0m Trial 11 finished with value: 1.8081535559584068 and parameters: {'feature_fraction': 0.75, 'max_depth': 7, 'num_leaves': 117, 'min_data_in_leaf': 22, 'lambda_l1': 0.03457429199503408, 'lambda_l2': 6.123671830578854e-07, 'bagging_fraction': 0.5, 'bagging_freq': 5}. Best is trial 11 with value: 1.8081535559584068.\u001b[0m\n",
      "\u001b[32m[I 2021-06-28 17:32:54,504]\u001b[0m Trial 12 finished with value: 1.9173122200080712 and parameters: {'feature_fraction': 1.0, 'max_depth': 7, 'num_leaves': 127, 'min_data_in_leaf': 425, 'lambda_l1': 0.04407200235696847, 'lambda_l2': 2.163956182680042e-06, 'bagging_fraction': 0.5, 'bagging_freq': 5}. Best is trial 11 with value: 1.8081535559584068.\u001b[0m\n",
      "\u001b[32m[I 2021-06-28 17:34:17,611]\u001b[0m Trial 13 finished with value: 1.9204593669181826 and parameters: {'feature_fraction': 0.8, 'max_depth': 7, 'num_leaves': 127, 'min_data_in_leaf': 473, 'lambda_l1': 0.03242039036743144, 'lambda_l2': 1.1552435037987729e-05, 'bagging_fraction': 0.55, 'bagging_freq': 5}. Best is trial 11 with value: 1.8081535559584068.\u001b[0m\n",
      "\u001b[32m[I 2021-06-28 17:35:15,309]\u001b[0m Trial 14 finished with value: 1.9908531016830273 and parameters: {'feature_fraction': 0.9, 'max_depth': 6, 'num_leaves': 64, 'min_data_in_leaf': 2546, 'lambda_l1': 0.06988250367112388, 'lambda_l2': 0.0015532322393786873, 'bagging_fraction': 0.5, 'bagging_freq': 4}. Best is trial 11 with value: 1.8081535559584068.\u001b[0m\n",
      "\u001b[32m[I 2021-06-28 17:36:13,416]\u001b[0m Trial 15 finished with value: 1.997649788822855 and parameters: {'feature_fraction': 0.7000000000000001, 'max_depth': 6, 'num_leaves': 64, 'min_data_in_leaf': 3361, 'lambda_l1': 7.355387686144498e-09, 'lambda_l2': 5.352963025256755e-07, 'bagging_fraction': 0.55, 'bagging_freq': 4}. Best is trial 11 with value: 1.8081535559584068.\u001b[0m\n",
      "\u001b[32m[I 2021-06-28 17:38:23,585]\u001b[0m Trial 16 finished with value: 1.8155378782911917 and parameters: {'feature_fraction': 0.45000000000000007, 'max_depth': 7, 'num_leaves': 105, 'min_data_in_leaf': 15, 'lambda_l1': 0.004043164461455372, 'lambda_l2': 0.009805245555471324, 'bagging_fraction': 0.55, 'bagging_freq': 6}. Best is trial 11 with value: 1.8081535559584068.\u001b[0m\n",
      "\u001b[32m[I 2021-06-28 17:39:53,394]\u001b[0m Trial 17 finished with value: 2.0038517988041757 and parameters: {'feature_fraction': 0.4, 'max_depth': 6, 'num_leaves': 53, 'min_data_in_leaf': 3774, 'lambda_l1': 0.4896187521020262, 'lambda_l2': 0.011185013812335377, 'bagging_fraction': 0.6, 'bagging_freq': 7}. Best is trial 11 with value: 1.8081535559584068.\u001b[0m\n",
      "\u001b[32m[I 2021-06-28 17:41:03,951]\u001b[0m Trial 18 finished with value: 2.041641230927598 and parameters: {'feature_fraction': 0.45000000000000007, 'max_depth': 4, 'num_leaves': 5, 'min_data_in_leaf': 11877, 'lambda_l1': 0.00684825258779048, 'lambda_l2': 0.012636156496751875, 'bagging_fraction': 0.55, 'bagging_freq': 7}. Best is trial 11 with value: 1.8081535559584068.\u001b[0m\n",
      "\u001b[32m[I 2021-06-28 17:42:28,185]\u001b[0m Trial 19 finished with value: 1.9795396597933703 and parameters: {'feature_fraction': 0.1, 'max_depth': 7, 'num_leaves': 97, 'min_data_in_leaf': 644, 'lambda_l1': 3.391024062632103e-05, 'lambda_l2': 0.0524963597898991, 'bagging_fraction': 0.6, 'bagging_freq': 10}. Best is trial 11 with value: 1.8081535559584068.\u001b[0m\n",
      "\u001b[32m[I 2021-06-28 17:43:44,630]\u001b[0m Trial 20 finished with value: 2.0360575345750793 and parameters: {'feature_fraction': 0.35, 'max_depth': 3, 'num_leaves': 8, 'min_data_in_leaf': 7790, 'lambda_l1': 0.4124475170171088, 'lambda_l2': 3.2152790110880686e-05, 'bagging_fraction': 0.7, 'bagging_freq': 6}. Best is trial 11 with value: 1.8081535559584068.\u001b[0m\n",
      "\u001b[32m[I 2021-06-28 17:45:16,843]\u001b[0m Trial 21 finished with value: 1.821339579013744 and parameters: {'feature_fraction': 0.7000000000000001, 'max_depth': 7, 'num_leaves': 108, 'min_data_in_leaf': 31, 'lambda_l1': 0.0026634567766862425, 'lambda_l2': 2.9257865556126856e-08, 'bagging_fraction': 0.5, 'bagging_freq': 4}. Best is trial 11 with value: 1.8081535559584068.\u001b[0m\n",
      "\u001b[32m[I 2021-06-28 17:46:55,209]\u001b[0m Trial 22 finished with value: 1.9762735847638715 and parameters: {'feature_fraction': 0.55, 'max_depth': 6, 'num_leaves': 44, 'min_data_in_leaf': 1479, 'lambda_l1': 0.002456087994105192, 'lambda_l2': 1.5829117098975085e-08, 'bagging_fraction': 0.55, 'bagging_freq': 4}. Best is trial 11 with value: 1.8081535559584068.\u001b[0m\n"
     ]
    },
    {
     "name": "stderr",
     "output_type": "stream",
     "text": [
      "\u001b[32m[I 2021-06-28 17:48:16,936]\u001b[0m Trial 23 finished with value: 1.9060506897637004 and parameters: {'feature_fraction': 0.65, 'max_depth': 7, 'num_leaves': 101, 'min_data_in_leaf': 280, 'lambda_l1': 0.1503969097825288, 'lambda_l2': 0.00043957793863865196, 'bagging_fraction': 0.5, 'bagging_freq': 3}. Best is trial 11 with value: 1.8081535559584068.\u001b[0m\n",
      "\u001b[32m[I 2021-06-28 17:49:22,811]\u001b[0m Trial 24 finished with value: 1.961504232865669 and parameters: {'feature_fraction': 0.9, 'max_depth': 6, 'num_leaves': 64, 'min_data_in_leaf': 1005, 'lambda_l1': 8.878498893589179e-06, 'lambda_l2': 5.377755051919323e-06, 'bagging_fraction': 0.55, 'bagging_freq': 6}. Best is trial 11 with value: 1.8081535559584068.\u001b[0m\n",
      "\u001b[32m[I 2021-06-28 17:50:16,962]\u001b[0m Trial 25 finished with value: 2.0139803519252104 and parameters: {'feature_fraction': 0.7000000000000001, 'max_depth': 5, 'num_leaves': 30, 'min_data_in_leaf': 5680, 'lambda_l1': 0.0017129936290766021, 'lambda_l2': 1.1065709770395325e-08, 'bagging_fraction': 0.65, 'bagging_freq': 3}. Best is trial 11 with value: 1.8081535559584068.\u001b[0m\n",
      "\u001b[32m[I 2021-06-28 17:52:32,471]\u001b[0m Trial 26 finished with value: 1.801237092221914 and parameters: {'feature_fraction': 0.5, 'max_depth': 7, 'num_leaves': 83, 'min_data_in_leaf': 3, 'lambda_l1': 0.007304785831110958, 'lambda_l2': 1.0527627921306655e-07, 'bagging_fraction': 0.6, 'bagging_freq': 6}. Best is trial 26 with value: 1.801237092221914.\u001b[0m\n",
      "\u001b[32m[I 2021-06-28 17:54:11,795]\u001b[0m Trial 27 finished with value: 1.9819812716156455 and parameters: {'feature_fraction': 0.45000000000000007, 'max_depth': 6, 'num_leaves': 37, 'min_data_in_leaf': 1790, 'lambda_l1': 0.010739801310463901, 'lambda_l2': 1.5635670599514075e-06, 'bagging_fraction': 0.6, 'bagging_freq': 8}. Best is trial 26 with value: 1.801237092221914.\u001b[0m\n",
      "\u001b[32m[I 2021-06-28 17:56:18,160]\u001b[0m Trial 28 finished with value: 1.9142604102265512 and parameters: {'feature_fraction': 0.5, 'max_depth': 7, 'num_leaves': 81, 'min_data_in_leaf': 381, 'lambda_l1': 0.0002672061029300842, 'lambda_l2': 1.883152868776103e-07, 'bagging_fraction': 0.65, 'bagging_freq': 6}. Best is trial 26 with value: 1.801237092221914.\u001b[0m\n",
      "\u001b[32m[I 2021-06-28 17:57:59,894]\u001b[0m Trial 29 finished with value: 1.9996081632122291 and parameters: {'feature_fraction': 0.25, 'max_depth': 5, 'num_leaves': 26, 'min_data_in_leaf': 2727, 'lambda_l1': 5.653162599645228, 'lambda_l2': 0.06260092816875909, 'bagging_fraction': 0.95, 'bagging_freq': 9}. Best is trial 26 with value: 1.801237092221914.\u001b[0m\n",
      "\u001b[32m[I 2021-06-28 17:59:31,213]\u001b[0m Trial 30 finished with value: 1.953194631962495 and parameters: {'feature_fraction': 0.6, 'max_depth': 6, 'num_leaves': 59, 'min_data_in_leaf': 696, 'lambda_l1': 1.094447466729148, 'lambda_l2': 0.0002792134248970186, 'bagging_fraction': 0.6, 'bagging_freq': 8}. Best is trial 26 with value: 1.801237092221914.\u001b[0m\n",
      "\u001b[32m[I 2021-06-28 18:01:15,970]\u001b[0m Trial 31 finished with value: 1.842341621671275 and parameters: {'feature_fraction': 0.6, 'max_depth': 7, 'num_leaves': 112, 'min_data_in_leaf': 47, 'lambda_l1': 0.0025618885238058997, 'lambda_l2': 7.006196244846017e-08, 'bagging_fraction': 0.5, 'bagging_freq': 5}. Best is trial 26 with value: 1.801237092221914.\u001b[0m\n",
      "\u001b[32m[I 2021-06-28 18:02:46,262]\u001b[0m Trial 32 finished with value: 1.8375416777677043 and parameters: {'feature_fraction': 0.7000000000000001, 'max_depth': 7, 'num_leaves': 79, 'min_data_in_leaf': 52, 'lambda_l1': 0.02252485636821712, 'lambda_l2': 6.087756730514851e-09, 'bagging_fraction': 0.55, 'bagging_freq': 6}. Best is trial 26 with value: 1.801237092221914.\u001b[0m\n",
      "\u001b[32m[I 2021-06-28 18:04:35,580]\u001b[0m Trial 33 finished with value: 1.9007161074220194 and parameters: {'feature_fraction': 0.5, 'max_depth': 7, 'num_leaves': 110, 'min_data_in_leaf': 204, 'lambda_l1': 0.0007480923765458252, 'lambda_l2': 1.3699130327558892e-09, 'bagging_fraction': 0.5, 'bagging_freq': 4}. Best is trial 26 with value: 1.801237092221914.\u001b[0m\n",
      "\u001b[32m[I 2021-06-28 18:05:54,858]\u001b[0m Trial 34 finished with value: 1.926579532384397 and parameters: {'feature_fraction': 0.65, 'max_depth': 7, 'num_leaves': 89, 'min_data_in_leaf': 519, 'lambda_l1': 0.15643800836419416, 'lambda_l2': 3.168581958349396e-08, 'bagging_fraction': 0.55, 'bagging_freq': 7}. Best is trial 26 with value: 1.801237092221914.\u001b[0m\n",
      "\u001b[32m[I 2021-06-28 18:07:03,402]\u001b[0m Trial 35 finished with value: 1.964337189412299 and parameters: {'feature_fraction': 0.85, 'max_depth': 6, 'num_leaves': 40, 'min_data_in_leaf': 1259, 'lambda_l1': 0.005004818925339581, 'lambda_l2': 3.596448049134526e-07, 'bagging_fraction': 0.6, 'bagging_freq': 3}. Best is trial 26 with value: 1.801237092221914.\u001b[0m\n",
      "\u001b[32m[I 2021-06-28 18:09:20,353]\u001b[0m Trial 36 finished with value: 1.8874726846240844 and parameters: {'feature_fraction': 0.4, 'max_depth': 7, 'num_leaves': 119, 'min_data_in_leaf': 181, 'lambda_l1': 0.001000164391653555, 'lambda_l2': 5.994486961510175e-08, 'bagging_fraction': 0.8, 'bagging_freq': 5}. Best is trial 26 with value: 1.801237092221914.\u001b[0m\n",
      "\u001b[32m[I 2021-06-28 18:10:12,742]\u001b[0m Trial 37 finished with value: 2.0210026366257337 and parameters: {'feature_fraction': 0.75, 'max_depth': 5, 'num_leaves': 21, 'min_data_in_leaf': 8118, 'lambda_l1': 2.1052748266405378e-05, 'lambda_l2': 1.2387001280843033e-05, 'bagging_fraction': 0.7, 'bagging_freq': 6}. Best is trial 26 with value: 1.801237092221914.\u001b[0m\n",
      "\u001b[32m[I 2021-06-28 18:11:47,537]\u001b[0m Trial 38 finished with value: 1.9679782752576174 and parameters: {'feature_fraction': 0.5, 'max_depth': 6, 'num_leaves': 51, 'min_data_in_leaf': 908, 'lambda_l1': 0.0005784844636313023, 'lambda_l2': 6.3647658574604495, 'bagging_fraction': 0.5, 'bagging_freq': 4}. Best is trial 26 with value: 1.801237092221914.\u001b[0m\n",
      "\u001b[32m[I 2021-06-28 18:13:28,186]\u001b[0m Trial 39 finished with value: 1.9092353507576039 and parameters: {'feature_fraction': 0.6, 'max_depth': 7, 'num_leaves': 104, 'min_data_in_leaf': 312, 'lambda_l1': 9.089375537334064e-05, 'lambda_l2': 1.930998391854904e-06, 'bagging_fraction': 0.55, 'bagging_freq': 7}. Best is trial 26 with value: 1.801237092221914.\u001b[0m\n",
      "Finished hyperparemeter search! (elapsed time: 3362.667 sec.) The best_iteration is 100.\n",
      "Making booster(s)...\n",
      "Finished making booster(s)! (elapsed time: 30.691 sec.)\n"
     ]
    },
    {
     "name": "stdout",
     "output_type": "stream",
     "text": [
      "56.56\n",
      "2021-06-28 18:13:58.882012\n"
     ]
    }
   ],
   "source": [
    "print(datetime.datetime.now())\n",
    "start = time.time()\n",
    "\n",
    "smote_lgbm = lgb.LGBMClassifier()\n",
    "smote_lgbm.fit(X_smote, y_smote)\n",
    "\n",
    "minutes = (time.time() - start) / 60\n",
    "print(round(minutes, 2))\n",
    "print(datetime.datetime.now())"
   ]
  },
  {
   "cell_type": "code",
   "execution_count": 22,
   "id": "b7b7dbb7",
   "metadata": {},
   "outputs": [
    {
     "name": "stdout",
     "output_type": "stream",
     "text": [
      "1.9655346358718062\n"
     ]
    }
   ],
   "source": [
    "from sklearn.metrics import log_loss\n",
    "test_preds = smote_lgbm.predict_proba(X_test)\n",
    "print(abs(log_loss(y_test, test_preds)))"
   ]
  },
  {
   "cell_type": "markdown",
   "id": "72573ab7",
   "metadata": {},
   "source": [
    "## Class Weights"
   ]
  },
  {
   "cell_type": "code",
   "execution_count": 19,
   "id": "7a0bc5cc",
   "metadata": {},
   "outputs": [
    {
     "name": "stderr",
     "output_type": "stream",
     "text": [
      "/opt/conda/lib/python3.9/site-packages/sklearn/utils/validation.py:70: FutureWarning: Pass classifier=True as keyword args. From version 1.0 (renaming of 0.25) passing these as positional arguments will result in an error\n",
      "  warnings.warn(f\"Pass {args_msg} as keyword args. From version \"\n",
      "\u001b[32m[I 2021-06-28 18:14:01,852]\u001b[0m A new study created in memory with name: no-name-f6a4b1a2-4381-4c1f-91fe-8273232f5491\u001b[0m\n",
      "Searching the best hyperparameters...\n"
     ]
    },
    {
     "name": "stdout",
     "output_type": "stream",
     "text": [
      "2021-06-28 18:14:01.790174\n"
     ]
    },
    {
     "name": "stderr",
     "output_type": "stream",
     "text": [
      "\u001b[32m[I 2021-06-28 18:14:21,932]\u001b[0m Trial 0 finished with value: 2.0980962382935955 and parameters: {'feature_fraction': 0.6, 'max_depth': 3, 'num_leaves': 6, 'min_data_in_leaf': 2214, 'lambda_l1': 3.659134149662969e-08, 'lambda_l2': 0.42002459992168883, 'bagging_fraction': 0.5, 'bagging_freq': 9}. Best is trial 0 with value: 2.0980962382935955.\u001b[0m\n",
      "\u001b[32m[I 2021-06-28 18:14:52,308]\u001b[0m Trial 1 finished with value: 2.1053018206823935 and parameters: {'feature_fraction': 0.30000000000000004, 'max_depth': 1, 'num_leaves': 2, 'min_data_in_leaf': 19960, 'lambda_l1': 0.31468143341963783, 'lambda_l2': 0.04882414078648688, 'bagging_fraction': 0.9, 'bagging_freq': 7}. Best is trial 0 with value: 2.0980962382935955.\u001b[0m\n",
      "\u001b[32m[I 2021-06-28 18:15:16,440]\u001b[0m Trial 2 finished with value: 2.1015623789133615 and parameters: {'feature_fraction': 0.6, 'max_depth': 7, 'num_leaves': 120, 'min_data_in_leaf': 429, 'lambda_l1': 0.0009076988625010213, 'lambda_l2': 0.2730815002132185, 'bagging_fraction': 0.8500000000000001, 'bagging_freq': 10}. Best is trial 0 with value: 2.0980962382935955.\u001b[0m\n",
      "\u001b[32m[I 2021-06-28 18:15:19,199]\u001b[0m Trial 3 finished with value: 2.1972248446708487 and parameters: {'feature_fraction': 0.45000000000000007, 'max_depth': 2, 'num_leaves': 4, 'min_data_in_leaf': 24153, 'lambda_l1': 0.015158742591869685, 'lambda_l2': 0.002261163863320924, 'bagging_fraction': 0.55, 'bagging_freq': 10}. Best is trial 0 with value: 2.0980962382935955.\u001b[0m\n",
      "\u001b[32m[I 2021-06-28 18:15:20,160]\u001b[0m Trial 4 finished with value: 2.1972248446708487 and parameters: {'feature_fraction': 0.4, 'max_depth': 1, 'num_leaves': 2, 'min_data_in_leaf': 45786, 'lambda_l1': 0.543305815973263, 'lambda_l2': 7.551314752075416, 'bagging_fraction': 0.8500000000000001, 'bagging_freq': 4}. Best is trial 0 with value: 2.0980962382935955.\u001b[0m\n",
      "\u001b[32m[I 2021-06-28 18:15:35,448]\u001b[0m Trial 5 finished with value: 2.0973796325504224 and parameters: {'feature_fraction': 0.75, 'max_depth': 7, 'num_leaves': 43, 'min_data_in_leaf': 2134, 'lambda_l1': 8.685526927493362e-07, 'lambda_l2': 0.04045346839031443, 'bagging_fraction': 0.5, 'bagging_freq': 3}. Best is trial 5 with value: 2.0973796325504224.\u001b[0m\n",
      "\u001b[32m[I 2021-06-28 18:15:36,496]\u001b[0m Trial 6 finished with value: 2.1972248446708487 and parameters: {'feature_fraction': 0.2, 'max_depth': 2, 'num_leaves': 2, 'min_data_in_leaf': 45036, 'lambda_l1': 0.00013924601695157436, 'lambda_l2': 1.2721307340931516e-06, 'bagging_fraction': 0.65, 'bagging_freq': 5}. Best is trial 5 with value: 2.0973796325504224.\u001b[0m\n",
      "\u001b[32m[I 2021-06-28 18:15:58,908]\u001b[0m Trial 7 finished with value: 2.097909306445403 and parameters: {'feature_fraction': 0.2, 'max_depth': 6, 'num_leaves': 35, 'min_data_in_leaf': 328, 'lambda_l1': 0.26465688233247725, 'lambda_l2': 3.200446677608407e-08, 'bagging_fraction': 0.8, 'bagging_freq': 7}. Best is trial 5 with value: 2.0973796325504224.\u001b[0m\n",
      "\u001b[32m[I 2021-06-28 18:16:22,695]\u001b[0m Trial 8 finished with value: 2.1035566093074762 and parameters: {'feature_fraction': 0.55, 'max_depth': 7, 'num_leaves': 81, 'min_data_in_leaf': 259, 'lambda_l1': 5.5473360803470673e-05, 'lambda_l2': 0.006038558090602941, 'bagging_fraction': 0.6, 'bagging_freq': 3}. Best is trial 5 with value: 2.0973796325504224.\u001b[0m\n",
      "\u001b[32m[I 2021-06-28 18:17:05,907]\u001b[0m Trial 9 finished with value: 2.0989457996861787 and parameters: {'feature_fraction': 1.0, 'max_depth': 5, 'num_leaves': 32, 'min_data_in_leaf': 887, 'lambda_l1': 0.0012478157722273708, 'lambda_l2': 6.427599977194998, 'bagging_fraction': 0.95, 'bagging_freq': 3}. Best is trial 5 with value: 2.0973796325504224.\u001b[0m\n",
      "\u001b[32m[I 2021-06-28 18:17:24,358]\u001b[0m Trial 10 finished with value: 2.096093440541314 and parameters: {'feature_fraction': 0.9, 'max_depth': 5, 'num_leaves': 32, 'min_data_in_leaf': 2639, 'lambda_l1': 1.000235823880669e-09, 'lambda_l2': 2.2576984944539657e-05, 'bagging_fraction': 0.75, 'bagging_freq': 1}. Best is trial 10 with value: 2.096093440541314.\u001b[0m\n",
      "\u001b[32m[I 2021-06-28 18:17:47,221]\u001b[0m Trial 11 finished with value: 2.0959238355165386 and parameters: {'feature_fraction': 0.9, 'max_depth': 5, 'num_leaves': 31, 'min_data_in_leaf': 2772, 'lambda_l1': 3.0998459006694693e-09, 'lambda_l2': 2.3707698554784667e-05, 'bagging_fraction': 0.7, 'bagging_freq': 1}. Best is trial 11 with value: 2.0959238355165386.\u001b[0m\n",
      "\u001b[32m[I 2021-06-28 18:18:07,117]\u001b[0m Trial 12 finished with value: 2.095119942130575 and parameters: {'feature_fraction': 1.0, 'max_depth': 5, 'num_leaves': 29, 'min_data_in_leaf': 3293, 'lambda_l1': 4.057398346338156e-09, 'lambda_l2': 7.989241289613984e-06, 'bagging_fraction': 0.7, 'bagging_freq': 1}. Best is trial 12 with value: 2.095119942130575.\u001b[0m\n",
      "\u001b[32m[I 2021-06-28 18:18:30,052]\u001b[0m Trial 13 finished with value: 2.0953474080951167 and parameters: {'feature_fraction': 1.0, 'max_depth': 4, 'num_leaves': 15, 'min_data_in_leaf': 5009, 'lambda_l1': 2.156454375784531e-09, 'lambda_l2': 2.6112828153139548e-06, 'bagging_fraction': 0.7, 'bagging_freq': 1}. Best is trial 12 with value: 2.095119942130575.\u001b[0m\n",
      "\u001b[32m[I 2021-06-28 18:18:51,601]\u001b[0m Trial 14 finished with value: 2.0949630045177443 and parameters: {'feature_fraction': 0.9500000000000001, 'max_depth': 4, 'num_leaves': 15, 'min_data_in_leaf': 5291, 'lambda_l1': 3.3120222944137493e-07, 'lambda_l2': 1.089397080574951e-08, 'bagging_fraction': 0.7, 'bagging_freq': 1}. Best is trial 14 with value: 2.0949630045177443.\u001b[0m\n",
      "\u001b[32m[I 2021-06-28 18:19:13,519]\u001b[0m Trial 15 finished with value: 2.0949693071145505 and parameters: {'feature_fraction': 0.8, 'max_depth': 4, 'num_leaves': 15, 'min_data_in_leaf': 5142, 'lambda_l1': 1.2908759557082954e-06, 'lambda_l2': 1.1474998273688035e-09, 'bagging_fraction': 0.65, 'bagging_freq': 2}. Best is trial 14 with value: 2.0949630045177443.\u001b[0m\n",
      "\u001b[32m[I 2021-06-28 18:19:34,502]\u001b[0m Trial 16 finished with value: 2.0958852679985975 and parameters: {'feature_fraction': 0.8, 'max_depth': 3, 'num_leaves': 8, 'min_data_in_leaf': 9389, 'lambda_l1': 8.487034276521209e-07, 'lambda_l2': 1.1580146462661355e-09, 'bagging_fraction': 0.6, 'bagging_freq': 2}. Best is trial 14 with value: 2.0949630045177443.\u001b[0m\n",
      "\u001b[32m[I 2021-06-28 18:20:00,354]\u001b[0m Trial 17 finished with value: 2.096029298934116 and parameters: {'feature_fraction': 0.75, 'max_depth': 4, 'num_leaves': 15, 'min_data_in_leaf': 5792, 'lambda_l1': 1.3084060373338244e-06, 'lambda_l2': 1.1824425993395293e-09, 'bagging_fraction': 0.6, 'bagging_freq': 5}. Best is trial 14 with value: 2.0949630045177443.\u001b[0m\n",
      "\u001b[32m[I 2021-06-28 18:20:30,818]\u001b[0m Trial 18 finished with value: 2.09486597786925 and parameters: {'feature_fraction': 0.85, 'max_depth': 3, 'num_leaves': 8, 'min_data_in_leaf': 8947, 'lambda_l1': 9.917723777859614e-08, 'lambda_l2': 4.9345302467943034e-08, 'bagging_fraction': 0.75, 'bagging_freq': 2}. Best is trial 18 with value: 2.09486597786925.\u001b[0m\n",
      "\u001b[32m[I 2021-06-28 18:20:59,794]\u001b[0m Trial 19 finished with value: 2.094766731840765 and parameters: {'feature_fraction': 0.9, 'max_depth': 3, 'num_leaves': 8, 'min_data_in_leaf': 8842, 'lambda_l1': 4.826014899767735e-08, 'lambda_l2': 8.080412190776074e-08, 'bagging_fraction': 0.8, 'bagging_freq': 2}. Best is trial 19 with value: 2.094766731840765.\u001b[0m\n",
      "\u001b[32m[I 2021-06-28 18:21:21,252]\u001b[0m Trial 20 finished with value: 2.0983782545924896 and parameters: {'feature_fraction': 0.7000000000000001, 'max_depth': 2, 'num_leaves': 4, 'min_data_in_leaf': 14405, 'lambda_l1': 2.3273428763372188e-08, 'lambda_l2': 1.605689670535761e-07, 'bagging_fraction': 0.8, 'bagging_freq': 6}. Best is trial 19 with value: 2.094766731840765.\u001b[0m\n",
      "\u001b[32m[I 2021-06-28 18:22:14,316]\u001b[0m Trial 21 finished with value: 2.0948411737387724 and parameters: {'feature_fraction': 0.9, 'max_depth': 3, 'num_leaves': 8, 'min_data_in_leaf': 8723, 'lambda_l1': 1.4911292378423634e-07, 'lambda_l2': 1.9239980397851163e-08, 'bagging_fraction': 0.75, 'bagging_freq': 2}. Best is trial 19 with value: 2.094766731840765.\u001b[0m\n",
      "\u001b[32m[I 2021-06-28 18:22:45,005]\u001b[0m Trial 22 finished with value: 2.094861029497757 and parameters: {'feature_fraction': 0.85, 'max_depth': 3, 'num_leaves': 8, 'min_data_in_leaf': 9074, 'lambda_l1': 8.195346792007103e-08, 'lambda_l2': 1.9881518025388898e-07, 'bagging_fraction': 0.8, 'bagging_freq': 2}. Best is trial 19 with value: 2.094766731840765.\u001b[0m\n"
     ]
    },
    {
     "name": "stderr",
     "output_type": "stream",
     "text": [
      "\u001b[32m[I 2021-06-28 18:23:11,229]\u001b[0m Trial 23 finished with value: 2.09539042816576 and parameters: {'feature_fraction': 0.7000000000000001, 'max_depth': 3, 'num_leaves': 8, 'min_data_in_leaf': 9109, 'lambda_l1': 8.128464839366091e-06, 'lambda_l2': 4.2061405139439896e-07, 'bagging_fraction': 0.8, 'bagging_freq': 4}. Best is trial 19 with value: 2.094766731840765.\u001b[0m\n",
      "\u001b[32m[I 2021-06-28 18:23:35,858]\u001b[0m Trial 24 finished with value: 2.0965068860752134 and parameters: {'feature_fraction': 0.9, 'max_depth': 2, 'num_leaves': 4, 'min_data_in_leaf': 12841, 'lambda_l1': 3.33889416118e-08, 'lambda_l2': 1.1056802731730287e-08, 'bagging_fraction': 0.8500000000000001, 'bagging_freq': 4}. Best is trial 19 with value: 2.094766731840765.\u001b[0m\n",
      "\u001b[32m[I 2021-06-28 18:24:05,557]\u001b[0m Trial 25 finished with value: 2.0948383686305307 and parameters: {'feature_fraction': 0.85, 'max_depth': 3, 'num_leaves': 7, 'min_data_in_leaf': 10652, 'lambda_l1': 1.0150039843549595e-05, 'lambda_l2': 6.105298277218854e-09, 'bagging_fraction': 0.9, 'bagging_freq': 2}. Best is trial 19 with value: 2.094766731840765.\u001b[0m\n",
      "\u001b[32m[I 2021-06-28 18:24:32,685]\u001b[0m Trial 26 finished with value: 2.0989647393995203 and parameters: {'feature_fraction': 0.65, 'max_depth': 2, 'num_leaves': 3, 'min_data_in_leaf': 18735, 'lambda_l1': 1.084397520051842e-05, 'lambda_l2': 4.7401657365338624e-09, 'bagging_fraction': 0.95, 'bagging_freq': 3}. Best is trial 19 with value: 2.094766731840765.\u001b[0m\n",
      "\u001b[32m[I 2021-06-28 18:25:00,858]\u001b[0m Trial 27 finished with value: 2.094934634559333 and parameters: {'feature_fraction': 0.9500000000000001, 'max_depth': 3, 'num_leaves': 7, 'min_data_in_leaf': 10907, 'lambda_l1': 1.0866401438746037e-05, 'lambda_l2': 0.0001252612008240446, 'bagging_fraction': 0.9, 'bagging_freq': 2}. Best is trial 19 with value: 2.094766731840765.\u001b[0m\n",
      "\u001b[32m[I 2021-06-28 18:25:16,593]\u001b[0m Trial 28 finished with value: 2.172744160856812 and parameters: {'feature_fraction': 0.8, 'max_depth': 1, 'num_leaves': 2, 'min_data_in_leaf': 34993, 'lambda_l1': 1.0746905168354908e-08, 'lambda_l2': 4.1485731611184645e-08, 'bagging_fraction': 0.9, 'bagging_freq': 4}. Best is trial 19 with value: 2.094766731840765.\u001b[0m\n",
      "\u001b[32m[I 2021-06-28 18:25:45,296]\u001b[0m Trial 29 finished with value: 2.0958424693861817 and parameters: {'feature_fraction': 0.9500000000000001, 'max_depth': 3, 'num_leaves': 7, 'min_data_in_leaf': 7746, 'lambda_l1': 1.4028850818198565e-07, 'lambda_l2': 4.8050347193595346e-09, 'bagging_fraction': 0.75, 'bagging_freq': 3}. Best is trial 19 with value: 2.094766731840765.\u001b[0m\n",
      "\u001b[32m[I 2021-06-28 18:26:12,156]\u001b[0m Trial 30 finished with value: 2.095046171228992 and parameters: {'feature_fraction': 0.65, 'max_depth': 4, 'num_leaves': 11, 'min_data_in_leaf': 7526, 'lambda_l1': 8.054451409289855e-05, 'lambda_l2': 0.0003278582668456386, 'bagging_fraction': 0.8500000000000001, 'bagging_freq': 8}. Best is trial 19 with value: 2.094766731840765.\u001b[0m\n",
      "\u001b[32m[I 2021-06-28 18:26:36,793]\u001b[0m Trial 31 finished with value: 2.0955420583827107 and parameters: {'feature_fraction': 0.85, 'max_depth': 3, 'num_leaves': 7, 'min_data_in_leaf': 11238, 'lambda_l1': 8.799504877625088e-08, 'lambda_l2': 2.6106339227295336e-07, 'bagging_fraction': 0.8, 'bagging_freq': 2}. Best is trial 19 with value: 2.094766731840765.\u001b[0m\n",
      "\u001b[32m[I 2021-06-28 18:26:56,863]\u001b[0m Trial 32 finished with value: 2.099642854708442 and parameters: {'feature_fraction': 0.85, 'max_depth': 2, 'num_leaves': 3, 'min_data_in_leaf': 15547, 'lambda_l1': 4.4469207571173144e-06, 'lambda_l2': 1.1088399531534675e-07, 'bagging_fraction': 0.75, 'bagging_freq': 2}. Best is trial 19 with value: 2.094766731840765.\u001b[0m\n",
      "\u001b[32m[I 2021-06-28 18:27:16,421]\u001b[0m Trial 33 finished with value: 2.0945968111868067 and parameters: {'feature_fraction': 0.75, 'max_depth': 3, 'num_leaves': 8, 'min_data_in_leaf': 10867, 'lambda_l1': 9.90965778516217e-09, 'lambda_l2': 1.151512126319631e-06, 'bagging_fraction': 0.9, 'bagging_freq': 1}. Best is trial 33 with value: 2.0945968111868067.\u001b[0m\n",
      "\u001b[32m[I 2021-06-28 18:27:34,465]\u001b[0m Trial 34 finished with value: 2.0944003283969486 and parameters: {'feature_fraction': 0.75, 'max_depth': 3, 'num_leaves': 6, 'min_data_in_leaf': 10716, 'lambda_l1': 6.358443816813843e-09, 'lambda_l2': 5.47468257460046e-09, 'bagging_fraction': 0.9, 'bagging_freq': 1}. Best is trial 34 with value: 2.0944003283969486.\u001b[0m\n",
      "\u001b[32m[I 2021-06-28 18:28:18,911]\u001b[0m Trial 35 finished with value: 2.09567882450033 and parameters: {'feature_fraction': 0.5, 'max_depth': 2, 'num_leaves': 4, 'min_data_in_leaf': 12821, 'lambda_l1': 7.06011826162058e-09, 'lambda_l2': 8.726880876970378e-07, 'bagging_fraction': 0.95, 'bagging_freq': 1}. Best is trial 34 with value: 2.0944003283969486.\u001b[0m\n",
      "\u001b[32m[I 2021-06-28 18:28:50,642]\u001b[0m Trial 36 finished with value: 2.1058580680203605 and parameters: {'feature_fraction': 0.6, 'max_depth': 1, 'num_leaves': 2, 'min_data_in_leaf': 22279, 'lambda_l1': 2.0024455050708286e-08, 'lambda_l2': 4.457495074055632e-06, 'bagging_fraction': 0.9, 'bagging_freq': 1}. Best is trial 34 with value: 2.0944003283969486.\u001b[0m\n",
      "\u001b[32m[I 2021-06-28 18:29:15,653]\u001b[0m Trial 37 finished with value: 2.0950857108686534 and parameters: {'feature_fraction': 0.75, 'max_depth': 3, 'num_leaves': 6, 'min_data_in_leaf': 10488, 'lambda_l1': 9.090124518710724, 'lambda_l2': 3.5902919860584707e-09, 'bagging_fraction': 0.8500000000000001, 'bagging_freq': 3}. Best is trial 34 with value: 2.0944003283969486.\u001b[0m\n",
      "\u001b[32m[I 2021-06-28 18:29:41,567]\u001b[0m Trial 38 finished with value: 2.0946342469324994 and parameters: {'feature_fraction': 0.7000000000000001, 'max_depth': 4, 'num_leaves': 10, 'min_data_in_leaf': 9944, 'lambda_l1': 0.0015595797432212857, 'lambda_l2': 1.048861521014187e-06, 'bagging_fraction': 0.9, 'bagging_freq': 1}. Best is trial 34 with value: 2.0944003283969486.\u001b[0m\n",
      "\u001b[32m[I 2021-06-28 18:30:16,222]\u001b[0m Trial 39 finished with value: 2.094778765647169 and parameters: {'feature_fraction': 0.65, 'max_depth': 4, 'num_leaves': 10, 'min_data_in_leaf': 9865, 'lambda_l1': 0.0040882604457251675, 'lambda_l2': 1.0556262022306908e-06, 'bagging_fraction': 0.95, 'bagging_freq': 1}. Best is trial 34 with value: 2.0944003283969486.\u001b[0m\n",
      "Finished hyperparemeter search! (elapsed time: 974.336 sec.) The best_iteration is 99.\n",
      "Making booster(s)...\n",
      "Finished making booster(s)! (elapsed time: 5.605 sec.)\n"
     ]
    },
    {
     "name": "stdout",
     "output_type": "stream",
     "text": [
      "16.33\n",
      "2021-06-28 18:30:21.835882\n"
     ]
    }
   ],
   "source": [
    "print(datetime.datetime.now())\n",
    "start = time.time()\n",
    "\n",
    "weights_lgbm = lgb.LGBMClassifier(class_weight='balanced')\n",
    "weights_lgbm.fit(X_train, y_train)\n",
    "\n",
    "minutes = (time.time() - start) / 60\n",
    "print(round(minutes, 2))\n",
    "print(datetime.datetime.now())"
   ]
  },
  {
   "cell_type": "code",
   "execution_count": 21,
   "id": "7f9e0a42",
   "metadata": {},
   "outputs": [
    {
     "name": "stdout",
     "output_type": "stream",
     "text": [
      "2.0341957159223942\n"
     ]
    }
   ],
   "source": [
    "from sklearn.metrics import log_loss\n",
    "test_preds = weights_lgbm.predict_proba(X_test)\n",
    "print(abs(log_loss(y_test, test_preds)))"
   ]
  }
 ],
 "metadata": {
  "kernelspec": {
   "display_name": "Python 3",
   "language": "python",
   "name": "python3"
  },
  "language_info": {
   "codemirror_mode": {
    "name": "ipython",
    "version": 3
   },
   "file_extension": ".py",
   "mimetype": "text/x-python",
   "name": "python",
   "nbconvert_exporter": "python",
   "pygments_lexer": "ipython3",
   "version": "3.9.4"
  }
 },
 "nbformat": 4,
 "nbformat_minor": 5
}
