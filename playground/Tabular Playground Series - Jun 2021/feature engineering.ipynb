{
 "cells": [
  {
   "cell_type": "code",
   "execution_count": 71,
   "id": "4926f0b9",
   "metadata": {},
   "outputs": [],
   "source": [
    "import time\n",
    "import datetime\n",
    "\n",
    "import numpy as np\n",
    "import pandas as pd\n",
    "import optgbm as opt\n",
    "from sklearn.metrics import log_loss\n",
    "from sklearn.preprocessing import StandardScaler"
   ]
  },
  {
   "cell_type": "code",
   "execution_count": 72,
   "id": "85b5edff",
   "metadata": {},
   "outputs": [],
   "source": [
    "train_df = pd.read_csv('train.csv')\n",
    "test_df = pd.read_csv('test.csv')\n",
    "\n",
    "train_features = train_df.drop(['target', 'id'], 1)\n",
    "test_features = test_df.drop('id', 1)"
   ]
  },
  {
   "cell_type": "code",
   "execution_count": 73,
   "id": "ca9f326e",
   "metadata": {},
   "outputs": [],
   "source": [
    "def do_transform(df, scaler):\n",
    "    copy = df.copy()\n",
    "    copy['sum_no_scale'] = copy.sum(axis=1)\n",
    "    copy['mean_no_scale'] = copy.mean(axis=1)\n",
    "    copy['median_no_scale'] = copy.median(axis=1)\n",
    "    copy['gtr_1'] = (train_features.transpose() > 1).sum()\n",
    "    copy['gtr_5'] = (train_features.transpose() > 5).sum()\n",
    "    copy['gtr_10'] = (train_features.transpose() > 10).sum()\n",
    "    copy['gtr_20'] = (train_features.transpose() > 20).sum()\n",
    "    \n",
    "    scaled_df = scaler.transform(df)\n",
    "    copy['sum_scale'] = scaled_df.sum(axis=1)\n",
    "    copy['mean_scale'] = scaled_df.mean(axis=1)\n",
    "    copy['median_scale'] = np.median(scaled_df)\n",
    "    return copy"
   ]
  },
  {
   "cell_type": "code",
   "execution_count": 74,
   "id": "01b1205d",
   "metadata": {},
   "outputs": [],
   "source": [
    "scaler = StandardScaler().fit(train_features)\n",
    "\n",
    "train_transformed = do_transform(train_features, scaler)\n",
    "test_trainsformed = do_transform(test_features, scaler)"
   ]
  },
  {
   "cell_type": "code",
   "execution_count": 75,
   "id": "6f34d7b2",
   "metadata": {},
   "outputs": [
    {
     "name": "stderr",
     "output_type": "stream",
     "text": [
      "/opt/conda/lib/python3.9/site-packages/sklearn/utils/validation.py:70: FutureWarning: Pass classifier=True as keyword args. From version 1.0 (renaming of 0.25) passing these as positional arguments will result in an error\n",
      "  warnings.warn(f\"Pass {args_msg} as keyword args. From version \"\n",
      "\u001b[32m[I 2021-06-27 21:34:58,502]\u001b[0m A new study created in memory with name: no-name-15061b80-69be-40f3-bccb-21f1604ccb87\u001b[0m\n",
      "Searching the best hyperparameters...\n"
     ]
    },
    {
     "name": "stdout",
     "output_type": "stream",
     "text": [
      "2021-06-27 21:34:58.451324\n"
     ]
    },
    {
     "name": "stderr",
     "output_type": "stream",
     "text": [
      "\u001b[32m[I 2021-06-27 21:36:00,460]\u001b[0m Trial 0 finished with value: 1.7626761927222432 and parameters: {'feature_fraction': 0.35, 'max_depth': 5, 'num_leaves': 2, 'min_data_in_leaf': 9400, 'lambda_l1': 2.5789016605368165e-06, 'lambda_l2': 4.363344108437796e-07, 'bagging_fraction': 0.7, 'bagging_freq': 5}. Best is trial 0 with value: 1.7626761927222432.\u001b[0m\n",
      "\u001b[32m[I 2021-06-27 21:37:04,636]\u001b[0m Trial 1 finished with value: 1.7498471771526116 and parameters: {'feature_fraction': 0.35, 'max_depth': 4, 'num_leaves': 7, 'min_data_in_leaf': 9014, 'lambda_l1': 0.0032065562837036814, 'lambda_l2': 2.975173865031074e-06, 'bagging_fraction': 0.5, 'bagging_freq': 2}. Best is trial 1 with value: 1.7498471771526116.\u001b[0m\n",
      "\u001b[32m[I 2021-06-27 21:37:40,427]\u001b[0m Trial 2 finished with value: 1.7646888311746376 and parameters: {'feature_fraction': 0.65, 'max_depth': 1, 'num_leaves': 2, 'min_data_in_leaf': 33369, 'lambda_l1': 6.221553161507119e-09, 'lambda_l2': 3.896369015445055, 'bagging_fraction': 0.8500000000000001, 'bagging_freq': 8}. Best is trial 1 with value: 1.7498471771526116.\u001b[0m\n",
      "\u001b[32m[I 2021-06-27 21:38:52,699]\u001b[0m Trial 3 finished with value: 1.762924838909618 and parameters: {'feature_fraction': 0.45000000000000007, 'max_depth': 1, 'num_leaves': 2, 'min_data_in_leaf': 15454, 'lambda_l1': 0.0036131516006417323, 'lambda_l2': 0.00011360664072072845, 'bagging_fraction': 0.7, 'bagging_freq': 6}. Best is trial 1 with value: 1.7498471771526116.\u001b[0m\n",
      "\u001b[32m[I 2021-06-27 21:39:34,247]\u001b[0m Trial 4 finished with value: 1.7571504786152539 and parameters: {'feature_fraction': 0.7000000000000001, 'max_depth': 2, 'num_leaves': 3, 'min_data_in_leaf': 33618, 'lambda_l1': 1.20014263246683e-06, 'lambda_l2': 0.03973436941431994, 'bagging_fraction': 0.95, 'bagging_freq': 4}. Best is trial 1 with value: 1.7498471771526116.\u001b[0m\n",
      "\u001b[32m[I 2021-06-27 21:40:37,859]\u001b[0m Trial 5 finished with value: 1.75011726255795 and parameters: {'feature_fraction': 0.1, 'max_depth': 4, 'num_leaves': 10, 'min_data_in_leaf': 6169, 'lambda_l1': 2.4511785687627622e-05, 'lambda_l2': 4.953589054837212, 'bagging_fraction': 0.8500000000000001, 'bagging_freq': 7}. Best is trial 1 with value: 1.7498471771526116.\u001b[0m\n",
      "\u001b[32m[I 2021-06-27 21:41:53,355]\u001b[0m Trial 6 finished with value: 1.750356513760267 and parameters: {'feature_fraction': 0.30000000000000004, 'max_depth': 4, 'num_leaves': 13, 'min_data_in_leaf': 40, 'lambda_l1': 0.0003482058582126675, 'lambda_l2': 4.921375369144273e-09, 'bagging_fraction': 0.6, 'bagging_freq': 2}. Best is trial 1 with value: 1.7498471771526116.\u001b[0m\n",
      "\u001b[32m[I 2021-06-27 21:42:48,973]\u001b[0m Trial 7 finished with value: 1.7503282237537554 and parameters: {'feature_fraction': 0.9500000000000001, 'max_depth': 7, 'num_leaves': 65, 'min_data_in_leaf': 2015, 'lambda_l1': 1.7557404099647323e-06, 'lambda_l2': 1.8452407522801214e-06, 'bagging_fraction': 0.7, 'bagging_freq': 8}. Best is trial 1 with value: 1.7498471771526116.\u001b[0m\n",
      "\u001b[32m[I 2021-06-27 21:43:37,616]\u001b[0m Trial 8 finished with value: 1.7508289305882845 and parameters: {'feature_fraction': 1.0, 'max_depth': 4, 'num_leaves': 14, 'min_data_in_leaf': 864, 'lambda_l1': 3.8229844802499597e-08, 'lambda_l2': 2.7346328512792135e-09, 'bagging_fraction': 0.6, 'bagging_freq': 10}. Best is trial 1 with value: 1.7498471771526116.\u001b[0m\n",
      "\u001b[32m[I 2021-06-27 21:44:40,373]\u001b[0m Trial 9 finished with value: 1.7649930572956982 and parameters: {'feature_fraction': 0.55, 'max_depth': 1, 'num_leaves': 2, 'min_data_in_leaf': 23352, 'lambda_l1': 0.5199117638945424, 'lambda_l2': 5.476205655702265e-09, 'bagging_fraction': 0.55, 'bagging_freq': 7}. Best is trial 1 with value: 1.7498471771526116.\u001b[0m\n",
      "\u001b[32m[I 2021-06-27 21:45:31,265]\u001b[0m Trial 10 finished with value: 1.751263069766607 and parameters: {'feature_fraction': 0.1, 'max_depth': 6, 'num_leaves': 33, 'min_data_in_leaf': 5574, 'lambda_l1': 2.881307028979664, 'lambda_l2': 0.0009314073350977785, 'bagging_fraction': 0.5, 'bagging_freq': 1}. Best is trial 1 with value: 1.7498471771526116.\u001b[0m\n",
      "\u001b[32m[I 2021-06-27 21:46:28,676]\u001b[0m Trial 11 finished with value: 1.752674009930984 and parameters: {'feature_fraction': 0.1, 'max_depth': 3, 'num_leaves': 8, 'min_data_in_leaf': 13460, 'lambda_l1': 0.029701841695686754, 'lambda_l2': 6.543372643656131, 'bagging_fraction': 0.8500000000000001, 'bagging_freq': 3}. Best is trial 1 with value: 1.7498471771526116.\u001b[0m\n",
      "\u001b[32m[I 2021-06-27 21:47:51,899]\u001b[0m Trial 12 finished with value: 1.7476223780406166 and parameters: {'feature_fraction': 0.2, 'max_depth': 5, 'num_leaves': 27, 'min_data_in_leaf': 6990, 'lambda_l1': 8.367468185728273e-05, 'lambda_l2': 1.0647568325575699e-06, 'bagging_fraction': 0.8500000000000001, 'bagging_freq': 10}. Best is trial 12 with value: 1.7476223780406166.\u001b[0m\n",
      "\u001b[32m[I 2021-06-27 21:49:33,877]\u001b[0m Trial 13 finished with value: 1.7474735056995983 and parameters: {'feature_fraction': 0.25, 'max_depth': 6, 'num_leaves': 29, 'min_data_in_leaf': 6762, 'lambda_l1': 0.0008903826665370872, 'lambda_l2': 7.850365575906651e-07, 'bagging_fraction': 0.95, 'bagging_freq': 10}. Best is trial 13 with value: 1.7474735056995983.\u001b[0m\n",
      "\u001b[32m[I 2021-06-27 21:51:08,235]\u001b[0m Trial 14 finished with value: 1.7482324602302768 and parameters: {'feature_fraction': 0.2, 'max_depth': 7, 'num_leaves': 106, 'min_data_in_leaf': 1879, 'lambda_l1': 0.0001643001070556261, 'lambda_l2': 2.076023476874353e-07, 'bagging_fraction': 0.95, 'bagging_freq': 10}. Best is trial 13 with value: 1.7474735056995983.\u001b[0m\n",
      "\u001b[32m[I 2021-06-27 21:52:46,128]\u001b[0m Trial 15 finished with value: 1.7474179597698734 and parameters: {'feature_fraction': 0.25, 'max_depth': 6, 'num_leaves': 30, 'min_data_in_leaf': 6584, 'lambda_l1': 0.07306805053147462, 'lambda_l2': 1.6517373252129597e-05, 'bagging_fraction': 0.9, 'bagging_freq': 10}. Best is trial 15 with value: 1.7474179597698734.\u001b[0m\n",
      "\u001b[32m[I 2021-06-27 21:54:30,764]\u001b[0m Trial 16 finished with value: 1.7472935055321677 and parameters: {'feature_fraction': 0.25, 'max_depth': 6, 'num_leaves': 42, 'min_data_in_leaf': 4383, 'lambda_l1': 0.11123293493997494, 'lambda_l2': 0.0031984942242655945, 'bagging_fraction': 0.95, 'bagging_freq': 9}. Best is trial 16 with value: 1.7472935055321677.\u001b[0m\n",
      "\u001b[32m[I 2021-06-27 21:56:31,435]\u001b[0m Trial 17 finished with value: 1.7481535736627503 and parameters: {'feature_fraction': 0.45000000000000007, 'max_depth': 6, 'num_leaves': 46, 'min_data_in_leaf': 4205, 'lambda_l1': 0.25676165615964863, 'lambda_l2': 0.007158156845576215, 'bagging_fraction': 0.9, 'bagging_freq': 9}. Best is trial 16 with value: 1.7472935055321677.\u001b[0m\n",
      "\u001b[32m[I 2021-06-27 21:58:24,409]\u001b[0m Trial 18 finished with value: 1.748301651324392 and parameters: {'feature_fraction': 0.45000000000000007, 'max_depth': 7, 'num_leaves': 63, 'min_data_in_leaf': 3118, 'lambda_l1': 0.05324779055525007, 'lambda_l2': 0.07440025863617927, 'bagging_fraction': 0.8, 'bagging_freq': 9}. Best is trial 16 with value: 1.7472935055321677.\u001b[0m\n",
      "\u001b[32m[I 2021-06-27 21:59:21,583]\u001b[0m Trial 19 finished with value: 1.748603603064544 and parameters: {'feature_fraction': 0.8, 'max_depth': 5, 'num_leaves': 22, 'min_data_in_leaf': 7955, 'lambda_l1': 0.8459416424089042, 'lambda_l2': 2.9131731566751042e-05, 'bagging_fraction': 0.75, 'bagging_freq': 8}. Best is trial 16 with value: 1.7472935055321677.\u001b[0m\n",
      "\u001b[32m[I 2021-06-27 22:00:53,872]\u001b[0m Trial 20 finished with value: 1.7474089601109182 and parameters: {'feature_fraction': 0.2, 'max_depth': 6, 'num_leaves': 39, 'min_data_in_leaf': 4741, 'lambda_l1': 0.025919428806022077, 'lambda_l2': 0.00017218004452097707, 'bagging_fraction': 0.9, 'bagging_freq': 9}. Best is trial 16 with value: 1.7472935055321677.\u001b[0m\n",
      "\u001b[32m[I 2021-06-27 22:02:23,742]\u001b[0m Trial 21 finished with value: 1.747426098815156 and parameters: {'feature_fraction': 0.2, 'max_depth': 6, 'num_leaves': 41, 'min_data_in_leaf': 4781, 'lambda_l1': 0.034827328717978875, 'lambda_l2': 0.00038026514324769086, 'bagging_fraction': 0.9, 'bagging_freq': 9}. Best is trial 16 with value: 1.7472935055321677.\u001b[0m\n",
      "\u001b[32m[I 2021-06-27 22:04:08,384]\u001b[0m Trial 22 finished with value: 1.7474488718717527 and parameters: {'feature_fraction': 0.35, 'max_depth': 5, 'num_leaves': 32, 'min_data_in_leaf': 4137, 'lambda_l1': 8.401540718228675, 'lambda_l2': 2.6130988107394618e-05, 'bagging_fraction': 0.9, 'bagging_freq': 9}. Best is trial 16 with value: 1.7472935055321677.\u001b[0m\n"
     ]
    },
    {
     "name": "stderr",
     "output_type": "stream",
     "text": [
      "\u001b[32m[I 2021-06-27 22:05:40,101]\u001b[0m Trial 23 finished with value: 1.746968365801764 and parameters: {'feature_fraction': 0.15000000000000002, 'max_depth': 7, 'num_leaves': 59, 'min_data_in_leaf': 2924, 'lambda_l1': 0.00968872653090523, 'lambda_l2': 0.0028843425853577595, 'bagging_fraction': 0.95, 'bagging_freq': 7}. Best is trial 23 with value: 1.746968365801764.\u001b[0m\n",
      "\u001b[32m[I 2021-06-27 22:07:01,808]\u001b[0m Trial 24 finished with value: 1.7495104376190853 and parameters: {'feature_fraction': 0.1, 'max_depth': 7, 'num_leaves': 60, 'min_data_in_leaf': 2883, 'lambda_l1': 0.010059666188863267, 'lambda_l2': 0.0029909809403917214, 'bagging_fraction': 0.95, 'bagging_freq': 7}. Best is trial 23 with value: 1.746968365801764.\u001b[0m\n",
      "\u001b[32m[I 2021-06-27 22:08:22,671]\u001b[0m Trial 25 finished with value: 1.7478593337830155 and parameters: {'feature_fraction': 0.2, 'max_depth': 7, 'num_leaves': 82, 'min_data_in_leaf': 2406, 'lambda_l1': 0.002092996456881035, 'lambda_l2': 0.3241706939721242, 'bagging_fraction': 0.8, 'bagging_freq': 6}. Best is trial 23 with value: 1.746968365801764.\u001b[0m\n",
      "\u001b[32m[I 2021-06-27 22:09:48,761]\u001b[0m Trial 26 finished with value: 1.746595500083578 and parameters: {'feature_fraction': 0.15000000000000002, 'max_depth': 6, 'num_leaves': 52, 'min_data_in_leaf': 3838, 'lambda_l1': 5.160354223289171, 'lambda_l2': 0.007333138234995857, 'bagging_fraction': 0.95, 'bagging_freq': 8}. Best is trial 26 with value: 1.746595500083578.\u001b[0m\n",
      "\u001b[32m[I 2021-06-27 22:11:15,338]\u001b[0m Trial 27 finished with value: 1.7495338915605434 and parameters: {'feature_fraction': 0.1, 'max_depth': 7, 'num_leaves': 75, 'min_data_in_leaf': 1116, 'lambda_l1': 7.396706036934926, 'lambda_l2': 0.006157846953780116, 'bagging_fraction': 0.95, 'bagging_freq': 5}. Best is trial 26 with value: 1.746595500083578.\u001b[0m\n",
      "\u001b[32m[I 2021-06-27 22:12:28,698]\u001b[0m Trial 28 finished with value: 1.746861009074023 and parameters: {'feature_fraction': 0.15000000000000002, 'max_depth': 5, 'num_leaves': 25, 'min_data_in_leaf': 3286, 'lambda_l1': 1.7196494975096255, 'lambda_l2': 0.49960174174090427, 'bagging_fraction': 0.8, 'bagging_freq': 7}. Best is trial 26 with value: 1.746595500083578.\u001b[0m\n",
      "\u001b[32m[I 2021-06-27 22:13:38,782]\u001b[0m Trial 29 finished with value: 1.7472988071293958 and parameters: {'feature_fraction': 0.15000000000000002, 'max_depth': 5, 'num_leaves': 19, 'min_data_in_leaf': 3494, 'lambda_l1': 1.4211255294274456, 'lambda_l2': 0.20720554440813327, 'bagging_fraction': 0.75, 'bagging_freq': 6}. Best is trial 26 with value: 1.746595500083578.\u001b[0m\n",
      "\u001b[32m[I 2021-06-27 22:14:48,983]\u001b[0m Trial 30 finished with value: 1.75219817396578 and parameters: {'feature_fraction': 0.4, 'max_depth': 3, 'num_leaves': 4, 'min_data_in_leaf': 13294, 'lambda_l1': 7.190159489139625, 'lambda_l2': 0.7490547579854993, 'bagging_fraction': 0.65, 'bagging_freq': 7}. Best is trial 26 with value: 1.746595500083578.\u001b[0m\n",
      "\u001b[32m[I 2021-06-27 22:16:20,664]\u001b[0m Trial 31 finished with value: 1.7477141194110295 and parameters: {'feature_fraction': 0.30000000000000004, 'max_depth': 5, 'num_leaves': 25, 'min_data_in_leaf': 3492, 'lambda_l1': 0.2551090039806838, 'lambda_l2': 0.03047614997265177, 'bagging_fraction': 0.8, 'bagging_freq': 8}. Best is trial 26 with value: 1.746595500083578.\u001b[0m\n",
      "\u001b[32m[I 2021-06-27 22:18:08,427]\u001b[0m Trial 32 finished with value: 1.747776417028857 and parameters: {'feature_fraction': 0.30000000000000004, 'max_depth': 6, 'num_leaves': 52, 'min_data_in_leaf': 3751, 'lambda_l1': 0.1309528538689946, 'lambda_l2': 0.0009914488425160973, 'bagging_fraction': 0.95, 'bagging_freq': 7}. Best is trial 26 with value: 1.746595500083578.\u001b[0m\n",
      "\u001b[32m[I 2021-06-27 22:19:27,873]\u001b[0m Trial 33 finished with value: 1.7471088288581087 and parameters: {'feature_fraction': 0.15000000000000002, 'max_depth': 5, 'num_leaves': 19, 'min_data_in_leaf': 5282, 'lambda_l1': 1.8772957245385444, 'lambda_l2': 0.011408131723158852, 'bagging_fraction': 0.9, 'bagging_freq': 8}. Best is trial 26 with value: 1.746595500083578.\u001b[0m\n",
      "\u001b[32m[I 2021-06-27 22:20:45,136]\u001b[0m Trial 34 finished with value: 1.7471244254903116 and parameters: {'feature_fraction': 0.15000000000000002, 'max_depth': 5, 'num_leaves': 19, 'min_data_in_leaf': 5391, 'lambda_l1': 2.282331210264468, 'lambda_l2': 1.1387231979046657, 'bagging_fraction': 0.8500000000000001, 'bagging_freq': 8}. Best is trial 26 with value: 1.746595500083578.\u001b[0m\n",
      "\u001b[32m[I 2021-06-27 22:21:54,231]\u001b[0m Trial 35 finished with value: 1.7476753914229548 and parameters: {'feature_fraction': 0.15000000000000002, 'max_depth': 4, 'num_leaves': 16, 'min_data_in_leaf': 1279, 'lambda_l1': 0.008502120831280293, 'lambda_l2': 0.024845073718705254, 'bagging_fraction': 0.8, 'bagging_freq': 5}. Best is trial 26 with value: 1.746595500083578.\u001b[0m\n",
      "\u001b[32m[I 2021-06-27 22:23:46,899]\u001b[0m Trial 36 finished with value: 1.747436696551238 and parameters: {'feature_fraction': 0.4, 'max_depth': 5, 'num_leaves': 24, 'min_data_in_leaf': 2759, 'lambda_l1': 8.926558417208176, 'lambda_l2': 0.013943029499261041, 'bagging_fraction': 0.9, 'bagging_freq': 6}. Best is trial 26 with value: 1.746595500083578.\u001b[0m\n",
      "\u001b[32m[I 2021-06-27 22:25:05,780]\u001b[0m Trial 37 finished with value: 1.7494913375515602 and parameters: {'feature_fraction': 0.6, 'max_depth': 3, 'num_leaves': 6, 'min_data_in_leaf': 10300, 'lambda_l1': 0.818629511799105, 'lambda_l2': 0.1158320733479073, 'bagging_fraction': 0.8500000000000001, 'bagging_freq': 8}. Best is trial 26 with value: 1.746595500083578.\u001b[0m\n",
      "\u001b[32m[I 2021-06-27 22:26:34,844]\u001b[0m Trial 38 finished with value: 1.7479832205629784 and parameters: {'feature_fraction': 0.35, 'max_depth': 5, 'num_leaves': 20, 'min_data_in_leaf': 5710, 'lambda_l1': 1.8021284495329695e-05, 'lambda_l2': 1.0814437984226712, 'bagging_fraction': 0.75, 'bagging_freq': 7}. Best is trial 26 with value: 1.746595500083578.\u001b[0m\n",
      "\u001b[32m[I 2021-06-27 22:27:28,031]\u001b[0m Trial 39 finished with value: 1.7504057579620589 and parameters: {'feature_fraction': 0.75, 'max_depth': 4, 'num_leaves': 10, 'min_data_in_leaf': 48, 'lambda_l1': 0.008197599490946617, 'lambda_l2': 0.0007497408429962953, 'bagging_fraction': 0.9, 'bagging_freq': 4}. Best is trial 26 with value: 1.746595500083578.\u001b[0m\n",
      "Finished hyperparemeter search! (elapsed time: 3149.492 sec.) The best_iteration is 99.\n",
      "Making booster(s)...\n",
      "Finished making booster(s)! (elapsed time: 20.967 sec.)\n"
     ]
    },
    {
     "name": "stdout",
     "output_type": "stream",
     "text": [
      "52.84\n",
      "2021-06-27 22:27:49.003867\n"
     ]
    }
   ],
   "source": [
    "print(datetime.datetime.now())\n",
    "start = time.time()\n",
    "\n",
    "X_train = train_transformed\n",
    "y_train = train_df['target']\n",
    "\n",
    "opt_obgm = opt.OGBMClassifier()\n",
    "opt_obgm.fit(X_train, y_train)\n",
    "\n",
    "minutes = (time.time() - start) / 60\n",
    "print(round(minutes, 2))\n",
    "print(datetime.datetime.now())"
   ]
  },
  {
   "cell_type": "code",
   "execution_count": 80,
   "id": "b613e085",
   "metadata": {},
   "outputs": [
    {
     "name": "stdout",
     "output_type": "stream",
     "text": [
      "2021-06-27 22:30:54.153827\n",
      "2021-06-27 22:30:55.475946\n"
     ]
    }
   ],
   "source": [
    "print(datetime.datetime.now())\n",
    "X_test = test_trainsformed\n",
    "test_preds = opt_obgm.predict_proba(X_test)\n",
    "print(datetime.datetime.now())"
   ]
  },
  {
   "cell_type": "code",
   "execution_count": 81,
   "id": "4e79bfc5",
   "metadata": {},
   "outputs": [],
   "source": [
    "submission = pd.DataFrame(test_preds)\n",
    "submission.columns = ['Class_1', 'Class_2', 'Class_3', 'Class_4', 'Class_5', 'Class_6', 'Class_7', 'Class_8', 'Class_9']\n",
    "submission['id'] = test_df['id']\n",
    "\n",
    "submission.to_csv(\"submission_fe_opt_obgm.csv\", index=False)"
   ]
  }
 ],
 "metadata": {
  "kernelspec": {
   "display_name": "Python 3",
   "language": "python",
   "name": "python3"
  },
  "language_info": {
   "codemirror_mode": {
    "name": "ipython",
    "version": 3
   },
   "file_extension": ".py",
   "mimetype": "text/x-python",
   "name": "python",
   "nbconvert_exporter": "python",
   "pygments_lexer": "ipython3",
   "version": "3.9.4"
  }
 },
 "nbformat": 4,
 "nbformat_minor": 5
}
