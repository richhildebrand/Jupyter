{
 "cells": [
  {
   "cell_type": "code",
   "execution_count": 5,
   "id": "b908830f",
   "metadata": {},
   "outputs": [],
   "source": [
    "from sklearn.model_selection import StratifiedKFold, train_test_split\n",
    "from sklearn.linear_model import LinearRegression\n",
    "from matplotlib import pyplot\n",
    "import numpy as np\n",
    "import pandas as pd\n",
    "SEED = 777"
   ]
  },
  {
   "cell_type": "code",
   "execution_count": 6,
   "id": "bb20ee79",
   "metadata": {},
   "outputs": [],
   "source": [
    "train_df = pd.read_csv(\"train.csv\")\n",
    "test_df = pd.read_csv(\"test.csv\")"
   ]
  },
  {
   "cell_type": "code",
   "execution_count": 7,
   "id": "2207c118",
   "metadata": {},
   "outputs": [
    {
     "name": "stdout",
     "output_type": "stream",
     "text": [
      "0    5\n",
      "1    5\n",
      "2    1\n",
      "3    7\n",
      "4    1\n",
      "Name: target, dtype: int64\n"
     ]
    }
   ],
   "source": [
    "from sklearn.preprocessing import LabelEncoder\n",
    "features_target = ['target'] \n",
    "\n",
    "for feature in features_target:\n",
    "    le = LabelEncoder()\n",
    "    le.fit(train_df[feature])\n",
    "    train_df[feature] = le.transform(train_df[feature])\n",
    "    \n",
    "print(train_df['target'].head())"
   ]
  },
  {
   "cell_type": "code",
   "execution_count": 38,
   "id": "f1ac7c67",
   "metadata": {},
   "outputs": [
    {
     "name": "stdout",
     "output_type": "stream",
     "text": [
      "train count:  100000\n",
      "test count:  100000\n"
     ]
    }
   ],
   "source": [
    "train_no_predict = train_df.drop(['id', 'target'], 1)\n",
    "train_predict = train_df['target']\n",
    "\n",
    "train_percent = 0.50\n",
    "\n",
    "X_train, X_test, y_train, y_test = train_test_split(train_no_predict, train_predict, stratify=train_predict, \n",
    "                                                    train_size=train_percent, random_state=SEED)\n",
    "print('train count: ', len(y_train))\n",
    "print('test count: ', len(y_test))"
   ]
  },
  {
   "cell_type": "code",
   "execution_count": 39,
   "id": "e68250d4",
   "metadata": {},
   "outputs": [
    {
     "data": {
      "text/plain": [
       "LinearRegression()"
      ]
     },
     "execution_count": 39,
     "metadata": {},
     "output_type": "execute_result"
    }
   ],
   "source": [
    "model = LinearRegression()\n",
    "model.fit(X_train, y_train)"
   ]
  },
  {
   "cell_type": "code",
   "execution_count": 40,
   "id": "37308aa2",
   "metadata": {},
   "outputs": [
    {
     "name": "stdout",
     "output_type": "stream",
     "text": [
      "feature_18: 0.051\n",
      "feature_12: 0.034\n",
      "feature_16: 0.029\n",
      "feature_30: 0.029\n",
      "feature_14: 0.027\n",
      "feature_37: 0.026\n",
      "feature_53: 0.023\n",
      "feature_44: 0.023\n",
      "feature_56: 0.019\n",
      "feature_52: 0.018\n",
      "feature_8: 0.016\n",
      "feature_31: 0.015\n",
      "feature_45: 0.012\n",
      "feature_7: 0.011\n",
      "feature_23: 0.01\n",
      "feature_43: 0.009\n",
      "feature_21: 0.009\n",
      "feature_35: 0.008\n",
      "feature_4: 0.008\n",
      "feature_64: 0.007\n",
      "feature_1: 0.007\n",
      "feature_50: 0.007\n",
      "feature_48: 0.006\n",
      "feature_65: 0.006\n",
      "feature_40: 0.006\n",
      "feature_58: 0.005\n",
      "feature_34: 0.005\n",
      "feature_72: 0.005\n",
      "feature_9: 0.004\n",
      "feature_2: 0.004\n",
      "feature_57: 0.003\n",
      "feature_66: 0.003\n",
      "feature_25: 0.003\n",
      "feature_0: 0.002\n",
      "feature_13: 0.002\n",
      "feature_54: 0.002\n",
      "feature_67: 0.002\n",
      "feature_19: 0.002\n",
      "feature_60: 0.002\n",
      "feature_55: 0.002\n",
      "feature_62: 0.002\n",
      "feature_29: 0.001\n",
      "feature_42: 0.001\n",
      "feature_3: 0.001\n",
      "feature_10: 0.001\n",
      "feature_70: 0.001\n",
      "feature_68: 0.001\n",
      "feature_46: 0.001\n",
      "feature_22: 0.0\n",
      "feature_39: 0.0\n",
      "feature_73: 0.0\n",
      "feature_61: 0.0\n",
      "feature_28: -0.0\n",
      "feature_51: -0.001\n",
      "feature_63: -0.001\n",
      "feature_32: -0.001\n",
      "feature_38: -0.001\n",
      "feature_24: -0.001\n",
      "feature_41: -0.001\n",
      "feature_59: -0.001\n",
      "feature_33: -0.002\n",
      "feature_15: -0.002\n",
      "feature_5: -0.002\n",
      "feature_27: -0.003\n",
      "feature_47: -0.003\n",
      "feature_26: -0.004\n",
      "feature_36: -0.004\n",
      "feature_6: -0.004\n",
      "feature_49: -0.006\n",
      "feature_74: -0.007\n",
      "feature_69: -0.007\n",
      "feature_11: -0.012\n",
      "feature_71: -0.019\n",
      "feature_20: -0.02\n",
      "feature_17: -0.023\n"
     ]
    }
   ],
   "source": [
    "important_features_dict = {}\n",
    "for idx, val in enumerate(model.coef_):\n",
    "    important_features_dict[idx] = val\n",
    "\n",
    "important_features_list = sorted(important_features_dict,\n",
    "                                 key=important_features_dict.get,\n",
    "                                 reverse=True)\n",
    "\n",
    "for idx, val in enumerate(important_features_list):\n",
    "    feature_name = X_train.columns[val]\n",
    "    feature_value = model.coef_[val]\n",
    "    print(feature_name + ': ' + str(round(feature_value, 3)))"
   ]
  },
  {
   "cell_type": "code",
   "execution_count": 41,
   "id": "f17b4cb8",
   "metadata": {},
   "outputs": [
    {
     "data": {
      "image/png": "[encoded data removed]",
      "text/plain": [
       "<Figure size 432x288 with 1 Axes>"
      ]
     },
     "metadata": {
      "needs_background": "light"
     },
     "output_type": "display_data"
    }
   ],
   "source": [
    "pyplot.bar([x for x in range(len(model.coef_))], model.coef_)\n",
    "pyplot.show()"
   ]
  },
  {
   "cell_type": "code",
   "execution_count": 87,
   "id": "48035b57",
   "metadata": {},
   "outputs": [
    {
     "name": "stdout",
     "output_type": "stream",
     "text": [
      "train count:  100000\n",
      "test count:  100000\n"
     ]
    }
   ],
   "source": [
    "#feature_18: 0.051\n",
    "#feature_12: 0.034\n",
    "#feature_16: 0.029\n",
    "#feature_30: 0.029\n",
    "#feature_14: 0.027\n",
    "#feature_37: 0.026\n",
    "#feature_53: 0.023\n",
    "#feature_44: 0.023\n",
    "\n",
    "train_no_predict = train_df.drop(['id', 'target', 'feature_44'], 1)\n",
    "train_predict = train_df['feature_44']\n",
    "\n",
    "train_percent = 0.50\n",
    "\n",
    "X_train, X_test, y_train, y_test = train_test_split(train_no_predict, train_predict, stratify=train_predict, \n",
    "                                                    train_size=train_percent, random_state=SEED)\n",
    "print('train count: ', len(y_train))\n",
    "print('test count: ', len(y_test))"
   ]
  },
  {
   "cell_type": "code",
   "execution_count": 88,
   "id": "d4bd0b57",
   "metadata": {},
   "outputs": [
    {
     "name": "stdout",
     "output_type": "stream",
     "text": [
      "Mean squared error: 8.01\n",
      "R^2: 0.09\n"
     ]
    }
   ],
   "source": [
    "import seaborn as sns\n",
    "import numpy as np\n",
    "from sklearn import datasets, linear_model\n",
    "from sklearn.metrics import mean_squared_error, r2_score\n",
    "\n",
    "regr = linear_model.LinearRegression()\n",
    "regr.fit(X_train, y_train)\n",
    "y_pred = regr.predict(X_test)\n",
    "\n",
    "print('Mean squared error: %.2f'\n",
    "      % mean_squared_error(y_test, y_pred))\n",
    "\n",
    "print('R^2: %.2f'\n",
    "      % r2_score(y_test, y_pred))"
   ]
  },
  {
   "cell_type": "code",
   "execution_count": 73,
   "id": "494785de",
   "metadata": {},
   "outputs": [
    {
     "data": {
      "text/plain": [
       "<AxesSubplot:ylabel='feature_18'>"
      ]
     },
     "execution_count": 73,
     "metadata": {},
     "output_type": "execute_result"
    },
    {
     "data": {
      "image/png": "[encoded data removed]",
      "text/plain": [
       "<Figure size 432x288 with 1 Axes>"
      ]
     },
     "metadata": {
      "needs_background": "light"
     },
     "output_type": "display_data"
    }
   ],
   "source": [
    "sns.scatterplot(x=y_pred, y=y_test)"
   ]
  },
  {
   "cell_type": "code",
   "execution_count": 76,
   "id": "4cd8893a",
   "metadata": {},
   "outputs": [],
   "source": [
    "# lol too many points, runs too long\n",
    "#sns.swarmplot(x=y_pred, y=y_test)"
   ]
  }
 ],
 "metadata": {
  "kernelspec": {
   "display_name": "Python 3",
   "language": "python",
   "name": "python3"
  },
  "language_info": {
   "codemirror_mode": {
    "name": "ipython",
    "version": 3
   },
   "file_extension": ".py",
   "mimetype": "text/x-python",
   "name": "python",
   "nbconvert_exporter": "python",
   "pygments_lexer": "ipython3",
   "version": "3.9.4"
  }
 },
 "nbformat": 4,
 "nbformat_minor": 5
}
