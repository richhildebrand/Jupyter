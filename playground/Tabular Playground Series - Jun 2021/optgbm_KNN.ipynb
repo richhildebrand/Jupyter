{
 "cells": [
  {
   "cell_type": "code",
   "execution_count": 1,
   "id": "e26a425a",
   "metadata": {},
   "outputs": [
    {
     "name": "stdout",
     "output_type": "stream",
     "text": [
      "Requirement already satisfied: optgbm in /opt/conda/lib/python3.9/site-packages (0.10.0)\n",
      "Requirement already satisfied: pandas in /opt/conda/lib/python3.9/site-packages (from optgbm) (1.2.4)\n",
      "Requirement already satisfied: scikit-learn>=0.19.0 in /opt/conda/lib/python3.9/site-packages (from optgbm) (0.24.2)\n",
      "Requirement already satisfied: optuna>=0.17 in /opt/conda/lib/python3.9/site-packages (from optgbm) (2.8.0)\n",
      "Requirement already satisfied: lightgbm>=2.2.2 in /opt/conda/lib/python3.9/site-packages (from optgbm) (3.2.1)\n",
      "Requirement already satisfied: numpy in /opt/conda/lib/python3.9/site-packages (from optgbm) (1.19.5)\n",
      "Requirement already satisfied: scipy in /opt/conda/lib/python3.9/site-packages (from lightgbm>=2.2.2->optgbm) (1.6.3)\n",
      "Requirement already satisfied: wheel in /opt/conda/lib/python3.9/site-packages (from lightgbm>=2.2.2->optgbm) (0.36.2)\n",
      "Requirement already satisfied: cliff in /opt/conda/lib/python3.9/site-packages (from optuna>=0.17->optgbm) (3.8.0)\n",
      "Requirement already satisfied: sqlalchemy>=1.1.0 in /opt/conda/lib/python3.9/site-packages (from optuna>=0.17->optgbm) (1.4.18)\n",
      "Requirement already satisfied: alembic in /opt/conda/lib/python3.9/site-packages (from optuna>=0.17->optgbm) (1.6.5)\n",
      "Requirement already satisfied: packaging>=20.0 in /opt/conda/lib/python3.9/site-packages (from optuna>=0.17->optgbm) (20.9)\n",
      "Requirement already satisfied: tqdm in /opt/conda/lib/python3.9/site-packages (from optuna>=0.17->optgbm) (4.61.1)\n",
      "Requirement already satisfied: colorlog in /opt/conda/lib/python3.9/site-packages (from optuna>=0.17->optgbm) (5.0.1)\n",
      "Requirement already satisfied: cmaes>=0.8.2 in /opt/conda/lib/python3.9/site-packages (from optuna>=0.17->optgbm) (0.8.2)\n",
      "Requirement already satisfied: pyparsing>=2.0.2 in /opt/conda/lib/python3.9/site-packages (from packaging>=20.0->optuna>=0.17->optgbm) (2.4.7)\n",
      "Requirement already satisfied: joblib>=0.11 in /opt/conda/lib/python3.9/site-packages (from scikit-learn>=0.19.0->optgbm) (1.0.1)\n",
      "Requirement already satisfied: threadpoolctl>=2.0.0 in /opt/conda/lib/python3.9/site-packages (from scikit-learn>=0.19.0->optgbm) (2.1.0)\n",
      "Requirement already satisfied: greenlet!=0.4.17 in /opt/conda/lib/python3.9/site-packages (from sqlalchemy>=1.1.0->optuna>=0.17->optgbm) (1.1.0)\n",
      "Requirement already satisfied: Mako in /opt/conda/lib/python3.9/site-packages (from alembic->optuna>=0.17->optgbm) (1.1.4)\n",
      "Requirement already satisfied: python-dateutil in /opt/conda/lib/python3.9/site-packages (from alembic->optuna>=0.17->optgbm) (2.8.1)\n",
      "Requirement already satisfied: python-editor>=0.3 in /opt/conda/lib/python3.9/site-packages (from alembic->optuna>=0.17->optgbm) (1.0.4)\n",
      "Requirement already satisfied: stevedore>=2.0.1 in /opt/conda/lib/python3.9/site-packages (from cliff->optuna>=0.17->optgbm) (3.3.0)\n",
      "Requirement already satisfied: PyYAML>=3.12 in /opt/conda/lib/python3.9/site-packages (from cliff->optuna>=0.17->optgbm) (5.4.1)\n",
      "Requirement already satisfied: cmd2>=1.0.0 in /opt/conda/lib/python3.9/site-packages (from cliff->optuna>=0.17->optgbm) (2.1.1)\n",
      "Requirement already satisfied: PrettyTable>=0.7.2 in /opt/conda/lib/python3.9/site-packages (from cliff->optuna>=0.17->optgbm) (2.1.0)\n",
      "Requirement already satisfied: pbr!=2.1.0,>=2.0.0 in /opt/conda/lib/python3.9/site-packages (from cliff->optuna>=0.17->optgbm) (5.6.0)\n",
      "Requirement already satisfied: attrs>=16.3.0 in /opt/conda/lib/python3.9/site-packages (from cmd2>=1.0.0->cliff->optuna>=0.17->optgbm) (21.2.0)\n",
      "Requirement already satisfied: wcwidth>=0.1.7 in /opt/conda/lib/python3.9/site-packages (from cmd2>=1.0.0->cliff->optuna>=0.17->optgbm) (0.2.5)\n",
      "Requirement already satisfied: colorama>=0.3.7 in /opt/conda/lib/python3.9/site-packages (from cmd2>=1.0.0->cliff->optuna>=0.17->optgbm) (0.4.4)\n",
      "Requirement already satisfied: pyperclip>=1.6 in /opt/conda/lib/python3.9/site-packages (from cmd2>=1.0.0->cliff->optuna>=0.17->optgbm) (1.8.2)\n",
      "Requirement already satisfied: MarkupSafe>=0.9.2 in /opt/conda/lib/python3.9/site-packages (from Mako->alembic->optuna>=0.17->optgbm) (2.0.1)\n",
      "Requirement already satisfied: pytz>=2017.3 in /opt/conda/lib/python3.9/site-packages (from pandas->optgbm) (2021.1)\n",
      "Requirement already satisfied: six>=1.5 in /opt/conda/lib/python3.9/site-packages (from python-dateutil->alembic->optuna>=0.17->optgbm) (1.15.0)\n"
     ]
    }
   ],
   "source": [
    "!pip install optgbm"
   ]
  },
  {
   "cell_type": "code",
   "execution_count": 2,
   "id": "8a711117",
   "metadata": {},
   "outputs": [],
   "source": [
    "import time\n",
    "import datetime\n",
    "\n",
    "import numpy as np\n",
    "import pandas as pd\n",
    "import optgbm as opt\n",
    "\n",
    "from sklearn import preprocessing\n",
    "from sklearn.metrics import log_loss\n",
    "\n",
    "import gc\n",
    "import seaborn as sns\n",
    "import matplotlib.pyplot as plt\n",
    "import tensorflow as tf\n",
    "import tensorflow_addons as tfa\n",
    "import tensorflow.keras.backend as K\n",
    "from tensorflow import keras\n",
    "from tensorflow.keras import layers\n",
    "from tensorflow.keras import activations,callbacks\n",
    "from tensorflow.keras.optimizers import Adam\n",
    "from tensorflow.keras.metrics import categorical_crossentropy\n",
    "from tensorflow.keras.utils import to_categorical\n",
    "from tensorflow.keras import initializers\n",
    "\n",
    "from keras.models import Model"
   ]
  },
  {
   "cell_type": "code",
   "execution_count": 3,
   "id": "795fef01",
   "metadata": {},
   "outputs": [],
   "source": [
    "train_df = pd.read_csv('train.csv')\n",
    "test_df = pd.read_csv('test.csv')\n",
    "\n",
    "non_id_columns = train_df.columns[train_df.columns != 'id']"
   ]
  },
  {
   "cell_type": "code",
   "execution_count": 4,
   "id": "a1816f59",
   "metadata": {},
   "outputs": [
    {
     "name": "stdout",
     "output_type": "stream",
     "text": [
      "0    5\n",
      "1    5\n",
      "2    1\n",
      "3    7\n",
      "4    1\n",
      "Name: target, dtype: int64\n"
     ]
    }
   ],
   "source": [
    "from sklearn.preprocessing import LabelEncoder\n",
    "features_target = ['target'] \n",
    "\n",
    "for feature in features_target:\n",
    "    le = LabelEncoder()\n",
    "    le.fit(train_df[feature])\n",
    "    train_df[feature] = le.transform(train_df[feature])\n",
    "    \n",
    "print(train_df['target'].head())"
   ]
  },
  {
   "cell_type": "code",
   "execution_count": 5,
   "id": "88c86000",
   "metadata": {},
   "outputs": [],
   "source": [
    "train_knn = np.load(\"add_feat_train.npy\")\n",
    "test_knn = np.load(\"add_feat_test.npy\")\n",
    "\n",
    "from sklearn.preprocessing import MinMaxScaler\n",
    "scaler = MinMaxScaler()\n",
    "train_knn = scaler.fit_transform(train_knn)\n",
    "test_knn = scaler.transform(test_knn)"
   ]
  },
  {
   "cell_type": "code",
   "execution_count": 6,
   "id": "c6b555b9",
   "metadata": {},
   "outputs": [],
   "source": [
    "train_df = pd.concat([train_df, \n",
    "                      pd.DataFrame(train_knn, columns = ['knn_1', 'knn_2', 'knn_3', 'knn_4', 'knn_5', 'knn_6', 'knn_7', 'knn_8', 'knn_9'])], axis = 1)\n",
    "test_df = pd.concat([test_df, \n",
    "                     pd.DataFrame(test_knn, columns = ['knn_1', 'knn_2', 'knn_3', 'knn_4', 'knn_5', 'knn_6', 'knn_7', 'knn_8', 'knn_9'])], axis = 1,)"
   ]
  },
  {
   "cell_type": "code",
   "execution_count": 7,
   "id": "e7707811",
   "metadata": {},
   "outputs": [
    {
     "name": "stdout",
     "output_type": "stream",
     "text": [
      "200000\n",
      "199894\n"
     ]
    }
   ],
   "source": [
    "print(len(train_df))\n",
    "train_df = train_df.drop_duplicates(subset=non_id_columns)\n",
    "print(len(train_df))"
   ]
  },
  {
   "cell_type": "code",
   "execution_count": 8,
   "id": "97664f49",
   "metadata": {},
   "outputs": [],
   "source": [
    "def do_run(i, train_df, test_df):\n",
    "    print('starting run', i)\n",
    "    print(datetime.datetime.now())\n",
    "    start = time.time()\n",
    "\n",
    "    X_train = train_df.drop(['id', 'target'], 1)\n",
    "    y_train = train_df['target']\n",
    "\n",
    "    opt_obgm = opt.OGBMClassifier()\n",
    "    opt_obgm.fit(X_train, y_train)\n",
    "\n",
    "    minutes = (time.time() - start) / 60\n",
    "    print(round(minutes, 2))\n",
    "    print(datetime.datetime.now())\n",
    "    \n",
    "    X_test = test_df.drop('id', 1)\n",
    "    test_preds = opt_obgm.predict_proba(X_test)\n",
    "    return test_preds"
   ]
  },
  {
   "cell_type": "code",
   "execution_count": 9,
   "id": "b969afb1",
   "metadata": {},
   "outputs": [
    {
     "name": "stderr",
     "output_type": "stream",
     "text": [
      "/opt/conda/lib/python3.9/site-packages/sklearn/utils/validation.py:70: FutureWarning: Pass classifier=True as keyword args. From version 1.0 (renaming of 0.25) passing these as positional arguments will result in an error\n",
      "  warnings.warn(f\"Pass {args_msg} as keyword args. From version \"\n",
      "\u001b[32m[I 2021-06-30 02:54:32,739]\u001b[0m A new study created in memory with name: no-name-cee4b835-80bc-4fc4-ae45-f2e04e386798\u001b[0m\n",
      "Searching the best hyperparameters...\n"
     ]
    },
    {
     "name": "stdout",
     "output_type": "stream",
     "text": [
      "starting run 1\n",
      "2021-06-30 02:54:32.695141\n"
     ]
    },
    {
     "name": "stderr",
     "output_type": "stream",
     "text": [
      "\u001b[32m[I 2021-06-30 02:55:38,338]\u001b[0m Trial 0 finished with value: 1.7513021276673264 and parameters: {'feature_fraction': 0.4, 'max_depth': 3, 'num_leaves': 8, 'min_data_in_leaf': 12904, 'lambda_l1': 0.07020973712676813, 'lambda_l2': 0.012657687970392292, 'bagging_fraction': 0.55, 'bagging_freq': 3}. Best is trial 0 with value: 1.7513021276673264.\u001b[0m\n",
      "\u001b[32m[I 2021-06-30 02:56:40,811]\u001b[0m Trial 1 finished with value: 1.7518556227177657 and parameters: {'feature_fraction': 0.8, 'max_depth': 7, 'num_leaves': 122, 'min_data_in_leaf': 803, 'lambda_l1': 7.032334200360548e-07, 'lambda_l2': 0.0008873230778094086, 'bagging_fraction': 0.8, 'bagging_freq': 9}. Best is trial 0 with value: 1.7513021276673264.\u001b[0m\n",
      "\u001b[32m[I 2021-06-30 02:58:18,159]\u001b[0m Trial 2 finished with value: 1.7564587851661713 and parameters: {'feature_fraction': 0.35, 'max_depth': 2, 'num_leaves': 3, 'min_data_in_leaf': 29085, 'lambda_l1': 0.008314788968686737, 'lambda_l2': 6.387930101696766e-07, 'bagging_fraction': 0.9, 'bagging_freq': 4}. Best is trial 0 with value: 1.7513021276673264.\u001b[0m\n",
      "\u001b[32m[I 2021-06-30 02:58:19,704]\u001b[0m Trial 3 finished with value: 2.075293967415169 and parameters: {'feature_fraction': 0.7000000000000001, 'max_depth': 1, 'num_leaves': 2, 'min_data_in_leaf': 93405, 'lambda_l1': 1.0743233332997413e-08, 'lambda_l2': 0.03455040220693734, 'bagging_fraction': 0.95, 'bagging_freq': 1}. Best is trial 0 with value: 1.7513021276673264.\u001b[0m\n",
      "\u001b[32m[I 2021-06-30 02:59:49,440]\u001b[0m Trial 4 finished with value: 1.7637166212057884 and parameters: {'feature_fraction': 0.55, 'max_depth': 1, 'num_leaves': 2, 'min_data_in_leaf': 26268, 'lambda_l1': 2.5145133387537872, 'lambda_l2': 7.194479023309754, 'bagging_fraction': 0.75, 'bagging_freq': 9}. Best is trial 0 with value: 1.7513021276673264.\u001b[0m\n",
      "\u001b[32m[I 2021-06-30 03:01:37,928]\u001b[0m Trial 5 finished with value: 1.7584382194414807 and parameters: {'feature_fraction': 0.5, 'max_depth': 4, 'num_leaves': 4, 'min_data_in_leaf': 36578, 'lambda_l1': 6.308036367899106e-06, 'lambda_l2': 3.059940605917731, 'bagging_fraction': 0.9, 'bagging_freq': 5}. Best is trial 0 with value: 1.7513021276673264.\u001b[0m\n",
      "\u001b[32m[I 2021-06-30 03:02:29,655]\u001b[0m Trial 6 finished with value: 1.7618461528453735 and parameters: {'feature_fraction': 0.6, 'max_depth': 2, 'num_leaves': 2, 'min_data_in_leaf': 14990, 'lambda_l1': 3.55541708661988e-07, 'lambda_l2': 3.4344098158496483, 'bagging_fraction': 0.65, 'bagging_freq': 4}. Best is trial 0 with value: 1.7513021276673264.\u001b[0m\n",
      "\u001b[32m[I 2021-06-30 03:02:32,655]\u001b[0m Trial 7 finished with value: 2.075293967415169 and parameters: {'feature_fraction': 1.0, 'max_depth': 1, 'num_leaves': 2, 'min_data_in_leaf': 44893, 'lambda_l1': 1.0727548284056512e-08, 'lambda_l2': 2.4296677508156615e-05, 'bagging_fraction': 0.55, 'bagging_freq': 3}. Best is trial 0 with value: 1.7513021276673264.\u001b[0m\n",
      "\u001b[32m[I 2021-06-30 03:03:35,715]\u001b[0m Trial 8 finished with value: 1.7499637680598703 and parameters: {'feature_fraction': 0.7000000000000001, 'max_depth': 7, 'num_leaves': 33, 'min_data_in_leaf': 1781, 'lambda_l1': 0.0011550170225339495, 'lambda_l2': 0.00011015145025833258, 'bagging_fraction': 0.75, 'bagging_freq': 2}. Best is trial 8 with value: 1.7499637680598703.\u001b[0m\n",
      "\u001b[32m[I 2021-06-30 03:04:53,536]\u001b[0m Trial 9 finished with value: 1.7486752567177084 and parameters: {'feature_fraction': 0.30000000000000004, 'max_depth': 6, 'num_leaves': 54, 'min_data_in_leaf': 1865, 'lambda_l1': 0.031931579119193705, 'lambda_l2': 1.8724877700362348e-06, 'bagging_fraction': 0.55, 'bagging_freq': 4}. Best is trial 9 with value: 1.7486752567177084.\u001b[0m\n",
      "\u001b[32m[I 2021-06-30 03:05:45,899]\u001b[0m Trial 10 finished with value: 1.7509791468296079 and parameters: {'feature_fraction': 0.1, 'max_depth': 5, 'num_leaves': 31, 'min_data_in_leaf': 4459, 'lambda_l1': 5.453347850733722, 'lambda_l2': 2.6529147570224027e-09, 'bagging_fraction': 0.5, 'bagging_freq': 7}. Best is trial 9 with value: 1.7486752567177084.\u001b[0m\n",
      "\u001b[32m[I 2021-06-30 03:07:06,295]\u001b[0m Trial 11 finished with value: 1.747840315589913 and parameters: {'feature_fraction': 0.15000000000000002, 'max_depth': 7, 'num_leaves': 63, 'min_data_in_leaf': 2319, 'lambda_l1': 0.0004629066256880449, 'lambda_l2': 2.789330562790006e-07, 'bagging_fraction': 0.65, 'bagging_freq': 1}. Best is trial 11 with value: 1.747840315589913.\u001b[0m\n",
      "\u001b[32m[I 2021-06-30 03:08:17,766]\u001b[0m Trial 12 finished with value: 1.749997432985794 and parameters: {'feature_fraction': 0.1, 'max_depth': 6, 'num_leaves': 59, 'min_data_in_leaf': 2605, 'lambda_l1': 0.00014450460248431195, 'lambda_l2': 2.8195354100412638e-08, 'bagging_fraction': 0.65, 'bagging_freq': 1}. Best is trial 11 with value: 1.747840315589913.\u001b[0m\n",
      "\u001b[32m[I 2021-06-30 03:09:46,135]\u001b[0m Trial 13 finished with value: 1.7484599489638488 and parameters: {'feature_fraction': 0.25, 'max_depth': 6, 'num_leaves': 64, 'min_data_in_leaf': 2501, 'lambda_l1': 0.13096128695166348, 'lambda_l2': 5.717740413925363e-07, 'bagging_fraction': 0.65, 'bagging_freq': 7}. Best is trial 11 with value: 1.747840315589913.\u001b[0m\n",
      "\u001b[32m[I 2021-06-30 03:11:12,368]\u001b[0m Trial 14 finished with value: 1.7480043547972604 and parameters: {'feature_fraction': 0.2, 'max_depth': 6, 'num_leaves': 64, 'min_data_in_leaf': 2872, 'lambda_l1': 0.36898312036761705, 'lambda_l2': 5.469693440875756e-08, 'bagging_fraction': 0.65, 'bagging_freq': 7}. Best is trial 11 with value: 1.747840315589913.\u001b[0m\n",
      "\u001b[32m[I 2021-06-30 03:12:33,586]\u001b[0m Trial 15 finished with value: 1.7485429929541367 and parameters: {'feature_fraction': 0.2, 'max_depth': 7, 'num_leaves': 93, 'min_data_in_leaf': 2124, 'lambda_l1': 7.982531250476957e-05, 'lambda_l2': 1.0164884233325722e-09, 'bagging_fraction': 0.65, 'bagging_freq': 7}. Best is trial 11 with value: 1.747840315589913.\u001b[0m\n",
      "\u001b[32m[I 2021-06-30 03:13:38,999]\u001b[0m Trial 16 finished with value: 1.7501779083061955 and parameters: {'feature_fraction': 0.1, 'max_depth': 5, 'num_leaves': 29, 'min_data_in_leaf': 4496, 'lambda_l1': 0.9757482629847165, 'lambda_l2': 4.570594868937785e-08, 'bagging_fraction': 0.7, 'bagging_freq': 10}. Best is trial 11 with value: 1.747840315589913.\u001b[0m\n",
      "\u001b[32m[I 2021-06-30 03:14:51,516]\u001b[0m Trial 17 finished with value: 1.7485138373542832 and parameters: {'feature_fraction': 0.2, 'max_depth': 5, 'num_leaves': 24, 'min_data_in_leaf': 5725, 'lambda_l1': 0.0015699783405332633, 'lambda_l2': 2.0282482256168787e-08, 'bagging_fraction': 0.6, 'bagging_freq': 6}. Best is trial 11 with value: 1.747840315589913.\u001b[0m\n",
      "\u001b[32m[I 2021-06-30 03:16:39,131]\u001b[0m Trial 18 finished with value: 1.7490527017836865 and parameters: {'feature_fraction': 0.45000000000000007, 'max_depth': 7, 'num_leaves': 82, 'min_data_in_leaf': 2371, 'lambda_l1': 5.976701382580231e-05, 'lambda_l2': 8.78611919501662e-06, 'bagging_fraction': 0.8, 'bagging_freq': 8}. Best is trial 11 with value: 1.747840315589913.\u001b[0m\n",
      "\u001b[32m[I 2021-06-30 03:18:07,662]\u001b[0m Trial 19 finished with value: 1.7478788909065877 and parameters: {'feature_fraction': 0.2, 'max_depth': 6, 'num_leaves': 45, 'min_data_in_leaf': 3141, 'lambda_l1': 0.0024931694180337577, 'lambda_l2': 3.644757193572003e-09, 'bagging_fraction': 0.7, 'bagging_freq': 6}. Best is trial 11 with value: 1.747840315589913.\u001b[0m\n",
      "\u001b[32m[I 2021-06-30 03:19:03,991]\u001b[0m Trial 20 finished with value: 1.7519840923478078 and parameters: {'feature_fraction': 1.0, 'max_depth': 4, 'num_leaves': 16, 'min_data_in_leaf': 21, 'lambda_l1': 0.0010945861718407177, 'lambda_l2': 1.2609778796522287e-09, 'bagging_fraction': 0.8, 'bagging_freq': 5}. Best is trial 11 with value: 1.747840315589913.\u001b[0m\n",
      "\u001b[32m[I 2021-06-30 03:20:32,352]\u001b[0m Trial 21 finished with value: 1.7479212914946864 and parameters: {'feature_fraction': 0.2, 'max_depth': 6, 'num_leaves': 46, 'min_data_in_leaf': 3142, 'lambda_l1': 0.388159583760993, 'lambda_l2': 1.0286282116750483e-07, 'bagging_fraction': 0.7, 'bagging_freq': 6}. Best is trial 11 with value: 1.747840315589913.\u001b[0m\n",
      "\u001b[32m[I 2021-06-30 03:21:42,934]\u001b[0m Trial 22 finished with value: 1.7500445866085719 and parameters: {'feature_fraction': 0.1, 'max_depth': 6, 'num_leaves': 45, 'min_data_in_leaf': 3328, 'lambda_l1': 0.018458580370593756, 'lambda_l2': 1.2741919858698964e-07, 'bagging_fraction': 0.7, 'bagging_freq': 6}. Best is trial 11 with value: 1.747840315589913.\u001b[0m\n"
     ]
    },
    {
     "name": "stderr",
     "output_type": "stream",
     "text": [
      "\u001b[32m[I 2021-06-30 03:23:14,470]\u001b[0m Trial 23 finished with value: 1.748074106455297 and parameters: {'feature_fraction': 0.30000000000000004, 'max_depth': 5, 'num_leaves': 19, 'min_data_in_leaf': 6502, 'lambda_l1': 0.007083089616871473, 'lambda_l2': 4.306918746061075e-09, 'bagging_fraction': 0.7, 'bagging_freq': 5}. Best is trial 11 with value: 1.747840315589913.\u001b[0m\n",
      "\u001b[32m[I 2021-06-30 03:24:25,668]\u001b[0m Trial 24 finished with value: 1.7490699849303168 and parameters: {'feature_fraction': 0.15000000000000002, 'max_depth': 7, 'num_leaves': 78, 'min_data_in_leaf': 1205, 'lambda_l1': 3.601572665461864e-06, 'lambda_l2': 4.4075044229816723e-07, 'bagging_fraction': 0.6, 'bagging_freq': 6}. Best is trial 11 with value: 1.747840315589913.\u001b[0m\n",
      "\u001b[32m[I 2021-06-30 03:26:07,225]\u001b[0m Trial 25 finished with value: 1.748233307382487 and parameters: {'feature_fraction': 0.35, 'max_depth': 6, 'num_leaves': 44, 'min_data_in_leaf': 3451, 'lambda_l1': 0.0001676762975841428, 'lambda_l2': 9.35372711495996e-09, 'bagging_fraction': 0.75, 'bagging_freq': 8}. Best is trial 11 with value: 1.747840315589913.\u001b[0m\n",
      "\u001b[32m[I 2021-06-30 03:27:20,848]\u001b[0m Trial 26 finished with value: 1.749108059904308 and parameters: {'feature_fraction': 0.25, 'max_depth': 5, 'num_leaves': 11, 'min_data_in_leaf': 8342, 'lambda_l1': 0.0026384444681706366, 'lambda_l2': 4.466054665921506e-06, 'bagging_fraction': 0.6, 'bagging_freq': 6}. Best is trial 11 with value: 1.747840315589913.\u001b[0m\n",
      "\u001b[32m[I 2021-06-30 03:28:49,735]\u001b[0m Trial 27 finished with value: 1.7481787622626026 and parameters: {'feature_fraction': 0.15000000000000002, 'max_depth': 7, 'num_leaves': 77, 'min_data_in_leaf': 2590, 'lambda_l1': 0.3267197782523409, 'lambda_l2': 1.689667714678194e-07, 'bagging_fraction': 0.75, 'bagging_freq': 8}. Best is trial 11 with value: 1.747840315589913.\u001b[0m\n",
      "\u001b[32m[I 2021-06-30 03:30:47,341]\u001b[0m Trial 28 finished with value: 1.7483600787171454 and parameters: {'feature_fraction': 0.4, 'max_depth': 6, 'num_leaves': 46, 'min_data_in_leaf': 3226, 'lambda_l1': 1.4417307216370523e-05, 'lambda_l2': 2.292488613409996e-05, 'bagging_fraction': 0.8500000000000001, 'bagging_freq': 3}. Best is trial 11 with value: 1.747840315589913.\u001b[0m\n",
      "\u001b[32m[I 2021-06-30 03:32:19,461]\u001b[0m Trial 29 finished with value: 1.7499525687439914 and parameters: {'feature_fraction': 0.4, 'max_depth': 3, 'num_leaves': 7, 'min_data_in_leaf': 11354, 'lambda_l1': 0.12817224939224234, 'lambda_l2': 0.00014244731412254205, 'bagging_fraction': 0.7, 'bagging_freq': 2}. Best is trial 11 with value: 1.747840315589913.\u001b[0m\n",
      "\u001b[32m[I 2021-06-30 03:33:26,655]\u001b[0m Trial 30 finished with value: 1.7494439576219762 and parameters: {'feature_fraction': 0.30000000000000004, 'max_depth': 4, 'num_leaves': 13, 'min_data_in_leaf': 8253, 'lambda_l1': 0.06572676402221615, 'lambda_l2': 6.994704072155984e-09, 'bagging_fraction': 0.5, 'bagging_freq': 5}. Best is trial 11 with value: 1.747840315589913.\u001b[0m\n",
      "\u001b[32m[I 2021-06-30 03:34:46,684]\u001b[0m Trial 31 finished with value: 1.7479691225856802 and parameters: {'feature_fraction': 0.2, 'max_depth': 6, 'num_leaves': 63, 'min_data_in_leaf': 2961, 'lambda_l1': 0.8910480813175017, 'lambda_l2': 7.896861237390016e-08, 'bagging_fraction': 0.6, 'bagging_freq': 7}. Best is trial 11 with value: 1.747840315589913.\u001b[0m\n",
      "\u001b[32m[I 2021-06-30 03:36:02,116]\u001b[0m Trial 32 finished with value: 1.7474431374374348 and parameters: {'feature_fraction': 0.15000000000000002, 'max_depth': 7, 'num_leaves': 71, 'min_data_in_leaf': 2789, 'lambda_l1': 7.0290951278901455, 'lambda_l2': 1.405218269044687e-07, 'bagging_fraction': 0.6, 'bagging_freq': 7}. Best is trial 32 with value: 1.7474431374374348.\u001b[0m\n",
      "\u001b[32m[I 2021-06-30 03:37:14,188]\u001b[0m Trial 33 finished with value: 1.750455897922525 and parameters: {'feature_fraction': 0.15000000000000002, 'max_depth': 7, 'num_leaves': 94, 'min_data_in_leaf': 192, 'lambda_l1': 4.203469856992918, 'lambda_l2': 1.246506621600885e-06, 'bagging_fraction': 0.6, 'bagging_freq': 8}. Best is trial 32 with value: 1.7474431374374348.\u001b[0m\n",
      "\u001b[32m[I 2021-06-30 03:38:48,176]\u001b[0m Trial 34 finished with value: 1.748384112505453 and parameters: {'feature_fraction': 0.25, 'max_depth': 7, 'num_leaves': 72, 'min_data_in_leaf': 2752, 'lambda_l1': 0.0002956824135372699, 'lambda_l2': 0.0008512499116569026, 'bagging_fraction': 0.7, 'bagging_freq': 9}. Best is trial 32 with value: 1.7474431374374348.\u001b[0m\n",
      "\u001b[32m[I 2021-06-30 03:40:30,688]\u001b[0m Trial 35 finished with value: 1.74797923407507 and parameters: {'feature_fraction': 0.35, 'max_depth': 7, 'num_leaves': 53, 'min_data_in_leaf': 3496, 'lambda_l1': 8.464033467408154, 'lambda_l2': 1.0245241237678323e-09, 'bagging_fraction': 0.65, 'bagging_freq': 4}. Best is trial 32 with value: 1.7474431374374348.\u001b[0m\n",
      "\u001b[32m[I 2021-06-30 03:41:28,073]\u001b[0m Trial 36 finished with value: 1.7497200281524694 and parameters: {'feature_fraction': 0.9, 'max_depth': 6, 'num_leaves': 38, 'min_data_in_leaf': 3872, 'lambda_l1': 0.007343478148356582, 'lambda_l2': 2.09334518641599e-07, 'bagging_fraction': 0.55, 'bagging_freq': 6}. Best is trial 32 with value: 1.7474431374374348.\u001b[0m\n",
      "\u001b[32m[I 2021-06-30 03:42:50,596]\u001b[0m Trial 37 finished with value: 1.748891464318237 and parameters: {'feature_fraction': 0.15000000000000002, 'max_depth': 7, 'num_leaves': 89, 'min_data_in_leaf': 1255, 'lambda_l1': 2.9086446216379334e-07, 'lambda_l2': 0.3918718852784674, 'bagging_fraction': 0.7, 'bagging_freq': 9}. Best is trial 32 with value: 1.7474431374374348.\u001b[0m\n",
      "\u001b[32m[I 2021-06-30 03:44:29,657]\u001b[0m Trial 38 finished with value: 1.747701616046811 and parameters: {'feature_fraction': 0.25, 'max_depth': 5, 'num_leaves': 25, 'min_data_in_leaf': 4318, 'lambda_l1': 1.5504221273984562, 'lambda_l2': 1.5822278560451357e-08, 'bagging_fraction': 0.8, 'bagging_freq': 5}. Best is trial 32 with value: 1.7474431374374348.\u001b[0m\n",
      "\u001b[32m[I 2021-06-30 03:46:38,578]\u001b[0m Trial 39 finished with value: 1.7484567155864863 and parameters: {'feature_fraction': 0.55, 'max_depth': 5, 'num_leaves': 23, 'min_data_in_leaf': 5062, 'lambda_l1': 0.0005050799946742107, 'lambda_l2': 1.4246816446980083e-08, 'bagging_fraction': 0.8, 'bagging_freq': 2}. Best is trial 32 with value: 1.7474431374374348.\u001b[0m\n",
      "Finished hyperparemeter search! (elapsed time: 3125.806 sec.) The best_iteration is 100.\n",
      "Making booster(s)...\n",
      "Finished making booster(s)! (elapsed time: 18.337 sec.)\n"
     ]
    },
    {
     "name": "stdout",
     "output_type": "stream",
     "text": [
      "52.4\n",
      "2021-06-30 03:46:56.919648\n"
     ]
    },
    {
     "name": "stderr",
     "output_type": "stream",
     "text": [
      "/opt/conda/lib/python3.9/site-packages/sklearn/utils/validation.py:70: FutureWarning: Pass classifier=True as keyword args. From version 1.0 (renaming of 0.25) passing these as positional arguments will result in an error\n",
      "  warnings.warn(f\"Pass {args_msg} as keyword args. From version \"\n",
      "\u001b[32m[I 2021-06-30 03:46:59,250]\u001b[0m A new study created in memory with name: no-name-a8be48aa-8a7d-44d5-a495-0f6ac2f168c7\u001b[0m\n",
      "Searching the best hyperparameters...\n"
     ]
    },
    {
     "name": "stdout",
     "output_type": "stream",
     "text": [
      "starting run 2\n",
      "2021-06-30 03:46:59.197295\n"
     ]
    },
    {
     "name": "stderr",
     "output_type": "stream",
     "text": [
      "\u001b[32m[I 2021-06-30 03:48:24,065]\u001b[0m Trial 0 finished with value: 1.7523459416299865 and parameters: {'feature_fraction': 0.5, 'max_depth': 7, 'num_leaves': 111, 'min_data_in_leaf': 286, 'lambda_l1': 0.015089286325753086, 'lambda_l2': 7.5388539644814665e-06, 'bagging_fraction': 0.9, 'bagging_freq': 1}. Best is trial 0 with value: 1.7523459416299865.\u001b[0m\n",
      "\u001b[32m[I 2021-06-30 03:48:50,394]\u001b[0m Trial 1 finished with value: 1.7629631508999182 and parameters: {'feature_fraction': 1.0, 'max_depth': 4, 'num_leaves': 2, 'min_data_in_leaf': 21000, 'lambda_l1': 0.5236096395387936, 'lambda_l2': 0.005960513909612552, 'bagging_fraction': 0.65, 'bagging_freq': 7}. Best is trial 0 with value: 1.7523459416299865.\u001b[0m\n",
      "\u001b[32m[I 2021-06-30 03:48:51,885]\u001b[0m Trial 2 finished with value: 2.075293967415169 and parameters: {'feature_fraction': 0.35, 'max_depth': 2, 'num_leaves': 2, 'min_data_in_leaf': 98070, 'lambda_l1': 4.758476909725089e-06, 'lambda_l2': 0.012494621187485119, 'bagging_fraction': 0.65, 'bagging_freq': 1}. Best is trial 0 with value: 1.7523459416299865.\u001b[0m\n",
      "\u001b[32m[I 2021-06-30 03:50:11,768]\u001b[0m Trial 3 finished with value: 1.7492147191156426 and parameters: {'feature_fraction': 0.65, 'max_depth': 5, 'num_leaves': 25, 'min_data_in_leaf': 2242, 'lambda_l1': 4.908854955578567e-05, 'lambda_l2': 0.004151997695534522, 'bagging_fraction': 0.95, 'bagging_freq': 10}. Best is trial 3 with value: 1.7492147191156426.\u001b[0m\n",
      "\u001b[32m[I 2021-06-30 03:51:12,393]\u001b[0m Trial 4 finished with value: 1.7590098672609753 and parameters: {'feature_fraction': 0.2, 'max_depth': 4, 'num_leaves': 3, 'min_data_in_leaf': 25492, 'lambda_l1': 0.0006870625987695146, 'lambda_l2': 4.923425372203296e-08, 'bagging_fraction': 0.65, 'bagging_freq': 2}. Best is trial 3 with value: 1.7492147191156426.\u001b[0m\n",
      "\u001b[32m[I 2021-06-30 03:52:53,780]\u001b[0m Trial 5 finished with value: 1.749139459602598 and parameters: {'feature_fraction': 0.35, 'max_depth': 5, 'num_leaves': 8, 'min_data_in_leaf': 271, 'lambda_l1': 1.103501565579917e-05, 'lambda_l2': 3.6423452713623126e-07, 'bagging_fraction': 0.8, 'bagging_freq': 1}. Best is trial 5 with value: 1.749139459602598.\u001b[0m\n",
      "\u001b[32m[I 2021-06-30 03:53:37,534]\u001b[0m Trial 6 finished with value: 1.7535805934161726 and parameters: {'feature_fraction': 0.9, 'max_depth': 7, 'num_leaves': 118, 'min_data_in_leaf': 599, 'lambda_l1': 2.8638322089334488e-09, 'lambda_l2': 6.8353157189897195e-09, 'bagging_fraction': 0.5, 'bagging_freq': 5}. Best is trial 5 with value: 1.749139459602598.\u001b[0m\n",
      "\u001b[32m[I 2021-06-30 03:54:05,326]\u001b[0m Trial 7 finished with value: 1.7969621491943848 and parameters: {'feature_fraction': 0.9500000000000001, 'max_depth': 4, 'num_leaves': 2, 'min_data_in_leaf': 69532, 'lambda_l1': 8.159191792059079e-07, 'lambda_l2': 2.515445202980845, 'bagging_fraction': 0.95, 'bagging_freq': 6}. Best is trial 5 with value: 1.749139459602598.\u001b[0m\n",
      "\u001b[32m[I 2021-06-30 03:55:02,389]\u001b[0m Trial 8 finished with value: 1.8499846543038507 and parameters: {'feature_fraction': 0.35, 'max_depth': 1, 'num_leaves': 2, 'min_data_in_leaf': 66931, 'lambda_l1': 8.627968754587847e-09, 'lambda_l2': 0.014025906023898726, 'bagging_fraction': 0.8500000000000001, 'bagging_freq': 6}. Best is trial 5 with value: 1.749139459602598.\u001b[0m\n",
      "\u001b[32m[I 2021-06-30 03:56:53,844]\u001b[0m Trial 9 finished with value: 1.7523129549941827 and parameters: {'feature_fraction': 0.5, 'max_depth': 5, 'num_leaves': 8, 'min_data_in_leaf': 19690, 'lambda_l1': 5.30432730197704e-09, 'lambda_l2': 1.970020608336291e-06, 'bagging_fraction': 0.75, 'bagging_freq': 1}. Best is trial 5 with value: 1.749139459602598.\u001b[0m\n",
      "\u001b[32m[I 2021-06-30 03:58:14,727]\u001b[0m Trial 10 finished with value: 1.7502640325657937 and parameters: {'feature_fraction': 0.1, 'max_depth': 6, 'num_leaves': 55, 'min_data_in_leaf': 2035, 'lambda_l1': 2.7193673099524707e-07, 'lambda_l2': 3.283108252042592e-07, 'bagging_fraction': 0.8, 'bagging_freq': 3}. Best is trial 5 with value: 1.749139459602598.\u001b[0m\n",
      "\u001b[32m[I 2021-06-30 03:59:28,913]\u001b[0m Trial 11 finished with value: 1.7491632901316116 and parameters: {'feature_fraction': 0.75, 'max_depth': 6, 'num_leaves': 25, 'min_data_in_leaf': 4171, 'lambda_l1': 0.0001162134281465795, 'lambda_l2': 0.00046940345384687937, 'bagging_fraction': 0.95, 'bagging_freq': 10}. Best is trial 5 with value: 1.749139459602598.\u001b[0m\n",
      "\u001b[32m[I 2021-06-30 04:00:41,557]\u001b[0m Trial 12 finished with value: 1.7486226410681631 and parameters: {'feature_fraction': 0.7000000000000001, 'max_depth': 6, 'num_leaves': 23, 'min_data_in_leaf': 6827, 'lambda_l1': 0.0014006975390746337, 'lambda_l2': 8.84251754230262e-05, 'bagging_fraction': 0.8500000000000001, 'bagging_freq': 10}. Best is trial 12 with value: 1.7486226410681631.\u001b[0m\n",
      "\u001b[32m[I 2021-06-30 04:01:49,000]\u001b[0m Trial 13 finished with value: 1.748759591852917 and parameters: {'feature_fraction': 0.75, 'max_depth': 6, 'num_leaves': 16, 'min_data_in_leaf': 8536, 'lambda_l1': 0.014794972248606618, 'lambda_l2': 4.8332406279024045e-05, 'bagging_fraction': 0.8, 'bagging_freq': 8}. Best is trial 12 with value: 1.7486226410681631.\u001b[0m\n",
      "\u001b[32m[I 2021-06-30 04:02:56,910]\u001b[0m Trial 14 finished with value: 1.7489992536979888 and parameters: {'feature_fraction': 0.8, 'max_depth': 6, 'num_leaves': 41, 'min_data_in_leaf': 4808, 'lambda_l1': 1.3908528985206754, 'lambda_l2': 4.690003232303102e-05, 'bagging_fraction': 0.8500000000000001, 'bagging_freq': 8}. Best is trial 12 with value: 1.7486226410681631.\u001b[0m\n",
      "\u001b[32m[I 2021-06-30 04:04:00,060]\u001b[0m Trial 15 finished with value: 1.7498420257533875 and parameters: {'feature_fraction': 0.65, 'max_depth': 7, 'num_leaves': 93, 'min_data_in_leaf': 1669, 'lambda_l1': 0.00546518685315686, 'lambda_l2': 0.9386030834091049, 'bagging_fraction': 0.75, 'bagging_freq': 9}. Best is trial 12 with value: 1.7486226410681631.\u001b[0m\n",
      "\u001b[32m[I 2021-06-30 04:04:41,572]\u001b[0m Trial 16 finished with value: 1.7516789736514535 and parameters: {'feature_fraction': 0.85, 'max_depth': 2, 'num_leaves': 4, 'min_data_in_leaf': 11933, 'lambda_l1': 9.43503364982255, 'lambda_l2': 0.0002177156192300898, 'bagging_fraction': 0.8500000000000001, 'bagging_freq': 8}. Best is trial 12 with value: 1.7486226410681631.\u001b[0m\n",
      "\u001b[32m[I 2021-06-30 04:05:45,253]\u001b[0m Trial 17 finished with value: 1.7491022097174542 and parameters: {'feature_fraction': 0.65, 'max_depth': 6, 'num_leaves': 19, 'min_data_in_leaf': 8583, 'lambda_l1': 0.03154954186576352, 'lambda_l2': 1.1478653634536937e-05, 'bagging_fraction': 0.7, 'bagging_freq': 9}. Best is trial 12 with value: 1.7486226410681631.\u001b[0m\n",
      "\u001b[32m[I 2021-06-30 04:06:27,155]\u001b[0m Trial 18 finished with value: 1.7502790195932971 and parameters: {'feature_fraction': 0.75, 'max_depth': 3, 'num_leaves': 8, 'min_data_in_leaf': 8505, 'lambda_l1': 0.17657225351627687, 'lambda_l2': 0.1913964601758933, 'bagging_fraction': 0.55, 'bagging_freq': 10}. Best is trial 12 with value: 1.7486226410681631.\u001b[0m\n",
      "\u001b[32m[I 2021-06-30 04:08:39,527]\u001b[0m Trial 19 finished with value: 1.7483991222069093 and parameters: {'feature_fraction': 0.55, 'max_depth': 5, 'num_leaves': 18, 'min_data_in_leaf': 8073, 'lambda_l1': 0.0016841945708372802, 'lambda_l2': 0.0004595772731980056, 'bagging_fraction': 0.9, 'bagging_freq': 8}. Best is trial 19 with value: 1.7483991222069093.\u001b[0m\n",
      "\u001b[32m[I 2021-06-30 04:10:56,449]\u001b[0m Trial 20 finished with value: 1.748416385065973 and parameters: {'feature_fraction': 0.55, 'max_depth': 5, 'num_leaves': 22, 'min_data_in_leaf': 7371, 'lambda_l1': 0.0012034744184300722, 'lambda_l2': 0.0004582171791119206, 'bagging_fraction': 0.9, 'bagging_freq': 5}. Best is trial 19 with value: 1.7483991222069093.\u001b[0m\n",
      "\u001b[32m[I 2021-06-30 04:13:13,085]\u001b[0m Trial 21 finished with value: 1.7483808865761783 and parameters: {'feature_fraction': 0.55, 'max_depth': 5, 'num_leaves': 22, 'min_data_in_leaf': 7150, 'lambda_l1': 0.0025455638836092416, 'lambda_l2': 0.00046215087252979975, 'bagging_fraction': 0.9, 'bagging_freq': 4}. Best is trial 21 with value: 1.7483808865761783.\u001b[0m\n",
      "\u001b[32m[I 2021-06-30 04:15:24,252]\u001b[0m Trial 22 finished with value: 1.7483747421485365 and parameters: {'feature_fraction': 0.45000000000000007, 'max_depth': 5, 'num_leaves': 30, 'min_data_in_leaf': 6657, 'lambda_l1': 0.00042581777549075494, 'lambda_l2': 0.0011743001635433168, 'bagging_fraction': 0.9, 'bagging_freq': 4}. Best is trial 22 with value: 1.7483747421485365.\u001b[0m\n"
     ]
    },
    {
     "name": "stderr",
     "output_type": "stream",
     "text": [
      "\u001b[32m[I 2021-06-30 04:17:19,825]\u001b[0m Trial 23 finished with value: 1.7497910651602595 and parameters: {'feature_fraction': 0.45000000000000007, 'max_depth': 3, 'num_leaves': 6, 'min_data_in_leaf': 12909, 'lambda_l1': 0.0001545449719172644, 'lambda_l2': 0.0016491339656742319, 'bagging_fraction': 0.9, 'bagging_freq': 4}. Best is trial 22 with value: 1.7483747421485365.\u001b[0m\n",
      "\u001b[32m[I 2021-06-30 04:19:35,747]\u001b[0m Trial 24 finished with value: 1.7484625346845941 and parameters: {'feature_fraction': 0.55, 'max_depth': 5, 'num_leaves': 32, 'min_data_in_leaf': 6245, 'lambda_l1': 0.13184116838068607, 'lambda_l2': 0.05195185128298043, 'bagging_fraction': 0.9, 'bagging_freq': 4}. Best is trial 22 with value: 1.7483747421485365.\u001b[0m\n",
      "\u001b[32m[I 2021-06-30 04:21:19,554]\u001b[0m Trial 25 finished with value: 1.749338248461355 and parameters: {'feature_fraction': 0.30000000000000004, 'max_depth': 3, 'num_leaves': 7, 'min_data_in_leaf': 11014, 'lambda_l1': 0.0011520317023110084, 'lambda_l2': 0.14991374645215133, 'bagging_fraction': 0.95, 'bagging_freq': 3}. Best is trial 22 with value: 1.7483747421485365.\u001b[0m\n",
      "\u001b[32m[I 2021-06-30 04:23:20,310]\u001b[0m Trial 26 finished with value: 1.7487609796084573 and parameters: {'feature_fraction': 0.45000000000000007, 'max_depth': 4, 'num_leaves': 12, 'min_data_in_leaf': 10173, 'lambda_l1': 1.8644117853460402e-05, 'lambda_l2': 0.0021829730678601337, 'bagging_fraction': 0.9, 'bagging_freq': 4}. Best is trial 22 with value: 1.7483747421485365.\u001b[0m\n",
      "\u001b[32m[I 2021-06-30 04:25:14,334]\u001b[0m Trial 27 finished with value: 1.7484213841926395 and parameters: {'feature_fraction': 0.6, 'max_depth': 5, 'num_leaves': 29, 'min_data_in_leaf': 5548, 'lambda_l1': 2.4677062190174094e-06, 'lambda_l2': 1.2005301664446264e-05, 'bagging_fraction': 0.95, 'bagging_freq': 3}. Best is trial 22 with value: 1.7483747421485365.\u001b[0m\n",
      "\u001b[32m[I 2021-06-30 04:27:13,273]\u001b[0m Trial 28 finished with value: 1.7483957792972542 and parameters: {'feature_fraction': 0.45000000000000007, 'max_depth': 5, 'num_leaves': 32, 'min_data_in_leaf': 6204, 'lambda_l1': 0.00016851390564644701, 'lambda_l2': 0.000514635234658978, 'bagging_fraction': 0.8, 'bagging_freq': 5}. Best is trial 22 with value: 1.7483747421485365.\u001b[0m\n",
      "\u001b[32m[I 2021-06-30 04:29:16,233]\u001b[0m Trial 29 finished with value: 1.7487277647669714 and parameters: {'feature_fraction': 0.45000000000000007, 'max_depth': 7, 'num_leaves': 50, 'min_data_in_leaf': 3396, 'lambda_l1': 0.00024118171586346086, 'lambda_l2': 0.034603954815765725, 'bagging_fraction': 0.8, 'bagging_freq': 5}. Best is trial 22 with value: 1.7483747421485365.\u001b[0m\n",
      "\u001b[32m[I 2021-06-30 04:30:41,540]\u001b[0m Trial 30 finished with value: 1.749192374910311 and parameters: {'feature_fraction': 0.25, 'max_depth': 4, 'num_leaves': 11, 'min_data_in_leaf': 10295, 'lambda_l1': 0.008072871471413882, 'lambda_l2': 1.9982285072609276e-06, 'bagging_fraction': 0.75, 'bagging_freq': 2}. Best is trial 22 with value: 1.7483747421485365.\u001b[0m\n",
      "\u001b[32m[I 2021-06-30 04:32:50,019]\u001b[0m Trial 31 finished with value: 1.748419494272636 and parameters: {'feature_fraction': 0.5, 'max_depth': 5, 'num_leaves': 32, 'min_data_in_leaf': 6212, 'lambda_l1': 0.0029929805208524104, 'lambda_l2': 0.0010539656623054228, 'bagging_fraction': 0.8500000000000001, 'bagging_freq': 6}. Best is trial 22 with value: 1.7483747421485365.\u001b[0m\n",
      "\u001b[32m[I 2021-06-30 04:34:56,180]\u001b[0m Trial 32 finished with value: 1.748249633288409 and parameters: {'feature_fraction': 0.4, 'max_depth': 5, 'num_leaves': 32, 'min_data_in_leaf': 6149, 'lambda_l1': 0.04890710577333025, 'lambda_l2': 0.00015910116900932857, 'bagging_fraction': 0.9, 'bagging_freq': 7}. Best is trial 32 with value: 1.748249633288409.\u001b[0m\n",
      "\u001b[32m[I 2021-06-30 04:36:51,428]\u001b[0m Trial 33 finished with value: 1.7483008491370455 and parameters: {'feature_fraction': 0.4, 'max_depth': 4, 'num_leaves': 14, 'min_data_in_leaf': 5095, 'lambda_l1': 0.08903018037523085, 'lambda_l2': 6.705915738982637e-05, 'bagging_fraction': 0.8500000000000001, 'bagging_freq': 4}. Best is trial 32 with value: 1.748249633288409.\u001b[0m\n",
      "\u001b[32m[I 2021-06-30 04:38:51,962]\u001b[0m Trial 34 finished with value: 1.7485440413915359 and parameters: {'feature_fraction': 0.4, 'max_depth': 4, 'num_leaves': 14, 'min_data_in_leaf': 4794, 'lambda_l1': 0.052819567677348266, 'lambda_l2': 2.9955883701442193e-05, 'bagging_fraction': 0.9, 'bagging_freq': 7}. Best is trial 32 with value: 1.748249633288409.\u001b[0m\n",
      "\u001b[32m[I 2021-06-30 04:40:18,284]\u001b[0m Trial 35 finished with value: 1.7507419224900242 and parameters: {'feature_fraction': 0.2, 'max_depth': 3, 'num_leaves': 5, 'min_data_in_leaf': 15235, 'lambda_l1': 1.0121012777378464, 'lambda_l2': 0.0046795629952916425, 'bagging_fraction': 0.95, 'bagging_freq': 4}. Best is trial 32 with value: 1.748249633288409.\u001b[0m\n",
      "\u001b[32m[I 2021-06-30 04:42:00,865]\u001b[0m Trial 36 finished with value: 1.7482481799455662 and parameters: {'feature_fraction': 0.30000000000000004, 'max_depth': 4, 'num_leaves': 16, 'min_data_in_leaf': 7278, 'lambda_l1': 3.302256521130809, 'lambda_l2': 2.8480349968713144e-06, 'bagging_fraction': 0.8500000000000001, 'bagging_freq': 7}. Best is trial 36 with value: 1.7482481799455662.\u001b[0m\n",
      "\u001b[32m[I 2021-06-30 04:43:09,230]\u001b[0m Trial 37 finished with value: 1.7500876994692913 and parameters: {'feature_fraction': 0.1, 'max_depth': 4, 'num_leaves': 10, 'min_data_in_leaf': 3973, 'lambda_l1': 8.699567120732164, 'lambda_l2': 1.72373764023113e-06, 'bagging_fraction': 0.8500000000000001, 'bagging_freq': 7}. Best is trial 36 with value: 1.7482481799455662.\u001b[0m\n",
      "\u001b[32m[I 2021-06-30 04:44:33,244]\u001b[0m Trial 38 finished with value: 1.7580753017838364 and parameters: {'feature_fraction': 0.30000000000000004, 'max_depth': 3, 'num_leaves': 3, 'min_data_in_leaf': 32275, 'lambda_l1': 3.951114273217716, 'lambda_l2': 4.721284826253133e-08, 'bagging_fraction': 0.8500000000000001, 'bagging_freq': 7}. Best is trial 36 with value: 1.7482481799455662.\u001b[0m\n",
      "\u001b[32m[I 2021-06-30 04:46:10,932]\u001b[0m Trial 39 finished with value: 1.7477784483669123 and parameters: {'feature_fraction': 0.2, 'max_depth': 4, 'num_leaves': 14, 'min_data_in_leaf': 3020, 'lambda_l1': 0.14057875786764254, 'lambda_l2': 7.497782798395969e-06, 'bagging_fraction': 0.95, 'bagging_freq': 6}. Best is trial 39 with value: 1.7477784483669123.\u001b[0m\n",
      "Finished hyperparemeter search! (elapsed time: 3551.640 sec.) The best_iteration is 100.\n",
      "Making booster(s)...\n",
      "Finished making booster(s)! (elapsed time: 23.431 sec.)\n"
     ]
    },
    {
     "name": "stdout",
     "output_type": "stream",
     "text": [
      "59.59\n",
      "2021-06-30 04:46:34.367831\n"
     ]
    },
    {
     "name": "stderr",
     "output_type": "stream",
     "text": [
      "/opt/conda/lib/python3.9/site-packages/sklearn/utils/validation.py:70: FutureWarning: Pass classifier=True as keyword args. From version 1.0 (renaming of 0.25) passing these as positional arguments will result in an error\n",
      "  warnings.warn(f\"Pass {args_msg} as keyword args. From version \"\n",
      "\u001b[32m[I 2021-06-30 04:46:36,089]\u001b[0m A new study created in memory with name: no-name-caa5f73f-c02b-482e-8c56-6687d232e318\u001b[0m\n",
      "Searching the best hyperparameters...\n"
     ]
    },
    {
     "name": "stdout",
     "output_type": "stream",
     "text": [
      "starting run 3\n",
      "2021-06-30 04:46:36.039749\n"
     ]
    },
    {
     "name": "stderr",
     "output_type": "stream",
     "text": [
      "\u001b[32m[I 2021-06-30 04:47:58,919]\u001b[0m Trial 0 finished with value: 1.7483565778529306 and parameters: {'feature_fraction': 0.25, 'max_depth': 6, 'num_leaves': 52, 'min_data_in_leaf': 2781, 'lambda_l1': 6.051859505479103e-07, 'lambda_l2': 6.312113694775676e-08, 'bagging_fraction': 0.55, 'bagging_freq': 3}. Best is trial 0 with value: 1.7483565778529306.\u001b[0m\n",
      "\u001b[32m[I 2021-06-30 04:48:39,396]\u001b[0m Trial 1 finished with value: 1.811762130043709 and parameters: {'feature_fraction': 0.1, 'max_depth': 1, 'num_leaves': 2, 'min_data_in_leaf': 53259, 'lambda_l1': 1.5620776061109168e-07, 'lambda_l2': 1.1566260451565558, 'bagging_fraction': 0.75, 'bagging_freq': 2}. Best is trial 0 with value: 1.7483565778529306.\u001b[0m\n",
      "\u001b[32m[I 2021-06-30 04:50:06,807]\u001b[0m Trial 2 finished with value: 1.747762003375446 and parameters: {'feature_fraction': 0.15000000000000002, 'max_depth': 5, 'num_leaves': 24, 'min_data_in_leaf': 7703, 'lambda_l1': 0.014972339497572172, 'lambda_l2': 1.419508504767615, 'bagging_fraction': 0.9, 'bagging_freq': 2}. Best is trial 2 with value: 1.747762003375446.\u001b[0m\n",
      "\u001b[32m[I 2021-06-30 04:50:08,614]\u001b[0m Trial 3 finished with value: 2.075293967415169 and parameters: {'feature_fraction': 0.75, 'max_depth': 3, 'num_leaves': 2, 'min_data_in_leaf': 86161, 'lambda_l1': 8.459986131905258e-09, 'lambda_l2': 1.5048836078882214e-07, 'bagging_fraction': 0.7, 'bagging_freq': 7}. Best is trial 2 with value: 1.747762003375446.\u001b[0m\n",
      "\u001b[32m[I 2021-06-30 04:51:47,551]\u001b[0m Trial 4 finished with value: 1.7498865684637568 and parameters: {'feature_fraction': 0.25, 'max_depth': 4, 'num_leaves': 11, 'min_data_in_leaf': 16110, 'lambda_l1': 1.3625153466024513e-07, 'lambda_l2': 1.29899239740952e-06, 'bagging_fraction': 0.95, 'bagging_freq': 3}. Best is trial 2 with value: 1.747762003375446.\u001b[0m\n",
      "\u001b[32m[I 2021-06-30 04:52:36,595]\u001b[0m Trial 5 finished with value: 1.750794475149874 and parameters: {'feature_fraction': 0.75, 'max_depth': 3, 'num_leaves': 6, 'min_data_in_leaf': 16678, 'lambda_l1': 0.5410960628253363, 'lambda_l2': 0.0001619528896651497, 'bagging_fraction': 0.8, 'bagging_freq': 10}. Best is trial 2 with value: 1.747762003375446.\u001b[0m\n",
      "\u001b[32m[I 2021-06-30 04:54:37,629]\u001b[0m Trial 6 finished with value: 1.7485483239093071 and parameters: {'feature_fraction': 0.5, 'max_depth': 5, 'num_leaves': 12, 'min_data_in_leaf': 6002, 'lambda_l1': 1.2321895699773953e-05, 'lambda_l2': 4.482125064724595e-07, 'bagging_fraction': 0.8, 'bagging_freq': 9}. Best is trial 2 with value: 1.747762003375446.\u001b[0m\n",
      "\u001b[32m[I 2021-06-30 04:55:58,543]\u001b[0m Trial 7 finished with value: 1.7487180736191974 and parameters: {'feature_fraction': 0.2, 'max_depth': 4, 'num_leaves': 13, 'min_data_in_leaf': 10852, 'lambda_l1': 0.0007896278340912438, 'lambda_l2': 1.0222402467341904e-06, 'bagging_fraction': 0.95, 'bagging_freq': 1}. Best is trial 2 with value: 1.747762003375446.\u001b[0m\n",
      "\u001b[32m[I 2021-06-30 04:57:02,761]\u001b[0m Trial 8 finished with value: 1.749005650739587 and parameters: {'feature_fraction': 0.9500000000000001, 'max_depth': 5, 'num_leaves': 13, 'min_data_in_leaf': 6309, 'lambda_l1': 8.341254341154988e-05, 'lambda_l2': 0.00034837385962184936, 'bagging_fraction': 0.75, 'bagging_freq': 6}. Best is trial 2 with value: 1.747762003375446.\u001b[0m\n",
      "\u001b[32m[I 2021-06-30 04:58:14,215]\u001b[0m Trial 9 finished with value: 1.7496305115925026 and parameters: {'feature_fraction': 0.6, 'max_depth': 7, 'num_leaves': 64, 'min_data_in_leaf': 2451, 'lambda_l1': 3.930583580664068e-07, 'lambda_l2': 1.0670635844114556e-09, 'bagging_fraction': 0.55, 'bagging_freq': 6}. Best is trial 2 with value: 1.747762003375446.\u001b[0m\n",
      "\u001b[32m[I 2021-06-30 04:59:42,519]\u001b[0m Trial 10 finished with value: 1.7666909680162892 and parameters: {'feature_fraction': 0.4, 'max_depth': 1, 'num_leaves': 2, 'min_data_in_leaf': 41077, 'lambda_l1': 6.916513053870516, 'lambda_l2': 6.968474297149796, 'bagging_fraction': 0.9, 'bagging_freq': 4}. Best is trial 2 with value: 1.747762003375446.\u001b[0m\n",
      "\u001b[32m[I 2021-06-30 05:00:55,889]\u001b[0m Trial 11 finished with value: 1.7555491217933767 and parameters: {'feature_fraction': 0.1, 'max_depth': 7, 'num_leaves': 52, 'min_data_in_leaf': 146, 'lambda_l1': 0.024796708745954976, 'lambda_l2': 0.016622154114460937, 'bagging_fraction': 0.5, 'bagging_freq': 1}. Best is trial 2 with value: 1.747762003375446.\u001b[0m\n",
      "\u001b[32m[I 2021-06-30 05:02:26,609]\u001b[0m Trial 12 finished with value: 1.7485331666281314 and parameters: {'feature_fraction': 0.30000000000000004, 'max_depth': 6, 'num_leaves': 31, 'min_data_in_leaf': 3218, 'lambda_l1': 0.005082458395154132, 'lambda_l2': 2.9232278707646634e-09, 'bagging_fraction': 0.6, 'bagging_freq': 4}. Best is trial 2 with value: 1.747762003375446.\u001b[0m\n",
      "\u001b[32m[I 2021-06-30 05:03:35,906]\u001b[0m Trial 13 finished with value: 1.7501572627477113 and parameters: {'feature_fraction': 0.1, 'max_depth': 6, 'num_leaves': 32, 'min_data_in_leaf': 3219, 'lambda_l1': 6.437811680418785e-06, 'lambda_l2': 0.0447947535182951, 'bagging_fraction': 0.65, 'bagging_freq': 3}. Best is trial 2 with value: 1.747762003375446.\u001b[0m\n",
      "\u001b[32m[I 2021-06-30 05:04:55,658]\u001b[0m Trial 14 finished with value: 1.7513175835981436 and parameters: {'feature_fraction': 0.35, 'max_depth': 6, 'num_leaves': 44, 'min_data_in_leaf': 161, 'lambda_l1': 0.19186554560287533, 'lambda_l2': 6.708803312770823e-09, 'bagging_fraction': 0.8500000000000001, 'bagging_freq': 1}. Best is trial 2 with value: 1.747762003375446.\u001b[0m\n",
      "\u001b[32m[I 2021-06-30 05:06:00,441]\u001b[0m Trial 15 finished with value: 1.7484456788544243 and parameters: {'feature_fraction': 0.2, 'max_depth': 5, 'num_leaves': 25, 'min_data_in_leaf': 5385, 'lambda_l1': 0.0005732201420847902, 'lambda_l2': 2.1313515740608e-05, 'bagging_fraction': 0.5, 'bagging_freq': 4}. Best is trial 2 with value: 1.747762003375446.\u001b[0m\n",
      "\u001b[32m[I 2021-06-30 05:07:38,458]\u001b[0m Trial 16 finished with value: 1.7495435199560763 and parameters: {'feature_fraction': 0.45000000000000007, 'max_depth': 7, 'num_leaves': 95, 'min_data_in_leaf': 1479, 'lambda_l1': 1.2928924303589279e-09, 'lambda_l2': 0.021879768875592696, 'bagging_fraction': 0.65, 'bagging_freq': 2}. Best is trial 2 with value: 1.747762003375446.\u001b[0m\n",
      "\u001b[32m[I 2021-06-30 05:08:42,402]\u001b[0m Trial 17 finished with value: 1.7502000358082221 and parameters: {'feature_fraction': 0.6, 'max_depth': 3, 'num_leaves': 8, 'min_data_in_leaf': 9955, 'lambda_l1': 1.9786260719075994e-06, 'lambda_l2': 3.53738200646173e-08, 'bagging_fraction': 0.55, 'bagging_freq': 3}. Best is trial 2 with value: 1.747762003375446.\u001b[0m\n",
      "\u001b[32m[I 2021-06-30 05:10:24,137]\u001b[0m Trial 18 finished with value: 1.7481072084649956 and parameters: {'feature_fraction': 0.2, 'max_depth': 6, 'num_leaves': 59, 'min_data_in_leaf': 971, 'lambda_l1': 3.841001366662703, 'lambda_l2': 0.00127345804970838, 'bagging_fraction': 0.9, 'bagging_freq': 5}. Best is trial 2 with value: 1.747762003375446.\u001b[0m\n",
      "\u001b[32m[I 2021-06-30 05:11:35,484]\u001b[0m Trial 19 finished with value: 1.7505905304490945 and parameters: {'feature_fraction': 0.1, 'max_depth': 5, 'num_leaves': 21, 'min_data_in_leaf': 7824, 'lambda_l1': 9.349505292273204, 'lambda_l2': 0.4636211063149124, 'bagging_fraction': 0.9, 'bagging_freq': 8}. Best is trial 2 with value: 1.747762003375446.\u001b[0m\n",
      "\u001b[32m[I 2021-06-30 05:12:51,788]\u001b[0m Trial 20 finished with value: 1.7556850193387206 and parameters: {'feature_fraction': 0.2, 'max_depth': 2, 'num_leaves': 4, 'min_data_in_leaf': 26698, 'lambda_l1': 0.8074731535047046, 'lambda_l2': 0.0014774807528303575, 'bagging_fraction': 0.9, 'bagging_freq': 5}. Best is trial 2 with value: 1.747762003375446.\u001b[0m\n",
      "\u001b[32m[I 2021-06-30 05:14:25,362]\u001b[0m Trial 21 finished with value: 1.7492928238129668 and parameters: {'feature_fraction': 0.30000000000000004, 'max_depth': 6, 'num_leaves': 61, 'min_data_in_leaf': 843, 'lambda_l1': 0.042290655486645116, 'lambda_l2': 1.8912702778075295e-05, 'bagging_fraction': 0.8500000000000001, 'bagging_freq': 5}. Best is trial 2 with value: 1.747762003375446.\u001b[0m\n",
      "\u001b[32m[I 2021-06-30 05:16:20,917]\u001b[0m Trial 22 finished with value: 1.7477643890896186 and parameters: {'feature_fraction': 0.2, 'max_depth': 6, 'num_leaves': 64, 'min_data_in_leaf': 916, 'lambda_l1': 9.992596239467233, 'lambda_l2': 0.0028213268950031773, 'bagging_fraction': 0.95, 'bagging_freq': 2}. Best is trial 2 with value: 1.747762003375446.\u001b[0m\n"
     ]
    },
    {
     "name": "stderr",
     "output_type": "stream",
     "text": [
      "\u001b[32m[I 2021-06-30 05:18:00,266]\u001b[0m Trial 23 finished with value: 1.7471538478559157 and parameters: {'feature_fraction': 0.15000000000000002, 'max_depth': 5, 'num_leaves': 32, 'min_data_in_leaf': 1482, 'lambda_l1': 4.585150508548567, 'lambda_l2': 0.0019541971974646, 'bagging_fraction': 0.95, 'bagging_freq': 2}. Best is trial 23 with value: 1.7471538478559157.\u001b[0m\n",
      "\u001b[32m[I 2021-06-30 05:19:13,413]\u001b[0m Trial 24 finished with value: 1.7505473352506482 and parameters: {'feature_fraction': 0.1, 'max_depth': 4, 'num_leaves': 16, 'min_data_in_leaf': 8500, 'lambda_l1': 1.6367080197258856, 'lambda_l2': 0.14658358393070334, 'bagging_fraction': 0.95, 'bagging_freq': 2}. Best is trial 23 with value: 1.7471538478559157.\u001b[0m\n",
      "\u001b[32m[I 2021-06-30 05:21:14,718]\u001b[0m Trial 25 finished with value: 1.7484307478545436 and parameters: {'feature_fraction': 0.35, 'max_depth': 5, 'num_leaves': 29, 'min_data_in_leaf': 1923, 'lambda_l1': 0.07326215608917855, 'lambda_l2': 0.003747194278282382, 'bagging_fraction': 0.95, 'bagging_freq': 2}. Best is trial 23 with value: 1.7471538478559157.\u001b[0m\n",
      "\u001b[32m[I 2021-06-30 05:22:32,727]\u001b[0m Trial 26 finished with value: 1.747343328756272 and parameters: {'feature_fraction': 0.15000000000000002, 'max_depth': 5, 'num_leaves': 23, 'min_data_in_leaf': 4858, 'lambda_l1': 0.005910469446398991, 'lambda_l2': 8.000814304748896, 'bagging_fraction': 0.8500000000000001, 'bagging_freq': 1}. Best is trial 23 with value: 1.7471538478559157.\u001b[0m\n",
      "\u001b[32m[I 2021-06-30 05:23:52,081]\u001b[0m Trial 27 finished with value: 1.7476046952231399 and parameters: {'feature_fraction': 0.15000000000000002, 'max_depth': 4, 'num_leaves': 16, 'min_data_in_leaf': 4342, 'lambda_l1': 0.004261345113841997, 'lambda_l2': 5.741947341784466, 'bagging_fraction': 0.8500000000000001, 'bagging_freq': 1}. Best is trial 23 with value: 1.7471538478559157.\u001b[0m\n",
      "\u001b[32m[I 2021-06-30 05:25:30,578]\u001b[0m Trial 28 finished with value: 1.7479786592985653 and parameters: {'feature_fraction': 0.30000000000000004, 'max_depth': 4, 'num_leaves': 16, 'min_data_in_leaf': 4688, 'lambda_l1': 0.0034907571158140326, 'lambda_l2': 5.293983766643479, 'bagging_fraction': 0.8500000000000001, 'bagging_freq': 1}. Best is trial 23 with value: 1.7471538478559157.\u001b[0m\n",
      "\u001b[32m[I 2021-06-30 05:27:15,941]\u001b[0m Trial 29 finished with value: 1.7487158780363867 and parameters: {'feature_fraction': 0.4, 'max_depth': 3, 'num_leaves': 8, 'min_data_in_leaf': 4173, 'lambda_l1': 0.00014223711243656936, 'lambda_l2': 9.066991607172609, 'bagging_fraction': 0.8, 'bagging_freq': 1}. Best is trial 23 with value: 1.7471538478559157.\u001b[0m\n",
      "\u001b[32m[I 2021-06-30 05:27:59,243]\u001b[0m Trial 30 finished with value: 1.7516343332681878 and parameters: {'feature_fraction': 0.9500000000000001, 'max_depth': 2, 'num_leaves': 4, 'min_data_in_leaf': 15152, 'lambda_l1': 0.0019138117050077007, 'lambda_l2': 0.33169468065744967, 'bagging_fraction': 0.8500000000000001, 'bagging_freq': 3}. Best is trial 23 with value: 1.7471538478559157.\u001b[0m\n",
      "\u001b[32m[I 2021-06-30 05:29:16,008]\u001b[0m Trial 31 finished with value: 1.7475449625386688 and parameters: {'feature_fraction': 0.15000000000000002, 'max_depth': 5, 'num_leaves': 21, 'min_data_in_leaf': 6900, 'lambda_l1': 0.013452652682381787, 'lambda_l2': 5.657273112384282, 'bagging_fraction': 0.9, 'bagging_freq': 1}. Best is trial 23 with value: 1.7471538478559157.\u001b[0m\n",
      "\u001b[32m[I 2021-06-30 05:30:29,871]\u001b[0m Trial 32 finished with value: 1.7479094970531182 and parameters: {'feature_fraction': 0.15000000000000002, 'max_depth': 4, 'num_leaves': 16, 'min_data_in_leaf': 6664, 'lambda_l1': 0.00012026175214452729, 'lambda_l2': 2.5770358931408253, 'bagging_fraction': 0.8, 'bagging_freq': 1}. Best is trial 23 with value: 1.7471538478559157.\u001b[0m\n",
      "\u001b[32m[I 2021-06-30 05:31:48,133]\u001b[0m Trial 33 finished with value: 1.747438449566065 and parameters: {'feature_fraction': 0.15000000000000002, 'max_depth': 5, 'num_leaves': 20, 'min_data_in_leaf': 4025, 'lambda_l1': 0.16184794888969628, 'lambda_l2': 0.9768109927727625, 'bagging_fraction': 0.8500000000000001, 'bagging_freq': 1}. Best is trial 23 with value: 1.7471538478559157.\u001b[0m\n",
      "\u001b[32m[I 2021-06-30 05:33:20,923]\u001b[0m Trial 34 finished with value: 1.7480051547496722 and parameters: {'feature_fraction': 0.25, 'max_depth': 5, 'num_leaves': 20, 'min_data_in_leaf': 5407, 'lambda_l1': 0.13222694803210927, 'lambda_l2': 1.143368463156842, 'bagging_fraction': 0.75, 'bagging_freq': 2}. Best is trial 23 with value: 1.7471538478559157.\u001b[0m\n",
      "\u001b[32m[I 2021-06-30 05:34:53,074]\u001b[0m Trial 35 finished with value: 1.7472939818743973 and parameters: {'feature_fraction': 0.15000000000000002, 'max_depth': 5, 'num_leaves': 25, 'min_data_in_leaf': 3557, 'lambda_l1': 0.014647922753370655, 'lambda_l2': 0.13611929732746486, 'bagging_fraction': 0.9, 'bagging_freq': 2}. Best is trial 23 with value: 1.7471538478559157.\u001b[0m\n",
      "\u001b[32m[I 2021-06-30 05:36:46,760]\u001b[0m Trial 36 finished with value: 1.7474557303358549 and parameters: {'feature_fraction': 0.25, 'max_depth': 5, 'num_leaves': 24, 'min_data_in_leaf': 3589, 'lambda_l1': 0.44148183305045274, 'lambda_l2': 0.19967354323061656, 'bagging_fraction': 0.95, 'bagging_freq': 3}. Best is trial 23 with value: 1.7471538478559157.\u001b[0m\n",
      "\u001b[32m[I 2021-06-30 05:37:59,099]\u001b[0m Trial 37 finished with value: 1.7499386370217924 and parameters: {'feature_fraction': 0.1, 'max_depth': 5, 'num_leaves': 27, 'min_data_in_leaf': 4887, 'lambda_l1': 1.2724143121659908, 'lambda_l2': 0.07051148939179695, 'bagging_fraction': 0.8, 'bagging_freq': 2}. Best is trial 23 with value: 1.7471538478559157.\u001b[0m\n",
      "\u001b[32m[I 2021-06-30 05:39:27,314]\u001b[0m Trial 38 finished with value: 1.747322680740675 and parameters: {'feature_fraction': 0.15000000000000002, 'max_depth': 5, 'num_leaves': 19, 'min_data_in_leaf': 2439, 'lambda_l1': 0.1690255678387488, 'lambda_l2': 0.01278478271602231, 'bagging_fraction': 0.8500000000000001, 'bagging_freq': 4}. Best is trial 23 with value: 1.7471538478559157.\u001b[0m\n",
      "\u001b[32m[I 2021-06-30 05:40:26,240]\u001b[0m Trial 39 finished with value: 1.74908178061636 and parameters: {'feature_fraction': 0.8, 'max_depth': 4, 'num_leaves': 15, 'min_data_in_leaf': 2083, 'lambda_l1': 0.01662539007444891, 'lambda_l2': 0.00853767331144247, 'bagging_fraction': 0.7, 'bagging_freq': 4}. Best is trial 23 with value: 1.7471538478559157.\u001b[0m\n",
      "Finished hyperparemeter search! (elapsed time: 3230.110 sec.) The best_iteration is 98.\n",
      "Making booster(s)...\n",
      "Finished making booster(s)! (elapsed time: 23.094 sec.)\n"
     ]
    },
    {
     "name": "stdout",
     "output_type": "stream",
     "text": [
      "54.22\n",
      "2021-06-30 05:40:49.339245\n"
     ]
    },
    {
     "name": "stderr",
     "output_type": "stream",
     "text": [
      "/opt/conda/lib/python3.9/site-packages/sklearn/utils/validation.py:70: FutureWarning: Pass classifier=True as keyword args. From version 1.0 (renaming of 0.25) passing these as positional arguments will result in an error\n",
      "  warnings.warn(f\"Pass {args_msg} as keyword args. From version \"\n",
      "\u001b[32m[I 2021-06-30 05:40:51,303]\u001b[0m A new study created in memory with name: no-name-74655212-67f4-4acf-8363-d1d71188fe39\u001b[0m\n",
      "Searching the best hyperparameters...\n"
     ]
    },
    {
     "name": "stdout",
     "output_type": "stream",
     "text": [
      "starting run 4\n",
      "2021-06-30 05:40:51.251574\n"
     ]
    },
    {
     "name": "stderr",
     "output_type": "stream",
     "text": [
      "\u001b[32m[I 2021-06-30 05:40:53,204]\u001b[0m Trial 0 finished with value: 2.075293967415169 and parameters: {'feature_fraction': 0.9, 'max_depth': 1, 'num_leaves': 2, 'min_data_in_leaf': 88587, 'lambda_l1': 2.0486561277391055e-09, 'lambda_l2': 9.097709410448779e-06, 'bagging_fraction': 0.55, 'bagging_freq': 4}. Best is trial 0 with value: 2.075293967415169.\u001b[0m\n",
      "\u001b[32m[I 2021-06-30 05:42:15,209]\u001b[0m Trial 1 finished with value: 1.7495362678018627 and parameters: {'feature_fraction': 0.6, 'max_depth': 7, 'num_leaves': 57, 'min_data_in_leaf': 2987, 'lambda_l1': 0.005995587284258459, 'lambda_l2': 6.551894293288643, 'bagging_fraction': 0.65, 'bagging_freq': 10}. Best is trial 1 with value: 1.7495362678018627.\u001b[0m\n",
      "\u001b[32m[I 2021-06-30 05:43:15,740]\u001b[0m Trial 2 finished with value: 1.748926649968816 and parameters: {'feature_fraction': 0.9, 'max_depth': 4, 'num_leaves': 9, 'min_data_in_leaf': 2731, 'lambda_l1': 3.6170962888300247e-07, 'lambda_l2': 9.043378110036641e-07, 'bagging_fraction': 0.8, 'bagging_freq': 5}. Best is trial 2 with value: 1.748926649968816.\u001b[0m\n",
      "\u001b[32m[I 2021-06-30 05:43:21,295]\u001b[0m Trial 3 finished with value: 2.075293967415169 and parameters: {'feature_fraction': 0.35, 'max_depth': 1, 'num_leaves': 2, 'min_data_in_leaf': 70963, 'lambda_l1': 0.00023468814890984595, 'lambda_l2': 3.1619412245152315e-09, 'bagging_fraction': 0.7, 'bagging_freq': 7}. Best is trial 2 with value: 1.748926649968816.\u001b[0m\n",
      "\u001b[32m[I 2021-06-30 05:43:25,936]\u001b[0m Trial 4 finished with value: 2.075293967415169 and parameters: {'feature_fraction': 0.15000000000000002, 'max_depth': 5, 'num_leaves': 2, 'min_data_in_leaf': 55896, 'lambda_l1': 0.026439758654807074, 'lambda_l2': 6.334478630794337e-09, 'bagging_fraction': 0.5, 'bagging_freq': 7}. Best is trial 2 with value: 1.748926649968816.\u001b[0m\n",
      "\u001b[32m[I 2021-06-30 05:43:27,618]\u001b[0m Trial 5 finished with value: 2.075293967415169 and parameters: {'feature_fraction': 0.75, 'max_depth': 2, 'num_leaves': 2, 'min_data_in_leaf': 90763, 'lambda_l1': 0.00042378112671025386, 'lambda_l2': 2.992441236638842e-06, 'bagging_fraction': 0.8500000000000001, 'bagging_freq': 2}. Best is trial 2 with value: 1.748926649968816.\u001b[0m\n",
      "\u001b[32m[I 2021-06-30 05:44:15,498]\u001b[0m Trial 6 finished with value: 1.7532409933204753 and parameters: {'feature_fraction': 0.8, 'max_depth': 3, 'num_leaves': 7, 'min_data_in_leaf': 25033, 'lambda_l1': 0.06125812707673486, 'lambda_l2': 3.3706145719601356e-07, 'bagging_fraction': 0.8500000000000001, 'bagging_freq': 5}. Best is trial 2 with value: 1.748926649968816.\u001b[0m\n",
      "\u001b[32m[I 2021-06-30 05:44:53,351]\u001b[0m Trial 7 finished with value: 1.7549717656818054 and parameters: {'feature_fraction': 0.9, 'max_depth': 3, 'num_leaves': 3, 'min_data_in_leaf': 26257, 'lambda_l1': 5.998340877939207e-05, 'lambda_l2': 0.3102284293864149, 'bagging_fraction': 0.95, 'bagging_freq': 1}. Best is trial 2 with value: 1.748926649968816.\u001b[0m\n",
      "\u001b[32m[I 2021-06-30 05:45:59,467]\u001b[0m Trial 8 finished with value: 1.7502917081886806 and parameters: {'feature_fraction': 0.6, 'max_depth': 7, 'num_leaves': 99, 'min_data_in_leaf': 1488, 'lambda_l1': 8.305370783169403e-07, 'lambda_l2': 8.627545778631662e-06, 'bagging_fraction': 0.55, 'bagging_freq': 4}. Best is trial 2 with value: 1.748926649968816.\u001b[0m\n",
      "\u001b[32m[I 2021-06-30 05:47:04,678]\u001b[0m Trial 9 finished with value: 1.7490963309188678 and parameters: {'feature_fraction': 0.2, 'max_depth': 6, 'num_leaves': 11, 'min_data_in_leaf': 7663, 'lambda_l1': 0.002573903514126239, 'lambda_l2': 1.2180325426465787e-05, 'bagging_fraction': 0.55, 'bagging_freq': 8}. Best is trial 2 with value: 1.748926649968816.\u001b[0m\n",
      "\u001b[32m[I 2021-06-30 05:48:04,124]\u001b[0m Trial 10 finished with value: 1.749145603986075 and parameters: {'feature_fraction': 1.0, 'max_depth': 4, 'num_leaves': 14, 'min_data_in_leaf': 6430, 'lambda_l1': 1.0253571361378424e-09, 'lambda_l2': 0.007357774320197333, 'bagging_fraction': 0.8, 'bagging_freq': 10}. Best is trial 2 with value: 1.748926649968816.\u001b[0m\n",
      "\u001b[32m[I 2021-06-30 05:49:01,363]\u001b[0m Trial 11 finished with value: 1.7512971258515335 and parameters: {'feature_fraction': 0.1, 'max_depth': 6, 'num_leaves': 22, 'min_data_in_leaf': 7645, 'lambda_l1': 3.1376906476239226, 'lambda_l2': 0.001451485050330864, 'bagging_fraction': 0.65, 'bagging_freq': 8}. Best is trial 2 with value: 1.748926649968816.\u001b[0m\n",
      "\u001b[32m[I 2021-06-30 05:50:36,256]\u001b[0m Trial 12 finished with value: 1.7492797312441262 and parameters: {'feature_fraction': 0.35, 'max_depth': 5, 'num_leaves': 13, 'min_data_in_leaf': 11638, 'lambda_l1': 4.27467143272078e-07, 'lambda_l2': 1.7974985319841628e-07, 'bagging_fraction': 0.75, 'bagging_freq': 8}. Best is trial 2 with value: 1.748926649968816.\u001b[0m\n",
      "\u001b[32m[I 2021-06-30 05:52:30,456]\u001b[0m Trial 13 finished with value: 1.7481557067078068 and parameters: {'feature_fraction': 0.30000000000000004, 'max_depth': 5, 'num_leaves': 22, 'min_data_in_leaf': 8525, 'lambda_l1': 4.975427995065701e-07, 'lambda_l2': 0.0003350807852877042, 'bagging_fraction': 0.95, 'bagging_freq': 6}. Best is trial 13 with value: 1.7481557067078068.\u001b[0m\n",
      "\u001b[32m[I 2021-06-30 05:54:33,290]\u001b[0m Trial 14 finished with value: 1.7485635868591902 and parameters: {'feature_fraction': 0.4, 'max_depth': 4, 'num_leaves': 16, 'min_data_in_leaf': 10687, 'lambda_l1': 1.4860936499231117e-07, 'lambda_l2': 0.0005456222159585443, 'bagging_fraction': 0.95, 'bagging_freq': 3}. Best is trial 13 with value: 1.7481557067078068.\u001b[0m\n",
      "\u001b[32m[I 2021-06-30 05:56:35,182]\u001b[0m Trial 15 finished with value: 1.748205660860749 and parameters: {'feature_fraction': 0.35, 'max_depth': 5, 'num_leaves': 23, 'min_data_in_leaf': 8299, 'lambda_l1': 2.2740702790629168e-08, 'lambda_l2': 0.0007156152886737174, 'bagging_fraction': 0.95, 'bagging_freq': 3}. Best is trial 13 with value: 1.7481557067078068.\u001b[0m\n",
      "\u001b[32m[I 2021-06-30 05:58:33,442]\u001b[0m Trial 16 finished with value: 1.7482762810165073 and parameters: {'feature_fraction': 0.45000000000000007, 'max_depth': 5, 'num_leaves': 23, 'min_data_in_leaf': 8641, 'lambda_l1': 1.7481820174613966e-08, 'lambda_l2': 0.04794090608351509, 'bagging_fraction': 0.95, 'bagging_freq': 1}. Best is trial 13 with value: 1.7481557067078068.\u001b[0m\n",
      "\u001b[32m[I 2021-06-30 06:00:21,329]\u001b[0m Trial 17 finished with value: 1.7476247123438928 and parameters: {'feature_fraction': 0.2, 'max_depth': 6, 'num_leaves': 40, 'min_data_in_leaf': 4191, 'lambda_l1': 1.4000313408693666e-05, 'lambda_l2': 0.00017424352655445765, 'bagging_fraction': 0.9, 'bagging_freq': 6}. Best is trial 17 with value: 1.7476247123438928.\u001b[0m\n",
      "\u001b[32m[I 2021-06-30 06:02:04,251]\u001b[0m Trial 18 finished with value: 1.747807903487388 and parameters: {'feature_fraction': 0.25, 'max_depth': 6, 'num_leaves': 45, 'min_data_in_leaf': 4324, 'lambda_l1': 9.538479940498511e-06, 'lambda_l2': 6.4147344373541e-05, 'bagging_fraction': 0.9, 'bagging_freq': 6}. Best is trial 17 with value: 1.7476247123438928.\u001b[0m\n",
      "\u001b[32m[I 2021-06-30 06:03:48,989]\u001b[0m Trial 19 finished with value: 1.7477835059614946 and parameters: {'feature_fraction': 0.25, 'max_depth': 6, 'num_leaves': 47, 'min_data_in_leaf': 4079, 'lambda_l1': 2.4247623672814985e-05, 'lambda_l2': 6.932334683085665e-05, 'bagging_fraction': 0.8500000000000001, 'bagging_freq': 6}. Best is trial 17 with value: 1.7476247123438928.\u001b[0m\n",
      "\u001b[32m[I 2021-06-30 06:05:25,143]\u001b[0m Trial 20 finished with value: 1.7523560077328715 and parameters: {'feature_fraction': 0.5, 'max_depth': 7, 'num_leaves': 84, 'min_data_in_leaf': 328, 'lambda_l1': 1.667464152708299e-05, 'lambda_l2': 0.021589610418856445, 'bagging_fraction': 0.8500000000000001, 'bagging_freq': 9}. Best is trial 17 with value: 1.7476247123438928.\u001b[0m\n",
      "\u001b[32m[I 2021-06-30 06:07:08,765]\u001b[0m Trial 21 finished with value: 1.7477514861149164 and parameters: {'feature_fraction': 0.25, 'max_depth': 6, 'num_leaves': 46, 'min_data_in_leaf': 4299, 'lambda_l1': 5.015579798987132e-06, 'lambda_l2': 6.038823334102927e-05, 'bagging_fraction': 0.9, 'bagging_freq': 6}. Best is trial 17 with value: 1.7476247123438928.\u001b[0m\n",
      "\u001b[32m[I 2021-06-30 06:08:30,032]\u001b[0m Trial 22 finished with value: 1.7496502183134588 and parameters: {'feature_fraction': 0.1, 'max_depth': 6, 'num_leaves': 45, 'min_data_in_leaf': 4235, 'lambda_l1': 6.275484671568014e-06, 'lambda_l2': 6.193844401294592e-05, 'bagging_fraction': 0.9, 'bagging_freq': 7}. Best is trial 17 with value: 1.7476247123438928.\u001b[0m\n"
     ]
    },
    {
     "name": "stderr",
     "output_type": "stream",
     "text": [
      "\u001b[32m[I 2021-06-30 06:10:22,262]\u001b[0m Trial 23 finished with value: 1.7477764040170514 and parameters: {'feature_fraction': 0.2, 'max_depth': 7, 'num_leaves': 38, 'min_data_in_leaf': 4401, 'lambda_l1': 5.0567904817796885e-05, 'lambda_l2': 4.766586028691597e-08, 'bagging_fraction': 0.9, 'bagging_freq': 6}. Best is trial 17 with value: 1.7476247123438928.\u001b[0m\n",
      "\u001b[32m[I 2021-06-30 06:12:15,156]\u001b[0m Trial 24 finished with value: 1.7474638474057897 and parameters: {'feature_fraction': 0.15000000000000002, 'max_depth': 7, 'num_leaves': 34, 'min_data_in_leaf': 5144, 'lambda_l1': 0.0006955098226612623, 'lambda_l2': 5.576028803148887e-08, 'bagging_fraction': 0.9, 'bagging_freq': 5}. Best is trial 24 with value: 1.7474638474057897.\u001b[0m\n",
      "\u001b[32m[I 2021-06-30 06:13:39,161]\u001b[0m Trial 25 finished with value: 1.750339377558013 and parameters: {'feature_fraction': 0.1, 'max_depth': 7, 'num_leaves': 69, 'min_data_in_leaf': 2737, 'lambda_l1': 0.0012792884812850946, 'lambda_l2': 4.153054474532345e-08, 'bagging_fraction': 0.8, 'bagging_freq': 4}. Best is trial 24 with value: 1.7474638474057897.\u001b[0m\n",
      "\u001b[32m[I 2021-06-30 06:15:23,680]\u001b[0m Trial 26 finished with value: 1.7474486120369797 and parameters: {'feature_fraction': 0.2, 'max_depth': 6, 'num_leaves': 34, 'min_data_in_leaf': 5027, 'lambda_l1': 2.5590002272505736e-06, 'lambda_l2': 1.750311170379035, 'bagging_fraction': 0.9, 'bagging_freq': 5}. Best is trial 26 with value: 1.7474486120369797.\u001b[0m\n",
      "\u001b[32m[I 2021-06-30 06:16:46,485]\u001b[0m Trial 27 finished with value: 1.747422869858969 and parameters: {'feature_fraction': 0.15000000000000002, 'max_depth': 7, 'num_leaves': 36, 'min_data_in_leaf': 5210, 'lambda_l1': 0.8070068295309231, 'lambda_l2': 0.2106280375950214, 'bagging_fraction': 0.75, 'bagging_freq': 5}. Best is trial 27 with value: 1.747422869858969.\u001b[0m\n",
      "\u001b[32m[I 2021-06-30 06:17:55,882]\u001b[0m Trial 28 finished with value: 1.750350034288875 and parameters: {'feature_fraction': 0.1, 'max_depth': 7, 'num_leaves': 31, 'min_data_in_leaf': 5521, 'lambda_l1': 4.901410332619047, 'lambda_l2': 8.398173458113803, 'bagging_fraction': 0.75, 'bagging_freq': 5}. Best is trial 27 with value: 1.747422869858969.\u001b[0m\n",
      "\u001b[32m[I 2021-06-30 06:19:07,238]\u001b[0m Trial 29 finished with value: 1.7518262156731705 and parameters: {'feature_fraction': 0.15000000000000002, 'max_depth': 7, 'num_leaves': 62, 'min_data_in_leaf': 139, 'lambda_l1': 0.6896802083096789, 'lambda_l2': 0.9995620917763436, 'bagging_fraction': 0.65, 'bagging_freq': 3}. Best is trial 27 with value: 1.747422869858969.\u001b[0m\n",
      "\u001b[32m[I 2021-06-30 06:20:25,237]\u001b[0m Trial 30 finished with value: 1.7478291875613892 and parameters: {'feature_fraction': 0.15000000000000002, 'max_depth': 7, 'num_leaves': 33, 'min_data_in_leaf': 5358, 'lambda_l1': 0.25023141180316655, 'lambda_l2': 0.9618734228956208, 'bagging_fraction': 0.7, 'bagging_freq': 4}. Best is trial 27 with value: 1.747422869858969.\u001b[0m\n",
      "\u001b[32m[I 2021-06-30 06:22:06,292]\u001b[0m Trial 31 finished with value: 1.7474417515484604 and parameters: {'feature_fraction': 0.2, 'max_depth': 6, 'num_leaves': 39, 'min_data_in_leaf': 5059, 'lambda_l1': 1.5524739126191897e-06, 'lambda_l2': 0.1982213282078394, 'bagging_fraction': 0.9, 'bagging_freq': 5}. Best is trial 27 with value: 1.747422869858969.\u001b[0m\n",
      "\u001b[32m[I 2021-06-30 06:23:49,942]\u001b[0m Trial 32 finished with value: 1.748070378951094 and parameters: {'feature_fraction': 0.30000000000000004, 'max_depth': 6, 'num_leaves': 30, 'min_data_in_leaf': 5295, 'lambda_l1': 4.52310029038669e-08, 'lambda_l2': 0.1711920703819532, 'bagging_fraction': 0.8, 'bagging_freq': 5}. Best is trial 27 with value: 1.747422869858969.\u001b[0m\n",
      "\u001b[32m[I 2021-06-30 06:25:09,436]\u001b[0m Trial 33 finished with value: 1.7479427491457156 and parameters: {'feature_fraction': 0.2, 'max_depth': 7, 'num_leaves': 55, 'min_data_in_leaf': 3631, 'lambda_l1': 3.93050592946917e-06, 'lambda_l2': 1.6571760563750828, 'bagging_fraction': 0.6, 'bagging_freq': 4}. Best is trial 27 with value: 1.747422869858969.\u001b[0m\n",
      "\u001b[32m[I 2021-06-30 06:27:02,207]\u001b[0m Trial 34 finished with value: 1.7478107806812666 and parameters: {'feature_fraction': 0.30000000000000004, 'max_depth': 6, 'num_leaves': 35, 'min_data_in_leaf': 4900, 'lambda_l1': 3.2365972835469724e-09, 'lambda_l2': 3.49598291993845, 'bagging_fraction': 0.8500000000000001, 'bagging_freq': 5}. Best is trial 27 with value: 1.747422869858969.\u001b[0m\n",
      "\u001b[32m[I 2021-06-30 06:28:31,499]\u001b[0m Trial 35 finished with value: 1.748080473313228 and parameters: {'feature_fraction': 0.15000000000000002, 'max_depth': 7, 'num_leaves': 54, 'min_data_in_leaf': 1846, 'lambda_l1': 1.671212297352056e-06, 'lambda_l2': 0.004780581492254103, 'bagging_fraction': 0.75, 'bagging_freq': 4}. Best is trial 27 with value: 1.747422869858969.\u001b[0m\n",
      "\u001b[32m[I 2021-06-30 06:30:39,138]\u001b[0m Trial 36 finished with value: 1.748295290876515 and parameters: {'feature_fraction': 0.4, 'max_depth': 5, 'num_leaves': 28, 'min_data_in_leaf': 6058, 'lambda_l1': 0.0002351630281043101, 'lambda_l2': 0.11850473502215927, 'bagging_fraction': 0.9, 'bagging_freq': 5}. Best is trial 27 with value: 1.747422869858969.\u001b[0m\n",
      "\u001b[32m[I 2021-06-30 06:31:52,761]\u001b[0m Trial 37 finished with value: 1.7500220722871827 and parameters: {'feature_fraction': 0.1, 'max_depth': 6, 'num_leaves': 38, 'min_data_in_leaf': 4828, 'lambda_l1': 0.022531428212116195, 'lambda_l2': 8.31621520090634, 'bagging_fraction': 0.8, 'bagging_freq': 7}. Best is trial 27 with value: 1.747422869858969.\u001b[0m\n",
      "\u001b[32m[I 2021-06-30 06:32:26,360]\u001b[0m Trial 38 finished with value: 1.7621326821235208 and parameters: {'feature_fraction': 0.7000000000000001, 'max_depth': 1, 'num_leaves': 2, 'min_data_in_leaf': 18926, 'lambda_l1': 1.628127010318868e-07, 'lambda_l2': 0.38962987849327796, 'bagging_fraction': 0.8500000000000001, 'bagging_freq': 2}. Best is trial 27 with value: 1.747422869858969.\u001b[0m\n",
      "\u001b[32m[I 2021-06-30 06:33:46,042]\u001b[0m Trial 39 finished with value: 1.7498069546658517 and parameters: {'feature_fraction': 0.25, 'max_depth': 7, 'num_leaves': 80, 'min_data_in_leaf': 678, 'lambda_l1': 0.0006293172615866887, 'lambda_l2': 0.03443912451104348, 'bagging_fraction': 0.7, 'bagging_freq': 5}. Best is trial 27 with value: 1.747422869858969.\u001b[0m\n",
      "Finished hyperparemeter search! (elapsed time: 3174.698 sec.) The best_iteration is 100.\n",
      "Making booster(s)...\n",
      "Finished making booster(s)! (elapsed time: 19.458 sec.)\n"
     ]
    },
    {
     "name": "stdout",
     "output_type": "stream",
     "text": [
      "53.24\n",
      "2021-06-30 06:34:05.504941\n"
     ]
    },
    {
     "name": "stderr",
     "output_type": "stream",
     "text": [
      "/opt/conda/lib/python3.9/site-packages/sklearn/utils/validation.py:70: FutureWarning: Pass classifier=True as keyword args. From version 1.0 (renaming of 0.25) passing these as positional arguments will result in an error\n",
      "  warnings.warn(f\"Pass {args_msg} as keyword args. From version \"\n",
      "\u001b[32m[I 2021-06-30 06:34:07,678]\u001b[0m A new study created in memory with name: no-name-9ba7c46e-3132-4b92-b03b-d4861c4a0078\u001b[0m\n",
      "Searching the best hyperparameters...\n"
     ]
    },
    {
     "name": "stdout",
     "output_type": "stream",
     "text": [
      "starting run 5\n",
      "2021-06-30 06:34:07.609394\n"
     ]
    },
    {
     "name": "stderr",
     "output_type": "stream",
     "text": [
      "\u001b[32m[I 2021-06-30 06:35:18,334]\u001b[0m Trial 0 finished with value: 1.7491329643644096 and parameters: {'feature_fraction': 0.9, 'max_depth': 7, 'num_leaves': 39, 'min_data_in_leaf': 5107, 'lambda_l1': 0.14780729071539553, 'lambda_l2': 2.9307285864920956, 'bagging_fraction': 0.7, 'bagging_freq': 7}. Best is trial 0 with value: 1.7491329643644096.\u001b[0m\n",
      "\u001b[32m[I 2021-06-30 06:36:34,840]\u001b[0m Trial 1 finished with value: 1.7567538747447144 and parameters: {'feature_fraction': 0.25, 'max_depth': 3, 'num_leaves': 5, 'min_data_in_leaf': 28187, 'lambda_l1': 1.6525974317150166e-08, 'lambda_l2': 5.453302061476086e-05, 'bagging_fraction': 0.8, 'bagging_freq': 6}. Best is trial 0 with value: 1.7491329643644096.\u001b[0m\n",
      "\u001b[32m[I 2021-06-30 06:37:05,894]\u001b[0m Trial 2 finished with value: 1.7628293376093196 and parameters: {'feature_fraction': 0.9, 'max_depth': 3, 'num_leaves': 2, 'min_data_in_leaf': 23948, 'lambda_l1': 2.4424278966580415, 'lambda_l2': 9.411997737278678e-06, 'bagging_fraction': 0.8, 'bagging_freq': 5}. Best is trial 0 with value: 1.7491329643644096.\u001b[0m\n",
      "\u001b[32m[I 2021-06-30 06:38:36,863]\u001b[0m Trial 3 finished with value: 1.7501906594966559 and parameters: {'feature_fraction': 0.4, 'max_depth': 7, 'num_leaves': 67, 'min_data_in_leaf': 885, 'lambda_l1': 4.5070215172112956e-09, 'lambda_l2': 0.00027011273972163006, 'bagging_fraction': 0.8, 'bagging_freq': 4}. Best is trial 0 with value: 1.7491329643644096.\u001b[0m\n",
      "\u001b[32m[I 2021-06-30 06:39:22,009]\u001b[0m Trial 4 finished with value: 1.751830707057597 and parameters: {'feature_fraction': 0.8, 'max_depth': 3, 'num_leaves': 4, 'min_data_in_leaf': 18802, 'lambda_l1': 3.395844716886676, 'lambda_l2': 1.7705567428049274e-05, 'bagging_fraction': 0.8, 'bagging_freq': 10}. Best is trial 0 with value: 1.7491329643644096.\u001b[0m\n",
      "\u001b[32m[I 2021-06-30 06:40:44,919]\u001b[0m Trial 5 finished with value: 1.7489736408257102 and parameters: {'feature_fraction': 0.9500000000000001, 'max_depth': 7, 'num_leaves': 18, 'min_data_in_leaf': 7341, 'lambda_l1': 1.3476415266637542e-06, 'lambda_l2': 0.003930843222195296, 'bagging_fraction': 0.95, 'bagging_freq': 9}. Best is trial 5 with value: 1.7489736408257102.\u001b[0m\n",
      "\u001b[32m[I 2021-06-30 06:41:50,100]\u001b[0m Trial 6 finished with value: 1.74917098201121 and parameters: {'feature_fraction': 0.25, 'max_depth': 4, 'num_leaves': 12, 'min_data_in_leaf': 6179, 'lambda_l1': 6.287968694619053e-07, 'lambda_l2': 0.13560804333187787, 'bagging_fraction': 0.5, 'bagging_freq': 4}. Best is trial 5 with value: 1.7489736408257102.\u001b[0m\n",
      "\u001b[32m[I 2021-06-30 06:43:02,191]\u001b[0m Trial 7 finished with value: 1.7486806265533825 and parameters: {'feature_fraction': 0.25, 'max_depth': 4, 'num_leaves': 8, 'min_data_in_leaf': 1485, 'lambda_l1': 0.16563713706283115, 'lambda_l2': 0.9193781792140439, 'bagging_fraction': 0.6, 'bagging_freq': 4}. Best is trial 7 with value: 1.7486806265533825.\u001b[0m\n",
      "\u001b[32m[I 2021-06-30 06:44:20,486]\u001b[0m Trial 8 finished with value: 1.7512678289616317 and parameters: {'feature_fraction': 0.2, 'max_depth': 7, 'num_leaves': 94, 'min_data_in_leaf': 325, 'lambda_l1': 2.6120014405913857e-05, 'lambda_l2': 5.70138564491552e-07, 'bagging_fraction': 0.8, 'bagging_freq': 9}. Best is trial 7 with value: 1.7486806265533825.\u001b[0m\n",
      "\u001b[32m[I 2021-06-30 06:45:23,129]\u001b[0m Trial 9 finished with value: 1.7557522000569012 and parameters: {'feature_fraction': 0.30000000000000004, 'max_depth': 4, 'num_leaves': 10, 'min_data_in_leaf': 17087, 'lambda_l1': 6.573849681608611e-05, 'lambda_l2': 7.427508090042942e-06, 'bagging_fraction': 0.5, 'bagging_freq': 1}. Best is trial 7 with value: 1.7486806265533825.\u001b[0m\n",
      "\u001b[32m[I 2021-06-30 06:45:25,169]\u001b[0m Trial 10 finished with value: 2.075293967415169 and parameters: {'feature_fraction': 0.6, 'max_depth': 1, 'num_leaves': 2, 'min_data_in_leaf': 92411, 'lambda_l1': 0.025781442707822375, 'lambda_l2': 1.288590467700836e-09, 'bagging_fraction': 0.6, 'bagging_freq': 1}. Best is trial 7 with value: 1.7486806265533825.\u001b[0m\n",
      "\u001b[32m[I 2021-06-30 06:46:42,306]\u001b[0m Trial 11 finished with value: 1.748572892194921 and parameters: {'feature_fraction': 0.65, 'max_depth': 5, 'num_leaves': 23, 'min_data_in_leaf': 8510, 'lambda_l1': 0.001011068577723247, 'lambda_l2': 0.010694095549243665, 'bagging_fraction': 0.95, 'bagging_freq': 8}. Best is trial 11 with value: 1.748572892194921.\u001b[0m\n",
      "\u001b[32m[I 2021-06-30 06:48:06,549]\u001b[0m Trial 12 finished with value: 1.7492366115355285 and parameters: {'feature_fraction': 0.65, 'max_depth': 5, 'num_leaves': 24, 'min_data_in_leaf': 2266, 'lambda_l1': 0.006362609014813489, 'lambda_l2': 2.2865932309898445, 'bagging_fraction': 0.95, 'bagging_freq': 3}. Best is trial 11 with value: 1.748572892194921.\u001b[0m\n",
      "\u001b[32m[I 2021-06-30 06:49:39,001]\u001b[0m Trial 13 finished with value: 1.749155463559643 and parameters: {'feature_fraction': 0.45000000000000007, 'max_depth': 5, 'num_leaves': 27, 'min_data_in_leaf': 2890, 'lambda_l1': 0.0011899372165494605, 'lambda_l2': 0.025335964961717507, 'bagging_fraction': 0.6, 'bagging_freq': 7}. Best is trial 11 with value: 1.748572892194921.\u001b[0m\n",
      "\u001b[32m[I 2021-06-30 06:50:29,277]\u001b[0m Trial 14 finished with value: 1.7501716373960217 and parameters: {'feature_fraction': 0.7000000000000001, 'max_depth': 5, 'num_leaves': 28, 'min_data_in_leaf': 1667, 'lambda_l1': 0.2256003652622345, 'lambda_l2': 0.21595525599125662, 'bagging_fraction': 0.6, 'bagging_freq': 8}. Best is trial 11 with value: 1.748572892194921.\u001b[0m\n",
      "\u001b[32m[I 2021-06-30 06:51:40,553]\u001b[0m Trial 15 finished with value: 1.7502100522532476 and parameters: {'feature_fraction': 0.1, 'max_depth': 6, 'num_leaves': 44, 'min_data_in_leaf': 3539, 'lambda_l1': 0.0005650789150199333, 'lambda_l2': 0.004783492655186061, 'bagging_fraction': 0.7, 'bagging_freq': 3}. Best is trial 11 with value: 1.748572892194921.\u001b[0m\n",
      "\u001b[32m[I 2021-06-30 06:53:08,174]\u001b[0m Trial 16 finished with value: 1.7708627537882093 and parameters: {'feature_fraction': 0.5, 'max_depth': 1, 'num_leaves': 2, 'min_data_in_leaf': 51812, 'lambda_l1': 0.30815897429318484, 'lambda_l2': 6.457351035407412, 'bagging_fraction': 0.9, 'bagging_freq': 6}. Best is trial 11 with value: 1.748572892194921.\u001b[0m\n",
      "\u001b[32m[I 2021-06-30 06:53:33,307]\u001b[0m Trial 17 finished with value: 1.7744150855539025 and parameters: {'feature_fraction': 0.75, 'max_depth': 2, 'num_leaves': 4, 'min_data_in_leaf': 35908, 'lambda_l1': 0.011903589801182047, 'lambda_l2': 0.0008151169019363193, 'bagging_fraction': 0.55, 'bagging_freq': 2}. Best is trial 11 with value: 1.748572892194921.\u001b[0m\n",
      "\u001b[32m[I 2021-06-30 06:55:13,770]\u001b[0m Trial 18 finished with value: 1.74906096062715 and parameters: {'feature_fraction': 0.55, 'max_depth': 6, 'num_leaves': 18, 'min_data_in_leaf': 9533, 'lambda_l1': 1.4209261854298604e-05, 'lambda_l2': 0.19572197035172292, 'bagging_fraction': 0.65, 'bagging_freq': 5}. Best is trial 11 with value: 1.748572892194921.\u001b[0m\n",
      "\u001b[32m[I 2021-06-30 06:56:40,479]\u001b[0m Trial 19 finished with value: 1.749803487443323 and parameters: {'feature_fraction': 0.1, 'max_depth': 6, 'num_leaves': 49, 'min_data_in_leaf': 1339, 'lambda_l1': 7.4892259109211405, 'lambda_l2': 2.1196566767798478e-07, 'bagging_fraction': 0.9, 'bagging_freq': 10}. Best is trial 11 with value: 1.748572892194921.\u001b[0m\n",
      "\u001b[32m[I 2021-06-30 06:58:03,136]\u001b[0m Trial 20 finished with value: 1.7496941609211831 and parameters: {'feature_fraction': 0.35, 'max_depth': 4, 'num_leaves': 8, 'min_data_in_leaf': 11474, 'lambda_l1': 0.0006491764272052148, 'lambda_l2': 0.028138883736809638, 'bagging_fraction': 0.65, 'bagging_freq': 7}. Best is trial 11 with value: 1.748572892194921.\u001b[0m\n",
      "\u001b[32m[I 2021-06-30 06:59:15,782]\u001b[0m Trial 21 finished with value: 1.748648614109267 and parameters: {'feature_fraction': 0.85, 'max_depth': 5, 'num_leaves': 19, 'min_data_in_leaf': 8309, 'lambda_l1': 1.7121546453321381e-06, 'lambda_l2': 0.001795627865521007, 'bagging_fraction': 0.95, 'bagging_freq': 9}. Best is trial 11 with value: 1.748572892194921.\u001b[0m\n",
      "\u001b[32m[I 2021-06-30 07:00:24,015]\u001b[0m Trial 22 finished with value: 1.7486788941712075 and parameters: {'feature_fraction': 0.8, 'max_depth': 5, 'num_leaves': 22, 'min_data_in_leaf': 9052, 'lambda_l1': 4.791406055372551e-07, 'lambda_l2': 0.0021307357387404108, 'bagging_fraction': 0.9, 'bagging_freq': 9}. Best is trial 11 with value: 1.748572892194921.\u001b[0m\n"
     ]
    },
    {
     "name": "stderr",
     "output_type": "stream",
     "text": [
      "\u001b[32m[I 2021-06-30 07:01:31,410]\u001b[0m Trial 23 finished with value: 1.7487649981434696 and parameters: {'feature_fraction': 0.8, 'max_depth': 5, 'num_leaves': 21, 'min_data_in_leaf': 9316, 'lambda_l1': 9.854054867555123e-08, 'lambda_l2': 0.0014218460849587844, 'bagging_fraction': 0.9, 'bagging_freq': 9}. Best is trial 11 with value: 1.748572892194921.\u001b[0m\n",
      "\u001b[32m[I 2021-06-30 07:02:51,865]\u001b[0m Trial 24 finished with value: 1.7486618880761235 and parameters: {'feature_fraction': 0.85, 'max_depth': 6, 'num_leaves': 34, 'min_data_in_leaf': 5867, 'lambda_l1': 3.8013671481870947e-06, 'lambda_l2': 0.023308185144919363, 'bagging_fraction': 0.95, 'bagging_freq': 8}. Best is trial 11 with value: 1.748572892194921.\u001b[0m\n",
      "\u001b[32m[I 2021-06-30 07:04:08,606]\u001b[0m Trial 25 finished with value: 1.7490759185915863 and parameters: {'feature_fraction': 1.0, 'max_depth': 6, 'num_leaves': 34, 'min_data_in_leaf': 5765, 'lambda_l1': 4.621686937753445e-06, 'lambda_l2': 0.02423231884550369, 'bagging_fraction': 0.95, 'bagging_freq': 8}. Best is trial 11 with value: 1.748572892194921.\u001b[0m\n",
      "\u001b[32m[I 2021-06-30 07:05:20,213]\u001b[0m Trial 26 finished with value: 1.7490693190280227 and parameters: {'feature_fraction': 0.9, 'max_depth': 6, 'num_leaves': 33, 'min_data_in_leaf': 4589, 'lambda_l1': 5.457984534847247e-08, 'lambda_l2': 0.00017959033336040838, 'bagging_fraction': 0.8500000000000001, 'bagging_freq': 8}. Best is trial 11 with value: 1.748572892194921.\u001b[0m\n",
      "\u001b[32m[I 2021-06-30 07:06:30,185]\u001b[0m Trial 27 finished with value: 1.7486088749511333 and parameters: {'feature_fraction': 0.7000000000000001, 'max_depth': 5, 'num_leaves': 15, 'min_data_in_leaf': 7620, 'lambda_l1': 0.00018019480921139763, 'lambda_l2': 0.030962891254781796, 'bagging_fraction': 0.8500000000000001, 'bagging_freq': 10}. Best is trial 11 with value: 1.748572892194921.\u001b[0m\n",
      "\u001b[32m[I 2021-06-30 07:07:37,125]\u001b[0m Trial 28 finished with value: 1.748506706354311 and parameters: {'feature_fraction': 0.7000000000000001, 'max_depth': 5, 'num_leaves': 14, 'min_data_in_leaf': 7915, 'lambda_l1': 0.0002530233920797876, 'lambda_l2': 0.006119815598109491, 'bagging_fraction': 0.8500000000000001, 'bagging_freq': 10}. Best is trial 28 with value: 1.748506706354311.\u001b[0m\n",
      "\u001b[32m[I 2021-06-30 07:08:38,944]\u001b[0m Trial 29 finished with value: 1.7491768379753985 and parameters: {'feature_fraction': 0.7000000000000001, 'max_depth': 5, 'num_leaves': 12, 'min_data_in_leaf': 11564, 'lambda_l1': 0.00018167502313224683, 'lambda_l2': 0.8088129282397911, 'bagging_fraction': 0.8500000000000001, 'bagging_freq': 10}. Best is trial 28 with value: 1.748506706354311.\u001b[0m\n",
      "\u001b[32m[I 2021-06-30 07:10:28,474]\u001b[0m Trial 30 finished with value: 1.7492659979923086 and parameters: {'feature_fraction': 0.55, 'max_depth': 4, 'num_leaves': 15, 'min_data_in_leaf': 10748, 'lambda_l1': 0.002475571640560493, 'lambda_l2': 0.008168799700361766, 'bagging_fraction': 0.75, 'bagging_freq': 10}. Best is trial 28 with value: 1.748506706354311.\u001b[0m\n",
      "\u001b[32m[I 2021-06-30 07:11:40,437]\u001b[0m Trial 31 finished with value: 1.7486439148227124 and parameters: {'feature_fraction': 0.65, 'max_depth': 5, 'num_leaves': 15, 'min_data_in_leaf': 7411, 'lambda_l1': 0.0002102999590901708, 'lambda_l2': 0.0005085265495800978, 'bagging_fraction': 0.8500000000000001, 'bagging_freq': 10}. Best is trial 28 with value: 1.748506706354311.\u001b[0m\n",
      "\u001b[32m[I 2021-06-30 07:12:53,231]\u001b[0m Trial 32 finished with value: 1.748826999486583 and parameters: {'feature_fraction': 0.65, 'max_depth': 5, 'num_leaves': 15, 'min_data_in_leaf': 7099, 'lambda_l1': 0.00016110894107902545, 'lambda_l2': 0.000524742831844467, 'bagging_fraction': 0.8500000000000001, 'bagging_freq': 10}. Best is trial 28 with value: 1.748506706354311.\u001b[0m\n",
      "\u001b[32m[I 2021-06-30 07:13:43,960]\u001b[0m Trial 33 finished with value: 1.750287669351201 and parameters: {'feature_fraction': 0.65, 'max_depth': 3, 'num_leaves': 7, 'min_data_in_leaf': 13381, 'lambda_l1': 4.3859055757127385e-05, 'lambda_l2': 5.669130511884558e-05, 'bagging_fraction': 0.75, 'bagging_freq': 7}. Best is trial 28 with value: 1.748506706354311.\u001b[0m\n",
      "\u001b[32m[I 2021-06-30 07:15:33,294]\u001b[0m Trial 34 finished with value: 1.7485184472000381 and parameters: {'feature_fraction': 0.6, 'max_depth': 5, 'num_leaves': 15, 'min_data_in_leaf': 7771, 'lambda_l1': 0.00018293939613212265, 'lambda_l2': 0.08046072125363474, 'bagging_fraction': 0.8500000000000001, 'bagging_freq': 10}. Best is trial 28 with value: 1.748506706354311.\u001b[0m\n",
      "\u001b[32m[I 2021-06-30 07:17:24,900]\u001b[0m Trial 35 finished with value: 1.7489097095004549 and parameters: {'feature_fraction': 0.5, 'max_depth': 4, 'num_leaves': 13, 'min_data_in_leaf': 8500, 'lambda_l1': 0.02698266287870832, 'lambda_l2': 0.10598232657275244, 'bagging_fraction': 0.75, 'bagging_freq': 9}. Best is trial 28 with value: 1.748506706354311.\u001b[0m\n",
      "\u001b[32m[I 2021-06-30 07:18:38,474]\u001b[0m Trial 36 finished with value: 1.7486364185264762 and parameters: {'feature_fraction': 0.75, 'max_depth': 6, 'num_leaves': 27, 'min_data_in_leaf': 6676, 'lambda_l1': 0.0028544409826836074, 'lambda_l2': 0.45777067775004965, 'bagging_fraction': 0.8500000000000001, 'bagging_freq': 10}. Best is trial 28 with value: 1.748506706354311.\u001b[0m\n",
      "\u001b[32m[I 2021-06-30 07:20:20,318]\u001b[0m Trial 37 finished with value: 1.749306431473374 and parameters: {'feature_fraction': 0.6, 'max_depth': 7, 'num_leaves': 63, 'min_data_in_leaf': 3171, 'lambda_l1': 0.0005450690409565076, 'lambda_l2': 0.05869814958324092, 'bagging_fraction': 0.8, 'bagging_freq': 8}. Best is trial 28 with value: 1.748506706354311.\u001b[0m\n",
      "\u001b[32m[I 2021-06-30 07:21:12,131]\u001b[0m Trial 38 finished with value: 1.7501680377585043 and parameters: {'feature_fraction': 0.7000000000000001, 'max_depth': 3, 'num_leaves': 5, 'min_data_in_leaf': 13823, 'lambda_l1': 1.5642990679075396e-05, 'lambda_l2': 7.888497500512778, 'bagging_fraction': 0.9, 'bagging_freq': 6}. Best is trial 28 with value: 1.748506706354311.\u001b[0m\n",
      "\u001b[32m[I 2021-06-30 07:22:47,837]\u001b[0m Trial 39 finished with value: 1.7488004276760463 and parameters: {'feature_fraction': 0.6, 'max_depth': 4, 'num_leaves': 16, 'min_data_in_leaf': 7959, 'lambda_l1': 1.2540927791682889e-09, 'lambda_l2': 0.008862663353145424, 'bagging_fraction': 0.8, 'bagging_freq': 9}. Best is trial 28 with value: 1.748506706354311.\u001b[0m\n",
      "Finished hyperparemeter search! (elapsed time: 2920.091 sec.) The best_iteration is 100.\n",
      "Making booster(s)...\n",
      "Finished making booster(s)! (elapsed time: 16.220 sec.)\n"
     ]
    },
    {
     "name": "stdout",
     "output_type": "stream",
     "text": [
      "48.94\n",
      "2021-06-30 07:23:04.062426\n"
     ]
    }
   ],
   "source": [
    "n_runs = 5\n",
    "test_result = do_run(1, train_df, test_df)\n",
    "\n",
    "for i in range(2, n_runs+1):\n",
    "    loop_test_result = do_run(i, train_df, test_df)\n",
    "    test_result = test_result + loop_test_result\n",
    "\n",
    "test_result = test_result / n_runs"
   ]
  },
  {
   "cell_type": "code",
   "execution_count": 11,
   "id": "1753c128",
   "metadata": {},
   "outputs": [],
   "source": [
    "submission = pd.DataFrame(test_result)\n",
    "submission.columns = ['Class_1', 'Class_2', 'Class_3', 'Class_4', 'Class_5', 'Class_6', 'Class_7', 'Class_8', 'Class_9']\n",
    "submission['id'] = test_df['id']\n",
    "\n",
    "submission.to_csv(\"submission_opt_obgm_knn_ensemble.csv\", index=False)"
   ]
  }
 ],
 "metadata": {
  "kernelspec": {
   "display_name": "Python 3",
   "language": "python",
   "name": "python3"
  },
  "language_info": {
   "codemirror_mode": {
    "name": "ipython",
    "version": 3
   },
   "file_extension": ".py",
   "mimetype": "text/x-python",
   "name": "python",
   "nbconvert_exporter": "python",
   "pygments_lexer": "ipython3",
   "version": "3.9.4"
  }
 },
 "nbformat": 4,
 "nbformat_minor": 5
}
