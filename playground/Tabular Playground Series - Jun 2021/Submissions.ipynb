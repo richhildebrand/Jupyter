{
 "cells": [
  {
   "cell_type": "code",
   "execution_count": 1,
   "id": "e26a425a",
   "metadata": {},
   "outputs": [
    {
     "name": "stdout",
     "output_type": "stream",
     "text": [
      "Requirement already satisfied: xgboost in /opt/conda/lib/python3.9/site-packages (1.4.2)\r\n",
      "Requirement already satisfied: scipy in /opt/conda/lib/python3.9/site-packages (from xgboost) (1.6.3)\r\n",
      "Requirement already satisfied: numpy in /opt/conda/lib/python3.9/site-packages (from xgboost) (1.20.3)\r\n"
     ]
    }
   ],
   "source": [
    "!pip install xgboost"
   ]
  },
  {
   "cell_type": "code",
   "execution_count": 80,
   "id": "8a711117",
   "metadata": {},
   "outputs": [],
   "source": [
    "import numpy as np\n",
    "np.random.seed(777)\n",
    "\n",
    "import pandas as pd\n",
    "import seaborn as sns\n",
    "import matplotlib.pyplot as plt\n",
    "%matplotlib inline\n",
    "\n",
    "from numpy import loadtxt\n",
    "from xgboost import XGBClassifier\n",
    "from sklearn.model_selection import StratifiedKFold, train_test_split\n",
    "from sklearn.metrics import accuracy_score, log_loss\n",
    "from sklearn.model_selection import GridSearchCV"
   ]
  },
  {
   "cell_type": "code",
   "execution_count": 81,
   "id": "795fef01",
   "metadata": {},
   "outputs": [],
   "source": [
    "train_df = pd.read_csv('train.csv')\n",
    "test_df = pd.read_csv('test.csv')"
   ]
  },
  {
   "cell_type": "code",
   "execution_count": 82,
   "id": "a1816f59",
   "metadata": {},
   "outputs": [
    {
     "name": "stdout",
     "output_type": "stream",
     "text": [
      "0    5\n",
      "1    5\n",
      "2    1\n",
      "3    7\n",
      "4    1\n",
      "Name: target, dtype: int64\n"
     ]
    }
   ],
   "source": [
    "from sklearn.preprocessing import LabelEncoder\n",
    "features_target = ['target'] \n",
    "\n",
    "for feature in features_target:\n",
    "    le = LabelEncoder()\n",
    "    le.fit(train_df[feature])\n",
    "    train_df[feature] = le.transform(train_df[feature])\n",
    "    \n",
    "print(train_df['target'].head())"
   ]
  },
  {
   "cell_type": "code",
   "execution_count": 83,
   "id": "b969afb1",
   "metadata": {},
   "outputs": [
    {
     "name": "stdout",
     "output_type": "stream",
     "text": [
      "2021-06-23 02:20:25.447928\n",
      "Fitting 25 folds for each of 1 candidates, totalling 25 fits\n",
      "[CV 1/25] END learning_rate=0.05, max_depth=4, n_estimators=1000, seed=777, subsample=0.8;, score=-1.749 total time=22.5min\n",
      "[CV 2/25] END learning_rate=0.05, max_depth=4, n_estimators=1000, seed=777, subsample=0.8;, score=-1.757 total time=23.7min\n",
      "[CV 3/25] END learning_rate=0.05, max_depth=4, n_estimators=1000, seed=777, subsample=0.8;, score=-1.753 total time=23.6min\n",
      "[CV 4/25] END learning_rate=0.05, max_depth=4, n_estimators=1000, seed=777, subsample=0.8;, score=-1.751 total time=23.8min\n",
      "[CV 5/25] END learning_rate=0.05, max_depth=4, n_estimators=1000, seed=777, subsample=0.8;, score=-1.751 total time=23.8min\n",
      "[CV 6/25] END learning_rate=0.05, max_depth=4, n_estimators=1000, seed=777, subsample=0.8;, score=-1.754 total time=23.8min\n",
      "[CV 7/25] END learning_rate=0.05, max_depth=4, n_estimators=1000, seed=777, subsample=0.8;, score=-1.758 total time=23.7min\n",
      "[CV 8/25] END learning_rate=0.05, max_depth=4, n_estimators=1000, seed=777, subsample=0.8;, score=-1.754 total time=23.7min\n",
      "[CV 9/25] END learning_rate=0.05, max_depth=4, n_estimators=1000, seed=777, subsample=0.8;, score=-1.753 total time=23.9min\n",
      "[CV 10/25] END learning_rate=0.05, max_depth=4, n_estimators=1000, seed=777, subsample=0.8;, score=-1.739 total time=24.1min\n",
      "[CV 11/25] END learning_rate=0.05, max_depth=4, n_estimators=1000, seed=777, subsample=0.8;, score=-1.742 total time=23.8min\n",
      "[CV 12/25] END learning_rate=0.05, max_depth=4, n_estimators=1000, seed=777, subsample=0.8;, score=-1.748 total time=23.8min\n",
      "[CV 13/25] END learning_rate=0.05, max_depth=4, n_estimators=1000, seed=777, subsample=0.8;, score=-1.756 total time=23.6min\n",
      "[CV 14/25] END learning_rate=0.05, max_depth=4, n_estimators=1000, seed=777, subsample=0.8;, score=-1.750 total time=23.0min\n",
      "[CV 15/25] END learning_rate=0.05, max_depth=4, n_estimators=1000, seed=777, subsample=0.8;, score=-1.752 total time=23.3min\n",
      "[CV 16/25] END learning_rate=0.05, max_depth=4, n_estimators=1000, seed=777, subsample=0.8;, score=-1.753 total time=23.2min\n",
      "[CV 17/25] END learning_rate=0.05, max_depth=4, n_estimators=1000, seed=777, subsample=0.8;, score=-1.747 total time=23.4min\n",
      "[CV 18/25] END learning_rate=0.05, max_depth=4, n_estimators=1000, seed=777, subsample=0.8;, score=-1.756 total time=23.4min\n",
      "[CV 19/25] END learning_rate=0.05, max_depth=4, n_estimators=1000, seed=777, subsample=0.8;, score=-1.742 total time=23.5min\n",
      "[CV 20/25] END learning_rate=0.05, max_depth=4, n_estimators=1000, seed=777, subsample=0.8;, score=-1.755 total time=23.4min\n",
      "[CV 21/25] END learning_rate=0.05, max_depth=4, n_estimators=1000, seed=777, subsample=0.8;, score=-1.755 total time=23.8min\n",
      "[CV 22/25] END learning_rate=0.05, max_depth=4, n_estimators=1000, seed=777, subsample=0.8;, score=-1.767 total time=23.4min\n",
      "[CV 23/25] END learning_rate=0.05, max_depth=4, n_estimators=1000, seed=777, subsample=0.8;, score=-1.758 total time=23.4min\n",
      "[CV 24/25] END learning_rate=0.05, max_depth=4, n_estimators=1000, seed=777, subsample=0.8;, score=-1.762 total time=23.4min\n",
      "[CV 25/25] END learning_rate=0.05, max_depth=4, n_estimators=1000, seed=777, subsample=0.8;, score=-1.747 total time=23.4min\n",
      "2021-06-23 12:33:22.620425\n"
     ]
    }
   ],
   "source": [
    "import datetime;\n",
    "print(datetime.datetime.now())\n",
    "\n",
    "missing_columns = ['id', 'feature_47', 'feature_7']\n",
    "\n",
    "X_train = train_df.drop(missing_columns, 1)\n",
    "X_train = X_train.drop('target', 1)\n",
    "y_train = train_df['target']\n",
    "\n",
    "X_test = test_df.drop(missing_columns, 1)\n",
    "\n",
    "xgb_model = XGBClassifier(use_label_encoder=False, eval_metric='mlogloss')\n",
    "\n",
    "parameters = { 'seed': [777], 'n_estimators': [1000],\n",
    "               'learning_rate': [0.05], 'max_depth': [4], 'subsample': [0.8] }\n",
    "\n",
    "clf = GridSearchCV(xgb_model, parameters,\n",
    "                   cv=StratifiedKFold(n_splits=25, shuffle=True),\n",
    "                   n_jobs=1, verbose=4, refit=True, scoring='neg_log_loss')\n",
    "\n",
    "clf.fit(X_train, y_train)\n",
    "print(datetime.datetime.now())"
   ]
  },
  {
   "cell_type": "code",
   "execution_count": 84,
   "id": "7c19f4e5",
   "metadata": {},
   "outputs": [
    {
     "name": "stdout",
     "output_type": "stream",
     "text": [
      "2021-06-23 13:17:31.246864\n",
      "2021-06-23 13:17:35.171502\n"
     ]
    }
   ],
   "source": [
    "print(datetime.datetime.now())\n",
    "test_preds = clf.predict_proba(X_test)\n",
    "print(datetime.datetime.now())"
   ]
  },
  {
   "cell_type": "code",
   "execution_count": 86,
   "id": "1753c128",
   "metadata": {},
   "outputs": [],
   "source": [
    "submission = pd.DataFrame(test_preds)\n",
    "submission.columns = ['Class_1', 'Class_2', 'Class_3', 'Class_4', 'Class_5', 'Class_6', 'Class_7', 'Class_8', 'Class_9']\n",
    "submission['id'] = test_df['id']\n",
    "\n",
    "submission.to_csv(\"submission.csv\", index=False)"
   ]
  }
 ],
 "metadata": {
  "kernelspec": {
   "display_name": "Python 3",
   "language": "python",
   "name": "python3"
  },
  "language_info": {
   "codemirror_mode": {
    "name": "ipython",
    "version": 3
   },
   "file_extension": ".py",
   "mimetype": "text/x-python",
   "name": "python",
   "nbconvert_exporter": "python",
   "pygments_lexer": "ipython3",
   "version": "3.9.4"
  }
 },
 "nbformat": 4,
 "nbformat_minor": 5
}
