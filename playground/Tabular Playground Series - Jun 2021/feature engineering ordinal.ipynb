{
 "cells": [
  {
   "cell_type": "code",
   "execution_count": 9,
   "id": "4926f0b9",
   "metadata": {},
   "outputs": [],
   "source": [
    "import time\n",
    "import datetime\n",
    "\n",
    "import numpy as np\n",
    "import pandas as pd\n",
    "import optgbm as opt\n",
    "from sklearn.metrics import log_loss\n",
    "from sklearn.preprocessing import StandardScaler\n",
    "from sklearn.preprocessing import OrdinalEncoder"
   ]
  },
  {
   "cell_type": "code",
   "execution_count": 10,
   "id": "85b5edff",
   "metadata": {},
   "outputs": [],
   "source": [
    "train_df = pd.read_csv('train.csv')\n",
    "test_df = pd.read_csv('test.csv')\n",
    "\n",
    "train_features = train_df.drop(['target', 'id'], 1)\n",
    "test_features = test_df.drop('id', 1)"
   ]
  },
  {
   "cell_type": "code",
   "execution_count": 60,
   "id": "ca9f326e",
   "metadata": {},
   "outputs": [],
   "source": [
    "def do_transform(the_train, the_test):\n",
    "    full_df = pd.concat([the_train, the_test])\n",
    "    for column in full_df:\n",
    "        sorted_df = full_df.sort_values(by=column)\n",
    "        encoder = OrdinalEncoder()\n",
    "        encoder.fit(sorted_df[[column]])\n",
    "\n",
    "        the_train[column + '_oe'] = encoder.transform(the_train[[column]])\n",
    "        the_test[column + '_oe'] = encoder.transform(the_test[[column]])\n",
    "        \n",
    "    return the_train, the_test"
   ]
  },
  {
   "cell_type": "code",
   "execution_count": 61,
   "id": "01b1205d",
   "metadata": {},
   "outputs": [],
   "source": [
    "train_transformed, test_trainsformed = do_transform(train_features, test_features)"
   ]
  },
  {
   "cell_type": "code",
   "execution_count": 62,
   "id": "9f9523a4",
   "metadata": {},
   "outputs": [
    {
     "name": "stdout",
     "output_type": "stream",
     "text": [
      "Index(['feature_0', 'feature_1', 'feature_2', 'feature_3', 'feature_4',\n",
      "       'feature_5', 'feature_6', 'feature_7', 'feature_8', 'feature_9',\n",
      "       ...\n",
      "       'feature_65_oe', 'feature_66_oe', 'feature_67_oe', 'feature_68_oe',\n",
      "       'feature_69_oe', 'feature_70_oe', 'feature_71_oe', 'feature_72_oe',\n",
      "       'feature_73_oe', 'feature_74_oe'],\n",
      "      dtype='object', length=150)\n"
     ]
    }
   ],
   "source": [
    "print(train_transformed.columns)"
   ]
  },
  {
   "cell_type": "code",
   "execution_count": 63,
   "id": "6f34d7b2",
   "metadata": {},
   "outputs": [
    {
     "name": "stderr",
     "output_type": "stream",
     "text": [
      "/opt/conda/lib/python3.9/site-packages/sklearn/utils/validation.py:70: FutureWarning: Pass classifier=True as keyword args. From version 1.0 (renaming of 0.25) passing these as positional arguments will result in an error\n",
      "  warnings.warn(f\"Pass {args_msg} as keyword args. From version \"\n",
      "\u001b[32m[I 2021-06-28 00:26:19,231]\u001b[0m A new study created in memory with name: no-name-7919fb4f-a81c-417a-985d-140d9f0848d7\u001b[0m\n",
      "Searching the best hyperparameters...\n"
     ]
    },
    {
     "name": "stdout",
     "output_type": "stream",
     "text": [
      "2021-06-28 00:26:19.179340\n"
     ]
    },
    {
     "name": "stderr",
     "output_type": "stream",
     "text": [
      "\u001b[32m[I 2021-06-28 00:26:46,891]\u001b[0m Trial 0 finished with value: 1.7641450432996912 and parameters: {'feature_fraction': 1.0, 'max_depth': 2, 'num_leaves': 4, 'min_data_in_leaf': 29119, 'lambda_l1': 4.552004749690557, 'lambda_l2': 7.537158135366, 'bagging_fraction': 0.6, 'bagging_freq': 5}. Best is trial 0 with value: 1.7641450432996912.\u001b[0m\n",
      "\u001b[32m[I 2021-06-28 00:27:15,758]\u001b[0m Trial 1 finished with value: 1.762740707782892 and parameters: {'feature_fraction': 0.9, 'max_depth': 2, 'num_leaves': 2, 'min_data_in_leaf': 17713, 'lambda_l1': 1.2973785008455102e-09, 'lambda_l2': 1.2766094858326051e-09, 'bagging_fraction': 0.65, 'bagging_freq': 2}. Best is trial 1 with value: 1.762740707782892.\u001b[0m\n",
      "\u001b[32m[I 2021-06-28 00:29:19,213]\u001b[0m Trial 2 finished with value: 1.7525920412970166 and parameters: {'feature_fraction': 0.4, 'max_depth': 3, 'num_leaves': 5, 'min_data_in_leaf': 21334, 'lambda_l1': 2.5286388393795987e-08, 'lambda_l2': 0.005579006248891394, 'bagging_fraction': 0.8500000000000001, 'bagging_freq': 9}. Best is trial 2 with value: 1.7525920412970166.\u001b[0m\n",
      "\u001b[32m[I 2021-06-28 00:30:23,124]\u001b[0m Trial 3 finished with value: 1.7525426376312132 and parameters: {'feature_fraction': 0.75, 'max_depth': 6, 'num_leaves': 39, 'min_data_in_leaf': 347, 'lambda_l1': 4.0097897864239384e-06, 'lambda_l2': 0.00010436345518098809, 'bagging_fraction': 0.9, 'bagging_freq': 9}. Best is trial 3 with value: 1.7525426376312132.\u001b[0m\n",
      "\u001b[32m[I 2021-06-28 00:31:59,329]\u001b[0m Trial 4 finished with value: 1.7615621297085204 and parameters: {'feature_fraction': 0.6, 'max_depth': 4, 'num_leaves': 6, 'min_data_in_leaf': 32983, 'lambda_l1': 1.2561377217244807e-06, 'lambda_l2': 4.483204480218551e-05, 'bagging_fraction': 0.75, 'bagging_freq': 3}. Best is trial 3 with value: 1.7525426376312132.\u001b[0m\n",
      "\u001b[32m[I 2021-06-28 00:33:43,624]\u001b[0m Trial 5 finished with value: 1.750204993888905 and parameters: {'feature_fraction': 0.35, 'max_depth': 4, 'num_leaves': 5, 'min_data_in_leaf': 3759, 'lambda_l1': 0.008135795657374779, 'lambda_l2': 0.046633651979397964, 'bagging_fraction': 0.65, 'bagging_freq': 6}. Best is trial 5 with value: 1.750204993888905.\u001b[0m\n",
      "\u001b[32m[I 2021-06-28 00:35:11,173]\u001b[0m Trial 6 finished with value: 1.749849611754366 and parameters: {'feature_fraction': 0.1, 'max_depth': 7, 'num_leaves': 67, 'min_data_in_leaf': 353, 'lambda_l1': 6.431376798294496e-09, 'lambda_l2': 7.614518666739684e-07, 'bagging_fraction': 0.9, 'bagging_freq': 4}. Best is trial 6 with value: 1.749849611754366.\u001b[0m\n",
      "\u001b[32m[I 2021-06-28 00:36:34,012]\u001b[0m Trial 7 finished with value: 1.760360527313675 and parameters: {'feature_fraction': 0.6, 'max_depth': 4, 'num_leaves': 5, 'min_data_in_leaf': 28439, 'lambda_l1': 1.578247946363459e-07, 'lambda_l2': 0.00035391573938282564, 'bagging_fraction': 0.65, 'bagging_freq': 2}. Best is trial 6 with value: 1.749849611754366.\u001b[0m\n",
      "\u001b[32m[I 2021-06-28 00:38:12,063]\u001b[0m Trial 8 finished with value: 1.7507658815398248 and parameters: {'feature_fraction': 0.30000000000000004, 'max_depth': 6, 'num_leaves': 43, 'min_data_in_leaf': 434, 'lambda_l1': 1.1640324490934789e-05, 'lambda_l2': 4.803124984016637e-06, 'bagging_fraction': 0.8, 'bagging_freq': 1}. Best is trial 6 with value: 1.749849611754366.\u001b[0m\n",
      "\u001b[32m[I 2021-06-28 00:39:36,565]\u001b[0m Trial 9 finished with value: 1.7502309787613755 and parameters: {'feature_fraction': 0.4, 'max_depth': 6, 'num_leaves': 19, 'min_data_in_leaf': 939, 'lambda_l1': 0.00041194965750831385, 'lambda_l2': 1.987072157756983e-07, 'bagging_fraction': 0.55, 'bagging_freq': 3}. Best is trial 6 with value: 1.749849611754366.\u001b[0m\n",
      "\u001b[32m[I 2021-06-28 00:40:58,589]\u001b[0m Trial 10 finished with value: 1.7535570890133816 and parameters: {'feature_fraction': 0.1, 'max_depth': 7, 'num_leaves': 103, 'min_data_in_leaf': 26, 'lambda_l1': 1.7141859156804941e-09, 'lambda_l2': 1.833932442547575e-09, 'bagging_fraction': 0.95, 'bagging_freq': 6}. Best is trial 6 with value: 1.749849611754366.\u001b[0m\n",
      "\u001b[32m[I 2021-06-28 00:42:00,173]\u001b[0m Trial 11 finished with value: 1.7483088277461287 and parameters: {'feature_fraction': 0.1, 'max_depth': 5, 'num_leaves': 14, 'min_data_in_leaf': 4290, 'lambda_l1': 0.004804237504848039, 'lambda_l2': 2.2989703874581124, 'bagging_fraction': 0.5, 'bagging_freq': 6}. Best is trial 11 with value: 1.7483088277461287.\u001b[0m\n",
      "\u001b[32m[I 2021-06-28 00:43:36,384]\u001b[0m Trial 12 finished with value: 1.7470181328076921 and parameters: {'feature_fraction': 0.1, 'max_depth': 7, 'num_leaves': 87, 'min_data_in_leaf': 2140, 'lambda_l1': 0.2029997079714791, 'lambda_l2': 9.07464291471136, 'bagging_fraction': 0.75, 'bagging_freq': 5}. Best is trial 12 with value: 1.7470181328076921.\u001b[0m\n",
      "\u001b[32m[I 2021-06-28 00:44:49,449]\u001b[0m Trial 13 finished with value: 1.749340786971164 and parameters: {'feature_fraction': 0.2, 'max_depth': 5, 'num_leaves': 15, 'min_data_in_leaf': 6728, 'lambda_l1': 0.46370228239341094, 'lambda_l2': 8.44301810715874, 'bagging_fraction': 0.5, 'bagging_freq': 7}. Best is trial 12 with value: 1.7470181328076921.\u001b[0m\n",
      "\u001b[32m[I 2021-06-28 00:46:08,056]\u001b[0m Trial 14 finished with value: 1.7479831871547398 and parameters: {'feature_fraction': 0.1, 'max_depth': 5, 'num_leaves': 15, 'min_data_in_leaf': 5978, 'lambda_l1': 0.024464245040975382, 'lambda_l2': 0.43206814395826837, 'bagging_fraction': 0.75, 'bagging_freq': 8}. Best is trial 12 with value: 1.7470181328076921.\u001b[0m\n",
      "\u001b[32m[I 2021-06-28 00:47:42,766]\u001b[0m Trial 15 finished with value: 1.7483952065941772 and parameters: {'feature_fraction': 0.2, 'max_depth': 7, 'num_leaves': 98, 'min_data_in_leaf': 2034, 'lambda_l1': 0.12391709601926987, 'lambda_l2': 0.10770168441938908, 'bagging_fraction': 0.75, 'bagging_freq': 8}. Best is trial 12 with value: 1.7470181328076921.\u001b[0m\n",
      "\u001b[32m[I 2021-06-28 00:49:26,948]\u001b[0m Trial 16 finished with value: 1.7488821682772824 and parameters: {'feature_fraction': 0.25, 'max_depth': 5, 'num_leaves': 21, 'min_data_in_leaf': 6702, 'lambda_l1': 5.868895790846792, 'lambda_l2': 0.37092751974581206, 'bagging_fraction': 0.7, 'bagging_freq': 10}. Best is trial 12 with value: 1.7470181328076921.\u001b[0m\n",
      "\u001b[32m[I 2021-06-28 00:49:32,098]\u001b[0m Trial 17 finished with value: 2.0752378676359795 and parameters: {'feature_fraction': 0.5, 'max_depth': 1, 'num_leaves': 2, 'min_data_in_leaf': 83146, 'lambda_l1': 0.0771681162192728, 'lambda_l2': 0.0035403943184526537, 'bagging_fraction': 0.8, 'bagging_freq': 8}. Best is trial 12 with value: 1.7470181328076921.\u001b[0m\n",
      "\u001b[32m[I 2021-06-28 00:51:04,912]\u001b[0m Trial 18 finished with value: 1.7475406539988796 and parameters: {'feature_fraction': 0.1, 'max_depth': 6, 'num_leaves': 57, 'min_data_in_leaf': 2936, 'lambda_l1': 0.0003516458911263235, 'lambda_l2': 0.3303532035989445, 'bagging_fraction': 0.8, 'bagging_freq': 5}. Best is trial 12 with value: 1.7470181328076921.\u001b[0m\n",
      "\u001b[32m[I 2021-06-28 00:53:32,760]\u001b[0m Trial 19 finished with value: 1.749219817636014 and parameters: {'feature_fraction': 0.5, 'max_depth': 7, 'num_leaves': 80, 'min_data_in_leaf': 2456, 'lambda_l1': 0.00017030788392772823, 'lambda_l2': 1.2743397199331976, 'bagging_fraction': 0.8500000000000001, 'bagging_freq': 4}. Best is trial 12 with value: 1.7470181328076921.\u001b[0m\n",
      "\u001b[32m[I 2021-06-28 00:55:26,586]\u001b[0m Trial 20 finished with value: 1.748511506828454 and parameters: {'feature_fraction': 0.2, 'max_depth': 6, 'num_leaves': 58, 'min_data_in_leaf': 2830, 'lambda_l1': 0.001008852630685711, 'lambda_l2': 0.017249969008278146, 'bagging_fraction': 0.8, 'bagging_freq': 5}. Best is trial 12 with value: 1.7470181328076921.\u001b[0m\n",
      "\u001b[32m[I 2021-06-28 00:56:40,332]\u001b[0m Trial 21 finished with value: 1.7481804687700904 and parameters: {'feature_fraction': 0.1, 'max_depth': 5, 'num_leaves': 11, 'min_data_in_leaf': 6467, 'lambda_l1': 0.01256227351452456, 'lambda_l2': 0.7174925206479763, 'bagging_fraction': 0.7, 'bagging_freq': 7}. Best is trial 12 with value: 1.7470181328076921.\u001b[0m\n",
      "\u001b[32m[I 2021-06-28 00:58:03,648]\u001b[0m Trial 22 finished with value: 1.7474707797439943 and parameters: {'feature_fraction': 0.1, 'max_depth': 6, 'num_leaves': 27, 'min_data_in_leaf': 5221, 'lambda_l1': 0.618593295956376, 'lambda_l2': 0.1493087299732133, 'bagging_fraction': 0.75, 'bagging_freq': 4}. Best is trial 12 with value: 1.7470181328076921.\u001b[0m\n"
     ]
    },
    {
     "name": "stderr",
     "output_type": "stream",
     "text": [
      "\u001b[32m[I 2021-06-28 01:00:02,204]\u001b[0m Trial 23 finished with value: 1.7478866715230343 and parameters: {'feature_fraction': 0.2, 'max_depth': 6, 'num_leaves': 28, 'min_data_in_leaf': 5058, 'lambda_l1': 0.6967989953783513, 'lambda_l2': 9.076649373823146, 'bagging_fraction': 0.8500000000000001, 'bagging_freq': 4}. Best is trial 12 with value: 1.7470181328076921.\u001b[0m\n",
      "\u001b[32m[I 2021-06-28 01:01:46,216]\u001b[0m Trial 24 finished with value: 1.749244023882899 and parameters: {'feature_fraction': 0.30000000000000004, 'max_depth': 7, 'num_leaves': 83, 'min_data_in_leaf': 1590, 'lambda_l1': 1.254287062472376, 'lambda_l2': 0.0009733617816526471, 'bagging_fraction': 0.7, 'bagging_freq': 5}. Best is trial 12 with value: 1.7470181328076921.\u001b[0m\n",
      "\u001b[32m[I 2021-06-28 01:03:31,494]\u001b[0m Trial 25 finished with value: 1.7478021913537816 and parameters: {'feature_fraction': 0.15000000000000002, 'max_depth': 6, 'num_leaves': 31, 'min_data_in_leaf': 3546, 'lambda_l1': 3.492587478316759e-05, 'lambda_l2': 0.04779092594086281, 'bagging_fraction': 0.8, 'bagging_freq': 3}. Best is trial 12 with value: 1.7470181328076921.\u001b[0m\n",
      "\u001b[32m[I 2021-06-28 01:05:10,493]\u001b[0m Trial 26 finished with value: 1.7495495281857827 and parameters: {'feature_fraction': 0.30000000000000004, 'max_depth': 7, 'num_leaves': 126, 'min_data_in_leaf': 1249, 'lambda_l1': 0.0011139604947642439, 'lambda_l2': 0.12322384702036764, 'bagging_fraction': 0.75, 'bagging_freq': 4}. Best is trial 12 with value: 1.7470181328076921.\u001b[0m\n",
      "\u001b[32m[I 2021-06-28 01:06:45,708]\u001b[0m Trial 27 finished with value: 1.7488972064049577 and parameters: {'feature_fraction': 0.75, 'max_depth': 6, 'num_leaves': 49, 'min_data_in_leaf': 2758, 'lambda_l1': 9.233559870963647, 'lambda_l2': 3.0808807321421585, 'bagging_fraction': 0.9, 'bagging_freq': 5}. Best is trial 12 with value: 1.7470181328076921.\u001b[0m\n",
      "\u001b[32m[I 2021-06-28 01:08:13,145]\u001b[0m Trial 28 finished with value: 1.74840635279542 and parameters: {'feature_fraction': 0.15000000000000002, 'max_depth': 7, 'num_leaves': 71, 'min_data_in_leaf': 1972, 'lambda_l1': 0.13319523475957024, 'lambda_l2': 0.010627945148815068, 'bagging_fraction': 0.7, 'bagging_freq': 7}. Best is trial 12 with value: 1.7470181328076921.\u001b[0m\n",
      "\u001b[32m[I 2021-06-28 01:10:25,659]\u001b[0m Trial 29 finished with value: 1.7507283715904969 and parameters: {'feature_fraction': 0.4, 'max_depth': 3, 'num_leaves': 8, 'min_data_in_leaf': 10976, 'lambda_l1': 1.759780982393887, 'lambda_l2': 4.556084855691431, 'bagging_fraction': 0.8, 'bagging_freq': 5}. Best is trial 12 with value: 1.7470181328076921.\u001b[0m\n",
      "\u001b[32m[I 2021-06-28 01:11:31,541]\u001b[0m Trial 30 finished with value: 1.749360168586326 and parameters: {'feature_fraction': 0.9500000000000001, 'max_depth': 5, 'num_leaves': 25, 'min_data_in_leaf': 5117, 'lambda_l1': 0.0034813314906092583, 'lambda_l2': 0.3258807584743015, 'bagging_fraction': 0.6, 'bagging_freq': 2}. Best is trial 12 with value: 1.7470181328076921.\u001b[0m\n",
      "\u001b[32m[I 2021-06-28 01:13:17,554]\u001b[0m Trial 31 finished with value: 1.747817219543893 and parameters: {'feature_fraction': 0.15000000000000002, 'max_depth': 6, 'num_leaves': 32, 'min_data_in_leaf': 3461, 'lambda_l1': 4.216484874680375e-05, 'lambda_l2': 0.05368287451931957, 'bagging_fraction': 0.8, 'bagging_freq': 3}. Best is trial 12 with value: 1.7470181328076921.\u001b[0m\n",
      "\u001b[32m[I 2021-06-28 01:15:09,381]\u001b[0m Trial 32 finished with value: 1.747864145293858 and parameters: {'feature_fraction': 0.15000000000000002, 'max_depth': 6, 'num_leaves': 37, 'min_data_in_leaf': 3320, 'lambda_l1': 3.773475402802524e-05, 'lambda_l2': 0.0013678973978438736, 'bagging_fraction': 0.8500000000000001, 'bagging_freq': 3}. Best is trial 12 with value: 1.7470181328076921.\u001b[0m\n",
      "\u001b[32m[I 2021-06-28 01:17:15,009]\u001b[0m Trial 33 finished with value: 1.7483346009105958 and parameters: {'feature_fraction': 0.25, 'max_depth': 6, 'num_leaves': 30, 'min_data_in_leaf': 4368, 'lambda_l1': 8.12695404528681e-07, 'lambda_l2': 0.017668881326775656, 'bagging_fraction': 0.75, 'bagging_freq': 1}. Best is trial 12 with value: 1.7470181328076921.\u001b[0m\n",
      "\u001b[32m[I 2021-06-28 01:19:01,904]\u001b[0m Trial 34 finished with value: 1.7475827483966668 and parameters: {'feature_fraction': 0.15000000000000002, 'max_depth': 7, 'num_leaves': 54, 'min_data_in_leaf': 2446, 'lambda_l1': 9.940267916912098e-06, 'lambda_l2': 9.773370058948537, 'bagging_fraction': 0.8, 'bagging_freq': 4}. Best is trial 12 with value: 1.7470181328076921.\u001b[0m\n",
      "\u001b[32m[I 2021-06-28 01:20:58,015]\u001b[0m Trial 35 finished with value: 1.7485436203585074 and parameters: {'feature_fraction': 0.25, 'max_depth': 7, 'num_leaves': 53, 'min_data_in_leaf': 2381, 'lambda_l1': 4.385896666042352e-06, 'lambda_l2': 1.5182796080596879, 'bagging_fraction': 0.8500000000000001, 'bagging_freq': 4}. Best is trial 12 with value: 1.7470181328076921.\u001b[0m\n",
      "\u001b[32m[I 2021-06-28 01:22:33,021]\u001b[0m Trial 36 finished with value: 1.7471418911210814 and parameters: {'feature_fraction': 0.1, 'max_depth': 7, 'num_leaves': 91, 'min_data_in_leaf': 2175, 'lambda_l1': 9.705061730924284e-08, 'lambda_l2': 6.379126905527489, 'bagging_fraction': 0.75, 'bagging_freq': 5}. Best is trial 12 with value: 1.7470181328076921.\u001b[0m\n",
      "\u001b[32m[I 2021-06-28 01:23:12,405]\u001b[0m Trial 37 finished with value: 1.7542906116670267 and parameters: {'feature_fraction': 0.8, 'max_depth': 3, 'num_leaves': 3, 'min_data_in_leaf': 14792, 'lambda_l1': 5.3594200884647934e-08, 'lambda_l2': 9.662775134152355, 'bagging_fraction': 0.65, 'bagging_freq': 6}. Best is trial 12 with value: 1.7470181328076921.\u001b[0m\n",
      "\u001b[32m[I 2021-06-28 01:24:37,270]\u001b[0m Trial 38 finished with value: 1.7474619978835577 and parameters: {'feature_fraction': 0.1, 'max_depth': 7, 'num_leaves': 100, 'min_data_in_leaf': 1729, 'lambda_l1': 4.218690520164953e-07, 'lambda_l2': 0.2615616518406398, 'bagging_fraction': 0.75, 'bagging_freq': 5}. Best is trial 12 with value: 1.7470181328076921.\u001b[0m\n",
      "\u001b[32m[I 2021-06-28 01:26:08,557]\u001b[0m Trial 39 finished with value: 1.7496284849429486 and parameters: {'feature_fraction': 0.35, 'max_depth': 7, 'num_leaves': 103, 'min_data_in_leaf': 1856, 'lambda_l1': 2.5596252463357987e-07, 'lambda_l2': 3.3785460353033535e-05, 'bagging_fraction': 0.6, 'bagging_freq': 6}. Best is trial 12 with value: 1.7470181328076921.\u001b[0m\n",
      "Finished hyperparemeter search! (elapsed time: 3589.294 sec.) The best_iteration is 94.\n",
      "Making booster(s)...\n",
      "Finished making booster(s)! (elapsed time: 21.303 sec.)\n"
     ]
    },
    {
     "name": "stdout",
     "output_type": "stream",
     "text": [
      "60.18\n",
      "2021-06-28 01:26:29.866183\n"
     ]
    }
   ],
   "source": [
    "print(datetime.datetime.now())\n",
    "start = time.time()\n",
    "\n",
    "X_train = train_transformed\n",
    "y_train = train_df['target']\n",
    "\n",
    "opt_obgm = opt.OGBMClassifier()\n",
    "opt_obgm.fit(X_train, y_train)\n",
    "\n",
    "minutes = (time.time() - start) / 60\n",
    "print(round(minutes, 2))\n",
    "print(datetime.datetime.now())"
   ]
  },
  {
   "cell_type": "code",
   "execution_count": 64,
   "id": "b613e085",
   "metadata": {},
   "outputs": [
    {
     "name": "stdout",
     "output_type": "stream",
     "text": [
      "2021-06-28 01:42:38.277616\n",
      "2021-06-28 01:42:39.636736\n"
     ]
    }
   ],
   "source": [
    "print(datetime.datetime.now())\n",
    "X_test = test_trainsformed\n",
    "test_preds = opt_obgm.predict_proba(X_test)\n",
    "print(datetime.datetime.now())"
   ]
  },
  {
   "cell_type": "code",
   "execution_count": 65,
   "id": "4e79bfc5",
   "metadata": {},
   "outputs": [],
   "source": [
    "submission = pd.DataFrame(test_preds)\n",
    "submission.columns = ['Class_1', 'Class_2', 'Class_3', 'Class_4', 'Class_5', 'Class_6', 'Class_7', 'Class_8', 'Class_9']\n",
    "submission['id'] = test_df['id']\n",
    "\n",
    "submission.to_csv(\"submission_oe_opt_obgm.csv\", index=False)"
   ]
  }
 ],
 "metadata": {
  "kernelspec": {
   "display_name": "Python 3",
   "language": "python",
   "name": "python3"
  },
  "language_info": {
   "codemirror_mode": {
    "name": "ipython",
    "version": 3
   },
   "file_extension": ".py",
   "mimetype": "text/x-python",
   "name": "python",
   "nbconvert_exporter": "python",
   "pygments_lexer": "ipython3",
   "version": "3.9.4"
  }
 },
 "nbformat": 4,
 "nbformat_minor": 5
}
