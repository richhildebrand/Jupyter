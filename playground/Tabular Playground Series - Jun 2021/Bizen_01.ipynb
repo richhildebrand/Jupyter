{
 "cells": [
  {
   "cell_type": "code",
   "execution_count": 1,
   "id": "207a8f26",
   "metadata": {},
   "outputs": [],
   "source": [
    "# https://www.kaggle.com/hiro5299834/tps06-1d-2dcnn-xgb-as-output-layer/\n",
    "\n",
    "# generates oof and pred for use in 02"
   ]
  },
  {
   "cell_type": "code",
   "execution_count": 2,
   "id": "272d2e2d",
   "metadata": {},
   "outputs": [
    {
     "name": "stdout",
     "output_type": "stream",
     "text": [
      "Requirement already satisfied: tensorflow in /opt/conda/lib/python3.9/site-packages (2.5.0)\n",
      "Requirement already satisfied: gast==0.4.0 in /opt/conda/lib/python3.9/site-packages (from tensorflow) (0.4.0)\n",
      "Requirement already satisfied: keras-nightly~=2.5.0.dev in /opt/conda/lib/python3.9/site-packages (from tensorflow) (2.5.0.dev2021032900)\n",
      "Requirement already satisfied: flatbuffers~=1.12.0 in /opt/conda/lib/python3.9/site-packages (from tensorflow) (1.12)\n",
      "Requirement already satisfied: astunparse~=1.6.3 in /opt/conda/lib/python3.9/site-packages (from tensorflow) (1.6.3)\n",
      "Requirement already satisfied: opt-einsum~=3.3.0 in /opt/conda/lib/python3.9/site-packages (from tensorflow) (3.3.0)\n",
      "Requirement already satisfied: wrapt~=1.12.1 in /opt/conda/lib/python3.9/site-packages (from tensorflow) (1.12.1)\n",
      "Requirement already satisfied: h5py~=3.1.0 in /opt/conda/lib/python3.9/site-packages (from tensorflow) (3.1.0)\n",
      "Requirement already satisfied: google-pasta~=0.2 in /opt/conda/lib/python3.9/site-packages (from tensorflow) (0.2.0)\n",
      "Requirement already satisfied: tensorboard~=2.5 in /opt/conda/lib/python3.9/site-packages (from tensorflow) (2.5.0)\n",
      "Requirement already satisfied: absl-py~=0.10 in /opt/conda/lib/python3.9/site-packages (from tensorflow) (0.13.0)\n",
      "Requirement already satisfied: termcolor~=1.1.0 in /opt/conda/lib/python3.9/site-packages (from tensorflow) (1.1.0)\n",
      "Requirement already satisfied: keras-preprocessing~=1.1.2 in /opt/conda/lib/python3.9/site-packages (from tensorflow) (1.1.2)\n",
      "Requirement already satisfied: typing-extensions~=3.7.4 in /opt/conda/lib/python3.9/site-packages (from tensorflow) (3.7.4.3)\n",
      "Requirement already satisfied: tensorflow-estimator<2.6.0,>=2.5.0rc0 in /opt/conda/lib/python3.9/site-packages (from tensorflow) (2.5.0)\n",
      "Requirement already satisfied: wheel~=0.35 in /opt/conda/lib/python3.9/site-packages (from tensorflow) (0.36.2)\n",
      "Requirement already satisfied: six~=1.15.0 in /opt/conda/lib/python3.9/site-packages (from tensorflow) (1.15.0)\n",
      "Requirement already satisfied: grpcio~=1.34.0 in /opt/conda/lib/python3.9/site-packages (from tensorflow) (1.34.1)\n",
      "Requirement already satisfied: numpy~=1.19.2 in /opt/conda/lib/python3.9/site-packages (from tensorflow) (1.19.5)\n",
      "Requirement already satisfied: protobuf>=3.9.2 in /opt/conda/lib/python3.9/site-packages (from tensorflow) (3.17.2)\n",
      "Requirement already satisfied: werkzeug>=0.11.15 in /opt/conda/lib/python3.9/site-packages (from tensorboard~=2.5->tensorflow) (2.0.1)\n",
      "Requirement already satisfied: google-auth<2,>=1.6.3 in /opt/conda/lib/python3.9/site-packages (from tensorboard~=2.5->tensorflow) (1.33.1)\n",
      "Requirement already satisfied: markdown>=2.6.8 in /opt/conda/lib/python3.9/site-packages (from tensorboard~=2.5->tensorflow) (3.3.4)\n",
      "Requirement already satisfied: requests<3,>=2.21.0 in /opt/conda/lib/python3.9/site-packages (from tensorboard~=2.5->tensorflow) (2.26.0)\n",
      "Requirement already satisfied: tensorboard-data-server<0.7.0,>=0.6.0 in /opt/conda/lib/python3.9/site-packages (from tensorboard~=2.5->tensorflow) (0.6.1)\n",
      "Requirement already satisfied: setuptools>=41.0.0 in /opt/conda/lib/python3.9/site-packages (from tensorboard~=2.5->tensorflow) (49.6.0.post20210108)\n",
      "Requirement already satisfied: google-auth-oauthlib<0.5,>=0.4.1 in /opt/conda/lib/python3.9/site-packages (from tensorboard~=2.5->tensorflow) (0.4.4)\n",
      "Requirement already satisfied: tensorboard-plugin-wit>=1.6.0 in /opt/conda/lib/python3.9/site-packages (from tensorboard~=2.5->tensorflow) (1.8.0)\n",
      "Requirement already satisfied: rsa<5,>=3.1.4 in /opt/conda/lib/python3.9/site-packages (from google-auth<2,>=1.6.3->tensorboard~=2.5->tensorflow) (4.7.2)\n",
      "Requirement already satisfied: cachetools<5.0,>=2.0.0 in /opt/conda/lib/python3.9/site-packages (from google-auth<2,>=1.6.3->tensorboard~=2.5->tensorflow) (4.2.2)\n",
      "Requirement already satisfied: pyasn1-modules>=0.2.1 in /opt/conda/lib/python3.9/site-packages (from google-auth<2,>=1.6.3->tensorboard~=2.5->tensorflow) (0.2.8)\n",
      "Requirement already satisfied: requests-oauthlib>=0.7.0 in /opt/conda/lib/python3.9/site-packages (from google-auth-oauthlib<0.5,>=0.4.1->tensorboard~=2.5->tensorflow) (1.3.0)\n",
      "Requirement already satisfied: pyasn1<0.5.0,>=0.4.6 in /opt/conda/lib/python3.9/site-packages (from pyasn1-modules>=0.2.1->google-auth<2,>=1.6.3->tensorboard~=2.5->tensorflow) (0.4.8)\n",
      "Requirement already satisfied: certifi>=2017.4.17 in /opt/conda/lib/python3.9/site-packages (from requests<3,>=2.21.0->tensorboard~=2.5->tensorflow) (2021.5.30)\n",
      "Requirement already satisfied: charset-normalizer~=2.0.0 in /opt/conda/lib/python3.9/site-packages (from requests<3,>=2.21.0->tensorboard~=2.5->tensorflow) (2.0.0)\n",
      "Requirement already satisfied: idna<4,>=2.5 in /opt/conda/lib/python3.9/site-packages (from requests<3,>=2.21.0->tensorboard~=2.5->tensorflow) (3.1)\n",
      "Requirement already satisfied: urllib3<1.27,>=1.21.1 in /opt/conda/lib/python3.9/site-packages (from requests<3,>=2.21.0->tensorboard~=2.5->tensorflow) (1.26.6)\n",
      "Requirement already satisfied: oauthlib>=3.0.0 in /opt/conda/lib/python3.9/site-packages (from requests-oauthlib>=0.7.0->google-auth-oauthlib<0.5,>=0.4.1->tensorboard~=2.5->tensorflow) (3.1.1)\n"
     ]
    }
   ],
   "source": [
    "!pip install tensorflow "
   ]
  },
  {
   "cell_type": "code",
   "execution_count": 3,
   "id": "6964b7e2",
   "metadata": {},
   "outputs": [
    {
     "name": "stdout",
     "output_type": "stream",
     "text": [
      "Requirement already satisfied: tensorflow_addons in /opt/conda/lib/python3.9/site-packages (0.13.0)\r\n",
      "Requirement already satisfied: typeguard>=2.7 in /opt/conda/lib/python3.9/site-packages (from tensorflow_addons) (2.12.1)\r\n"
     ]
    }
   ],
   "source": [
    "!pip install tensorflow_addons"
   ]
  },
  {
   "cell_type": "code",
   "execution_count": 4,
   "id": "3a126c7e",
   "metadata": {},
   "outputs": [
    {
     "name": "stdout",
     "output_type": "stream",
     "text": [
      "Requirement already satisfied: xgboost in /opt/conda/lib/python3.9/site-packages (1.4.2)\r\n",
      "Requirement already satisfied: numpy in /opt/conda/lib/python3.9/site-packages (from xgboost) (1.19.5)\r\n",
      "Requirement already satisfied: scipy in /opt/conda/lib/python3.9/site-packages (from xgboost) (1.7.0)\r\n"
     ]
    }
   ],
   "source": [
    "!pip install xgboost"
   ]
  },
  {
   "cell_type": "code",
   "execution_count": 5,
   "id": "f296d17d",
   "metadata": {},
   "outputs": [
    {
     "name": "stderr",
     "output_type": "stream",
     "text": [
      "2021-07-25 02:22:10.092868: W tensorflow/stream_executor/platform/default/dso_loader.cc:64] Could not load dynamic library 'libcudart.so.11.0'; dlerror: libcudart.so.11.0: cannot open shared object file: No such file or directory\n",
      "2021-07-25 02:22:10.092967: I tensorflow/stream_executor/cuda/cudart_stub.cc:29] Ignore above cudart dlerror if you do not have a GPU set up on your machine.\n"
     ]
    }
   ],
   "source": [
    "from tqdm.notebook import tqdm\n",
    "import pandas as pd\n",
    "import numpy as np\n",
    "import datetime\n",
    "import random\n",
    "import os\n",
    "import gc\n",
    "\n",
    "from sklearn.metrics import log_loss, confusion_matrix, classification_report\n",
    "from sklearn.model_selection import StratifiedKFold\n",
    "\n",
    "from sklearn.preprocessing import MinMaxScaler\n",
    "from sklearn.decomposition import PCA\n",
    "from sklearn.cluster import KMeans\n",
    "\n",
    "import tensorflow as tf\n",
    "import tensorflow_addons as tfa\n",
    "import tensorflow.keras.backend as K\n",
    "from tensorflow.keras import layers\n",
    "from tensorflow.keras import Model\n",
    "\n",
    "import xgboost as xgb\n",
    "\n",
    "from scipy.optimize import minimize\n",
    "\n",
    "import matplotlib.pyplot as plt\n",
    "import seaborn as sns\n",
    "\n",
    "import warnings\n",
    "warnings.filterwarnings(\"ignore\")"
   ]
  },
  {
   "cell_type": "code",
   "execution_count": 6,
   "id": "219773f8",
   "metadata": {},
   "outputs": [],
   "source": [
    "CFG = {\n",
    "    'debug': False,\n",
    "    'target': 'target',\n",
    "    'n_class': 9,\n",
    "    'seed': 299792458,\n",
    "    'seed_l': [299, 792, 458],\n",
    "    'k': [5, 2],\n",
    "    'n_clusters': [9, 2],\n",
    "    'n_components': [9, 2],\n",
    "    'emb_out_dim': 16,\n",
    "    'sigma': [0.7, 0.9],\n",
    "    'n_conv2d': [1, 3],\n",
    "    'max_epochs': 100,\n",
    "    'batch_size': 256,\n",
    "    'learning_rate': 1e-3,\n",
    "    'es_patience': 10,\n",
    "    'lr_patience': 2,\n",
    "    'lr_factor': 0.7,\n",
    "    'n_splits': 10,\n",
    "    'nn_verbose': 0,\n",
    "    'save_path': './outputs/',\n",
    "    'n_estimators': 3000,\n",
    "    'early_stopping_rounds': 100,\n",
    "    'gbt_verbose': 0,\n",
    "}\n",
    "\n",
    "if CFG['debug']:\n",
    "    CFG['max_epochs'] = 2\n",
    "    CFG['n_splits'] = 3"
   ]
  },
  {
   "cell_type": "code",
   "execution_count": 7,
   "id": "8e0fffd0",
   "metadata": {},
   "outputs": [],
   "source": [
    "def seed_everything(seed=2021):\n",
    "    random.seed(seed)\n",
    "    os.environ['PYTHONHASHSEED'] = str(seed)\n",
    "    np.random.seed(seed)\n",
    "    tf.random.set_seed(seed)\n",
    "\n",
    "seed_everything(CFG['seed'])"
   ]
  },
  {
   "cell_type": "code",
   "execution_count": 8,
   "id": "dd8b0928",
   "metadata": {},
   "outputs": [],
   "source": [
    "os.makedirs(CFG['save_path'], exist_ok=True)"
   ]
  },
  {
   "cell_type": "markdown",
   "id": "00307e17",
   "metadata": {},
   "source": [
    "## Datasets"
   ]
  },
  {
   "cell_type": "code",
   "execution_count": 9,
   "id": "eee6134f",
   "metadata": {},
   "outputs": [],
   "source": [
    "train = pd.read_csv(\"train.csv\")\n",
    "test = pd.read_csv(\"test.csv\")\n",
    "submission = pd.read_csv(\"sample_submission.csv\")\n",
    "\n",
    "target_ohe = pd.get_dummies(train[CFG['target']])\n",
    "target = train[CFG['target']].apply(lambda x: int(x.split(\"_\")[-1])-1)\n",
    "features = [col for col in train.columns if col.startswith('feature_')]"
   ]
  },
  {
   "cell_type": "code",
   "execution_count": 10,
   "id": "972203b9",
   "metadata": {},
   "outputs": [],
   "source": [
    "scaler = MinMaxScaler()\n",
    "all_df = pd.concat([train, test]).reset_index(drop=True)\n",
    "all_df = scaler.fit_transform(all_df[features])\n",
    "train_2d = all_df[:train.shape[0]].reshape(-1, 5, 5, 3)\n",
    "test_2d = all_df[train.shape[0]:].reshape(-1, 5, 5, 3)\n",
    "\n",
    "train_km, train_pca, train_knn = [], [], []\n",
    "test_km, test_pca, test_knn = [], [], []\n",
    "\n",
    "for n_model in range(len(CFG['k'])):\n",
    "    km = KMeans(n_clusters=CFG['n_clusters'][n_model], random_state=CFG['seed'])\n",
    "    all_km = km.fit_transform(all_df)\n",
    "    train_km.append(all_km[:train.shape[0]])\n",
    "    test_km.append(all_km[train.shape[0]:])\n",
    "\n",
    "    pca = PCA(n_components=CFG['n_components'][n_model], random_state=CFG['seed'])\n",
    "    all_pca = pca.fit_transform(all_df)\n",
    "    train_pca.append(all_pca[:train.shape[0]])\n",
    "    test_pca.append(all_pca[train.shape[0]:])\n",
    "    \n",
    "    all_knn = np.concatenate([\n",
    "        np.load(f\"./knn_saved/add_feat_k{CFG['k'][n_model]}_train.npy\"),\n",
    "        np.load(f\"./knn_saved/add_feat_k{CFG['k'][n_model]}_test.npy\")\n",
    "        ])\n",
    "    all_knn = scaler.fit_transform(all_knn)\n",
    "    train_knn.append(all_knn[:train.shape[0]])\n",
    "    test_knn.append(all_knn[train.shape[0]:])"
   ]
  },
  {
   "cell_type": "markdown",
   "id": "a7e10507",
   "metadata": {},
   "source": [
    "## Train and Pred"
   ]
  },
  {
   "cell_type": "code",
   "execution_count": 11,
   "id": "9254910a",
   "metadata": {},
   "outputs": [],
   "source": [
    "def custom_metric(y_true, y_pred):\n",
    "    y_pred = K.clip(y_pred, 1e-15, 1-1e-15)\n",
    "    loss = K.mean(cce(y_true, y_pred))\n",
    "    return loss\n",
    "\n",
    "cce = tf.keras.losses.CategoricalCrossentropy()\n",
    "\n",
    "es_cb = tf.keras.callbacks.EarlyStopping(\n",
    "    monitor='val_custom_metric',\n",
    "    min_delta=1e-05,\n",
    "    patience=CFG['es_patience'],\n",
    "    verbose=CFG['nn_verbose'],\n",
    "    mode='min',\n",
    "    baseline=None,\n",
    "    restore_best_weights=True)\n",
    "\n",
    "sch_cb = tf.keras.callbacks.ReduceLROnPlateau(\n",
    "    monitor='val_custom_metric',\n",
    "    factor=CFG['lr_factor'],\n",
    "    patience=CFG['lr_patience'],\n",
    "    min_lr=1e-5,\n",
    "    verbose=CFG['nn_verbose'],\n",
    "    mode='min')"
   ]
  },
  {
   "cell_type": "code",
   "execution_count": 12,
   "id": "9d088439",
   "metadata": {},
   "outputs": [],
   "source": [
    "emb_in_dim = pd.concat([train, test]).reset_index(drop=True)[features].max().max()+1\n",
    "emb_out_dim = CFG['emb_out_dim']\n",
    "emb_dims = [emb_in_dim, emb_out_dim]"
   ]
  },
  {
   "cell_type": "markdown",
   "id": "45c49dee",
   "metadata": {},
   "source": [
    "## Model"
   ]
  },
  {
   "cell_type": "code",
   "execution_count": 13,
   "id": "601906f6",
   "metadata": {},
   "outputs": [
    {
     "name": "stderr",
     "output_type": "stream",
     "text": [
      "2021-07-25 02:23:04.141872: W tensorflow/stream_executor/platform/default/dso_loader.cc:64] Could not load dynamic library 'libcuda.so.1'; dlerror: libcuda.so.1: cannot open shared object file: No such file or directory\n",
      "2021-07-25 02:23:04.141962: W tensorflow/stream_executor/cuda/cuda_driver.cc:326] failed call to cuInit: UNKNOWN ERROR (303)\n",
      "2021-07-25 02:23:04.142061: I tensorflow/stream_executor/cuda/cuda_diagnostics.cc:156] kernel driver does not appear to be running on this host (f8f7c4f35391): /proc/driver/nvidia/version does not exist\n",
      "2021-07-25 02:23:04.142487: I tensorflow/core/platform/cpu_feature_guard.cc:142] This TensorFlow binary is optimized with oneAPI Deep Neural Network Library (oneDNN) to use the following CPU instructions in performance-critical operations:  AVX2 FMA\n",
      "To enable them in other operations, rebuild TensorFlow with the appropriate compiler flags.\n"
     ]
    },
    {
     "name": "stdout",
     "output_type": "stream",
     "text": [
      "Model: \"model\"\n",
      "__________________________________________________________________________________________________\n",
      "Layer (type)                    Output Shape         Param #     Connected to                     \n",
      "==================================================================================================\n",
      "input_1 (InputLayer)            [(None, 75)]         0                                            \n",
      "__________________________________________________________________________________________________\n",
      "input_2 (InputLayer)            [(None, 5, 5, 3)]    0                                            \n",
      "__________________________________________________________________________________________________\n",
      "embedding (Embedding)           (None, 75, 16)       5648        input_1[0][0]                    \n",
      "__________________________________________________________________________________________________\n",
      "separable_conv2d (SeparableConv (None, 5, 5, 8)      59          input_2[0][0]                    \n",
      "__________________________________________________________________________________________________\n",
      "conv1d (Conv1D)                 (None, 75, 8)        136         embedding[0][0]                  \n",
      "__________________________________________________________________________________________________\n",
      "batch_normalization (BatchNorma (None, 5, 5, 8)      32          separable_conv2d[0][0]           \n",
      "__________________________________________________________________________________________________\n",
      "flatten (Flatten)               (None, 600)          0           conv1d[0][0]                     \n",
      "__________________________________________________________________________________________________\n",
      "flatten_1 (Flatten)             (None, 200)          0           batch_normalization[0][0]        \n",
      "__________________________________________________________________________________________________\n",
      "dropout (Dropout)               (None, 600)          0           flatten[0][0]                    \n",
      "__________________________________________________________________________________________________\n",
      "dropout_1 (Dropout)             (None, 200)          0           flatten_1[0][0]                  \n",
      "__________________________________________________________________________________________________\n",
      "noisy_dense (NoisyDense)        (None, 16)           19232       dropout[0][0]                    \n",
      "__________________________________________________________________________________________________\n",
      "noisy_dense_1 (NoisyDense)      (None, 16)           6432        dropout_1[0][0]                  \n",
      "__________________________________________________________________________________________________\n",
      "weight_normalization (WeightNor (None, 16)           561         noisy_dense[0][0]                \n",
      "__________________________________________________________________________________________________\n",
      "weight_normalization_1 (WeightN (None, 16)           561         noisy_dense_1[0][0]              \n",
      "__________________________________________________________________________________________________\n",
      "input_3 (InputLayer)            [(None, 45)]         0                                            \n",
      "__________________________________________________________________________________________________\n",
      "input_4 (InputLayer)            [(None, 9)]          0                                            \n",
      "__________________________________________________________________________________________________\n",
      "input_5 (InputLayer)            [(None, 9)]          0                                            \n",
      "__________________________________________________________________________________________________\n",
      "concatenate (Concatenate)       (None, 695)          0           flatten[0][0]                    \n",
      "                                                                 weight_normalization[0][0]       \n",
      "                                                                 weight_normalization_1[0][0]     \n",
      "                                                                 input_3[0][0]                    \n",
      "                                                                 input_4[0][0]                    \n",
      "                                                                 input_5[0][0]                    \n",
      "__________________________________________________________________________________________________\n",
      "dropout_2 (Dropout)             (None, 695)          0           concatenate[0][0]                \n",
      "__________________________________________________________________________________________________\n",
      "weight_normalization_2 (WeightN (None, 16)           22289       dropout_2[0][0]                  \n",
      "__________________________________________________________________________________________________\n",
      "concatenate_1 (Concatenate)     (None, 711)          0           flatten[0][0]                    \n",
      "                                                                 weight_normalization[0][0]       \n",
      "                                                                 weight_normalization_1[0][0]     \n",
      "                                                                 input_3[0][0]                    \n",
      "                                                                 input_4[0][0]                    \n",
      "                                                                 input_5[0][0]                    \n",
      "                                                                 weight_normalization_2[0][0]     \n",
      "__________________________________________________________________________________________________\n",
      "dropout_3 (Dropout)             (None, 711)          0           concatenate_1[0][0]              \n",
      "__________________________________________________________________________________________________\n",
      "weight_normalization_3 (WeightN (None, 16)           22801       dropout_3[0][0]                  \n",
      "__________________________________________________________________________________________________\n",
      "concatenate_2 (Concatenate)     (None, 1422)         0           flatten[0][0]                    \n",
      "                                                                 weight_normalization[0][0]       \n",
      "                                                                 weight_normalization_1[0][0]     \n",
      "                                                                 input_3[0][0]                    \n",
      "                                                                 input_4[0][0]                    \n",
      "                                                                 input_5[0][0]                    \n",
      "                                                                 dropout_3[0][0]                  \n",
      "                                                                 weight_normalization_3[0][0]     \n",
      "__________________________________________________________________________________________________\n",
      "dropout_4 (Dropout)             (None, 1422)         0           concatenate_2[0][0]              \n",
      "__________________________________________________________________________________________________\n",
      "weight_normalization_4 (WeightN (None, 16)           45553       dropout_4[0][0]                  \n",
      "__________________________________________________________________________________________________\n",
      "dense_5 (Dense)                 (None, 9)            153         weight_normalization_4[0][0]     \n",
      "==================================================================================================\n",
      "Total params: 123,457\n",
      "Trainable params: 77,596\n",
      "Non-trainable params: 45,861\n",
      "__________________________________________________________________________________________________\n",
      "None\n",
      "Model: \"model_2\"\n",
      "__________________________________________________________________________________________________\n",
      "Layer (type)                    Output Shape         Param #     Connected to                     \n",
      "==================================================================================================\n",
      "input_7 (InputLayer)            [(None, 5, 5, 3)]    0                                            \n",
      "__________________________________________________________________________________________________\n",
      "separable_conv2d_1 (SeparableCo (None, 5, 5, 8)      59          input_7[0][0]                    \n",
      "__________________________________________________________________________________________________\n",
      "batch_normalization_1 (BatchNor (None, 5, 5, 8)      32          separable_conv2d_1[0][0]         \n",
      "__________________________________________________________________________________________________\n",
      "separable_conv2d_2 (SeparableCo (None, 5, 5, 8)      144         batch_normalization_1[0][0]      \n",
      "__________________________________________________________________________________________________\n",
      "input_6 (InputLayer)            [(None, 75)]         0                                            \n",
      "__________________________________________________________________________________________________\n",
      "batch_normalization_2 (BatchNor (None, 5, 5, 8)      32          separable_conv2d_2[0][0]         \n",
      "__________________________________________________________________________________________________\n",
      "embedding_1 (Embedding)         (None, 75, 16)       5648        input_6[0][0]                    \n",
      "__________________________________________________________________________________________________\n",
      "separable_conv2d_3 (SeparableCo (None, 5, 5, 8)      144         batch_normalization_2[0][0]      \n",
      "__________________________________________________________________________________________________\n",
      "conv1d_1 (Conv1D)               (None, 75, 8)        136         embedding_1[0][0]                \n",
      "__________________________________________________________________________________________________\n",
      "batch_normalization_3 (BatchNor (None, 5, 5, 8)      32          separable_conv2d_3[0][0]         \n",
      "__________________________________________________________________________________________________\n",
      "flatten_2 (Flatten)             (None, 600)          0           conv1d_1[0][0]                   \n",
      "__________________________________________________________________________________________________\n",
      "flatten_3 (Flatten)             (None, 200)          0           batch_normalization_3[0][0]      \n",
      "__________________________________________________________________________________________________\n",
      "dropout_5 (Dropout)             (None, 600)          0           flatten_2[0][0]                  \n",
      "__________________________________________________________________________________________________\n",
      "dropout_6 (Dropout)             (None, 200)          0           flatten_3[0][0]                  \n",
      "__________________________________________________________________________________________________\n",
      "noisy_dense_2 (NoisyDense)      (None, 16)           19232       dropout_5[0][0]                  \n",
      "__________________________________________________________________________________________________\n",
      "noisy_dense_3 (NoisyDense)      (None, 16)           6432        dropout_6[0][0]                  \n",
      "__________________________________________________________________________________________________\n",
      "weight_normalization_5 (WeightN (None, 16)           561         noisy_dense_2[0][0]              \n",
      "__________________________________________________________________________________________________\n",
      "weight_normalization_6 (WeightN (None, 16)           561         noisy_dense_3[0][0]              \n",
      "__________________________________________________________________________________________________\n",
      "input_8 (InputLayer)            [(None, 18)]         0                                            \n",
      "__________________________________________________________________________________________________\n",
      "input_9 (InputLayer)            [(None, 2)]          0                                            \n",
      "__________________________________________________________________________________________________\n",
      "input_10 (InputLayer)           [(None, 2)]          0                                            \n",
      "__________________________________________________________________________________________________\n",
      "concatenate_3 (Concatenate)     (None, 654)          0           flatten_2[0][0]                  \n",
      "                                                                 weight_normalization_5[0][0]     \n",
      "                                                                 weight_normalization_6[0][0]     \n",
      "                                                                 input_8[0][0]                    \n",
      "                                                                 input_9[0][0]                    \n",
      "                                                                 input_10[0][0]                   \n",
      "__________________________________________________________________________________________________\n",
      "dropout_7 (Dropout)             (None, 654)          0           concatenate_3[0][0]              \n",
      "__________________________________________________________________________________________________\n",
      "weight_normalization_7 (WeightN (None, 16)           20977       dropout_7[0][0]                  \n",
      "__________________________________________________________________________________________________\n",
      "concatenate_4 (Concatenate)     (None, 670)          0           flatten_2[0][0]                  \n",
      "                                                                 weight_normalization_5[0][0]     \n",
      "                                                                 weight_normalization_6[0][0]     \n",
      "                                                                 input_8[0][0]                    \n",
      "                                                                 input_9[0][0]                    \n",
      "                                                                 input_10[0][0]                   \n",
      "                                                                 weight_normalization_7[0][0]     \n",
      "__________________________________________________________________________________________________\n",
      "dropout_8 (Dropout)             (None, 670)          0           concatenate_4[0][0]              \n",
      "__________________________________________________________________________________________________\n",
      "weight_normalization_8 (WeightN (None, 16)           21489       dropout_8[0][0]                  \n",
      "__________________________________________________________________________________________________\n",
      "concatenate_5 (Concatenate)     (None, 1340)         0           flatten_2[0][0]                  \n",
      "                                                                 weight_normalization_5[0][0]     \n",
      "                                                                 weight_normalization_6[0][0]     \n",
      "                                                                 input_8[0][0]                    \n",
      "                                                                 input_9[0][0]                    \n",
      "                                                                 input_10[0][0]                   \n",
      "                                                                 dropout_8[0][0]                  \n",
      "                                                                 weight_normalization_8[0][0]     \n",
      "__________________________________________________________________________________________________\n",
      "dropout_9 (Dropout)             (None, 1340)         0           concatenate_5[0][0]              \n",
      "__________________________________________________________________________________________________\n",
      "weight_normalization_9 (WeightN (None, 16)           42929       dropout_9[0][0]                  \n",
      "__________________________________________________________________________________________________\n",
      "dense_11 (Dense)                (None, 9)            153         weight_normalization_9[0][0]     \n",
      "==================================================================================================\n",
      "Total params: 118,561\n",
      "Trainable params: 75,292\n",
      "Non-trainable params: 43,269\n",
      "__________________________________________________________________________________________________\n",
      "None\n"
     ]
    }
   ],
   "source": [
    "def create_model(shape, emb_dims, sigma, n_conv2d, n_model):\n",
    "    #--------------------------------------\n",
    "    conv_inputs = layers.Input(shape=shape[0])\n",
    "    conv2_inputs = layers.Input(shape=shape[1])\n",
    "    knn_inputs = layers.Input(shape=shape[2])\n",
    "    kms_inputs = layers.Input(shape=shape[3])\n",
    "    pca_inputs = layers.Input(shape=shape[4])\n",
    "    \n",
    "    #----------- Embedding layers ----------------------\n",
    "    embed = layers.Embedding(\n",
    "        input_dim=emb_dims[0], \n",
    "        output_dim=emb_dims[1],\n",
    "        embeddings_regularizer='l2'\n",
    "        )(conv_inputs)\n",
    "\n",
    "    #----------- Convolution1 layers ----------------------\n",
    "    embed = layers.Conv1D(8, 1, activation='relu')(embed)\n",
    "    embed = layers.Flatten()(embed)\n",
    "    hidden_emb = layers.Dropout(0.4)(embed)\n",
    "\n",
    "    #----------- Convolution2 layers ----------------------\n",
    "    cnv2 = layers.SeparableConv2D(8, 3, padding='same', activation='relu')(conv2_inputs)\n",
    "    cnv2 = layers.BatchNormalization()(cnv2)\n",
    "    \n",
    "    for _ in range(n_conv2d[n_model]-1):\n",
    "        cnv2 = layers.SeparableConv2D(8, 3, padding='same', activation='relu')(cnv2)\n",
    "        cnv2 = layers.BatchNormalization()(cnv2)\n",
    "\n",
    "    cnv2 = layers.Flatten()(cnv2)\n",
    "    hidden_cnv2 = layers.Dropout(0.4)(cnv2)\n",
    "\n",
    "    #----------- Residual blocks layers ----------------------\n",
    "    hidden_emb = tfa.layers.NoisyDense(units=16, sigma=sigma[n_model], activation='relu')(hidden_emb)\n",
    "    hidden_emb = tfa.layers.WeightNormalization(\n",
    "        layers.Dense(\n",
    "            units=16,\n",
    "            activation='relu',\n",
    "            kernel_initializer='he_normal'\n",
    "            ))(hidden_emb)\n",
    "    \n",
    "    hidden_cnv2 = tfa.layers.NoisyDense(units=16, sigma=sigma[n_model], activation='relu')(hidden_cnv2)\n",
    "    hidden_cnv2 = tfa.layers.WeightNormalization(\n",
    "        layers.Dense(\n",
    "            units=16,\n",
    "            activation='relu',\n",
    "            kernel_initializer='he_normal'\n",
    "            ))(hidden_cnv2)\n",
    "\n",
    "    hidden = layers.Dropout(0.4)(layers.Concatenate()([embed, hidden_emb, hidden_cnv2, knn_inputs, kms_inputs, pca_inputs]))\n",
    "    hidden = tfa.layers.WeightNormalization(\n",
    "        layers.Dense(\n",
    "            units=16,\n",
    "            activation='relu',\n",
    "            kernel_initializer='he_normal'\n",
    "        ))(hidden)\n",
    "    hidden = layers.Dropout(0.4)(layers.Concatenate()([embed, hidden_emb, hidden_cnv2, knn_inputs, kms_inputs, pca_inputs, hidden]))\n",
    "\n",
    "    hidden2 = tfa.layers.WeightNormalization(\n",
    "        layers.Dense(\n",
    "            units=16,\n",
    "            activation='relu',\n",
    "            kernel_initializer='he_normal'\n",
    "        ))(hidden)\n",
    "    hidden2 = layers.Dropout(0.4)(layers.Concatenate()([embed, hidden_emb, hidden_cnv2, knn_inputs, kms_inputs, pca_inputs, hidden, hidden2]))\n",
    "\n",
    "    hidden_out= tfa.layers.WeightNormalization(\n",
    "        layers.Dense(\n",
    "            units=16,\n",
    "            activation='relu',\n",
    "            kernel_initializer='he_normal'\n",
    "        ))(hidden2)\n",
    "\n",
    "    #----------- Final layer -----------------------\n",
    "    conv_outputs = layers.Dense(\n",
    "        units=9, \n",
    "        activation='softmax',\n",
    "        kernel_initializer='lecun_normal')(hidden_out)\n",
    "    \n",
    "    #----------- Model instantiation  ---------------\n",
    "    model = Model([conv_inputs, conv2_inputs, knn_inputs, kms_inputs, pca_inputs], conv_outputs)\n",
    "    model.compile(\n",
    "        loss='categorical_crossentropy',\n",
    "        optimizer=tfa.optimizers.LazyAdam(learning_rate=CFG['learning_rate'], amsgrad=False), \n",
    "        metrics=custom_metric\n",
    "    )\n",
    "    \n",
    "    #----------- Model instantiation  ---------------\n",
    "    hidden_model = Model([conv_inputs, conv2_inputs, knn_inputs, kms_inputs, pca_inputs], hidden_out)\n",
    "    \n",
    "    return model, hidden_model\n",
    "\n",
    "for i in range(len(CFG['k'])):\n",
    "    shape = [\n",
    "        train[features].shape[1],\n",
    "        train_2d.shape[1:],\n",
    "        CFG['k'][i]*CFG['n_class'],\n",
    "        CFG['n_clusters'][i],\n",
    "        CFG['n_components'][i]\n",
    "    ]\n",
    "    model, hidden_model = create_model(shape, emb_dims, CFG['sigma'], CFG['n_conv2d'], i)\n",
    "    print(model.summary())"
   ]
  },
  {
   "cell_type": "code",
   "execution_count": 14,
   "id": "c2f13914",
   "metadata": {},
   "outputs": [],
   "source": [
    "xgb_params = {\n",
    "    'objective': 'multi:softprob',\n",
    "    'eval_metric': 'mlogloss',\n",
    "    'max_depth': 6,\n",
    "    'learning_rate': 5e-3,\n",
    "    'colsample_bytree': 0.4,\n",
    "    'subsample': 0.6,\n",
    "    'reg_alpha': 6,\n",
    "    'min_child_weight': 100,\n",
    "    'n_jobs': -1,\n",
    "    'num_class': CFG['n_class'],\n",
    "    'seed': CFG['seed'],\n",
    "}"
   ]
  },
  {
   "cell_type": "code",
   "execution_count": 15,
   "id": "94bda3cc",
   "metadata": {},
   "outputs": [
    {
     "name": "stdout",
     "output_type": "stream",
     "text": [
      "===== MODEL 0 cross validation =====\n"
     ]
    },
    {
     "name": "stderr",
     "output_type": "stream",
     "text": [
      "2021-07-25 02:23:05.646755: I tensorflow/core/profiler/lib/profiler_session.cc:126] Profiler session initializing.\n",
      "2021-07-25 02:23:05.646858: I tensorflow/core/profiler/lib/profiler_session.cc:141] Profiler session started.\n",
      "2021-07-25 02:23:05.649782: I tensorflow/core/profiler/lib/profiler_session.cc:159] Profiler session tear down.\n",
      "2021-07-25 02:23:06.275178: I tensorflow/compiler/mlir/mlir_graph_optimization_pass.cc:176] None of the MLIR Optimization Passes are enabled (registered 2)\n",
      "2021-07-25 02:23:06.278096: I tensorflow/core/platform/profile_utils/cpu_utils.cc:114] CPU Frequency: 2111995000 Hz\n",
      "2021-07-25 02:23:08.492656: I tensorflow/core/profiler/lib/profiler_session.cc:126] Profiler session initializing.\n",
      "2021-07-25 02:23:08.492724: I tensorflow/core/profiler/lib/profiler_session.cc:141] Profiler session started.\n",
      "2021-07-25 02:23:08.514357: I tensorflow/core/profiler/lib/profiler_session.cc:66] Profiler session collecting data.\n",
      "2021-07-25 02:23:08.520669: I tensorflow/core/profiler/lib/profiler_session.cc:159] Profiler session tear down.\n",
      "2021-07-25 02:23:08.552905: I tensorflow/core/profiler/rpc/client/save_profile.cc:137] Creating directory: logs/fit/20210725-022305/train/plugins/profile/2021_07_25_02_23_08\n",
      "2021-07-25 02:23:08.560062: I tensorflow/core/profiler/rpc/client/save_profile.cc:143] Dumped gzipped tool data for trace.json.gz to logs/fit/20210725-022305/train/plugins/profile/2021_07_25_02_23_08/f8f7c4f35391.trace.json.gz\n",
      "2021-07-25 02:23:08.573859: I tensorflow/core/profiler/rpc/client/save_profile.cc:137] Creating directory: logs/fit/20210725-022305/train/plugins/profile/2021_07_25_02_23_08\n",
      "2021-07-25 02:23:08.578513: I tensorflow/core/profiler/rpc/client/save_profile.cc:143] Dumped gzipped tool data for memory_profile.json.gz to logs/fit/20210725-022305/train/plugins/profile/2021_07_25_02_23_08/f8f7c4f35391.memory_profile.json.gz\n",
      "2021-07-25 02:23:08.604833: I tensorflow/core/profiler/rpc/client/capture_profile.cc:251] Creating directory: logs/fit/20210725-022305/train/plugins/profile/2021_07_25_02_23_08Dumped tool data for xplane.pb to logs/fit/20210725-022305/train/plugins/profile/2021_07_25_02_23_08/f8f7c4f35391.xplane.pb\n",
      "Dumped tool data for overview_page.pb to logs/fit/20210725-022305/train/plugins/profile/2021_07_25_02_23_08/f8f7c4f35391.overview_page.pb\n",
      "Dumped tool data for input_pipeline.pb to logs/fit/20210725-022305/train/plugins/profile/2021_07_25_02_23_08/f8f7c4f35391.input_pipeline.pb\n",
      "Dumped tool data for tensorflow_stats.pb to logs/fit/20210725-022305/train/plugins/profile/2021_07_25_02_23_08/f8f7c4f35391.tensorflow_stats.pb\n",
      "Dumped tool data for kernel_stats.pb to logs/fit/20210725-022305/train/plugins/profile/2021_07_25_02_23_08/f8f7c4f35391.kernel_stats.pb\n",
      "\n"
     ]
    },
    {
     "name": "stdout",
     "output_type": "stream",
     "text": [
      "nn  model0 seed299 fold0: m_logloss 1.7395434345494951\n",
      "xgb model0 seed299 fold0: m_logloss 1.7402352177207074\n"
     ]
    },
    {
     "name": "stderr",
     "output_type": "stream",
     "text": [
      "2021-07-25 02:48:27.738969: I tensorflow/core/profiler/lib/profiler_session.cc:126] Profiler session initializing.\n",
      "2021-07-25 02:48:27.739022: I tensorflow/core/profiler/lib/profiler_session.cc:141] Profiler session started.\n",
      "2021-07-25 02:48:27.739062: I tensorflow/core/profiler/lib/profiler_session.cc:159] Profiler session tear down.\n",
      "2021-07-25 02:48:30.093440: I tensorflow/core/profiler/lib/profiler_session.cc:126] Profiler session initializing.\n",
      "2021-07-25 02:48:30.093496: I tensorflow/core/profiler/lib/profiler_session.cc:141] Profiler session started.\n",
      "2021-07-25 02:48:30.357692: I tensorflow/core/profiler/lib/profiler_session.cc:66] Profiler session collecting data.\n",
      "2021-07-25 02:48:30.362477: I tensorflow/core/profiler/lib/profiler_session.cc:159] Profiler session tear down.\n",
      "2021-07-25 02:48:30.389675: I tensorflow/core/profiler/rpc/client/save_profile.cc:137] Creating directory: logs/fit/20210725-024827/train/plugins/profile/2021_07_25_02_48_30\n",
      "2021-07-25 02:48:30.395787: I tensorflow/core/profiler/rpc/client/save_profile.cc:143] Dumped gzipped tool data for trace.json.gz to logs/fit/20210725-024827/train/plugins/profile/2021_07_25_02_48_30/f8f7c4f35391.trace.json.gz\n",
      "2021-07-25 02:48:30.402779: I tensorflow/core/profiler/rpc/client/save_profile.cc:137] Creating directory: logs/fit/20210725-024827/train/plugins/profile/2021_07_25_02_48_30\n",
      "2021-07-25 02:48:30.407100: I tensorflow/core/profiler/rpc/client/save_profile.cc:143] Dumped gzipped tool data for memory_profile.json.gz to logs/fit/20210725-024827/train/plugins/profile/2021_07_25_02_48_30/f8f7c4f35391.memory_profile.json.gz\n",
      "2021-07-25 02:48:30.427200: I tensorflow/core/profiler/rpc/client/capture_profile.cc:251] Creating directory: logs/fit/20210725-024827/train/plugins/profile/2021_07_25_02_48_30Dumped tool data for xplane.pb to logs/fit/20210725-024827/train/plugins/profile/2021_07_25_02_48_30/f8f7c4f35391.xplane.pb\n",
      "Dumped tool data for overview_page.pb to logs/fit/20210725-024827/train/plugins/profile/2021_07_25_02_48_30/f8f7c4f35391.overview_page.pb\n",
      "Dumped tool data for input_pipeline.pb to logs/fit/20210725-024827/train/plugins/profile/2021_07_25_02_48_30/f8f7c4f35391.input_pipeline.pb\n",
      "Dumped tool data for tensorflow_stats.pb to logs/fit/20210725-024827/train/plugins/profile/2021_07_25_02_48_30/f8f7c4f35391.tensorflow_stats.pb\n",
      "Dumped tool data for kernel_stats.pb to logs/fit/20210725-024827/train/plugins/profile/2021_07_25_02_48_30/f8f7c4f35391.kernel_stats.pb\n",
      "\n"
     ]
    },
    {
     "name": "stdout",
     "output_type": "stream",
     "text": [
      "nn  model0 seed299 fold1: m_logloss 1.7407598273085874\n",
      "xgb model0 seed299 fold1: m_logloss 1.7424491599955902\n"
     ]
    },
    {
     "name": "stderr",
     "output_type": "stream",
     "text": [
      "2021-07-25 03:15:51.295954: I tensorflow/core/profiler/lib/profiler_session.cc:126] Profiler session initializing.\n",
      "2021-07-25 03:15:51.296022: I tensorflow/core/profiler/lib/profiler_session.cc:141] Profiler session started.\n",
      "2021-07-25 03:15:51.296071: I tensorflow/core/profiler/lib/profiler_session.cc:159] Profiler session tear down.\n",
      "2021-07-25 03:15:53.963011: I tensorflow/core/profiler/lib/profiler_session.cc:126] Profiler session initializing.\n",
      "2021-07-25 03:15:53.963078: I tensorflow/core/profiler/lib/profiler_session.cc:141] Profiler session started.\n",
      "2021-07-25 03:15:54.266316: I tensorflow/core/profiler/lib/profiler_session.cc:66] Profiler session collecting data.\n",
      "2021-07-25 03:15:54.270584: I tensorflow/core/profiler/lib/profiler_session.cc:159] Profiler session tear down.\n",
      "2021-07-25 03:15:54.299084: I tensorflow/core/profiler/rpc/client/save_profile.cc:137] Creating directory: logs/fit/20210725-031551/train/plugins/profile/2021_07_25_03_15_54\n",
      "2021-07-25 03:15:54.308176: I tensorflow/core/profiler/rpc/client/save_profile.cc:143] Dumped gzipped tool data for trace.json.gz to logs/fit/20210725-031551/train/plugins/profile/2021_07_25_03_15_54/f8f7c4f35391.trace.json.gz\n",
      "2021-07-25 03:15:54.316646: I tensorflow/core/profiler/rpc/client/save_profile.cc:137] Creating directory: logs/fit/20210725-031551/train/plugins/profile/2021_07_25_03_15_54\n",
      "2021-07-25 03:15:54.321348: I tensorflow/core/profiler/rpc/client/save_profile.cc:143] Dumped gzipped tool data for memory_profile.json.gz to logs/fit/20210725-031551/train/plugins/profile/2021_07_25_03_15_54/f8f7c4f35391.memory_profile.json.gz\n",
      "2021-07-25 03:15:54.350051: I tensorflow/core/profiler/rpc/client/capture_profile.cc:251] Creating directory: logs/fit/20210725-031551/train/plugins/profile/2021_07_25_03_15_54Dumped tool data for xplane.pb to logs/fit/20210725-031551/train/plugins/profile/2021_07_25_03_15_54/f8f7c4f35391.xplane.pb\n",
      "Dumped tool data for overview_page.pb to logs/fit/20210725-031551/train/plugins/profile/2021_07_25_03_15_54/f8f7c4f35391.overview_page.pb\n",
      "Dumped tool data for input_pipeline.pb to logs/fit/20210725-031551/train/plugins/profile/2021_07_25_03_15_54/f8f7c4f35391.input_pipeline.pb\n",
      "Dumped tool data for tensorflow_stats.pb to logs/fit/20210725-031551/train/plugins/profile/2021_07_25_03_15_54/f8f7c4f35391.tensorflow_stats.pb\n",
      "Dumped tool data for kernel_stats.pb to logs/fit/20210725-031551/train/plugins/profile/2021_07_25_03_15_54/f8f7c4f35391.kernel_stats.pb\n",
      "\n"
     ]
    },
    {
     "name": "stdout",
     "output_type": "stream",
     "text": [
      "nn  model0 seed299 fold2: m_logloss 1.7413249617151345\n",
      "xgb model0 seed299 fold2: m_logloss 1.7431758358174687\n"
     ]
    },
    {
     "name": "stderr",
     "output_type": "stream",
     "text": [
      "2021-07-25 03:43:04.339985: I tensorflow/core/profiler/lib/profiler_session.cc:126] Profiler session initializing.\n",
      "2021-07-25 03:43:04.340058: I tensorflow/core/profiler/lib/profiler_session.cc:141] Profiler session started.\n",
      "2021-07-25 03:43:04.340346: I tensorflow/core/profiler/lib/profiler_session.cc:159] Profiler session tear down.\n",
      "2021-07-25 03:43:06.956472: I tensorflow/core/profiler/lib/profiler_session.cc:126] Profiler session initializing.\n",
      "2021-07-25 03:43:06.956537: I tensorflow/core/profiler/lib/profiler_session.cc:141] Profiler session started.\n",
      "2021-07-25 03:43:07.259123: I tensorflow/core/profiler/lib/profiler_session.cc:66] Profiler session collecting data.\n",
      "2021-07-25 03:43:07.263723: I tensorflow/core/profiler/lib/profiler_session.cc:159] Profiler session tear down.\n",
      "2021-07-25 03:43:07.292763: I tensorflow/core/profiler/rpc/client/save_profile.cc:137] Creating directory: logs/fit/20210725-034304/train/plugins/profile/2021_07_25_03_43_07\n",
      "2021-07-25 03:43:07.300549: I tensorflow/core/profiler/rpc/client/save_profile.cc:143] Dumped gzipped tool data for trace.json.gz to logs/fit/20210725-034304/train/plugins/profile/2021_07_25_03_43_07/f8f7c4f35391.trace.json.gz\n",
      "2021-07-25 03:43:07.308697: I tensorflow/core/profiler/rpc/client/save_profile.cc:137] Creating directory: logs/fit/20210725-034304/train/plugins/profile/2021_07_25_03_43_07\n",
      "2021-07-25 03:43:07.313559: I tensorflow/core/profiler/rpc/client/save_profile.cc:143] Dumped gzipped tool data for memory_profile.json.gz to logs/fit/20210725-034304/train/plugins/profile/2021_07_25_03_43_07/f8f7c4f35391.memory_profile.json.gz\n",
      "2021-07-25 03:43:07.339505: I tensorflow/core/profiler/rpc/client/capture_profile.cc:251] Creating directory: logs/fit/20210725-034304/train/plugins/profile/2021_07_25_03_43_07Dumped tool data for xplane.pb to logs/fit/20210725-034304/train/plugins/profile/2021_07_25_03_43_07/f8f7c4f35391.xplane.pb\n",
      "Dumped tool data for overview_page.pb to logs/fit/20210725-034304/train/plugins/profile/2021_07_25_03_43_07/f8f7c4f35391.overview_page.pb\n",
      "Dumped tool data for input_pipeline.pb to logs/fit/20210725-034304/train/plugins/profile/2021_07_25_03_43_07/f8f7c4f35391.input_pipeline.pb\n",
      "Dumped tool data for tensorflow_stats.pb to logs/fit/20210725-034304/train/plugins/profile/2021_07_25_03_43_07/f8f7c4f35391.tensorflow_stats.pb\n",
      "Dumped tool data for kernel_stats.pb to logs/fit/20210725-034304/train/plugins/profile/2021_07_25_03_43_07/f8f7c4f35391.kernel_stats.pb\n",
      "\n"
     ]
    },
    {
     "name": "stdout",
     "output_type": "stream",
     "text": [
      "nn  model0 seed299 fold3: m_logloss 1.7403358864953393\n",
      "xgb model0 seed299 fold3: m_logloss 1.7413624420293061\n"
     ]
    },
    {
     "name": "stderr",
     "output_type": "stream",
     "text": [
      "2021-07-25 04:08:36.288316: I tensorflow/core/profiler/lib/profiler_session.cc:126] Profiler session initializing.\n",
      "2021-07-25 04:08:36.288386: I tensorflow/core/profiler/lib/profiler_session.cc:141] Profiler session started.\n",
      "2021-07-25 04:08:36.288502: I tensorflow/core/profiler/lib/profiler_session.cc:159] Profiler session tear down.\n",
      "2021-07-25 04:08:38.681714: I tensorflow/core/profiler/lib/profiler_session.cc:126] Profiler session initializing.\n",
      "2021-07-25 04:08:38.681753: I tensorflow/core/profiler/lib/profiler_session.cc:141] Profiler session started.\n",
      "2021-07-25 04:08:38.933710: I tensorflow/core/profiler/lib/profiler_session.cc:66] Profiler session collecting data.\n",
      "2021-07-25 04:08:38.937527: I tensorflow/core/profiler/lib/profiler_session.cc:159] Profiler session tear down.\n",
      "2021-07-25 04:08:38.962957: I tensorflow/core/profiler/rpc/client/save_profile.cc:137] Creating directory: logs/fit/20210725-040836/train/plugins/profile/2021_07_25_04_08_38\n",
      "2021-07-25 04:08:38.968991: I tensorflow/core/profiler/rpc/client/save_profile.cc:143] Dumped gzipped tool data for trace.json.gz to logs/fit/20210725-040836/train/plugins/profile/2021_07_25_04_08_38/f8f7c4f35391.trace.json.gz\n",
      "2021-07-25 04:08:38.975993: I tensorflow/core/profiler/rpc/client/save_profile.cc:137] Creating directory: logs/fit/20210725-040836/train/plugins/profile/2021_07_25_04_08_38\n",
      "2021-07-25 04:08:38.980481: I tensorflow/core/profiler/rpc/client/save_profile.cc:143] Dumped gzipped tool data for memory_profile.json.gz to logs/fit/20210725-040836/train/plugins/profile/2021_07_25_04_08_38/f8f7c4f35391.memory_profile.json.gz\n",
      "2021-07-25 04:08:39.002985: I tensorflow/core/profiler/rpc/client/capture_profile.cc:251] Creating directory: logs/fit/20210725-040836/train/plugins/profile/2021_07_25_04_08_38Dumped tool data for xplane.pb to logs/fit/20210725-040836/train/plugins/profile/2021_07_25_04_08_38/f8f7c4f35391.xplane.pb\n",
      "Dumped tool data for overview_page.pb to logs/fit/20210725-040836/train/plugins/profile/2021_07_25_04_08_38/f8f7c4f35391.overview_page.pb\n",
      "Dumped tool data for input_pipeline.pb to logs/fit/20210725-040836/train/plugins/profile/2021_07_25_04_08_38/f8f7c4f35391.input_pipeline.pb\n",
      "Dumped tool data for tensorflow_stats.pb to logs/fit/20210725-040836/train/plugins/profile/2021_07_25_04_08_38/f8f7c4f35391.tensorflow_stats.pb\n",
      "Dumped tool data for kernel_stats.pb to logs/fit/20210725-040836/train/plugins/profile/2021_07_25_04_08_38/f8f7c4f35391.kernel_stats.pb\n",
      "\n"
     ]
    },
    {
     "name": "stdout",
     "output_type": "stream",
     "text": [
      "nn  model0 seed299 fold4: m_logloss 1.7378448758817737\n",
      "xgb model0 seed299 fold4: m_logloss 1.7381017930493494\n"
     ]
    },
    {
     "name": "stderr",
     "output_type": "stream",
     "text": [
      "2021-07-25 04:32:12.682777: I tensorflow/core/profiler/lib/profiler_session.cc:126] Profiler session initializing.\n",
      "2021-07-25 04:32:12.682837: I tensorflow/core/profiler/lib/profiler_session.cc:141] Profiler session started.\n",
      "2021-07-25 04:32:12.682878: I tensorflow/core/profiler/lib/profiler_session.cc:159] Profiler session tear down.\n",
      "2021-07-25 04:32:14.979271: I tensorflow/core/profiler/lib/profiler_session.cc:126] Profiler session initializing.\n",
      "2021-07-25 04:32:14.979344: I tensorflow/core/profiler/lib/profiler_session.cc:141] Profiler session started.\n",
      "2021-07-25 04:32:15.243056: I tensorflow/core/profiler/lib/profiler_session.cc:66] Profiler session collecting data.\n",
      "2021-07-25 04:32:15.247049: I tensorflow/core/profiler/lib/profiler_session.cc:159] Profiler session tear down.\n",
      "2021-07-25 04:32:15.275075: I tensorflow/core/profiler/rpc/client/save_profile.cc:137] Creating directory: logs/fit/20210725-043212/train/plugins/profile/2021_07_25_04_32_15\n",
      "2021-07-25 04:32:15.280944: I tensorflow/core/profiler/rpc/client/save_profile.cc:143] Dumped gzipped tool data for trace.json.gz to logs/fit/20210725-043212/train/plugins/profile/2021_07_25_04_32_15/f8f7c4f35391.trace.json.gz\n",
      "2021-07-25 04:32:15.287340: I tensorflow/core/profiler/rpc/client/save_profile.cc:137] Creating directory: logs/fit/20210725-043212/train/plugins/profile/2021_07_25_04_32_15\n",
      "2021-07-25 04:32:15.290980: I tensorflow/core/profiler/rpc/client/save_profile.cc:143] Dumped gzipped tool data for memory_profile.json.gz to logs/fit/20210725-043212/train/plugins/profile/2021_07_25_04_32_15/f8f7c4f35391.memory_profile.json.gz\n",
      "2021-07-25 04:32:15.310392: I tensorflow/core/profiler/rpc/client/capture_profile.cc:251] Creating directory: logs/fit/20210725-043212/train/plugins/profile/2021_07_25_04_32_15Dumped tool data for xplane.pb to logs/fit/20210725-043212/train/plugins/profile/2021_07_25_04_32_15/f8f7c4f35391.xplane.pb\n",
      "Dumped tool data for overview_page.pb to logs/fit/20210725-043212/train/plugins/profile/2021_07_25_04_32_15/f8f7c4f35391.overview_page.pb\n",
      "Dumped tool data for input_pipeline.pb to logs/fit/20210725-043212/train/plugins/profile/2021_07_25_04_32_15/f8f7c4f35391.input_pipeline.pb\n",
      "Dumped tool data for tensorflow_stats.pb to logs/fit/20210725-043212/train/plugins/profile/2021_07_25_04_32_15/f8f7c4f35391.tensorflow_stats.pb\n",
      "Dumped tool data for kernel_stats.pb to logs/fit/20210725-043212/train/plugins/profile/2021_07_25_04_32_15/f8f7c4f35391.kernel_stats.pb\n",
      "\n"
     ]
    },
    {
     "name": "stdout",
     "output_type": "stream",
     "text": [
      "nn  model0 seed299 fold5: m_logloss 1.7397128767319996\n",
      "xgb model0 seed299 fold5: m_logloss 1.7425850510358962\n"
     ]
    },
    {
     "name": "stderr",
     "output_type": "stream",
     "text": [
      "2021-07-25 04:55:24.525760: I tensorflow/core/profiler/lib/profiler_session.cc:126] Profiler session initializing.\n",
      "2021-07-25 04:55:24.525817: I tensorflow/core/profiler/lib/profiler_session.cc:141] Profiler session started.\n",
      "2021-07-25 04:55:24.525857: I tensorflow/core/profiler/lib/profiler_session.cc:159] Profiler session tear down.\n",
      "2021-07-25 04:55:26.921442: I tensorflow/core/profiler/lib/profiler_session.cc:126] Profiler session initializing.\n",
      "2021-07-25 04:55:26.921491: I tensorflow/core/profiler/lib/profiler_session.cc:141] Profiler session started.\n",
      "2021-07-25 04:55:27.199928: I tensorflow/core/profiler/lib/profiler_session.cc:66] Profiler session collecting data.\n",
      "2021-07-25 04:55:27.204750: I tensorflow/core/profiler/lib/profiler_session.cc:159] Profiler session tear down.\n",
      "2021-07-25 04:55:27.232017: I tensorflow/core/profiler/rpc/client/save_profile.cc:137] Creating directory: logs/fit/20210725-045524/train/plugins/profile/2021_07_25_04_55_27\n",
      "2021-07-25 04:55:27.238658: I tensorflow/core/profiler/rpc/client/save_profile.cc:143] Dumped gzipped tool data for trace.json.gz to logs/fit/20210725-045524/train/plugins/profile/2021_07_25_04_55_27/f8f7c4f35391.trace.json.gz\n",
      "2021-07-25 04:55:27.246558: I tensorflow/core/profiler/rpc/client/save_profile.cc:137] Creating directory: logs/fit/20210725-045524/train/plugins/profile/2021_07_25_04_55_27\n",
      "2021-07-25 04:55:27.250850: I tensorflow/core/profiler/rpc/client/save_profile.cc:143] Dumped gzipped tool data for memory_profile.json.gz to logs/fit/20210725-045524/train/plugins/profile/2021_07_25_04_55_27/f8f7c4f35391.memory_profile.json.gz\n",
      "2021-07-25 04:55:27.272441: I tensorflow/core/profiler/rpc/client/capture_profile.cc:251] Creating directory: logs/fit/20210725-045524/train/plugins/profile/2021_07_25_04_55_27Dumped tool data for xplane.pb to logs/fit/20210725-045524/train/plugins/profile/2021_07_25_04_55_27/f8f7c4f35391.xplane.pb\n",
      "Dumped tool data for overview_page.pb to logs/fit/20210725-045524/train/plugins/profile/2021_07_25_04_55_27/f8f7c4f35391.overview_page.pb\n",
      "Dumped tool data for input_pipeline.pb to logs/fit/20210725-045524/train/plugins/profile/2021_07_25_04_55_27/f8f7c4f35391.input_pipeline.pb\n",
      "Dumped tool data for tensorflow_stats.pb to logs/fit/20210725-045524/train/plugins/profile/2021_07_25_04_55_27/f8f7c4f35391.tensorflow_stats.pb\n",
      "Dumped tool data for kernel_stats.pb to logs/fit/20210725-045524/train/plugins/profile/2021_07_25_04_55_27/f8f7c4f35391.kernel_stats.pb\n",
      "\n"
     ]
    },
    {
     "name": "stdout",
     "output_type": "stream",
     "text": [
      "nn  model0 seed299 fold6: m_logloss 1.7402425394049001\n",
      "xgb model0 seed299 fold6: m_logloss 1.7415756421300648\n"
     ]
    },
    {
     "name": "stderr",
     "output_type": "stream",
     "text": [
      "2021-07-25 05:20:00.942981: I tensorflow/core/profiler/lib/profiler_session.cc:126] Profiler session initializing.\n",
      "2021-07-25 05:20:00.943040: I tensorflow/core/profiler/lib/profiler_session.cc:141] Profiler session started.\n",
      "2021-07-25 05:20:00.943082: I tensorflow/core/profiler/lib/profiler_session.cc:159] Profiler session tear down.\n",
      "2021-07-25 05:20:03.256792: I tensorflow/core/profiler/lib/profiler_session.cc:126] Profiler session initializing.\n",
      "2021-07-25 05:20:03.256853: I tensorflow/core/profiler/lib/profiler_session.cc:141] Profiler session started.\n",
      "2021-07-25 05:20:03.523240: I tensorflow/core/profiler/lib/profiler_session.cc:66] Profiler session collecting data.\n",
      "2021-07-25 05:20:03.528155: I tensorflow/core/profiler/lib/profiler_session.cc:159] Profiler session tear down.\n",
      "2021-07-25 05:20:03.555331: I tensorflow/core/profiler/rpc/client/save_profile.cc:137] Creating directory: logs/fit/20210725-052000/train/plugins/profile/2021_07_25_05_20_03\n",
      "2021-07-25 05:20:03.561395: I tensorflow/core/profiler/rpc/client/save_profile.cc:143] Dumped gzipped tool data for trace.json.gz to logs/fit/20210725-052000/train/plugins/profile/2021_07_25_05_20_03/f8f7c4f35391.trace.json.gz\n",
      "2021-07-25 05:20:03.568620: I tensorflow/core/profiler/rpc/client/save_profile.cc:137] Creating directory: logs/fit/20210725-052000/train/plugins/profile/2021_07_25_05_20_03\n",
      "2021-07-25 05:20:03.572425: I tensorflow/core/profiler/rpc/client/save_profile.cc:143] Dumped gzipped tool data for memory_profile.json.gz to logs/fit/20210725-052000/train/plugins/profile/2021_07_25_05_20_03/f8f7c4f35391.memory_profile.json.gz\n",
      "2021-07-25 05:20:03.592757: I tensorflow/core/profiler/rpc/client/capture_profile.cc:251] Creating directory: logs/fit/20210725-052000/train/plugins/profile/2021_07_25_05_20_03Dumped tool data for xplane.pb to logs/fit/20210725-052000/train/plugins/profile/2021_07_25_05_20_03/f8f7c4f35391.xplane.pb\n",
      "Dumped tool data for overview_page.pb to logs/fit/20210725-052000/train/plugins/profile/2021_07_25_05_20_03/f8f7c4f35391.overview_page.pb\n",
      "Dumped tool data for input_pipeline.pb to logs/fit/20210725-052000/train/plugins/profile/2021_07_25_05_20_03/f8f7c4f35391.input_pipeline.pb\n",
      "Dumped tool data for tensorflow_stats.pb to logs/fit/20210725-052000/train/plugins/profile/2021_07_25_05_20_03/f8f7c4f35391.tensorflow_stats.pb\n",
      "Dumped tool data for kernel_stats.pb to logs/fit/20210725-052000/train/plugins/profile/2021_07_25_05_20_03/f8f7c4f35391.kernel_stats.pb\n",
      "\n"
     ]
    },
    {
     "name": "stdout",
     "output_type": "stream",
     "text": [
      "nn  model0 seed299 fold7: m_logloss 1.7461531049857564\n",
      "xgb model0 seed299 fold7: m_logloss 1.7470092057747715\n"
     ]
    },
    {
     "name": "stderr",
     "output_type": "stream",
     "text": [
      "2021-07-25 05:41:00.960362: I tensorflow/core/profiler/lib/profiler_session.cc:126] Profiler session initializing.\n",
      "2021-07-25 05:41:00.960418: I tensorflow/core/profiler/lib/profiler_session.cc:141] Profiler session started.\n",
      "2021-07-25 05:41:00.960459: I tensorflow/core/profiler/lib/profiler_session.cc:159] Profiler session tear down.\n",
      "2021-07-25 05:41:03.040429: I tensorflow/core/profiler/lib/profiler_session.cc:126] Profiler session initializing.\n",
      "2021-07-25 05:41:03.040482: I tensorflow/core/profiler/lib/profiler_session.cc:141] Profiler session started.\n",
      "2021-07-25 05:41:03.291063: I tensorflow/core/profiler/lib/profiler_session.cc:66] Profiler session collecting data.\n",
      "2021-07-25 05:41:03.295321: I tensorflow/core/profiler/lib/profiler_session.cc:159] Profiler session tear down.\n",
      "2021-07-25 05:41:03.321509: I tensorflow/core/profiler/rpc/client/save_profile.cc:137] Creating directory: logs/fit/20210725-054100/train/plugins/profile/2021_07_25_05_41_03\n",
      "2021-07-25 05:41:03.327384: I tensorflow/core/profiler/rpc/client/save_profile.cc:143] Dumped gzipped tool data for trace.json.gz to logs/fit/20210725-054100/train/plugins/profile/2021_07_25_05_41_03/f8f7c4f35391.trace.json.gz\n",
      "2021-07-25 05:41:03.334556: I tensorflow/core/profiler/rpc/client/save_profile.cc:137] Creating directory: logs/fit/20210725-054100/train/plugins/profile/2021_07_25_05_41_03\n",
      "2021-07-25 05:41:03.338577: I tensorflow/core/profiler/rpc/client/save_profile.cc:143] Dumped gzipped tool data for memory_profile.json.gz to logs/fit/20210725-054100/train/plugins/profile/2021_07_25_05_41_03/f8f7c4f35391.memory_profile.json.gz\n",
      "2021-07-25 05:41:03.356576: I tensorflow/core/profiler/rpc/client/capture_profile.cc:251] Creating directory: logs/fit/20210725-054100/train/plugins/profile/2021_07_25_05_41_03Dumped tool data for xplane.pb to logs/fit/20210725-054100/train/plugins/profile/2021_07_25_05_41_03/f8f7c4f35391.xplane.pb\n",
      "Dumped tool data for overview_page.pb to logs/fit/20210725-054100/train/plugins/profile/2021_07_25_05_41_03/f8f7c4f35391.overview_page.pb\n",
      "Dumped tool data for input_pipeline.pb to logs/fit/20210725-054100/train/plugins/profile/2021_07_25_05_41_03/f8f7c4f35391.input_pipeline.pb\n",
      "Dumped tool data for tensorflow_stats.pb to logs/fit/20210725-054100/train/plugins/profile/2021_07_25_05_41_03/f8f7c4f35391.tensorflow_stats.pb\n",
      "Dumped tool data for kernel_stats.pb to logs/fit/20210725-054100/train/plugins/profile/2021_07_25_05_41_03/f8f7c4f35391.kernel_stats.pb\n",
      "\n"
     ]
    },
    {
     "name": "stdout",
     "output_type": "stream",
     "text": [
      "nn  model0 seed299 fold8: m_logloss 1.7458495360052715\n",
      "xgb model0 seed299 fold8: m_logloss 1.7477547868848426\n"
     ]
    },
    {
     "name": "stderr",
     "output_type": "stream",
     "text": [
      "2021-07-25 06:04:19.271837: I tensorflow/core/profiler/lib/profiler_session.cc:126] Profiler session initializing.\n",
      "2021-07-25 06:04:19.271902: I tensorflow/core/profiler/lib/profiler_session.cc:141] Profiler session started.\n",
      "2021-07-25 06:04:19.271946: I tensorflow/core/profiler/lib/profiler_session.cc:159] Profiler session tear down.\n",
      "2021-07-25 06:04:21.376020: I tensorflow/core/profiler/lib/profiler_session.cc:126] Profiler session initializing.\n",
      "2021-07-25 06:04:21.376074: I tensorflow/core/profiler/lib/profiler_session.cc:141] Profiler session started.\n",
      "2021-07-25 06:04:21.638122: I tensorflow/core/profiler/lib/profiler_session.cc:66] Profiler session collecting data.\n",
      "2021-07-25 06:04:21.642520: I tensorflow/core/profiler/lib/profiler_session.cc:159] Profiler session tear down.\n",
      "2021-07-25 06:04:21.666467: I tensorflow/core/profiler/rpc/client/save_profile.cc:137] Creating directory: logs/fit/20210725-060419/train/plugins/profile/2021_07_25_06_04_21\n",
      "2021-07-25 06:04:21.673735: I tensorflow/core/profiler/rpc/client/save_profile.cc:143] Dumped gzipped tool data for trace.json.gz to logs/fit/20210725-060419/train/plugins/profile/2021_07_25_06_04_21/f8f7c4f35391.trace.json.gz\n",
      "2021-07-25 06:04:21.680792: I tensorflow/core/profiler/rpc/client/save_profile.cc:137] Creating directory: logs/fit/20210725-060419/train/plugins/profile/2021_07_25_06_04_21\n",
      "2021-07-25 06:04:21.684361: I tensorflow/core/profiler/rpc/client/save_profile.cc:143] Dumped gzipped tool data for memory_profile.json.gz to logs/fit/20210725-060419/train/plugins/profile/2021_07_25_06_04_21/f8f7c4f35391.memory_profile.json.gz\n",
      "2021-07-25 06:04:21.703698: I tensorflow/core/profiler/rpc/client/capture_profile.cc:251] Creating directory: logs/fit/20210725-060419/train/plugins/profile/2021_07_25_06_04_21Dumped tool data for xplane.pb to logs/fit/20210725-060419/train/plugins/profile/2021_07_25_06_04_21/f8f7c4f35391.xplane.pb\n",
      "Dumped tool data for overview_page.pb to logs/fit/20210725-060419/train/plugins/profile/2021_07_25_06_04_21/f8f7c4f35391.overview_page.pb\n",
      "Dumped tool data for input_pipeline.pb to logs/fit/20210725-060419/train/plugins/profile/2021_07_25_06_04_21/f8f7c4f35391.input_pipeline.pb\n",
      "Dumped tool data for tensorflow_stats.pb to logs/fit/20210725-060419/train/plugins/profile/2021_07_25_06_04_21/f8f7c4f35391.tensorflow_stats.pb\n",
      "Dumped tool data for kernel_stats.pb to logs/fit/20210725-060419/train/plugins/profile/2021_07_25_06_04_21/f8f7c4f35391.kernel_stats.pb\n",
      "\n"
     ]
    },
    {
     "name": "stdout",
     "output_type": "stream",
     "text": [
      "nn  model0 seed299 fold9: m_logloss 1.7418035072158604\n",
      "xgb model0 seed299 fold9: m_logloss 1.7442830845163197\n",
      "------------------------------------------------------------\n",
      "nn  model0 seed299: m_logloss 1.741357055029412\n",
      "xgb model0 seed299: m_logloss 1.742853221895432\n",
      "\n"
     ]
    },
    {
     "name": "stderr",
     "output_type": "stream",
     "text": [
      "2021-07-25 06:30:10.458616: I tensorflow/core/profiler/lib/profiler_session.cc:126] Profiler session initializing.\n",
      "2021-07-25 06:30:10.458715: I tensorflow/core/profiler/lib/profiler_session.cc:141] Profiler session started.\n",
      "2021-07-25 06:30:10.458759: I tensorflow/core/profiler/lib/profiler_session.cc:159] Profiler session tear down.\n",
      "2021-07-25 06:30:12.535237: I tensorflow/core/profiler/lib/profiler_session.cc:126] Profiler session initializing.\n",
      "2021-07-25 06:30:12.535286: I tensorflow/core/profiler/lib/profiler_session.cc:141] Profiler session started.\n",
      "2021-07-25 06:30:12.786786: I tensorflow/core/profiler/lib/profiler_session.cc:66] Profiler session collecting data.\n",
      "2021-07-25 06:30:12.790884: I tensorflow/core/profiler/lib/profiler_session.cc:159] Profiler session tear down.\n",
      "2021-07-25 06:30:12.814409: I tensorflow/core/profiler/rpc/client/save_profile.cc:137] Creating directory: logs/fit/20210725-063010/train/plugins/profile/2021_07_25_06_30_12\n",
      "2021-07-25 06:30:12.821037: I tensorflow/core/profiler/rpc/client/save_profile.cc:143] Dumped gzipped tool data for trace.json.gz to logs/fit/20210725-063010/train/plugins/profile/2021_07_25_06_30_12/f8f7c4f35391.trace.json.gz\n",
      "2021-07-25 06:30:12.827387: I tensorflow/core/profiler/rpc/client/save_profile.cc:137] Creating directory: logs/fit/20210725-063010/train/plugins/profile/2021_07_25_06_30_12\n",
      "2021-07-25 06:30:12.831450: I tensorflow/core/profiler/rpc/client/save_profile.cc:143] Dumped gzipped tool data for memory_profile.json.gz to logs/fit/20210725-063010/train/plugins/profile/2021_07_25_06_30_12/f8f7c4f35391.memory_profile.json.gz\n",
      "2021-07-25 06:30:12.852226: I tensorflow/core/profiler/rpc/client/capture_profile.cc:251] Creating directory: logs/fit/20210725-063010/train/plugins/profile/2021_07_25_06_30_12Dumped tool data for xplane.pb to logs/fit/20210725-063010/train/plugins/profile/2021_07_25_06_30_12/f8f7c4f35391.xplane.pb\n",
      "Dumped tool data for overview_page.pb to logs/fit/20210725-063010/train/plugins/profile/2021_07_25_06_30_12/f8f7c4f35391.overview_page.pb\n",
      "Dumped tool data for input_pipeline.pb to logs/fit/20210725-063010/train/plugins/profile/2021_07_25_06_30_12/f8f7c4f35391.input_pipeline.pb\n",
      "Dumped tool data for tensorflow_stats.pb to logs/fit/20210725-063010/train/plugins/profile/2021_07_25_06_30_12/f8f7c4f35391.tensorflow_stats.pb\n",
      "Dumped tool data for kernel_stats.pb to logs/fit/20210725-063010/train/plugins/profile/2021_07_25_06_30_12/f8f7c4f35391.kernel_stats.pb\n",
      "\n"
     ]
    },
    {
     "name": "stdout",
     "output_type": "stream",
     "text": [
      "nn  model0 seed792 fold0: m_logloss 1.746366600176738\n",
      "xgb model0 seed792 fold0: m_logloss 1.748306540956899\n"
     ]
    },
    {
     "name": "stderr",
     "output_type": "stream",
     "text": [
      "2021-07-25 06:59:16.710849: I tensorflow/core/profiler/lib/profiler_session.cc:126] Profiler session initializing.\n",
      "2021-07-25 06:59:16.710907: I tensorflow/core/profiler/lib/profiler_session.cc:141] Profiler session started.\n",
      "2021-07-25 06:59:16.710951: I tensorflow/core/profiler/lib/profiler_session.cc:159] Profiler session tear down.\n",
      "2021-07-25 06:59:19.017254: I tensorflow/core/profiler/lib/profiler_session.cc:126] Profiler session initializing.\n",
      "2021-07-25 06:59:19.017306: I tensorflow/core/profiler/lib/profiler_session.cc:141] Profiler session started.\n",
      "2021-07-25 06:59:19.269509: I tensorflow/core/profiler/lib/profiler_session.cc:66] Profiler session collecting data.\n",
      "2021-07-25 06:59:19.273356: I tensorflow/core/profiler/lib/profiler_session.cc:159] Profiler session tear down.\n",
      "2021-07-25 06:59:19.299306: I tensorflow/core/profiler/rpc/client/save_profile.cc:137] Creating directory: logs/fit/20210725-065916/train/plugins/profile/2021_07_25_06_59_19\n",
      "2021-07-25 06:59:19.305934: I tensorflow/core/profiler/rpc/client/save_profile.cc:143] Dumped gzipped tool data for trace.json.gz to logs/fit/20210725-065916/train/plugins/profile/2021_07_25_06_59_19/f8f7c4f35391.trace.json.gz\n",
      "2021-07-25 06:59:19.312529: I tensorflow/core/profiler/rpc/client/save_profile.cc:137] Creating directory: logs/fit/20210725-065916/train/plugins/profile/2021_07_25_06_59_19\n",
      "2021-07-25 06:59:19.316023: I tensorflow/core/profiler/rpc/client/save_profile.cc:143] Dumped gzipped tool data for memory_profile.json.gz to logs/fit/20210725-065916/train/plugins/profile/2021_07_25_06_59_19/f8f7c4f35391.memory_profile.json.gz\n",
      "2021-07-25 06:59:19.335678: I tensorflow/core/profiler/rpc/client/capture_profile.cc:251] Creating directory: logs/fit/20210725-065916/train/plugins/profile/2021_07_25_06_59_19Dumped tool data for xplane.pb to logs/fit/20210725-065916/train/plugins/profile/2021_07_25_06_59_19/f8f7c4f35391.xplane.pb\n",
      "Dumped tool data for overview_page.pb to logs/fit/20210725-065916/train/plugins/profile/2021_07_25_06_59_19/f8f7c4f35391.overview_page.pb\n",
      "Dumped tool data for input_pipeline.pb to logs/fit/20210725-065916/train/plugins/profile/2021_07_25_06_59_19/f8f7c4f35391.input_pipeline.pb\n",
      "Dumped tool data for tensorflow_stats.pb to logs/fit/20210725-065916/train/plugins/profile/2021_07_25_06_59_19/f8f7c4f35391.tensorflow_stats.pb\n",
      "Dumped tool data for kernel_stats.pb to logs/fit/20210725-065916/train/plugins/profile/2021_07_25_06_59_19/f8f7c4f35391.kernel_stats.pb\n",
      "\n"
     ]
    },
    {
     "name": "stdout",
     "output_type": "stream",
     "text": [
      "nn  model0 seed792 fold1: m_logloss 1.7422658449612922\n",
      "xgb model0 seed792 fold1: m_logloss 1.7436309747551422\n"
     ]
    },
    {
     "name": "stderr",
     "output_type": "stream",
     "text": [
      "2021-07-25 07:22:15.677496: I tensorflow/core/profiler/lib/profiler_session.cc:126] Profiler session initializing.\n",
      "2021-07-25 07:22:15.677556: I tensorflow/core/profiler/lib/profiler_session.cc:141] Profiler session started.\n",
      "2021-07-25 07:22:15.677599: I tensorflow/core/profiler/lib/profiler_session.cc:159] Profiler session tear down.\n",
      "2021-07-25 07:22:18.104435: I tensorflow/core/profiler/lib/profiler_session.cc:126] Profiler session initializing.\n",
      "2021-07-25 07:22:18.104490: I tensorflow/core/profiler/lib/profiler_session.cc:141] Profiler session started.\n",
      "2021-07-25 07:22:18.375066: I tensorflow/core/profiler/lib/profiler_session.cc:66] Profiler session collecting data.\n",
      "2021-07-25 07:22:18.380171: I tensorflow/core/profiler/lib/profiler_session.cc:159] Profiler session tear down.\n",
      "2021-07-25 07:22:18.405300: I tensorflow/core/profiler/rpc/client/save_profile.cc:137] Creating directory: logs/fit/20210725-072215/train/plugins/profile/2021_07_25_07_22_18\n",
      "2021-07-25 07:22:18.411935: I tensorflow/core/profiler/rpc/client/save_profile.cc:143] Dumped gzipped tool data for trace.json.gz to logs/fit/20210725-072215/train/plugins/profile/2021_07_25_07_22_18/f8f7c4f35391.trace.json.gz\n",
      "2021-07-25 07:22:18.419939: I tensorflow/core/profiler/rpc/client/save_profile.cc:137] Creating directory: logs/fit/20210725-072215/train/plugins/profile/2021_07_25_07_22_18\n",
      "2021-07-25 07:22:18.423768: I tensorflow/core/profiler/rpc/client/save_profile.cc:143] Dumped gzipped tool data for memory_profile.json.gz to logs/fit/20210725-072215/train/plugins/profile/2021_07_25_07_22_18/f8f7c4f35391.memory_profile.json.gz\n",
      "2021-07-25 07:22:18.443158: I tensorflow/core/profiler/rpc/client/capture_profile.cc:251] Creating directory: logs/fit/20210725-072215/train/plugins/profile/2021_07_25_07_22_18Dumped tool data for xplane.pb to logs/fit/20210725-072215/train/plugins/profile/2021_07_25_07_22_18/f8f7c4f35391.xplane.pb\n",
      "Dumped tool data for overview_page.pb to logs/fit/20210725-072215/train/plugins/profile/2021_07_25_07_22_18/f8f7c4f35391.overview_page.pb\n",
      "Dumped tool data for input_pipeline.pb to logs/fit/20210725-072215/train/plugins/profile/2021_07_25_07_22_18/f8f7c4f35391.input_pipeline.pb\n",
      "Dumped tool data for tensorflow_stats.pb to logs/fit/20210725-072215/train/plugins/profile/2021_07_25_07_22_18/f8f7c4f35391.tensorflow_stats.pb\n",
      "Dumped tool data for kernel_stats.pb to logs/fit/20210725-072215/train/plugins/profile/2021_07_25_07_22_18/f8f7c4f35391.kernel_stats.pb\n",
      "\n"
     ]
    },
    {
     "name": "stdout",
     "output_type": "stream",
     "text": [
      "nn  model0 seed792 fold2: m_logloss 1.7429491269314004\n",
      "xgb model0 seed792 fold2: m_logloss 1.7432104495984975\n"
     ]
    },
    {
     "name": "stderr",
     "output_type": "stream",
     "text": [
      "2021-07-25 07:44:24.203063: I tensorflow/core/profiler/lib/profiler_session.cc:126] Profiler session initializing.\n",
      "2021-07-25 07:44:24.203124: I tensorflow/core/profiler/lib/profiler_session.cc:141] Profiler session started.\n",
      "2021-07-25 07:44:24.203167: I tensorflow/core/profiler/lib/profiler_session.cc:159] Profiler session tear down.\n",
      "2021-07-25 07:44:26.528725: I tensorflow/core/profiler/lib/profiler_session.cc:126] Profiler session initializing.\n",
      "2021-07-25 07:44:26.528782: I tensorflow/core/profiler/lib/profiler_session.cc:141] Profiler session started.\n",
      "2021-07-25 07:44:26.794807: I tensorflow/core/profiler/lib/profiler_session.cc:66] Profiler session collecting data.\n",
      "2021-07-25 07:44:26.799568: I tensorflow/core/profiler/lib/profiler_session.cc:159] Profiler session tear down.\n",
      "2021-07-25 07:44:26.823811: I tensorflow/core/profiler/rpc/client/save_profile.cc:137] Creating directory: logs/fit/20210725-074424/train/plugins/profile/2021_07_25_07_44_26\n",
      "2021-07-25 07:44:26.829992: I tensorflow/core/profiler/rpc/client/save_profile.cc:143] Dumped gzipped tool data for trace.json.gz to logs/fit/20210725-074424/train/plugins/profile/2021_07_25_07_44_26/f8f7c4f35391.trace.json.gz\n",
      "2021-07-25 07:44:26.837359: I tensorflow/core/profiler/rpc/client/save_profile.cc:137] Creating directory: logs/fit/20210725-074424/train/plugins/profile/2021_07_25_07_44_26\n",
      "2021-07-25 07:44:26.840997: I tensorflow/core/profiler/rpc/client/save_profile.cc:143] Dumped gzipped tool data for memory_profile.json.gz to logs/fit/20210725-074424/train/plugins/profile/2021_07_25_07_44_26/f8f7c4f35391.memory_profile.json.gz\n",
      "2021-07-25 07:44:26.861580: I tensorflow/core/profiler/rpc/client/capture_profile.cc:251] Creating directory: logs/fit/20210725-074424/train/plugins/profile/2021_07_25_07_44_26Dumped tool data for xplane.pb to logs/fit/20210725-074424/train/plugins/profile/2021_07_25_07_44_26/f8f7c4f35391.xplane.pb\n",
      "Dumped tool data for overview_page.pb to logs/fit/20210725-074424/train/plugins/profile/2021_07_25_07_44_26/f8f7c4f35391.overview_page.pb\n",
      "Dumped tool data for input_pipeline.pb to logs/fit/20210725-074424/train/plugins/profile/2021_07_25_07_44_26/f8f7c4f35391.input_pipeline.pb\n",
      "Dumped tool data for tensorflow_stats.pb to logs/fit/20210725-074424/train/plugins/profile/2021_07_25_07_44_26/f8f7c4f35391.tensorflow_stats.pb\n",
      "Dumped tool data for kernel_stats.pb to logs/fit/20210725-074424/train/plugins/profile/2021_07_25_07_44_26/f8f7c4f35391.kernel_stats.pb\n",
      "\n"
     ]
    },
    {
     "name": "stdout",
     "output_type": "stream",
     "text": [
      "nn  model0 seed792 fold3: m_logloss 1.7382401109159895\n",
      "xgb model0 seed792 fold3: m_logloss 1.738162461225088\n"
     ]
    },
    {
     "name": "stderr",
     "output_type": "stream",
     "text": [
      "2021-07-25 08:08:00.465609: I tensorflow/core/profiler/lib/profiler_session.cc:126] Profiler session initializing.\n",
      "2021-07-25 08:08:00.465664: I tensorflow/core/profiler/lib/profiler_session.cc:141] Profiler session started.\n",
      "2021-07-25 08:08:00.465705: I tensorflow/core/profiler/lib/profiler_session.cc:159] Profiler session tear down.\n",
      "2021-07-25 08:08:02.566615: I tensorflow/core/profiler/lib/profiler_session.cc:126] Profiler session initializing.\n",
      "2021-07-25 08:08:02.566662: I tensorflow/core/profiler/lib/profiler_session.cc:141] Profiler session started.\n",
      "2021-07-25 08:08:02.825880: I tensorflow/core/profiler/lib/profiler_session.cc:66] Profiler session collecting data.\n",
      "2021-07-25 08:08:02.831064: I tensorflow/core/profiler/lib/profiler_session.cc:159] Profiler session tear down.\n",
      "2021-07-25 08:08:02.861599: I tensorflow/core/profiler/rpc/client/save_profile.cc:137] Creating directory: logs/fit/20210725-080800/train/plugins/profile/2021_07_25_08_08_02\n",
      "2021-07-25 08:08:02.868863: I tensorflow/core/profiler/rpc/client/save_profile.cc:143] Dumped gzipped tool data for trace.json.gz to logs/fit/20210725-080800/train/plugins/profile/2021_07_25_08_08_02/f8f7c4f35391.trace.json.gz\n",
      "2021-07-25 08:08:02.876234: I tensorflow/core/profiler/rpc/client/save_profile.cc:137] Creating directory: logs/fit/20210725-080800/train/plugins/profile/2021_07_25_08_08_02\n",
      "2021-07-25 08:08:02.880149: I tensorflow/core/profiler/rpc/client/save_profile.cc:143] Dumped gzipped tool data for memory_profile.json.gz to logs/fit/20210725-080800/train/plugins/profile/2021_07_25_08_08_02/f8f7c4f35391.memory_profile.json.gz\n",
      "2021-07-25 08:08:02.902103: I tensorflow/core/profiler/rpc/client/capture_profile.cc:251] Creating directory: logs/fit/20210725-080800/train/plugins/profile/2021_07_25_08_08_02Dumped tool data for xplane.pb to logs/fit/20210725-080800/train/plugins/profile/2021_07_25_08_08_02/f8f7c4f35391.xplane.pb\n",
      "Dumped tool data for overview_page.pb to logs/fit/20210725-080800/train/plugins/profile/2021_07_25_08_08_02/f8f7c4f35391.overview_page.pb\n",
      "Dumped tool data for input_pipeline.pb to logs/fit/20210725-080800/train/plugins/profile/2021_07_25_08_08_02/f8f7c4f35391.input_pipeline.pb\n",
      "Dumped tool data for tensorflow_stats.pb to logs/fit/20210725-080800/train/plugins/profile/2021_07_25_08_08_02/f8f7c4f35391.tensorflow_stats.pb\n",
      "Dumped tool data for kernel_stats.pb to logs/fit/20210725-080800/train/plugins/profile/2021_07_25_08_08_02/f8f7c4f35391.kernel_stats.pb\n",
      "\n"
     ]
    },
    {
     "name": "stdout",
     "output_type": "stream",
     "text": [
      "nn  model0 seed792 fold4: m_logloss 1.738084812861791\n",
      "xgb model0 seed792 fold4: m_logloss 1.7392904578832997\n"
     ]
    },
    {
     "name": "stderr",
     "output_type": "stream",
     "text": [
      "2021-07-25 08:33:01.410415: I tensorflow/core/profiler/lib/profiler_session.cc:126] Profiler session initializing.\n",
      "2021-07-25 08:33:01.410477: I tensorflow/core/profiler/lib/profiler_session.cc:141] Profiler session started.\n",
      "2021-07-25 08:33:01.410521: I tensorflow/core/profiler/lib/profiler_session.cc:159] Profiler session tear down.\n",
      "2021-07-25 08:33:03.514590: I tensorflow/core/profiler/lib/profiler_session.cc:126] Profiler session initializing.\n",
      "2021-07-25 08:33:03.514651: I tensorflow/core/profiler/lib/profiler_session.cc:141] Profiler session started.\n",
      "2021-07-25 08:33:03.773653: I tensorflow/core/profiler/lib/profiler_session.cc:66] Profiler session collecting data.\n",
      "2021-07-25 08:33:03.777906: I tensorflow/core/profiler/lib/profiler_session.cc:159] Profiler session tear down.\n",
      "2021-07-25 08:33:03.804116: I tensorflow/core/profiler/rpc/client/save_profile.cc:137] Creating directory: logs/fit/20210725-083301/train/plugins/profile/2021_07_25_08_33_03\n",
      "2021-07-25 08:33:03.809926: I tensorflow/core/profiler/rpc/client/save_profile.cc:143] Dumped gzipped tool data for trace.json.gz to logs/fit/20210725-083301/train/plugins/profile/2021_07_25_08_33_03/f8f7c4f35391.trace.json.gz\n",
      "2021-07-25 08:33:03.816870: I tensorflow/core/profiler/rpc/client/save_profile.cc:137] Creating directory: logs/fit/20210725-083301/train/plugins/profile/2021_07_25_08_33_03\n",
      "2021-07-25 08:33:03.820736: I tensorflow/core/profiler/rpc/client/save_profile.cc:143] Dumped gzipped tool data for memory_profile.json.gz to logs/fit/20210725-083301/train/plugins/profile/2021_07_25_08_33_03/f8f7c4f35391.memory_profile.json.gz\n",
      "2021-07-25 08:33:03.839091: I tensorflow/core/profiler/rpc/client/capture_profile.cc:251] Creating directory: logs/fit/20210725-083301/train/plugins/profile/2021_07_25_08_33_03Dumped tool data for xplane.pb to logs/fit/20210725-083301/train/plugins/profile/2021_07_25_08_33_03/f8f7c4f35391.xplane.pb\n",
      "Dumped tool data for overview_page.pb to logs/fit/20210725-083301/train/plugins/profile/2021_07_25_08_33_03/f8f7c4f35391.overview_page.pb\n",
      "Dumped tool data for input_pipeline.pb to logs/fit/20210725-083301/train/plugins/profile/2021_07_25_08_33_03/f8f7c4f35391.input_pipeline.pb\n",
      "Dumped tool data for tensorflow_stats.pb to logs/fit/20210725-083301/train/plugins/profile/2021_07_25_08_33_03/f8f7c4f35391.tensorflow_stats.pb\n",
      "Dumped tool data for kernel_stats.pb to logs/fit/20210725-083301/train/plugins/profile/2021_07_25_08_33_03/f8f7c4f35391.kernel_stats.pb\n",
      "\n"
     ]
    },
    {
     "name": "stdout",
     "output_type": "stream",
     "text": [
      "nn  model0 seed792 fold5: m_logloss 1.7399949757646158\n",
      "xgb model0 seed792 fold5: m_logloss 1.7415517158715768\n"
     ]
    },
    {
     "name": "stderr",
     "output_type": "stream",
     "text": [
      "2021-07-25 08:58:32.243614: I tensorflow/core/profiler/lib/profiler_session.cc:126] Profiler session initializing.\n",
      "2021-07-25 08:58:32.243672: I tensorflow/core/profiler/lib/profiler_session.cc:141] Profiler session started.\n",
      "2021-07-25 08:58:32.243715: I tensorflow/core/profiler/lib/profiler_session.cc:159] Profiler session tear down.\n",
      "2021-07-25 08:58:34.347762: I tensorflow/core/profiler/lib/profiler_session.cc:126] Profiler session initializing.\n",
      "2021-07-25 08:58:34.347812: I tensorflow/core/profiler/lib/profiler_session.cc:141] Profiler session started.\n",
      "2021-07-25 08:58:34.600166: I tensorflow/core/profiler/lib/profiler_session.cc:66] Profiler session collecting data.\n",
      "2021-07-25 08:58:34.604653: I tensorflow/core/profiler/lib/profiler_session.cc:159] Profiler session tear down.\n",
      "2021-07-25 08:58:34.629256: I tensorflow/core/profiler/rpc/client/save_profile.cc:137] Creating directory: logs/fit/20210725-085832/train/plugins/profile/2021_07_25_08_58_34\n",
      "2021-07-25 08:58:34.635446: I tensorflow/core/profiler/rpc/client/save_profile.cc:143] Dumped gzipped tool data for trace.json.gz to logs/fit/20210725-085832/train/plugins/profile/2021_07_25_08_58_34/f8f7c4f35391.trace.json.gz\n",
      "2021-07-25 08:58:34.641969: I tensorflow/core/profiler/rpc/client/save_profile.cc:137] Creating directory: logs/fit/20210725-085832/train/plugins/profile/2021_07_25_08_58_34\n",
      "2021-07-25 08:58:34.645825: I tensorflow/core/profiler/rpc/client/save_profile.cc:143] Dumped gzipped tool data for memory_profile.json.gz to logs/fit/20210725-085832/train/plugins/profile/2021_07_25_08_58_34/f8f7c4f35391.memory_profile.json.gz\n",
      "2021-07-25 08:58:34.667756: I tensorflow/core/profiler/rpc/client/capture_profile.cc:251] Creating directory: logs/fit/20210725-085832/train/plugins/profile/2021_07_25_08_58_34Dumped tool data for xplane.pb to logs/fit/20210725-085832/train/plugins/profile/2021_07_25_08_58_34/f8f7c4f35391.xplane.pb\n",
      "Dumped tool data for overview_page.pb to logs/fit/20210725-085832/train/plugins/profile/2021_07_25_08_58_34/f8f7c4f35391.overview_page.pb\n",
      "Dumped tool data for input_pipeline.pb to logs/fit/20210725-085832/train/plugins/profile/2021_07_25_08_58_34/f8f7c4f35391.input_pipeline.pb\n",
      "Dumped tool data for tensorflow_stats.pb to logs/fit/20210725-085832/train/plugins/profile/2021_07_25_08_58_34/f8f7c4f35391.tensorflow_stats.pb\n",
      "Dumped tool data for kernel_stats.pb to logs/fit/20210725-085832/train/plugins/profile/2021_07_25_08_58_34/f8f7c4f35391.kernel_stats.pb\n",
      "\n"
     ]
    },
    {
     "name": "stdout",
     "output_type": "stream",
     "text": [
      "nn  model0 seed792 fold6: m_logloss 1.742499235044777\n",
      "xgb model0 seed792 fold6: m_logloss 1.7449270609485066\n"
     ]
    },
    {
     "name": "stderr",
     "output_type": "stream",
     "text": [
      "2021-07-25 09:20:37.700290: I tensorflow/core/profiler/lib/profiler_session.cc:126] Profiler session initializing.\n",
      "2021-07-25 09:20:37.700352: I tensorflow/core/profiler/lib/profiler_session.cc:141] Profiler session started.\n",
      "2021-07-25 09:20:37.700394: I tensorflow/core/profiler/lib/profiler_session.cc:159] Profiler session tear down.\n",
      "2021-07-25 09:20:40.056698: I tensorflow/core/profiler/lib/profiler_session.cc:126] Profiler session initializing.\n",
      "2021-07-25 09:20:40.056752: I tensorflow/core/profiler/lib/profiler_session.cc:141] Profiler session started.\n",
      "2021-07-25 09:20:40.319147: I tensorflow/core/profiler/lib/profiler_session.cc:66] Profiler session collecting data.\n",
      "2021-07-25 09:20:40.323910: I tensorflow/core/profiler/lib/profiler_session.cc:159] Profiler session tear down.\n",
      "2021-07-25 09:20:40.350443: I tensorflow/core/profiler/rpc/client/save_profile.cc:137] Creating directory: logs/fit/20210725-092037/train/plugins/profile/2021_07_25_09_20_40\n",
      "2021-07-25 09:20:40.356748: I tensorflow/core/profiler/rpc/client/save_profile.cc:143] Dumped gzipped tool data for trace.json.gz to logs/fit/20210725-092037/train/plugins/profile/2021_07_25_09_20_40/f8f7c4f35391.trace.json.gz\n",
      "2021-07-25 09:20:40.364845: I tensorflow/core/profiler/rpc/client/save_profile.cc:137] Creating directory: logs/fit/20210725-092037/train/plugins/profile/2021_07_25_09_20_40\n",
      "2021-07-25 09:20:40.369163: I tensorflow/core/profiler/rpc/client/save_profile.cc:143] Dumped gzipped tool data for memory_profile.json.gz to logs/fit/20210725-092037/train/plugins/profile/2021_07_25_09_20_40/f8f7c4f35391.memory_profile.json.gz\n",
      "2021-07-25 09:20:40.389875: I tensorflow/core/profiler/rpc/client/capture_profile.cc:251] Creating directory: logs/fit/20210725-092037/train/plugins/profile/2021_07_25_09_20_40Dumped tool data for xplane.pb to logs/fit/20210725-092037/train/plugins/profile/2021_07_25_09_20_40/f8f7c4f35391.xplane.pb\n",
      "Dumped tool data for overview_page.pb to logs/fit/20210725-092037/train/plugins/profile/2021_07_25_09_20_40/f8f7c4f35391.overview_page.pb\n",
      "Dumped tool data for input_pipeline.pb to logs/fit/20210725-092037/train/plugins/profile/2021_07_25_09_20_40/f8f7c4f35391.input_pipeline.pb\n",
      "Dumped tool data for tensorflow_stats.pb to logs/fit/20210725-092037/train/plugins/profile/2021_07_25_09_20_40/f8f7c4f35391.tensorflow_stats.pb\n",
      "Dumped tool data for kernel_stats.pb to logs/fit/20210725-092037/train/plugins/profile/2021_07_25_09_20_40/f8f7c4f35391.kernel_stats.pb\n",
      "\n"
     ]
    },
    {
     "name": "stdout",
     "output_type": "stream",
     "text": [
      "nn  model0 seed792 fold7: m_logloss 1.7423778804078076\n",
      "xgb model0 seed792 fold7: m_logloss 1.7438149792027602\n"
     ]
    },
    {
     "name": "stderr",
     "output_type": "stream",
     "text": [
      "2021-07-25 09:41:37.298303: I tensorflow/core/profiler/lib/profiler_session.cc:126] Profiler session initializing.\n",
      "2021-07-25 09:41:37.298362: I tensorflow/core/profiler/lib/profiler_session.cc:141] Profiler session started.\n",
      "2021-07-25 09:41:37.298405: I tensorflow/core/profiler/lib/profiler_session.cc:159] Profiler session tear down.\n",
      "2021-07-25 09:41:39.644188: I tensorflow/core/profiler/lib/profiler_session.cc:126] Profiler session initializing.\n",
      "2021-07-25 09:41:39.644250: I tensorflow/core/profiler/lib/profiler_session.cc:141] Profiler session started.\n",
      "2021-07-25 09:41:39.908351: I tensorflow/core/profiler/lib/profiler_session.cc:66] Profiler session collecting data.\n",
      "2021-07-25 09:41:39.913366: I tensorflow/core/profiler/lib/profiler_session.cc:159] Profiler session tear down.\n",
      "2021-07-25 09:41:39.938483: I tensorflow/core/profiler/rpc/client/save_profile.cc:137] Creating directory: logs/fit/20210725-094137/train/plugins/profile/2021_07_25_09_41_39\n",
      "2021-07-25 09:41:39.944449: I tensorflow/core/profiler/rpc/client/save_profile.cc:143] Dumped gzipped tool data for trace.json.gz to logs/fit/20210725-094137/train/plugins/profile/2021_07_25_09_41_39/f8f7c4f35391.trace.json.gz\n",
      "2021-07-25 09:41:39.952165: I tensorflow/core/profiler/rpc/client/save_profile.cc:137] Creating directory: logs/fit/20210725-094137/train/plugins/profile/2021_07_25_09_41_39\n",
      "2021-07-25 09:41:39.956426: I tensorflow/core/profiler/rpc/client/save_profile.cc:143] Dumped gzipped tool data for memory_profile.json.gz to logs/fit/20210725-094137/train/plugins/profile/2021_07_25_09_41_39/f8f7c4f35391.memory_profile.json.gz\n",
      "2021-07-25 09:41:39.976375: I tensorflow/core/profiler/rpc/client/capture_profile.cc:251] Creating directory: logs/fit/20210725-094137/train/plugins/profile/2021_07_25_09_41_39Dumped tool data for xplane.pb to logs/fit/20210725-094137/train/plugins/profile/2021_07_25_09_41_39/f8f7c4f35391.xplane.pb\n",
      "Dumped tool data for overview_page.pb to logs/fit/20210725-094137/train/plugins/profile/2021_07_25_09_41_39/f8f7c4f35391.overview_page.pb\n",
      "Dumped tool data for input_pipeline.pb to logs/fit/20210725-094137/train/plugins/profile/2021_07_25_09_41_39/f8f7c4f35391.input_pipeline.pb\n",
      "Dumped tool data for tensorflow_stats.pb to logs/fit/20210725-094137/train/plugins/profile/2021_07_25_09_41_39/f8f7c4f35391.tensorflow_stats.pb\n",
      "Dumped tool data for kernel_stats.pb to logs/fit/20210725-094137/train/plugins/profile/2021_07_25_09_41_39/f8f7c4f35391.kernel_stats.pb\n",
      "\n"
     ]
    },
    {
     "name": "stdout",
     "output_type": "stream",
     "text": [
      "nn  model0 seed792 fold8: m_logloss 1.7413128201695145\n",
      "xgb model0 seed792 fold8: m_logloss 1.7439205257829309\n"
     ]
    },
    {
     "name": "stderr",
     "output_type": "stream",
     "text": [
      "2021-07-25 10:07:44.236731: I tensorflow/core/profiler/lib/profiler_session.cc:126] Profiler session initializing.\n",
      "2021-07-25 10:07:44.236790: I tensorflow/core/profiler/lib/profiler_session.cc:141] Profiler session started.\n",
      "2021-07-25 10:07:44.236830: I tensorflow/core/profiler/lib/profiler_session.cc:159] Profiler session tear down.\n",
      "2021-07-25 10:07:46.560298: I tensorflow/core/profiler/lib/profiler_session.cc:126] Profiler session initializing.\n",
      "2021-07-25 10:07:46.560353: I tensorflow/core/profiler/lib/profiler_session.cc:141] Profiler session started.\n",
      "2021-07-25 10:07:46.825257: I tensorflow/core/profiler/lib/profiler_session.cc:66] Profiler session collecting data.\n",
      "2021-07-25 10:07:46.830504: I tensorflow/core/profiler/lib/profiler_session.cc:159] Profiler session tear down.\n",
      "2021-07-25 10:07:46.857112: I tensorflow/core/profiler/rpc/client/save_profile.cc:137] Creating directory: logs/fit/20210725-100744/train/plugins/profile/2021_07_25_10_07_46\n",
      "2021-07-25 10:07:46.863349: I tensorflow/core/profiler/rpc/client/save_profile.cc:143] Dumped gzipped tool data for trace.json.gz to logs/fit/20210725-100744/train/plugins/profile/2021_07_25_10_07_46/f8f7c4f35391.trace.json.gz\n",
      "2021-07-25 10:07:46.871160: I tensorflow/core/profiler/rpc/client/save_profile.cc:137] Creating directory: logs/fit/20210725-100744/train/plugins/profile/2021_07_25_10_07_46\n",
      "2021-07-25 10:07:46.876774: I tensorflow/core/profiler/rpc/client/save_profile.cc:143] Dumped gzipped tool data for memory_profile.json.gz to logs/fit/20210725-100744/train/plugins/profile/2021_07_25_10_07_46/f8f7c4f35391.memory_profile.json.gz\n",
      "2021-07-25 10:07:46.897557: I tensorflow/core/profiler/rpc/client/capture_profile.cc:251] Creating directory: logs/fit/20210725-100744/train/plugins/profile/2021_07_25_10_07_46Dumped tool data for xplane.pb to logs/fit/20210725-100744/train/plugins/profile/2021_07_25_10_07_46/f8f7c4f35391.xplane.pb\n",
      "Dumped tool data for overview_page.pb to logs/fit/20210725-100744/train/plugins/profile/2021_07_25_10_07_46/f8f7c4f35391.overview_page.pb\n",
      "Dumped tool data for input_pipeline.pb to logs/fit/20210725-100744/train/plugins/profile/2021_07_25_10_07_46/f8f7c4f35391.input_pipeline.pb\n",
      "Dumped tool data for tensorflow_stats.pb to logs/fit/20210725-100744/train/plugins/profile/2021_07_25_10_07_46/f8f7c4f35391.tensorflow_stats.pb\n",
      "Dumped tool data for kernel_stats.pb to logs/fit/20210725-100744/train/plugins/profile/2021_07_25_10_07_46/f8f7c4f35391.kernel_stats.pb\n",
      "\n"
     ]
    },
    {
     "name": "stdout",
     "output_type": "stream",
     "text": [
      "nn  model0 seed792 fold9: m_logloss 1.7392228071829394\n",
      "xgb model0 seed792 fold9: m_logloss 1.7399410929784147\n",
      "------------------------------------------------------------\n",
      "nn  model0 seed792: m_logloss 1.7413314214416864\n",
      "xgb model0 seed792: m_logloss 1.7426756259203113\n",
      "\n"
     ]
    },
    {
     "name": "stderr",
     "output_type": "stream",
     "text": [
      "2021-07-25 10:30:49.424807: I tensorflow/core/profiler/lib/profiler_session.cc:126] Profiler session initializing.\n",
      "2021-07-25 10:30:49.424867: I tensorflow/core/profiler/lib/profiler_session.cc:141] Profiler session started.\n",
      "2021-07-25 10:30:49.424910: I tensorflow/core/profiler/lib/profiler_session.cc:159] Profiler session tear down.\n",
      "2021-07-25 10:30:51.805131: I tensorflow/core/profiler/lib/profiler_session.cc:126] Profiler session initializing.\n",
      "2021-07-25 10:30:51.805184: I tensorflow/core/profiler/lib/profiler_session.cc:141] Profiler session started.\n",
      "2021-07-25 10:30:52.068061: I tensorflow/core/profiler/lib/profiler_session.cc:66] Profiler session collecting data.\n",
      "2021-07-25 10:30:52.073080: I tensorflow/core/profiler/lib/profiler_session.cc:159] Profiler session tear down.\n",
      "2021-07-25 10:30:52.099985: I tensorflow/core/profiler/rpc/client/save_profile.cc:137] Creating directory: logs/fit/20210725-103049/train/plugins/profile/2021_07_25_10_30_52\n",
      "2021-07-25 10:30:52.106032: I tensorflow/core/profiler/rpc/client/save_profile.cc:143] Dumped gzipped tool data for trace.json.gz to logs/fit/20210725-103049/train/plugins/profile/2021_07_25_10_30_52/f8f7c4f35391.trace.json.gz\n",
      "2021-07-25 10:30:52.115350: I tensorflow/core/profiler/rpc/client/save_profile.cc:137] Creating directory: logs/fit/20210725-103049/train/plugins/profile/2021_07_25_10_30_52\n",
      "2021-07-25 10:30:52.119972: I tensorflow/core/profiler/rpc/client/save_profile.cc:143] Dumped gzipped tool data for memory_profile.json.gz to logs/fit/20210725-103049/train/plugins/profile/2021_07_25_10_30_52/f8f7c4f35391.memory_profile.json.gz\n",
      "2021-07-25 10:30:52.138811: I tensorflow/core/profiler/rpc/client/capture_profile.cc:251] Creating directory: logs/fit/20210725-103049/train/plugins/profile/2021_07_25_10_30_52Dumped tool data for xplane.pb to logs/fit/20210725-103049/train/plugins/profile/2021_07_25_10_30_52/f8f7c4f35391.xplane.pb\n",
      "Dumped tool data for overview_page.pb to logs/fit/20210725-103049/train/plugins/profile/2021_07_25_10_30_52/f8f7c4f35391.overview_page.pb\n",
      "Dumped tool data for input_pipeline.pb to logs/fit/20210725-103049/train/plugins/profile/2021_07_25_10_30_52/f8f7c4f35391.input_pipeline.pb\n",
      "Dumped tool data for tensorflow_stats.pb to logs/fit/20210725-103049/train/plugins/profile/2021_07_25_10_30_52/f8f7c4f35391.tensorflow_stats.pb\n",
      "Dumped tool data for kernel_stats.pb to logs/fit/20210725-103049/train/plugins/profile/2021_07_25_10_30_52/f8f7c4f35391.kernel_stats.pb\n",
      "\n"
     ]
    },
    {
     "name": "stdout",
     "output_type": "stream",
     "text": [
      "nn  model0 seed458 fold0: m_logloss 1.7400778107660604\n",
      "xgb model0 seed458 fold0: m_logloss 1.7413188258557166\n"
     ]
    },
    {
     "name": "stderr",
     "output_type": "stream",
     "text": [
      "2021-07-25 10:53:57.105803: I tensorflow/core/profiler/lib/profiler_session.cc:126] Profiler session initializing.\n",
      "2021-07-25 10:53:57.105866: I tensorflow/core/profiler/lib/profiler_session.cc:141] Profiler session started.\n",
      "2021-07-25 10:53:57.105909: I tensorflow/core/profiler/lib/profiler_session.cc:159] Profiler session tear down.\n",
      "2021-07-25 10:53:59.221503: I tensorflow/core/profiler/lib/profiler_session.cc:126] Profiler session initializing.\n",
      "2021-07-25 10:53:59.221555: I tensorflow/core/profiler/lib/profiler_session.cc:141] Profiler session started.\n",
      "2021-07-25 10:53:59.476710: I tensorflow/core/profiler/lib/profiler_session.cc:66] Profiler session collecting data.\n",
      "2021-07-25 10:53:59.480819: I tensorflow/core/profiler/lib/profiler_session.cc:159] Profiler session tear down.\n",
      "2021-07-25 10:53:59.506870: I tensorflow/core/profiler/rpc/client/save_profile.cc:137] Creating directory: logs/fit/20210725-105357/train/plugins/profile/2021_07_25_10_53_59\n",
      "2021-07-25 10:53:59.513577: I tensorflow/core/profiler/rpc/client/save_profile.cc:143] Dumped gzipped tool data for trace.json.gz to logs/fit/20210725-105357/train/plugins/profile/2021_07_25_10_53_59/f8f7c4f35391.trace.json.gz\n",
      "2021-07-25 10:53:59.520628: I tensorflow/core/profiler/rpc/client/save_profile.cc:137] Creating directory: logs/fit/20210725-105357/train/plugins/profile/2021_07_25_10_53_59\n",
      "2021-07-25 10:53:59.524797: I tensorflow/core/profiler/rpc/client/save_profile.cc:143] Dumped gzipped tool data for memory_profile.json.gz to logs/fit/20210725-105357/train/plugins/profile/2021_07_25_10_53_59/f8f7c4f35391.memory_profile.json.gz\n",
      "2021-07-25 10:53:59.546946: I tensorflow/core/profiler/rpc/client/capture_profile.cc:251] Creating directory: logs/fit/20210725-105357/train/plugins/profile/2021_07_25_10_53_59Dumped tool data for xplane.pb to logs/fit/20210725-105357/train/plugins/profile/2021_07_25_10_53_59/f8f7c4f35391.xplane.pb\n",
      "Dumped tool data for overview_page.pb to logs/fit/20210725-105357/train/plugins/profile/2021_07_25_10_53_59/f8f7c4f35391.overview_page.pb\n",
      "Dumped tool data for input_pipeline.pb to logs/fit/20210725-105357/train/plugins/profile/2021_07_25_10_53_59/f8f7c4f35391.input_pipeline.pb\n",
      "Dumped tool data for tensorflow_stats.pb to logs/fit/20210725-105357/train/plugins/profile/2021_07_25_10_53_59/f8f7c4f35391.tensorflow_stats.pb\n",
      "Dumped tool data for kernel_stats.pb to logs/fit/20210725-105357/train/plugins/profile/2021_07_25_10_53_59/f8f7c4f35391.kernel_stats.pb\n",
      "\n"
     ]
    },
    {
     "name": "stdout",
     "output_type": "stream",
     "text": [
      "nn  model0 seed458 fold1: m_logloss 1.7428069673039401\n",
      "xgb model0 seed458 fold1: m_logloss 1.7436780008900696\n"
     ]
    },
    {
     "name": "stderr",
     "output_type": "stream",
     "text": [
      "2021-07-25 11:21:44.795315: I tensorflow/core/profiler/lib/profiler_session.cc:126] Profiler session initializing.\n",
      "2021-07-25 11:21:44.795375: I tensorflow/core/profiler/lib/profiler_session.cc:141] Profiler session started.\n",
      "2021-07-25 11:21:44.795417: I tensorflow/core/profiler/lib/profiler_session.cc:159] Profiler session tear down.\n",
      "2021-07-25 11:21:46.904022: I tensorflow/core/profiler/lib/profiler_session.cc:126] Profiler session initializing.\n",
      "2021-07-25 11:21:46.904077: I tensorflow/core/profiler/lib/profiler_session.cc:141] Profiler session started.\n",
      "2021-07-25 11:21:47.165725: I tensorflow/core/profiler/lib/profiler_session.cc:66] Profiler session collecting data.\n",
      "2021-07-25 11:21:47.170046: I tensorflow/core/profiler/lib/profiler_session.cc:159] Profiler session tear down.\n",
      "2021-07-25 11:21:47.195720: I tensorflow/core/profiler/rpc/client/save_profile.cc:137] Creating directory: logs/fit/20210725-112144/train/plugins/profile/2021_07_25_11_21_47\n",
      "2021-07-25 11:21:47.201614: I tensorflow/core/profiler/rpc/client/save_profile.cc:143] Dumped gzipped tool data for trace.json.gz to logs/fit/20210725-112144/train/plugins/profile/2021_07_25_11_21_47/f8f7c4f35391.trace.json.gz\n",
      "2021-07-25 11:21:47.208614: I tensorflow/core/profiler/rpc/client/save_profile.cc:137] Creating directory: logs/fit/20210725-112144/train/plugins/profile/2021_07_25_11_21_47\n",
      "2021-07-25 11:21:47.212865: I tensorflow/core/profiler/rpc/client/save_profile.cc:143] Dumped gzipped tool data for memory_profile.json.gz to logs/fit/20210725-112144/train/plugins/profile/2021_07_25_11_21_47/f8f7c4f35391.memory_profile.json.gz\n",
      "2021-07-25 11:21:47.234249: I tensorflow/core/profiler/rpc/client/capture_profile.cc:251] Creating directory: logs/fit/20210725-112144/train/plugins/profile/2021_07_25_11_21_47Dumped tool data for xplane.pb to logs/fit/20210725-112144/train/plugins/profile/2021_07_25_11_21_47/f8f7c4f35391.xplane.pb\n",
      "Dumped tool data for overview_page.pb to logs/fit/20210725-112144/train/plugins/profile/2021_07_25_11_21_47/f8f7c4f35391.overview_page.pb\n",
      "Dumped tool data for input_pipeline.pb to logs/fit/20210725-112144/train/plugins/profile/2021_07_25_11_21_47/f8f7c4f35391.input_pipeline.pb\n",
      "Dumped tool data for tensorflow_stats.pb to logs/fit/20210725-112144/train/plugins/profile/2021_07_25_11_21_47/f8f7c4f35391.tensorflow_stats.pb\n",
      "Dumped tool data for kernel_stats.pb to logs/fit/20210725-112144/train/plugins/profile/2021_07_25_11_21_47/f8f7c4f35391.kernel_stats.pb\n",
      "\n"
     ]
    },
    {
     "name": "stdout",
     "output_type": "stream",
     "text": [
      "nn  model0 seed458 fold2: m_logloss 1.7421590630696766\n",
      "xgb model0 seed458 fold2: m_logloss 1.7430984918145622\n"
     ]
    },
    {
     "name": "stderr",
     "output_type": "stream",
     "text": [
      "2021-07-25 11:46:20.224227: I tensorflow/core/profiler/lib/profiler_session.cc:126] Profiler session initializing.\n",
      "2021-07-25 11:46:20.224290: I tensorflow/core/profiler/lib/profiler_session.cc:141] Profiler session started.\n",
      "2021-07-25 11:46:20.224340: I tensorflow/core/profiler/lib/profiler_session.cc:159] Profiler session tear down.\n",
      "2021-07-25 11:46:22.307072: I tensorflow/core/profiler/lib/profiler_session.cc:126] Profiler session initializing.\n",
      "2021-07-25 11:46:22.307126: I tensorflow/core/profiler/lib/profiler_session.cc:141] Profiler session started.\n",
      "2021-07-25 11:46:22.544126: I tensorflow/core/profiler/lib/profiler_session.cc:66] Profiler session collecting data.\n",
      "2021-07-25 11:46:22.548501: I tensorflow/core/profiler/lib/profiler_session.cc:159] Profiler session tear down.\n",
      "2021-07-25 11:46:22.576540: I tensorflow/core/profiler/rpc/client/save_profile.cc:137] Creating directory: logs/fit/20210725-114620/train/plugins/profile/2021_07_25_11_46_22\n",
      "2021-07-25 11:46:22.582434: I tensorflow/core/profiler/rpc/client/save_profile.cc:143] Dumped gzipped tool data for trace.json.gz to logs/fit/20210725-114620/train/plugins/profile/2021_07_25_11_46_22/f8f7c4f35391.trace.json.gz\n",
      "2021-07-25 11:46:22.589361: I tensorflow/core/profiler/rpc/client/save_profile.cc:137] Creating directory: logs/fit/20210725-114620/train/plugins/profile/2021_07_25_11_46_22\n",
      "2021-07-25 11:46:22.593032: I tensorflow/core/profiler/rpc/client/save_profile.cc:143] Dumped gzipped tool data for memory_profile.json.gz to logs/fit/20210725-114620/train/plugins/profile/2021_07_25_11_46_22/f8f7c4f35391.memory_profile.json.gz\n",
      "2021-07-25 11:46:22.613806: I tensorflow/core/profiler/rpc/client/capture_profile.cc:251] Creating directory: logs/fit/20210725-114620/train/plugins/profile/2021_07_25_11_46_22Dumped tool data for xplane.pb to logs/fit/20210725-114620/train/plugins/profile/2021_07_25_11_46_22/f8f7c4f35391.xplane.pb\n",
      "Dumped tool data for overview_page.pb to logs/fit/20210725-114620/train/plugins/profile/2021_07_25_11_46_22/f8f7c4f35391.overview_page.pb\n",
      "Dumped tool data for input_pipeline.pb to logs/fit/20210725-114620/train/plugins/profile/2021_07_25_11_46_22/f8f7c4f35391.input_pipeline.pb\n",
      "Dumped tool data for tensorflow_stats.pb to logs/fit/20210725-114620/train/plugins/profile/2021_07_25_11_46_22/f8f7c4f35391.tensorflow_stats.pb\n",
      "Dumped tool data for kernel_stats.pb to logs/fit/20210725-114620/train/plugins/profile/2021_07_25_11_46_22/f8f7c4f35391.kernel_stats.pb\n",
      "\n"
     ]
    },
    {
     "name": "stdout",
     "output_type": "stream",
     "text": [
      "nn  model0 seed458 fold3: m_logloss 1.74282418667311\n",
      "xgb model0 seed458 fold3: m_logloss 1.744219166954255\n"
     ]
    },
    {
     "name": "stderr",
     "output_type": "stream",
     "text": [
      "2021-07-25 12:09:44.279735: I tensorflow/core/profiler/lib/profiler_session.cc:126] Profiler session initializing.\n",
      "2021-07-25 12:09:44.279795: I tensorflow/core/profiler/lib/profiler_session.cc:141] Profiler session started.\n",
      "2021-07-25 12:09:44.279837: I tensorflow/core/profiler/lib/profiler_session.cc:159] Profiler session tear down.\n",
      "2021-07-25 12:09:46.390805: I tensorflow/core/profiler/lib/profiler_session.cc:126] Profiler session initializing.\n",
      "2021-07-25 12:09:46.390858: I tensorflow/core/profiler/lib/profiler_session.cc:141] Profiler session started.\n",
      "2021-07-25 12:09:46.639197: I tensorflow/core/profiler/lib/profiler_session.cc:66] Profiler session collecting data.\n",
      "2021-07-25 12:09:46.643270: I tensorflow/core/profiler/lib/profiler_session.cc:159] Profiler session tear down.\n",
      "2021-07-25 12:09:46.666030: I tensorflow/core/profiler/rpc/client/save_profile.cc:137] Creating directory: logs/fit/20210725-120944/train/plugins/profile/2021_07_25_12_09_46\n",
      "2021-07-25 12:09:46.671920: I tensorflow/core/profiler/rpc/client/save_profile.cc:143] Dumped gzipped tool data for trace.json.gz to logs/fit/20210725-120944/train/plugins/profile/2021_07_25_12_09_46/f8f7c4f35391.trace.json.gz\n",
      "2021-07-25 12:09:46.678335: I tensorflow/core/profiler/rpc/client/save_profile.cc:137] Creating directory: logs/fit/20210725-120944/train/plugins/profile/2021_07_25_12_09_46\n",
      "2021-07-25 12:09:46.682454: I tensorflow/core/profiler/rpc/client/save_profile.cc:143] Dumped gzipped tool data for memory_profile.json.gz to logs/fit/20210725-120944/train/plugins/profile/2021_07_25_12_09_46/f8f7c4f35391.memory_profile.json.gz\n",
      "2021-07-25 12:09:46.702726: I tensorflow/core/profiler/rpc/client/capture_profile.cc:251] Creating directory: logs/fit/20210725-120944/train/plugins/profile/2021_07_25_12_09_46Dumped tool data for xplane.pb to logs/fit/20210725-120944/train/plugins/profile/2021_07_25_12_09_46/f8f7c4f35391.xplane.pb\n",
      "Dumped tool data for overview_page.pb to logs/fit/20210725-120944/train/plugins/profile/2021_07_25_12_09_46/f8f7c4f35391.overview_page.pb\n",
      "Dumped tool data for input_pipeline.pb to logs/fit/20210725-120944/train/plugins/profile/2021_07_25_12_09_46/f8f7c4f35391.input_pipeline.pb\n",
      "Dumped tool data for tensorflow_stats.pb to logs/fit/20210725-120944/train/plugins/profile/2021_07_25_12_09_46/f8f7c4f35391.tensorflow_stats.pb\n",
      "Dumped tool data for kernel_stats.pb to logs/fit/20210725-120944/train/plugins/profile/2021_07_25_12_09_46/f8f7c4f35391.kernel_stats.pb\n",
      "\n"
     ]
    },
    {
     "name": "stdout",
     "output_type": "stream",
     "text": [
      "nn  model0 seed458 fold4: m_logloss 1.7404002845477387\n",
      "xgb model0 seed458 fold4: m_logloss 1.7413827028511324\n"
     ]
    },
    {
     "name": "stderr",
     "output_type": "stream",
     "text": [
      "2021-07-25 12:33:15.039671: I tensorflow/core/profiler/lib/profiler_session.cc:126] Profiler session initializing.\n",
      "2021-07-25 12:33:15.039733: I tensorflow/core/profiler/lib/profiler_session.cc:141] Profiler session started.\n",
      "2021-07-25 12:33:15.039777: I tensorflow/core/profiler/lib/profiler_session.cc:159] Profiler session tear down.\n",
      "2021-07-25 12:33:17.583458: I tensorflow/core/profiler/lib/profiler_session.cc:126] Profiler session initializing.\n",
      "2021-07-25 12:33:17.583511: I tensorflow/core/profiler/lib/profiler_session.cc:141] Profiler session started.\n",
      "2021-07-25 12:33:17.864496: I tensorflow/core/profiler/lib/profiler_session.cc:66] Profiler session collecting data.\n",
      "2021-07-25 12:33:17.869459: I tensorflow/core/profiler/lib/profiler_session.cc:159] Profiler session tear down.\n",
      "2021-07-25 12:33:17.897830: I tensorflow/core/profiler/rpc/client/save_profile.cc:137] Creating directory: logs/fit/20210725-123315/train/plugins/profile/2021_07_25_12_33_17\n",
      "2021-07-25 12:33:17.904410: I tensorflow/core/profiler/rpc/client/save_profile.cc:143] Dumped gzipped tool data for trace.json.gz to logs/fit/20210725-123315/train/plugins/profile/2021_07_25_12_33_17/f8f7c4f35391.trace.json.gz\n",
      "2021-07-25 12:33:17.912201: I tensorflow/core/profiler/rpc/client/save_profile.cc:137] Creating directory: logs/fit/20210725-123315/train/plugins/profile/2021_07_25_12_33_17\n",
      "2021-07-25 12:33:17.916477: I tensorflow/core/profiler/rpc/client/save_profile.cc:143] Dumped gzipped tool data for memory_profile.json.gz to logs/fit/20210725-123315/train/plugins/profile/2021_07_25_12_33_17/f8f7c4f35391.memory_profile.json.gz\n",
      "2021-07-25 12:33:17.937552: I tensorflow/core/profiler/rpc/client/capture_profile.cc:251] Creating directory: logs/fit/20210725-123315/train/plugins/profile/2021_07_25_12_33_17Dumped tool data for xplane.pb to logs/fit/20210725-123315/train/plugins/profile/2021_07_25_12_33_17/f8f7c4f35391.xplane.pb\n",
      "Dumped tool data for overview_page.pb to logs/fit/20210725-123315/train/plugins/profile/2021_07_25_12_33_17/f8f7c4f35391.overview_page.pb\n",
      "Dumped tool data for input_pipeline.pb to logs/fit/20210725-123315/train/plugins/profile/2021_07_25_12_33_17/f8f7c4f35391.input_pipeline.pb\n",
      "Dumped tool data for tensorflow_stats.pb to logs/fit/20210725-123315/train/plugins/profile/2021_07_25_12_33_17/f8f7c4f35391.tensorflow_stats.pb\n",
      "Dumped tool data for kernel_stats.pb to logs/fit/20210725-123315/train/plugins/profile/2021_07_25_12_33_17/f8f7c4f35391.kernel_stats.pb\n",
      "\n"
     ]
    },
    {
     "name": "stdout",
     "output_type": "stream",
     "text": [
      "nn  model0 seed458 fold5: m_logloss 1.7399057396483077\n",
      "xgb model0 seed458 fold5: m_logloss 1.7414361786268484\n"
     ]
    },
    {
     "name": "stderr",
     "output_type": "stream",
     "text": [
      "2021-07-25 12:55:17.100021: I tensorflow/core/profiler/lib/profiler_session.cc:126] Profiler session initializing.\n",
      "2021-07-25 12:55:17.100080: I tensorflow/core/profiler/lib/profiler_session.cc:141] Profiler session started.\n",
      "2021-07-25 12:55:17.100123: I tensorflow/core/profiler/lib/profiler_session.cc:159] Profiler session tear down.\n",
      "2021-07-25 12:55:19.452014: I tensorflow/core/profiler/lib/profiler_session.cc:126] Profiler session initializing.\n",
      "2021-07-25 12:55:19.452071: I tensorflow/core/profiler/lib/profiler_session.cc:141] Profiler session started.\n",
      "2021-07-25 12:55:19.720387: I tensorflow/core/profiler/lib/profiler_session.cc:66] Profiler session collecting data.\n",
      "2021-07-25 12:55:19.725621: I tensorflow/core/profiler/lib/profiler_session.cc:159] Profiler session tear down.\n",
      "2021-07-25 12:55:19.753170: I tensorflow/core/profiler/rpc/client/save_profile.cc:137] Creating directory: logs/fit/20210725-125517/train/plugins/profile/2021_07_25_12_55_19\n",
      "2021-07-25 12:55:19.759247: I tensorflow/core/profiler/rpc/client/save_profile.cc:143] Dumped gzipped tool data for trace.json.gz to logs/fit/20210725-125517/train/plugins/profile/2021_07_25_12_55_19/f8f7c4f35391.trace.json.gz\n",
      "2021-07-25 12:55:19.766832: I tensorflow/core/profiler/rpc/client/save_profile.cc:137] Creating directory: logs/fit/20210725-125517/train/plugins/profile/2021_07_25_12_55_19\n",
      "2021-07-25 12:55:19.770545: I tensorflow/core/profiler/rpc/client/save_profile.cc:143] Dumped gzipped tool data for memory_profile.json.gz to logs/fit/20210725-125517/train/plugins/profile/2021_07_25_12_55_19/f8f7c4f35391.memory_profile.json.gz\n",
      "2021-07-25 12:55:19.792625: I tensorflow/core/profiler/rpc/client/capture_profile.cc:251] Creating directory: logs/fit/20210725-125517/train/plugins/profile/2021_07_25_12_55_19Dumped tool data for xplane.pb to logs/fit/20210725-125517/train/plugins/profile/2021_07_25_12_55_19/f8f7c4f35391.xplane.pb\n",
      "Dumped tool data for overview_page.pb to logs/fit/20210725-125517/train/plugins/profile/2021_07_25_12_55_19/f8f7c4f35391.overview_page.pb\n",
      "Dumped tool data for input_pipeline.pb to logs/fit/20210725-125517/train/plugins/profile/2021_07_25_12_55_19/f8f7c4f35391.input_pipeline.pb\n",
      "Dumped tool data for tensorflow_stats.pb to logs/fit/20210725-125517/train/plugins/profile/2021_07_25_12_55_19/f8f7c4f35391.tensorflow_stats.pb\n",
      "Dumped tool data for kernel_stats.pb to logs/fit/20210725-125517/train/plugins/profile/2021_07_25_12_55_19/f8f7c4f35391.kernel_stats.pb\n",
      "\n"
     ]
    },
    {
     "name": "stdout",
     "output_type": "stream",
     "text": [
      "nn  model0 seed458 fold6: m_logloss 1.7421950655864817\n",
      "xgb model0 seed458 fold6: m_logloss 1.7432602427959631\n"
     ]
    },
    {
     "name": "stderr",
     "output_type": "stream",
     "text": [
      "2021-07-25 13:18:24.770074: I tensorflow/core/profiler/lib/profiler_session.cc:126] Profiler session initializing.\n",
      "2021-07-25 13:18:24.770133: I tensorflow/core/profiler/lib/profiler_session.cc:141] Profiler session started.\n",
      "2021-07-25 13:18:24.770173: I tensorflow/core/profiler/lib/profiler_session.cc:159] Profiler session tear down.\n",
      "2021-07-25 13:18:27.303088: I tensorflow/core/profiler/lib/profiler_session.cc:126] Profiler session initializing.\n",
      "2021-07-25 13:18:27.303148: I tensorflow/core/profiler/lib/profiler_session.cc:141] Profiler session started.\n",
      "2021-07-25 13:18:27.622810: I tensorflow/core/profiler/lib/profiler_session.cc:66] Profiler session collecting data.\n",
      "2021-07-25 13:18:27.628857: I tensorflow/core/profiler/lib/profiler_session.cc:159] Profiler session tear down.\n",
      "2021-07-25 13:18:27.663637: I tensorflow/core/profiler/rpc/client/save_profile.cc:137] Creating directory: logs/fit/20210725-131824/train/plugins/profile/2021_07_25_13_18_27\n",
      "2021-07-25 13:18:27.671852: I tensorflow/core/profiler/rpc/client/save_profile.cc:143] Dumped gzipped tool data for trace.json.gz to logs/fit/20210725-131824/train/plugins/profile/2021_07_25_13_18_27/f8f7c4f35391.trace.json.gz\n",
      "2021-07-25 13:18:27.681716: I tensorflow/core/profiler/rpc/client/save_profile.cc:137] Creating directory: logs/fit/20210725-131824/train/plugins/profile/2021_07_25_13_18_27\n",
      "2021-07-25 13:18:27.686338: I tensorflow/core/profiler/rpc/client/save_profile.cc:143] Dumped gzipped tool data for memory_profile.json.gz to logs/fit/20210725-131824/train/plugins/profile/2021_07_25_13_18_27/f8f7c4f35391.memory_profile.json.gz\n",
      "2021-07-25 13:18:27.714286: I tensorflow/core/profiler/rpc/client/capture_profile.cc:251] Creating directory: logs/fit/20210725-131824/train/plugins/profile/2021_07_25_13_18_27Dumped tool data for xplane.pb to logs/fit/20210725-131824/train/plugins/profile/2021_07_25_13_18_27/f8f7c4f35391.xplane.pb\n",
      "Dumped tool data for overview_page.pb to logs/fit/20210725-131824/train/plugins/profile/2021_07_25_13_18_27/f8f7c4f35391.overview_page.pb\n",
      "Dumped tool data for input_pipeline.pb to logs/fit/20210725-131824/train/plugins/profile/2021_07_25_13_18_27/f8f7c4f35391.input_pipeline.pb\n",
      "Dumped tool data for tensorflow_stats.pb to logs/fit/20210725-131824/train/plugins/profile/2021_07_25_13_18_27/f8f7c4f35391.tensorflow_stats.pb\n",
      "Dumped tool data for kernel_stats.pb to logs/fit/20210725-131824/train/plugins/profile/2021_07_25_13_18_27/f8f7c4f35391.kernel_stats.pb\n",
      "\n"
     ]
    },
    {
     "name": "stdout",
     "output_type": "stream",
     "text": [
      "nn  model0 seed458 fold7: m_logloss 1.7388594884756563\n"
     ]
    },
    {
     "ename": "KeyboardInterrupt",
     "evalue": "",
     "output_type": "error",
     "traceback": [
      "\u001b[0;31m---------------------------------------------------------------------------\u001b[0m",
      "\u001b[0;31mKeyboardInterrupt\u001b[0m                         Traceback (most recent call last)",
      "\u001b[0;32m/tmp/ipykernel_50/571547680.py\u001b[0m in \u001b[0;36m<module>\u001b[0;34m\u001b[0m\n\u001b[1;32m     63\u001b[0m \u001b[0;34m\u001b[0m\u001b[0m\n\u001b[1;32m     64\u001b[0m             \u001b[0mxgb_params\u001b[0m\u001b[0;34m[\u001b[0m\u001b[0;34m'seed'\u001b[0m\u001b[0;34m]\u001b[0m \u001b[0;34m=\u001b[0m \u001b[0mseed\u001b[0m\u001b[0;34m\u001b[0m\u001b[0;34m\u001b[0m\u001b[0m\n\u001b[0;32m---> 65\u001b[0;31m             gbt_model = xgb.train(\n\u001b[0m\u001b[1;32m     66\u001b[0m                 \u001b[0mparams\u001b[0m\u001b[0;34m=\u001b[0m\u001b[0mxgb_params\u001b[0m\u001b[0;34m,\u001b[0m\u001b[0;34m\u001b[0m\u001b[0;34m\u001b[0m\u001b[0m\n\u001b[1;32m     67\u001b[0m                 \u001b[0mdtrain\u001b[0m\u001b[0;34m=\u001b[0m\u001b[0mtrn_data\u001b[0m\u001b[0;34m,\u001b[0m\u001b[0;34m\u001b[0m\u001b[0;34m\u001b[0m\u001b[0m\n",
      "\u001b[0;32m/opt/conda/lib/python3.9/site-packages/xgboost/training.py\u001b[0m in \u001b[0;36mtrain\u001b[0;34m(params, dtrain, num_boost_round, evals, obj, feval, maximize, early_stopping_rounds, evals_result, verbose_eval, xgb_model, callbacks)\u001b[0m\n\u001b[1;32m    187\u001b[0m     \u001b[0mBooster\u001b[0m \u001b[0;34m:\u001b[0m \u001b[0ma\u001b[0m \u001b[0mtrained\u001b[0m \u001b[0mbooster\u001b[0m \u001b[0mmodel\u001b[0m\u001b[0;34m\u001b[0m\u001b[0;34m\u001b[0m\u001b[0m\n\u001b[1;32m    188\u001b[0m     \"\"\"\n\u001b[0;32m--> 189\u001b[0;31m     bst = _train_internal(params, dtrain,\n\u001b[0m\u001b[1;32m    190\u001b[0m                           \u001b[0mnum_boost_round\u001b[0m\u001b[0;34m=\u001b[0m\u001b[0mnum_boost_round\u001b[0m\u001b[0;34m,\u001b[0m\u001b[0;34m\u001b[0m\u001b[0;34m\u001b[0m\u001b[0m\n\u001b[1;32m    191\u001b[0m                           \u001b[0mevals\u001b[0m\u001b[0;34m=\u001b[0m\u001b[0mevals\u001b[0m\u001b[0;34m,\u001b[0m\u001b[0;34m\u001b[0m\u001b[0;34m\u001b[0m\u001b[0m\n",
      "\u001b[0;32m/opt/conda/lib/python3.9/site-packages/xgboost/training.py\u001b[0m in \u001b[0;36m_train_internal\u001b[0;34m(params, dtrain, num_boost_round, evals, obj, feval, xgb_model, callbacks, evals_result, maximize, verbose_eval, early_stopping_rounds)\u001b[0m\n\u001b[1;32m     79\u001b[0m         \u001b[0;32mif\u001b[0m \u001b[0mcallbacks\u001b[0m\u001b[0;34m.\u001b[0m\u001b[0mbefore_iteration\u001b[0m\u001b[0;34m(\u001b[0m\u001b[0mbst\u001b[0m\u001b[0;34m,\u001b[0m \u001b[0mi\u001b[0m\u001b[0;34m,\u001b[0m \u001b[0mdtrain\u001b[0m\u001b[0;34m,\u001b[0m \u001b[0mevals\u001b[0m\u001b[0;34m)\u001b[0m\u001b[0;34m:\u001b[0m\u001b[0;34m\u001b[0m\u001b[0;34m\u001b[0m\u001b[0m\n\u001b[1;32m     80\u001b[0m             \u001b[0;32mbreak\u001b[0m\u001b[0;34m\u001b[0m\u001b[0;34m\u001b[0m\u001b[0m\n\u001b[0;32m---> 81\u001b[0;31m         \u001b[0mbst\u001b[0m\u001b[0;34m.\u001b[0m\u001b[0mupdate\u001b[0m\u001b[0;34m(\u001b[0m\u001b[0mdtrain\u001b[0m\u001b[0;34m,\u001b[0m \u001b[0mi\u001b[0m\u001b[0;34m,\u001b[0m \u001b[0mobj\u001b[0m\u001b[0;34m)\u001b[0m\u001b[0;34m\u001b[0m\u001b[0;34m\u001b[0m\u001b[0m\n\u001b[0m\u001b[1;32m     82\u001b[0m         \u001b[0;32mif\u001b[0m \u001b[0mcallbacks\u001b[0m\u001b[0;34m.\u001b[0m\u001b[0mafter_iteration\u001b[0m\u001b[0;34m(\u001b[0m\u001b[0mbst\u001b[0m\u001b[0;34m,\u001b[0m \u001b[0mi\u001b[0m\u001b[0;34m,\u001b[0m \u001b[0mdtrain\u001b[0m\u001b[0;34m,\u001b[0m \u001b[0mevals\u001b[0m\u001b[0;34m)\u001b[0m\u001b[0;34m:\u001b[0m\u001b[0;34m\u001b[0m\u001b[0;34m\u001b[0m\u001b[0m\n\u001b[1;32m     83\u001b[0m             \u001b[0;32mbreak\u001b[0m\u001b[0;34m\u001b[0m\u001b[0;34m\u001b[0m\u001b[0m\n",
      "\u001b[0;32m/opt/conda/lib/python3.9/site-packages/xgboost/core.py\u001b[0m in \u001b[0;36mupdate\u001b[0;34m(self, dtrain, iteration, fobj)\u001b[0m\n\u001b[1;32m   1497\u001b[0m \u001b[0;34m\u001b[0m\u001b[0m\n\u001b[1;32m   1498\u001b[0m         \u001b[0;32mif\u001b[0m \u001b[0mfobj\u001b[0m \u001b[0;32mis\u001b[0m \u001b[0;32mNone\u001b[0m\u001b[0;34m:\u001b[0m\u001b[0;34m\u001b[0m\u001b[0;34m\u001b[0m\u001b[0m\n\u001b[0;32m-> 1499\u001b[0;31m             _check_call(_LIB.XGBoosterUpdateOneIter(self.handle,\n\u001b[0m\u001b[1;32m   1500\u001b[0m                                                     \u001b[0mctypes\u001b[0m\u001b[0;34m.\u001b[0m\u001b[0mc_int\u001b[0m\u001b[0;34m(\u001b[0m\u001b[0miteration\u001b[0m\u001b[0;34m)\u001b[0m\u001b[0;34m,\u001b[0m\u001b[0;34m\u001b[0m\u001b[0;34m\u001b[0m\u001b[0m\n\u001b[1;32m   1501\u001b[0m                                                     dtrain.handle))\n",
      "\u001b[0;31mKeyboardInterrupt\u001b[0m: "
     ]
    }
   ],
   "source": [
    "nn_oof = np.zeros((len(CFG['k']), len(CFG['seed_l']), train.shape[0], CFG['n_class']))\n",
    "gbt_oof = np.zeros((len(CFG['k']), len(CFG['seed_l']), train.shape[0], CFG['n_class']))\n",
    "nn_pred = np.zeros((len(CFG['k']), len(CFG['seed_l']), test.shape[0], CFG['n_class']))\n",
    "gbt_pred = np.zeros((len(CFG['k']), len(CFG['seed_l']), test.shape[0], CFG['n_class']))\n",
    "eval_fold_result = {}\n",
    "\n",
    "for n_model in range(len(CFG['k'])):\n",
    "    print(f\"===== MODEL {n_model} cross validation =====\")\n",
    "\n",
    "    for n_seed, seed in enumerate(CFG['seed_l']):\n",
    "    \n",
    "        skf = StratifiedKFold(n_splits=CFG['n_splits'], shuffle=True, random_state=seed)\n",
    "\n",
    "        for fold, (trn_idx, val_idx) in enumerate(skf.split(train, train[CFG['target']])):\n",
    "            X_train, y_train_ohe, y_train = train[features].iloc[trn_idx], target_ohe.iloc[trn_idx], target.iloc[trn_idx]\n",
    "            X_valid, y_valid_ohe, y_valid = train[features].iloc[val_idx], target_ohe.iloc[val_idx], target.iloc[val_idx]\n",
    "            X_test = test[features]\n",
    "\n",
    "            X_train_2d, X_valid_2d = train_2d[trn_idx], train_2d[val_idx]\n",
    "            X_test_2d = test_2d\n",
    "            \n",
    "            X_train_knn, X_valid_knn = train_knn[n_model][trn_idx], train_knn[n_model][val_idx]\n",
    "            X_test_knn = test_knn[n_model]\n",
    "\n",
    "            X_train_km, X_valid_km = train_km[n_model][trn_idx], train_km[n_model][val_idx]\n",
    "            X_test_km = test_km[n_model]\n",
    "\n",
    "            X_train_pca, X_valid_pca = train_pca[n_model][trn_idx], train_pca[n_model][val_idx]\n",
    "            X_test_pca = test_pca[n_model]\n",
    "\n",
    "            log_dir = \"logs/fit/\" + datetime.datetime.now().strftime(\"%Y%m%d-%H%M%S\")\n",
    "            tb_cb = tf.keras.callbacks.TensorBoard(log_dir=log_dir)\n",
    "\n",
    "            K.clear_session()  \n",
    "            shape = [\n",
    "                X_train.shape[1],\n",
    "                X_train_2d.shape[1:],\n",
    "                CFG['k'][n_model]*CFG['n_class'],\n",
    "                CFG['n_clusters'][n_model],\n",
    "                CFG['n_components'][n_model]\n",
    "            ]\n",
    "\n",
    "            model, hidden_model = create_model(shape, emb_dims, CFG['sigma'], CFG['n_conv2d'], n_model)\n",
    "            model.fit(\n",
    "                [X_train, X_train_2d, X_train_knn, X_train_km, X_train_pca], y_train_ohe,\n",
    "                batch_size=CFG['batch_size'],\n",
    "                epochs=CFG['max_epochs'],\n",
    "                validation_data=([X_valid, X_valid_2d, X_valid_knn, X_valid_km, X_valid_pca], y_valid_ohe),\n",
    "                callbacks=[es_cb, sch_cb, tb_cb],\n",
    "                verbose=CFG['nn_verbose']\n",
    "            )\n",
    "\n",
    "            nn_oof[n_model, n_seed, val_idx] = model.predict([X_valid, X_valid_2d, X_valid_knn, X_valid_km, X_valid_pca])\n",
    "            nn_pred[n_model, n_seed] += model.predict([X_test, X_test_2d, X_test_knn, X_test_km, X_test_pca]) / CFG['n_splits']\n",
    "            m_logloss = log_loss(y_valid_ohe, nn_oof[n_model, n_seed, val_idx])\n",
    "            print(f\"nn  model{n_model} seed{seed} fold{fold}: m_logloss {m_logloss}\")\n",
    "            \n",
    "            hidden_train = hidden_model.predict([X_train, X_train_2d, X_train_knn, X_train_km, X_train_pca])\n",
    "            hidden_valid = hidden_model.predict([X_valid, X_valid_2d, X_valid_knn, X_valid_km, X_valid_pca])\n",
    "            hidden_test = hidden_model.predict([X_test, X_test_2d, X_test_knn, X_test_km, X_test_pca])\n",
    "            trn_data = xgb.DMatrix(data=hidden_train, label=y_train)\n",
    "            val_data = xgb.DMatrix(data=hidden_valid, label=y_valid)\n",
    "\n",
    "            xgb_params['seed'] = seed\n",
    "            gbt_model = xgb.train(\n",
    "                params=xgb_params,\n",
    "                dtrain=trn_data,\n",
    "                evals=[(trn_data, \"train\"), (val_data, \"valid\")],\n",
    "                evals_result=eval_fold_result,\n",
    "                num_boost_round = CFG['n_estimators'],\n",
    "                verbose_eval=CFG['gbt_verbose'],\n",
    "                early_stopping_rounds=CFG['early_stopping_rounds'],\n",
    "                )\n",
    "        \n",
    "            gbt_oof[n_model, n_seed, val_idx] = gbt_model.predict(xgb.DMatrix(hidden_valid), ntree_limit=gbt_model.best_ntree_limit)\n",
    "            gbt_pred[n_model, n_seed] += gbt_model.predict(xgb.DMatrix(hidden_test), ntree_limit=gbt_model.best_ntree_limit) / CFG['n_splits']\n",
    "            m_logloss = log_loss(y_valid, gbt_oof[n_model, n_seed, val_idx])\n",
    "            print(f\"xgb model{n_model} seed{seed} fold{fold}: m_logloss {m_logloss}\")\n",
    "        \n",
    "        print(\"-\"*60)\n",
    "        m_logloss = log_loss(target, nn_oof[n_model, n_seed])\n",
    "        print(f\"nn  model{n_model} seed{seed}: m_logloss {m_logloss}\")\n",
    "        m_logloss = log_loss(target, gbt_oof[n_model, n_seed])\n",
    "        print(f\"xgb model{n_model} seed{seed}: m_logloss {m_logloss}\\n\")\n",
    "\n",
    "        np.save(CFG['save_path'] + f\"nn_model{n_model}_seed{seed}_oof\", nn_oof[n_model, n_seed])\n",
    "        np.save(CFG['save_path'] + f\"nn_model{n_model}_seed{seed}_pred\", nn_pred[n_model, n_seed])\n",
    "        np.save(CFG['save_path'] + f\"xgb_model{n_model}_seed{seed}_oof\", gbt_oof[n_model, n_seed])\n",
    "        np.save(CFG['save_path'] + f\"xgb_model{n_model}_seed{seed}_pred\", gbt_pred[n_model, n_seed])"
   ]
  },
  {
   "cell_type": "markdown",
   "id": "f3246acb",
   "metadata": {},
   "source": [
    "## Post-process"
   ]
  },
  {
   "cell_type": "code",
   "execution_count": null,
   "id": "421298da",
   "metadata": {},
   "outputs": [],
   "source": [
    "def class_optimizer(X, a0, a1, a2, a3, a4, a5, a6, a7, a8):\n",
    "    oof = np.array([X[0]*a0, X[1]*a1, X[2]*a2, X[3]*a3, X[4]*a4, X[5]*a5, X[6]*a6, X[7]*a7, X[8]*a8]).transpose()\n",
    "    oof = oof / np.sum(oof, axis=1).reshape(-1, 1)\n",
    "    \n",
    "    return log_loss(target, oof)\n",
    "\n",
    "def get_optimized(X, vals):\n",
    "    opt_val = 0\n",
    "    for i, val in enumerate(vals):\n",
    "        if i != len(X):\n",
    "            opt_val += X[i]*val\n",
    "        else:\n",
    "            coef = 1\n",
    "            for j in range(i):\n",
    "                coef -= X[j]\n",
    "            opt_val += coef*val\n",
    "\n",
    "    return opt_val\n",
    "\n",
    "def model_optimizer(X, oofs):\n",
    "    opt_oof = get_optimized(X, oofs)\n",
    "    \n",
    "    return log_loss(target, opt_oof)"
   ]
  },
  {
   "cell_type": "code",
   "execution_count": null,
   "id": "b7e37145",
   "metadata": {},
   "outputs": [],
   "source": [
    "oof = np.concatenate([nn_oof, gbt_oof])\n",
    "pred = np.concatenate([nn_pred, gbt_pred])\n",
    "\n",
    "res_l = []\n",
    "for idx0 in tqdm(range(oof.shape[0])):\n",
    "    for idx1 in tqdm(range(oof.shape[1]), leave=False):\n",
    "        res = minimize(\n",
    "            fun=class_optimizer,\n",
    "            x0=[1.0 for _ in range(CFG['n_class'])],\n",
    "            args=tuple(oof[idx0, idx1, :, i] for i in range(CFG['n_class'])),\n",
    "            method='Nelder-Mead',\n",
    "            options={'maxiter': 300})\n",
    "\n",
    "        oof[idx0, idx1] = np.array([res.x[i]*oof[idx0, idx1, :, i] for i in range(CFG['n_class'])]).transpose()\n",
    "        oof[idx0, idx1] = oof[idx0, idx1] / np.sum(oof[idx0, idx1], axis=1).reshape(-1, 1)\n",
    "\n",
    "        pred[idx0, idx1] = np.array([res.x[i]*pred[idx0, idx1, :, i] for i in range(CFG['n_class'])]).transpose()\n",
    "        pred[idx0, idx1] = pred[idx0, idx1] / np.sum(pred[idx0, idx1], axis=1).reshape(-1, 1)\n",
    "\n",
    "        res_l.append(res)"
   ]
  },
  {
   "cell_type": "code",
   "execution_count": null,
   "id": "20051eca",
   "metadata": {},
   "outputs": [],
   "source": [
    "avg_oof = np.mean(np.array(oof), axis=1)\n",
    "avg_pred = np.mean(np.array(pred), axis=1)\n",
    "\n",
    "res = minimize(\n",
    "    fun=model_optimizer,\n",
    "    x0=[1/oof.shape[0] for _ in range(avg_oof.shape[0]-1)],\n",
    "    args=tuple([avg_oof]),\n",
    "    method='Nelder-Mead',\n",
    "    options={'maxiter': 1000})\n",
    "\n",
    "opt_oof = get_optimized(res.x, avg_oof)\n",
    "opt_pred = get_optimized(res.x, avg_pred)\n",
    "\n",
    "print(f\"logloss score: {log_loss(target, opt_oof)}\")\n",
    "print(res)"
   ]
  },
  {
   "cell_type": "markdown",
   "id": "32c0c6fb",
   "metadata": {},
   "source": [
    "## Check results"
   ]
  },
  {
   "cell_type": "markdown",
   "id": "3929236e",
   "metadata": {},
   "source": [
    "### Target distribution"
   ]
  },
  {
   "cell_type": "code",
   "execution_count": null,
   "id": "04c97894",
   "metadata": {},
   "outputs": [],
   "source": [
    "plt.figure(figsize=(16, 4), tight_layout=True)\n",
    "\n",
    "plt.subplot(1, 3, 1)\n",
    "target.hist()\n",
    "\n",
    "plt.subplot(1, 3, 2)\n",
    "pd.Series(opt_oof.argmax(axis=1)).hist()\n",
    "\n",
    "plt.subplot(1, 3, 3)\n",
    "pd.Series(opt_pred.argmax(axis=1)).hist()"
   ]
  },
  {
   "cell_type": "markdown",
   "id": "b244a3d9",
   "metadata": {},
   "source": [
    "### Confusion matrix"
   ]
  },
  {
   "cell_type": "code",
   "execution_count": null,
   "id": "a8ed4b48",
   "metadata": {},
   "outputs": [],
   "source": [
    "cm = confusion_matrix(target, opt_oof.argmax(axis=1))\n",
    "\n",
    "plt.figure(figsize=((16,4)))\n",
    "sns.heatmap(cm, annot=True, fmt='5d', cmap='Blues')\n",
    "plt.savefig(\"confusion_matrix.png\")"
   ]
  },
  {
   "cell_type": "markdown",
   "id": "6cb17f5c",
   "metadata": {},
   "source": [
    "### Classification report"
   ]
  },
  {
   "cell_type": "code",
   "execution_count": null,
   "id": "390d798a",
   "metadata": {},
   "outputs": [],
   "source": [
    "print(classification_report(target, opt_oof.argmax(axis=1), digits=4))\n",
    "\n",
    "report = pd.DataFrame(classification_report(target, opt_oof.argmax(axis=1), digits=4, output_dict=True)).transpose()\n",
    "report.to_csv(\"report.csv\")"
   ]
  },
  {
   "cell_type": "markdown",
   "id": "41a16abe",
   "metadata": {},
   "source": [
    "## Submission"
   ]
  },
  {
   "cell_type": "code",
   "execution_count": null,
   "id": "f9adf99e",
   "metadata": {},
   "outputs": [],
   "source": [
    "submission.iloc[:, 1:] = opt_pred  \n",
    "submission.to_csv(\"submission.csv\", index=False)"
   ]
  },
  {
   "cell_type": "code",
   "execution_count": null,
   "id": "ddbf9743",
   "metadata": {},
   "outputs": [],
   "source": [
    "plt.figure(figsize=(16, 8), tight_layout=True)\n",
    "for i in range(9):\n",
    "    plt.subplot(3, 3, i+1)\n",
    "    plt.title(f\"Class_{i+1}\")\n",
    "    submission[f'Class_{i+1}'].hist()"
   ]
  }
 ],
 "metadata": {
  "kernelspec": {
   "display_name": "Python 3 (ipykernel)",
   "language": "python",
   "name": "python3"
  },
  "language_info": {
   "codemirror_mode": {
    "name": "ipython",
    "version": 3
   },
   "file_extension": ".py",
   "mimetype": "text/x-python",
   "name": "python",
   "nbconvert_exporter": "python",
   "pygments_lexer": "ipython3",
   "version": "3.9.5"
  }
 },
 "nbformat": 4,
 "nbformat_minor": 5
}
