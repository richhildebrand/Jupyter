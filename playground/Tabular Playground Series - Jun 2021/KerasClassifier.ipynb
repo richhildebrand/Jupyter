{
 "cells": [
  {
   "cell_type": "code",
   "execution_count": null,
   "id": "e8e43243",
   "metadata": {},
   "outputs": [],
   "source": [
    "# From https://www.kaggle.com/bhavikjain/tps-june-21-eda-models"
   ]
  },
  {
   "cell_type": "code",
   "execution_count": 18,
   "id": "3abeb358",
   "metadata": {},
   "outputs": [
    {
     "name": "stdout",
     "output_type": "stream",
     "text": [
      "Requirement already satisfied: tensorflow in /opt/conda/lib/python3.9/site-packages (2.5.0)\n",
      "Requirement already satisfied: flatbuffers~=1.12.0 in /opt/conda/lib/python3.9/site-packages (from tensorflow) (1.12)\n",
      "Requirement already satisfied: wrapt~=1.12.1 in /opt/conda/lib/python3.9/site-packages (from tensorflow) (1.12.1)\n",
      "Requirement already satisfied: termcolor~=1.1.0 in /opt/conda/lib/python3.9/site-packages (from tensorflow) (1.1.0)\n",
      "Requirement already satisfied: astunparse~=1.6.3 in /opt/conda/lib/python3.9/site-packages (from tensorflow) (1.6.3)\n",
      "Requirement already satisfied: keras-preprocessing~=1.1.2 in /opt/conda/lib/python3.9/site-packages (from tensorflow) (1.1.2)\n",
      "Requirement already satisfied: opt-einsum~=3.3.0 in /opt/conda/lib/python3.9/site-packages (from tensorflow) (3.3.0)\n",
      "Requirement already satisfied: protobuf>=3.9.2 in /opt/conda/lib/python3.9/site-packages (from tensorflow) (3.17.2)\n",
      "Requirement already satisfied: h5py~=3.1.0 in /opt/conda/lib/python3.9/site-packages (from tensorflow) (3.1.0)\n",
      "Requirement already satisfied: tensorflow-estimator<2.6.0,>=2.5.0rc0 in /opt/conda/lib/python3.9/site-packages (from tensorflow) (2.5.0)\n",
      "Requirement already satisfied: gast==0.4.0 in /opt/conda/lib/python3.9/site-packages (from tensorflow) (0.4.0)\n",
      "Requirement already satisfied: absl-py~=0.10 in /opt/conda/lib/python3.9/site-packages (from tensorflow) (0.13.0)\n",
      "Requirement already satisfied: numpy~=1.19.2 in /opt/conda/lib/python3.9/site-packages (from tensorflow) (1.19.5)\n",
      "Requirement already satisfied: tensorboard~=2.5 in /opt/conda/lib/python3.9/site-packages (from tensorflow) (2.5.0)\n",
      "Requirement already satisfied: six~=1.15.0 in /opt/conda/lib/python3.9/site-packages (from tensorflow) (1.15.0)\n",
      "Requirement already satisfied: grpcio~=1.34.0 in /opt/conda/lib/python3.9/site-packages (from tensorflow) (1.34.1)\n",
      "Requirement already satisfied: wheel~=0.35 in /opt/conda/lib/python3.9/site-packages (from tensorflow) (0.36.2)\n",
      "Requirement already satisfied: typing-extensions~=3.7.4 in /opt/conda/lib/python3.9/site-packages (from tensorflow) (3.7.4.3)\n",
      "Requirement already satisfied: google-pasta~=0.2 in /opt/conda/lib/python3.9/site-packages (from tensorflow) (0.2.0)\n",
      "Requirement already satisfied: keras-nightly~=2.5.0.dev in /opt/conda/lib/python3.9/site-packages (from tensorflow) (2.5.0.dev2021032900)\n",
      "Requirement already satisfied: setuptools>=41.0.0 in /opt/conda/lib/python3.9/site-packages (from tensorboard~=2.5->tensorflow) (49.6.0.post20210108)\n",
      "Requirement already satisfied: google-auth-oauthlib<0.5,>=0.4.1 in /opt/conda/lib/python3.9/site-packages (from tensorboard~=2.5->tensorflow) (0.4.4)\n",
      "Requirement already satisfied: google-auth<2,>=1.6.3 in /opt/conda/lib/python3.9/site-packages (from tensorboard~=2.5->tensorflow) (1.31.0)\n",
      "Requirement already satisfied: requests<3,>=2.21.0 in /opt/conda/lib/python3.9/site-packages (from tensorboard~=2.5->tensorflow) (2.25.1)\n",
      "Requirement already satisfied: tensorboard-plugin-wit>=1.6.0 in /opt/conda/lib/python3.9/site-packages (from tensorboard~=2.5->tensorflow) (1.8.0)\n",
      "Requirement already satisfied: markdown>=2.6.8 in /opt/conda/lib/python3.9/site-packages (from tensorboard~=2.5->tensorflow) (3.3.4)\n",
      "Requirement already satisfied: werkzeug>=0.11.15 in /opt/conda/lib/python3.9/site-packages (from tensorboard~=2.5->tensorflow) (2.0.1)\n",
      "Requirement already satisfied: tensorboard-data-server<0.7.0,>=0.6.0 in /opt/conda/lib/python3.9/site-packages (from tensorboard~=2.5->tensorflow) (0.6.1)\n",
      "Requirement already satisfied: cachetools<5.0,>=2.0.0 in /opt/conda/lib/python3.9/site-packages (from google-auth<2,>=1.6.3->tensorboard~=2.5->tensorflow) (4.2.2)\n",
      "Requirement already satisfied: rsa<5,>=3.1.4 in /opt/conda/lib/python3.9/site-packages (from google-auth<2,>=1.6.3->tensorboard~=2.5->tensorflow) (4.7.2)\n",
      "Requirement already satisfied: pyasn1-modules>=0.2.1 in /opt/conda/lib/python3.9/site-packages (from google-auth<2,>=1.6.3->tensorboard~=2.5->tensorflow) (0.2.8)\n",
      "Requirement already satisfied: requests-oauthlib>=0.7.0 in /opt/conda/lib/python3.9/site-packages (from google-auth-oauthlib<0.5,>=0.4.1->tensorboard~=2.5->tensorflow) (1.3.0)\n",
      "Requirement already satisfied: pyasn1<0.5.0,>=0.4.6 in /opt/conda/lib/python3.9/site-packages (from pyasn1-modules>=0.2.1->google-auth<2,>=1.6.3->tensorboard~=2.5->tensorflow) (0.4.8)\n",
      "Requirement already satisfied: idna<3,>=2.5 in /opt/conda/lib/python3.9/site-packages (from requests<3,>=2.21.0->tensorboard~=2.5->tensorflow) (2.10)\n",
      "Requirement already satisfied: certifi>=2017.4.17 in /opt/conda/lib/python3.9/site-packages (from requests<3,>=2.21.0->tensorboard~=2.5->tensorflow) (2021.5.30)\n",
      "Requirement already satisfied: chardet<5,>=3.0.2 in /opt/conda/lib/python3.9/site-packages (from requests<3,>=2.21.0->tensorboard~=2.5->tensorflow) (4.0.0)\n",
      "Requirement already satisfied: urllib3<1.27,>=1.21.1 in /opt/conda/lib/python3.9/site-packages (from requests<3,>=2.21.0->tensorboard~=2.5->tensorflow) (1.26.5)\n",
      "Requirement already satisfied: oauthlib>=3.0.0 in /opt/conda/lib/python3.9/site-packages (from requests-oauthlib>=0.7.0->google-auth-oauthlib<0.5,>=0.4.1->tensorboard~=2.5->tensorflow) (3.1.1)\n"
     ]
    }
   ],
   "source": [
    "!pip install tensorflow"
   ]
  },
  {
   "cell_type": "code",
   "execution_count": 19,
   "id": "bec1edcd",
   "metadata": {},
   "outputs": [
    {
     "name": "stdout",
     "output_type": "stream",
     "text": [
      "Requirement already satisfied: tensorflow-addons in /opt/conda/lib/python3.9/site-packages (0.13.0)\r\n",
      "Requirement already satisfied: typeguard>=2.7 in /opt/conda/lib/python3.9/site-packages (from tensorflow-addons) (2.12.1)\r\n"
     ]
    }
   ],
   "source": [
    "!pip install tensorflow-addons"
   ]
  },
  {
   "cell_type": "code",
   "execution_count": 37,
   "id": "64813678",
   "metadata": {},
   "outputs": [],
   "source": [
    "import pandas as pd\n",
    "import numpy as np\n",
    "\n",
    "from sklearn.model_selection import StratifiedKFold\n",
    "from sklearn import preprocessing\n",
    "from sklearn.metrics import log_loss\n",
    "\n",
    "import gc\n",
    "import seaborn as sns\n",
    "import matplotlib.pyplot as plt\n",
    "import tensorflow as tf\n",
    "import tensorflow_addons as tfa\n",
    "import tensorflow.keras.backend as K\n",
    "from tensorflow import keras\n",
    "from tensorflow.keras import layers\n",
    "from tensorflow.keras import activations,callbacks\n",
    "from tensorflow.keras.optimizers import Adam\n",
    "from tensorflow.keras.metrics import categorical_crossentropy\n",
    "from tensorflow.keras.utils import to_categorical\n",
    "from tensorflow.keras import initializers\n",
    "\n",
    "from keras.models import Model"
   ]
  },
  {
   "cell_type": "code",
   "execution_count": 50,
   "id": "68feeded",
   "metadata": {},
   "outputs": [
    {
     "name": "stdout",
     "output_type": "stream",
     "text": [
      "73\n"
     ]
    }
   ],
   "source": [
    "train = pd.read_csv('train.csv')\n",
    "test = pd.read_csv('test.csv')\n",
    "\n",
    "# try dropping some columns\n",
    "missing_columns = ['feature_47', 'feature_7']\n",
    "train = train.drop(missing_columns, 1)\n",
    "test = test.drop(missing_columns, 1)\n",
    "\n",
    "X_dim = np.shape(train)[1] - 2 # id and target\n",
    "print(X_dim)"
   ]
  },
  {
   "cell_type": "code",
   "execution_count": 51,
   "id": "e6071585",
   "metadata": {},
   "outputs": [],
   "source": [
    "targets = pd.get_dummies(train['target'])"
   ]
  },
  {
   "cell_type": "code",
   "execution_count": 52,
   "id": "fef092cc",
   "metadata": {},
   "outputs": [],
   "source": [
    "def custom_metric(y_true, y_pred):\n",
    "    y_pred = K.clip(y_pred, 1e-15, 1-1e-15)\n",
    "    loss = K.mean(cce(y_true, y_pred))\n",
    "    return loss\n",
    "\n",
    "cce = tf.keras.losses.CategoricalCrossentropy()\n",
    "\n",
    "es = tf.keras.callbacks.EarlyStopping(\n",
    "    monitor='val_custom_metric', min_delta=1e-05, patience=5, verbose=0,\n",
    "    mode='min', baseline=None, restore_best_weights=True)\n",
    "\n",
    "plateau = tf.keras.callbacks.ReduceLROnPlateau(\n",
    "    monitor='val_custom_metric', factor=0.7, patience=2, verbose=0,\n",
    "    mode='min')"
   ]
  },
  {
   "cell_type": "code",
   "execution_count": 53,
   "id": "81f6beae",
   "metadata": {},
   "outputs": [],
   "source": [
    "def conv_model():\n",
    "\n",
    "    conv_inputs = layers.Input(shape = (X_dim))\n",
    "    embed = layers.Embedding (input_dim = 354, \n",
    "                              output_dim = 7,\n",
    "                              embeddings_regularizer='l2')(conv_inputs)\n",
    "    embed = layers.Conv1D(12,1,activation = 'relu')(embed)        \n",
    "    embed = layers.Flatten()(embed)\n",
    "    hidden = layers.Dropout(0.3)(embed)\n",
    "    \n",
    "    hidden = tfa.layers.WeightNormalization(\n",
    "                layers.Dense(\n",
    "                units=32,\n",
    "                activation ='selu',\n",
    "                kernel_initializer = \"lecun_normal\"))(hidden)\n",
    "    \n",
    "    output = layers.Dropout(0.3)(layers.Concatenate()([embed, hidden]))\n",
    "    output = tfa.layers.WeightNormalization(\n",
    "    layers.Dense(\n",
    "                units = 32,\n",
    "                activation='relu',\n",
    "                kernel_initializer = \"lecun_normal\"))(output) \n",
    "    output = layers.Dropout(0.4)(layers.Concatenate()([embed, hidden, output]))\n",
    "    output = tfa.layers.WeightNormalization(\n",
    "    layers.Dense(\n",
    "                units = 32, \n",
    "                activation = 'relu',\n",
    "                kernel_initializer = \"lecun_normal\"))(output)\n",
    "    \n",
    "    conv_outputs = layers.Dense(\n",
    "                units = 9, \n",
    "                activation ='softmax',\n",
    "                kernel_initializer =\"lecun_normal\")(output)\n",
    "    \n",
    "    model = Model(conv_inputs,conv_outputs)\n",
    "    \n",
    "    return model"
   ]
  },
  {
   "cell_type": "code",
   "execution_count": 58,
   "id": "db9a9f00",
   "metadata": {
    "scrolled": false
   },
   "outputs": [
    {
     "name": "stdout",
     "output_type": "stream",
     "text": [
      "2021-06-23 16:53:00.563245\n",
      "\n",
      " ====== TRAINING FOLD 0 =======\n",
      "FOLD 0 Score convolution model: 1.7497505730363354\n",
      "\n",
      "\n",
      " ====== TRAINING FOLD 1 =======\n",
      "FOLD 1 Score convolution model: 1.753056100376863\n",
      "\n",
      "=== FINAL SCORE CONVOLUTION MODEL : 1.751403342110143===\n",
      "2021-06-23 16:54:38.072303\n"
     ]
    }
   ],
   "source": [
    "import datetime;\n",
    "import time;\n",
    "print(datetime.datetime.now())\n",
    "start = time.time()\n",
    "\n",
    "oof_NN_a = np.zeros((train.shape[0],9))\n",
    "pred_NN_a = np.zeros((test.shape[0],9))\n",
    "\n",
    "N_FOLDS = 2\n",
    "SEED = 2021\n",
    "EPOCH = 60\n",
    "\n",
    "\n",
    "skf = StratifiedKFold(n_splits=N_FOLDS, shuffle=True, random_state=SEED)\n",
    "\n",
    "for fold, (tr_idx, ts_idx) in enumerate(skf.split(train,train.iloc[:,-1])):\n",
    "    print(f\"\\n ====== TRAINING FOLD {fold} =======\")\n",
    "\n",
    "    X_train = train.iloc[:,1:-1].iloc[tr_idx]\n",
    "    y_train = targets.iloc[tr_idx]\n",
    "    X_test = train.iloc[:,1:-1].iloc[ts_idx]\n",
    "    y_test = targets.iloc[ts_idx]\n",
    "\n",
    "    K.clear_session()\n",
    "    \n",
    "    #print(\"\\n-----Convolution model Training----\\n\")\n",
    "\n",
    "    model_conv = conv_model()\n",
    "\n",
    "    model_conv.compile(loss='categorical_crossentropy', \n",
    "                            optimizer= 'adam', #keras.optimizers.Adam(learning_rate=2e-4), \n",
    "                            metrics=custom_metric)\n",
    "    model_conv.fit(X_train, y_train,\n",
    "              batch_size = 256, epochs = EPOCH,\n",
    "              validation_data=(X_test, y_test),\n",
    "              callbacks=[es, plateau],\n",
    "              verbose = 0)\n",
    "   \n",
    "    pred_a = model_conv.predict(X_test) \n",
    "    oof_NN_a[ts_idx] += pred_a \n",
    "    score_NN_a = log_loss(y_test, pred_a)\n",
    "    print(f\"FOLD {fold} Score convolution model: {score_NN_a}\\n\")\n",
    "    pred_NN_a += model_conv.predict(test.iloc[:,1:]) / N_FOLDS \n",
    " \n",
    "score_a = log_loss(targets, oof_NN_a)\n",
    "print(f\"=== FINAL SCORE CONVOLUTION MODEL : {score_a}===\\n\")\n",
    "print(datetime.datetime.now())\n",
    "minutes = (time.time() - start) / 60"
   ]
  },
  {
   "cell_type": "code",
   "execution_count": 56,
   "id": "eb6ad6d5",
   "metadata": {},
   "outputs": [],
   "source": [
    "pred_embedding = pred_NN_a"
   ]
  },
  {
   "cell_type": "code",
   "execution_count": 57,
   "id": "5eb09d57",
   "metadata": {},
   "outputs": [],
   "source": [
    "submission = pd.read_csv(\"./sample_submission.csv\")\n",
    "submission['Class_1']=pred_embedding[:,0]\n",
    "submission['Class_2']=pred_embedding[:,1]\n",
    "submission['Class_3']=pred_embedding[:,2]\n",
    "submission['Class_4']=pred_embedding[:,3]\n",
    "submission['Class_5']=pred_embedding[:,4]\n",
    "submission['Class_6']=pred_embedding[:,5]\n",
    "submission['Class_7']=pred_embedding[:,6]\n",
    "submission['Class_8']=pred_embedding[:,7]\n",
    "submission['Class_9']=pred_embedding[:,8]\n",
    "\n",
    "submission.to_csv(\"submission.csv\", index=False)"
   ]
  }
 ],
 "metadata": {
  "kernelspec": {
   "display_name": "Python 3",
   "language": "python",
   "name": "python3"
  },
  "language_info": {
   "codemirror_mode": {
    "name": "ipython",
    "version": 3
   },
   "file_extension": ".py",
   "mimetype": "text/x-python",
   "name": "python",
   "nbconvert_exporter": "python",
   "pygments_lexer": "ipython3",
   "version": "3.9.4"
  }
 },
 "nbformat": 4,
 "nbformat_minor": 5
}
