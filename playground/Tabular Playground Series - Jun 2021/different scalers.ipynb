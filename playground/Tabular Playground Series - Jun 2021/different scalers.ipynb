{
 "cells": [
  {
   "cell_type": "code",
   "execution_count": 25,
   "id": "4926f0b9",
   "metadata": {},
   "outputs": [],
   "source": [
    "import time\n",
    "import datetime\n",
    "\n",
    "import numpy as np\n",
    "import pandas as pd\n",
    "import optgbm as opt\n",
    "from sklearn.metrics import log_loss\n",
    "from sklearn.model_selection import train_test_split"
   ]
  },
  {
   "cell_type": "code",
   "execution_count": 26,
   "id": "85b5edff",
   "metadata": {},
   "outputs": [],
   "source": [
    "train_df = pd.read_csv('train.csv')\n",
    "test_df = pd.read_csv('test.csv')"
   ]
  },
  {
   "cell_type": "code",
   "execution_count": 28,
   "id": "5ad6b29a",
   "metadata": {},
   "outputs": [],
   "source": [
    "from sklearn.preprocessing import LabelEncoder\n",
    "features_target = ['target'] \n",
    "\n",
    "for feature in features_target:\n",
    "    le = LabelEncoder()\n",
    "    le.fit(train_df[feature])\n",
    "    train_df[feature] = le.transform(train_df[feature])"
   ]
  },
  {
   "cell_type": "code",
   "execution_count": 29,
   "id": "1aa2c5ef",
   "metadata": {},
   "outputs": [
    {
     "name": "stdout",
     "output_type": "stream",
     "text": [
      "200000\n",
      "199894\n"
     ]
    }
   ],
   "source": [
    "print(len(train_df))\n",
    "non_id_columns = train_df.columns[train_df.columns != 'id']\n",
    "train_df = train_df.drop_duplicates(subset=non_id_columns)\n",
    "print(len(train_df))"
   ]
  },
  {
   "cell_type": "code",
   "execution_count": 30,
   "id": "c93405e2",
   "metadata": {},
   "outputs": [
    {
     "name": "stdout",
     "output_type": "stream",
     "text": [
      "train count:  99947\n",
      "test count:  99947\n"
     ]
    }
   ],
   "source": [
    "target = train_df['target']\n",
    "train_features = train_df.drop(['target', 'id'], 1)\n",
    "\n",
    "train_percent = 0.50\n",
    "\n",
    "X_train, X_test, y_train, y_test = train_test_split(train_features, target, stratify=target, train_size=train_percent)\n",
    "print('train count: ', len(y_train))\n",
    "print('test count: ', len(y_test))"
   ]
  },
  {
   "cell_type": "code",
   "execution_count": 31,
   "id": "ca9f326e",
   "metadata": {},
   "outputs": [],
   "source": [
    "def do_transform(the_train, the_test, scaler):\n",
    "    full_df = pd.concat([the_train, the_test])\n",
    "    scaler.fit(full_df)\n",
    "    encoder.transform(the_train), encoder.transform(the_test)\n",
    "        \n",
    "    return the_train, the_test"
   ]
  },
  {
   "cell_type": "code",
   "execution_count": 32,
   "id": "c43f26ab",
   "metadata": {},
   "outputs": [],
   "source": [
    "def do_train(X_train, y_train):\n",
    "    print(datetime.datetime.now())\n",
    "    start = time.time()\n",
    "\n",
    "    lgbm = opt.LGBMClassifier()\n",
    "    lgbm.fit(X_train, y_train)\n",
    "\n",
    "    minutes = (time.time() - start) / 60\n",
    "    print(round(minutes, 2))\n",
    "    print(datetime.datetime.now())\n",
    "    \n",
    "    return lgbm"
   ]
  },
  {
   "cell_type": "code",
   "execution_count": 34,
   "id": "3e80761f",
   "metadata": {},
   "outputs": [],
   "source": [
    "def do_test(X_test, y_test, model):\n",
    "    test_preds = model.predict_proba(X_test)\n",
    "    print(abs(log_loss(y_test, test_preds)))\n",
    "    return test_preds"
   ]
  },
  {
   "cell_type": "code",
   "execution_count": 35,
   "id": "7287a028",
   "metadata": {},
   "outputs": [],
   "source": [
    "def do_all(X_test, y_test, X_train, y_train, scaler):\n",
    "    X_train_trainsformed, X_test_trainsformed = do_transform(X_train, X_test, s_scaler)\n",
    "    model = do_train(X_train_trainsformed, y_train)\n",
    "    preds = do_test(X_test_trainsformed, y_test, s_model)\n",
    "    return model, preds"
   ]
  },
  {
   "cell_type": "code",
   "execution_count": 61,
   "id": "01b1205d",
   "metadata": {},
   "outputs": [],
   "source": [
    "# sklearn.preprocessing.StandardScaler\n",
    "from sklearn.preprocessing import StandardScaler\n",
    "s_scaler = StandardScaler()\n",
    "s_model, s_preds = do_all(X_test, y_test, X_train, y_train, s_scaler)"
   ]
  },
  {
   "cell_type": "code",
   "execution_count": null,
   "id": "57e31c2c",
   "metadata": {},
   "outputs": [],
   "source": [
    "# sklearn.preprocessing.RobustScaler\n",
    "from sklearn.preprocessing import RobustScaler\n",
    "r_scaler = RobustScaler()\n",
    "r_model, r_preds = do_all(X_test, y_test, X_train, y_train, r_scaler)"
   ]
  },
  {
   "cell_type": "code",
   "execution_count": null,
   "id": "f10806b7",
   "metadata": {},
   "outputs": [],
   "source": [
    "# sklearn.preprocessing.MinMaxScaler\n",
    "from sklearn.preprocessing import MinMaxScaler\n",
    "mm_scaler = MinMaxScaler()\n",
    "mm_model, mm_preds = do_all(X_test, y_test, X_train, y_train, mm_scaler)"
   ]
  },
  {
   "cell_type": "code",
   "execution_count": null,
   "id": "860191c3",
   "metadata": {},
   "outputs": [],
   "source": [
    "# sklearn.preprocessing.Normalizer\n",
    "from sklearn.preprocessing import Normalizer\n",
    "the_normalizer = Normalizer()\n",
    "n_model, n_preds = do_all(X_test, y_test, X_train, y_train, the_normalizer)"
   ]
  }
 ],
 "metadata": {
  "kernelspec": {
   "display_name": "Python 3",
   "language": "python",
   "name": "python3"
  },
  "language_info": {
   "codemirror_mode": {
    "name": "ipython",
    "version": 3
   },
   "file_extension": ".py",
   "mimetype": "text/x-python",
   "name": "python",
   "nbconvert_exporter": "python",
   "pygments_lexer": "ipython3",
   "version": "3.9.4"
  }
 },
 "nbformat": 4,
 "nbformat_minor": 5
}
