{
 "cells": [
  {
   "cell_type": "code",
   "execution_count": 1,
   "id": "4926f0b9",
   "metadata": {},
   "outputs": [],
   "source": [
    "import time\n",
    "import datetime\n",
    "\n",
    "import numpy as np\n",
    "import pandas as pd\n",
    "import optgbm as opt\n",
    "from sklearn.metrics import log_loss\n",
    "from sklearn.model_selection import train_test_split"
   ]
  },
  {
   "cell_type": "code",
   "execution_count": 2,
   "id": "85b5edff",
   "metadata": {},
   "outputs": [],
   "source": [
    "train_df = pd.read_csv('train.csv')\n",
    "test_df = pd.read_csv('test.csv')"
   ]
  },
  {
   "cell_type": "code",
   "execution_count": 3,
   "id": "6617d315",
   "metadata": {},
   "outputs": [],
   "source": [
    "from sklearn.preprocessing import LabelEncoder\n",
    "features_target = ['target'] \n",
    "\n",
    "for feature in features_target:\n",
    "    le = LabelEncoder()\n",
    "    le.fit(train_df[feature])\n",
    "    train_df[feature] = le.transform(train_df[feature])"
   ]
  },
  {
   "cell_type": "code",
   "execution_count": 4,
   "id": "0980d34f",
   "metadata": {},
   "outputs": [
    {
     "name": "stdout",
     "output_type": "stream",
     "text": [
      "200000\n",
      "199894\n"
     ]
    }
   ],
   "source": [
    "print(len(train_df))\n",
    "non_id_columns = train_df.columns[train_df.columns != 'id']\n",
    "train_df = train_df.drop_duplicates(subset=non_id_columns)\n",
    "print(len(train_df))"
   ]
  },
  {
   "cell_type": "code",
   "execution_count": 5,
   "id": "85c3b629",
   "metadata": {},
   "outputs": [
    {
     "name": "stdout",
     "output_type": "stream",
     "text": [
      "train count:  99947\n",
      "test count:  99947\n"
     ]
    }
   ],
   "source": [
    "target = train_df['target']\n",
    "train_features = train_df.drop(['target', 'id'], 1)\n",
    "\n",
    "train_percent = 0.50\n",
    "\n",
    "X_train, X_test, y_train, y_test = train_test_split(train_features, target, stratify=target, train_size=train_percent)\n",
    "print('train count: ', len(y_train))\n",
    "print('test count: ', len(y_test))"
   ]
  },
  {
   "cell_type": "code",
   "execution_count": 6,
   "id": "ca9f326e",
   "metadata": {},
   "outputs": [],
   "source": [
    "def do_transform(the_train, the_test, scaler):\n",
    "    full_df = pd.concat([the_train, the_test])\n",
    "    scaler.fit(full_df)\n",
    "    return scaler.transform(the_train), scaler.transform(the_test)"
   ]
  },
  {
   "cell_type": "code",
   "execution_count": 7,
   "id": "bd314f1d",
   "metadata": {},
   "outputs": [],
   "source": [
    "def do_train(X_train, y_train):\n",
    "    print(datetime.datetime.now())\n",
    "    start = time.time()\n",
    "\n",
    "    lgbm = opt.LGBMClassifier()\n",
    "    lgbm.fit(X_train, y_train)\n",
    "\n",
    "    minutes = (time.time() - start) / 60\n",
    "    print(round(minutes, 2))\n",
    "    print(datetime.datetime.now())\n",
    "    \n",
    "    return lgbm"
   ]
  },
  {
   "cell_type": "code",
   "execution_count": 8,
   "id": "4cd55c2a",
   "metadata": {},
   "outputs": [],
   "source": [
    "def do_test(X_test, y_test, model):\n",
    "    test_preds = model.predict_proba(X_test)\n",
    "    print(abs(log_loss(y_test, test_preds)))\n",
    "    return test_preds"
   ]
  },
  {
   "cell_type": "code",
   "execution_count": 9,
   "id": "f511bc25",
   "metadata": {},
   "outputs": [],
   "source": [
    "def do_all(X_test, y_test, X_train, y_train, scaler):\n",
    "    X_train_trainsformed, X_test_trainsformed = do_transform(X_train, X_test, s_scaler)\n",
    "    model = do_train(X_train_trainsformed, y_train)\n",
    "    preds = do_test(X_test_trainsformed, y_test, model)\n",
    "    return model, preds"
   ]
  },
  {
   "cell_type": "code",
   "execution_count": 10,
   "id": "01b1205d",
   "metadata": {},
   "outputs": [
    {
     "name": "stderr",
     "output_type": "stream",
     "text": [
      "/opt/conda/lib/python3.9/site-packages/sklearn/utils/validation.py:70: FutureWarning: Pass classifier=True as keyword args. From version 1.0 (renaming of 0.25) passing these as positional arguments will result in an error\n",
      "  warnings.warn(f\"Pass {args_msg} as keyword args. From version \"\n",
      "\u001b[32m[I 2021-06-29 00:21:10,299]\u001b[0m A new study created in memory with name: no-name-e3d58dbe-cb50-4e35-9c9a-9319a571732b\u001b[0m\n",
      "Searching the best hyperparameters...\n"
     ]
    },
    {
     "name": "stdout",
     "output_type": "stream",
     "text": [
      "2021-06-29 00:21:10.288211\n"
     ]
    },
    {
     "name": "stderr",
     "output_type": "stream",
     "text": [
      "\u001b[32m[I 2021-06-29 00:21:22,577]\u001b[0m Trial 0 finished with value: 1.7639335682722972 and parameters: {'feature_fraction': 0.85, 'max_depth': 1, 'num_leaves': 2, 'min_data_in_leaf': 4796, 'lambda_l1': 1.9481674052467327e-05, 'lambda_l2': 7.65295001973986, 'bagging_fraction': 0.8, 'bagging_freq': 5}. Best is trial 0 with value: 1.7639335682722972.\u001b[0m\n",
      "\u001b[32m[I 2021-06-29 00:21:48,961]\u001b[0m Trial 1 finished with value: 1.7652741379161783 and parameters: {'feature_fraction': 0.30000000000000004, 'max_depth': 1, 'num_leaves': 2, 'min_data_in_leaf': 14370, 'lambda_l1': 3.6644174583805586e-05, 'lambda_l2': 0.0008907876552715858, 'bagging_fraction': 0.7, 'bagging_freq': 3}. Best is trial 0 with value: 1.7639335682722972.\u001b[0m\n",
      "\u001b[32m[I 2021-06-29 00:22:13,471]\u001b[0m Trial 2 finished with value: 1.752439045085882 and parameters: {'feature_fraction': 0.8, 'max_depth': 3, 'num_leaves': 8, 'min_data_in_leaf': 7111, 'lambda_l1': 0.000627995954613307, 'lambda_l2': 0.0011199422048567302, 'bagging_fraction': 0.95, 'bagging_freq': 9}. Best is trial 2 with value: 1.752439045085882.\u001b[0m\n",
      "\u001b[32m[I 2021-06-29 00:22:42,179]\u001b[0m Trial 3 finished with value: 1.7519260417743663 and parameters: {'feature_fraction': 0.7000000000000001, 'max_depth': 4, 'num_leaves': 16, 'min_data_in_leaf': 4531, 'lambda_l1': 6.170354729277968e-06, 'lambda_l2': 1.7530691765741522e-06, 'bagging_fraction': 0.9, 'bagging_freq': 7}. Best is trial 3 with value: 1.7519260417743663.\u001b[0m\n",
      "\u001b[32m[I 2021-06-29 00:22:55,053]\u001b[0m Trial 4 finished with value: 1.7673182037324522 and parameters: {'feature_fraction': 1.0, 'max_depth': 2, 'num_leaves': 2, 'min_data_in_leaf': 13356, 'lambda_l1': 1.4190621708050668, 'lambda_l2': 0.022298092477630004, 'bagging_fraction': 0.55, 'bagging_freq': 4}. Best is trial 3 with value: 1.7519260417743663.\u001b[0m\n",
      "\u001b[32m[I 2021-06-29 00:23:43,350]\u001b[0m Trial 5 finished with value: 1.7515614562923223 and parameters: {'feature_fraction': 0.45000000000000007, 'max_depth': 5, 'num_leaves': 32, 'min_data_in_leaf': 2524, 'lambda_l1': 0.0013486952124263372, 'lambda_l2': 0.045703095913158936, 'bagging_fraction': 0.95, 'bagging_freq': 7}. Best is trial 5 with value: 1.7515614562923223.\u001b[0m\n",
      "\u001b[32m[I 2021-06-29 00:24:12,544]\u001b[0m Trial 6 finished with value: 1.7529139767446733 and parameters: {'feature_fraction': 0.8, 'max_depth': 5, 'num_leaves': 24, 'min_data_in_leaf': 2229, 'lambda_l1': 6.061964751983566e-09, 'lambda_l2': 0.13077998327314877, 'bagging_fraction': 0.9, 'bagging_freq': 9}. Best is trial 5 with value: 1.7515614562923223.\u001b[0m\n",
      "\u001b[32m[I 2021-06-29 00:24:39,700]\u001b[0m Trial 7 finished with value: 1.7551066901221517 and parameters: {'feature_fraction': 1.0, 'max_depth': 6, 'num_leaves': 7, 'min_data_in_leaf': 13883, 'lambda_l1': 0.011883210407171305, 'lambda_l2': 0.7285541906897643, 'bagging_fraction': 0.95, 'bagging_freq': 5}. Best is trial 5 with value: 1.7515614562923223.\u001b[0m\n",
      "\u001b[32m[I 2021-06-29 00:25:16,631]\u001b[0m Trial 8 finished with value: 1.751726877095285 and parameters: {'feature_fraction': 0.2, 'max_depth': 4, 'num_leaves': 16, 'min_data_in_leaf': 745, 'lambda_l1': 0.09590012398688007, 'lambda_l2': 4.734110440717982e-09, 'bagging_fraction': 0.7, 'bagging_freq': 4}. Best is trial 5 with value: 1.7515614562923223.\u001b[0m\n",
      "\u001b[32m[I 2021-06-29 00:25:45,190]\u001b[0m Trial 9 finished with value: 1.7527100346397897 and parameters: {'feature_fraction': 0.35, 'max_depth': 6, 'num_leaves': 46, 'min_data_in_leaf': 650, 'lambda_l1': 0.4816228137873966, 'lambda_l2': 0.0011622227408208511, 'bagging_fraction': 0.6, 'bagging_freq': 7}. Best is trial 5 with value: 1.7515614562923223.\u001b[0m\n",
      "\u001b[32m[I 2021-06-29 00:26:18,123]\u001b[0m Trial 10 finished with value: 1.7599741333507393 and parameters: {'feature_fraction': 0.5, 'max_depth': 7, 'num_leaves': 98, 'min_data_in_leaf': 53, 'lambda_l1': 1.5733959810319754e-08, 'lambda_l2': 2.196385441744496e-06, 'bagging_fraction': 0.8, 'bagging_freq': 10}. Best is trial 5 with value: 1.7515614562923223.\u001b[0m\n",
      "\u001b[32m[I 2021-06-29 00:26:49,784]\u001b[0m Trial 11 finished with value: 1.7507498908408583 and parameters: {'feature_fraction': 0.15000000000000002, 'max_depth': 4, 'num_leaves': 16, 'min_data_in_leaf': 1675, 'lambda_l1': 0.015401688513724702, 'lambda_l2': 1.1031846863844026e-09, 'bagging_fraction': 0.7, 'bagging_freq': 1}. Best is trial 11 with value: 1.7507498908408583.\u001b[0m\n",
      "\u001b[32m[I 2021-06-29 00:27:23,111]\u001b[0m Trial 12 finished with value: 1.7526049631465863 and parameters: {'feature_fraction': 0.1, 'max_depth': 5, 'num_leaves': 31, 'min_data_in_leaf': 2244, 'lambda_l1': 0.00235613297660138, 'lambda_l2': 1.4251073877519433e-09, 'bagging_fraction': 0.65, 'bagging_freq': 1}. Best is trial 11 with value: 1.7507498908408583.\u001b[0m\n",
      "\u001b[32m[I 2021-06-29 00:27:43,435]\u001b[0m Trial 13 finished with value: 1.7723131851399667 and parameters: {'feature_fraction': 0.45000000000000007, 'max_depth': 3, 'num_leaves': 4, 'min_data_in_leaf': 23448, 'lambda_l1': 5.511785814472391e-07, 'lambda_l2': 3.024703908815012e-06, 'bagging_fraction': 0.8, 'bagging_freq': 1}. Best is trial 11 with value: 1.7507498908408583.\u001b[0m\n",
      "\u001b[32m[I 2021-06-29 00:28:10,477]\u001b[0m Trial 14 finished with value: 1.7508362808807458 and parameters: {'feature_fraction': 0.15000000000000002, 'max_depth': 5, 'num_leaves': 32, 'min_data_in_leaf': 2432, 'lambda_l1': 9.491187952300004, 'lambda_l2': 4.63537246234888e-08, 'bagging_fraction': 0.5, 'bagging_freq': 7}. Best is trial 11 with value: 1.7507498908408583.\u001b[0m\n",
      "\u001b[32m[I 2021-06-29 00:28:35,313]\u001b[0m Trial 15 finished with value: 1.7562732433261448 and parameters: {'feature_fraction': 0.15000000000000002, 'max_depth': 3, 'num_leaves': 8, 'min_data_in_leaf': 7136, 'lambda_l1': 2.394638875984158, 'lambda_l2': 4.005615476850929e-08, 'bagging_fraction': 0.5, 'bagging_freq': 2}. Best is trial 11 with value: 1.7507498908408583.\u001b[0m\n",
      "\u001b[32m[I 2021-06-29 00:29:03,278]\u001b[0m Trial 16 finished with value: 1.7521868337193616 and parameters: {'feature_fraction': 0.25, 'max_depth': 7, 'num_leaves': 67, 'min_data_in_leaf': 1451, 'lambda_l1': 0.051229781618722006, 'lambda_l2': 1.0403183552786528e-07, 'bagging_fraction': 0.5, 'bagging_freq': 8}. Best is trial 11 with value: 1.7507498908408583.\u001b[0m\n",
      "\u001b[32m[I 2021-06-29 00:29:34,719]\u001b[0m Trial 17 finished with value: 1.7519574554953803 and parameters: {'feature_fraction': 0.1, 'max_depth': 6, 'num_leaves': 45, 'min_data_in_leaf': 1644, 'lambda_l1': 5.6764349474121865, 'lambda_l2': 1.1929549016701242e-09, 'bagging_fraction': 0.6, 'bagging_freq': 7}. Best is trial 11 with value: 1.7507498908408583.\u001b[0m\n",
      "\u001b[32m[I 2021-06-29 00:30:18,346]\u001b[0m Trial 18 finished with value: 1.7512517314336435 and parameters: {'feature_fraction': 0.35, 'max_depth': 4, 'num_leaves': 14, 'min_data_in_leaf': 3361, 'lambda_l1': 0.17499614654428725, 'lambda_l2': 4.540936620738466e-08, 'bagging_fraction': 0.75, 'bagging_freq': 6}. Best is trial 11 with value: 1.7507498908408583.\u001b[0m\n",
      "\u001b[32m[I 2021-06-29 00:30:45,784]\u001b[0m Trial 19 finished with value: 1.7524674005339675 and parameters: {'feature_fraction': 0.6, 'max_depth': 5, 'num_leaves': 22, 'min_data_in_leaf': 3328, 'lambda_l1': 5.327366905690061, 'lambda_l2': 3.923299249377422e-05, 'bagging_fraction': 0.55, 'bagging_freq': 10}. Best is trial 11 with value: 1.7507498908408583.\u001b[0m\n",
      "\u001b[32m[I 2021-06-29 00:31:08,639]\u001b[0m Trial 20 finished with value: 1.761510398699017 and parameters: {'feature_fraction': 0.1, 'max_depth': 2, 'num_leaves': 4, 'min_data_in_leaf': 10608, 'lambda_l1': 0.00907296267752128, 'lambda_l2': 1.296015689119217e-08, 'bagging_fraction': 0.65, 'bagging_freq': 6}. Best is trial 11 with value: 1.7507498908408583.\u001b[0m\n",
      "\u001b[32m[I 2021-06-29 00:31:50,729]\u001b[0m Trial 21 finished with value: 1.7512362390461527 and parameters: {'feature_fraction': 0.35, 'max_depth': 4, 'num_leaves': 13, 'min_data_in_leaf': 3419, 'lambda_l1': 0.15336630546082117, 'lambda_l2': 1.2993428069953758e-07, 'bagging_fraction': 0.75, 'bagging_freq': 6}. Best is trial 11 with value: 1.7507498908408583.\u001b[0m\n",
      "\u001b[32m[I 2021-06-29 00:32:29,465]\u001b[0m Trial 22 finished with value: 1.7512393120529754 and parameters: {'feature_fraction': 0.25, 'max_depth': 4, 'num_leaves': 12, 'min_data_in_leaf': 3594, 'lambda_l1': 0.025952045699774804, 'lambda_l2': 1.9857782151405083e-07, 'bagging_fraction': 0.75, 'bagging_freq': 8}. Best is trial 11 with value: 1.7507498908408583.\u001b[0m\n"
     ]
    },
    {
     "name": "stderr",
     "output_type": "stream",
     "text": [
      "\u001b[32m[I 2021-06-29 00:33:06,303]\u001b[0m Trial 23 finished with value: 1.7520322988138168 and parameters: {'feature_fraction': 0.2, 'max_depth': 3, 'num_leaves': 6, 'min_data_in_leaf': 5749, 'lambda_l1': 9.90604140919904, 'lambda_l2': 4.1394314427728146e-07, 'bagging_fraction': 0.8500000000000001, 'bagging_freq': 4}. Best is trial 11 with value: 1.7507498908408583.\u001b[0m\n",
      "\u001b[32m[I 2021-06-29 00:33:48,527]\u001b[0m Trial 24 finished with value: 1.751330497253822 and parameters: {'feature_fraction': 0.35, 'max_depth': 5, 'num_leaves': 20, 'min_data_in_leaf': 2819, 'lambda_l1': 0.41264668082108086, 'lambda_l2': 6.337239113898889e-09, 'bagging_fraction': 0.65, 'bagging_freq': 6}. Best is trial 11 with value: 1.7507498908408583.\u001b[0m\n",
      "\u001b[32m[I 2021-06-29 00:34:32,346]\u001b[0m Trial 25 finished with value: 1.7516870559079578 and parameters: {'feature_fraction': 0.4, 'max_depth': 4, 'num_leaves': 11, 'min_data_in_leaf': 4196, 'lambda_l1': 0.00022068831060077996, 'lambda_l2': 1.8659210983618104e-05, 'bagging_fraction': 0.75, 'bagging_freq': 8}. Best is trial 11 with value: 1.7507498908408583.\u001b[0m\n",
      "\u001b[32m[I 2021-06-29 00:35:14,290]\u001b[0m Trial 26 finished with value: 1.7507208566533212 and parameters: {'feature_fraction': 0.2, 'max_depth': 6, 'num_leaves': 41, 'min_data_in_leaf': 1850, 'lambda_l1': 0.005252258517966577, 'lambda_l2': 1.4481227504426062e-09, 'bagging_fraction': 0.8500000000000001, 'bagging_freq': 5}. Best is trial 26 with value: 1.7507208566533212.\u001b[0m\n",
      "\u001b[32m[I 2021-06-29 00:35:55,178]\u001b[0m Trial 27 finished with value: 1.7504098063774385 and parameters: {'feature_fraction': 0.15000000000000002, 'max_depth': 6, 'num_leaves': 44, 'min_data_in_leaf': 1787, 'lambda_l1': 0.004522988312043019, 'lambda_l2': 1.4963259262980297e-09, 'bagging_fraction': 0.8500000000000001, 'bagging_freq': 2}. Best is trial 27 with value: 1.7504098063774385.\u001b[0m\n",
      "\u001b[32m[I 2021-06-29 00:36:32,164]\u001b[0m Trial 28 finished with value: 1.7501685393172308 and parameters: {'feature_fraction': 0.2, 'max_depth': 7, 'num_leaves': 69, 'min_data_in_leaf': 1444, 'lambda_l1': 0.0042455209961811445, 'lambda_l2': 2.3030822834626096e-09, 'bagging_fraction': 0.8500000000000001, 'bagging_freq': 2}. Best is trial 28 with value: 1.7501685393172308.\u001b[0m\n",
      "\u001b[32m[I 2021-06-29 00:37:06,092]\u001b[0m Trial 29 finished with value: 1.7526872771338617 and parameters: {'feature_fraction': 0.6, 'max_depth': 7, 'num_leaves': 75, 'min_data_in_leaf': 1316, 'lambda_l1': 5.033988033544998e-06, 'lambda_l2': 3.6228258189230137e-09, 'bagging_fraction': 0.8500000000000001, 'bagging_freq': 2}. Best is trial 28 with value: 1.7501685393172308.\u001b[0m\n",
      "\u001b[32m[I 2021-06-29 00:37:47,570]\u001b[0m Trial 30 finished with value: 1.7504662468774108 and parameters: {'feature_fraction': 0.25, 'max_depth': 6, 'num_leaves': 46, 'min_data_in_leaf': 1849, 'lambda_l1': 8.759999631308599e-05, 'lambda_l2': 1.1736044355445081e-09, 'bagging_fraction': 0.8500000000000001, 'bagging_freq': 3}. Best is trial 28 with value: 1.7501685393172308.\u001b[0m\n",
      "\u001b[32m[I 2021-06-29 00:38:29,716]\u001b[0m Trial 31 finished with value: 1.7501632972636298 and parameters: {'feature_fraction': 0.25, 'max_depth': 6, 'num_leaves': 45, 'min_data_in_leaf': 1912, 'lambda_l1': 0.00012169747632208114, 'lambda_l2': 1.1178999014404614e-09, 'bagging_fraction': 0.8500000000000001, 'bagging_freq': 3}. Best is trial 31 with value: 1.7501632972636298.\u001b[0m\n",
      "\u001b[32m[I 2021-06-29 00:39:16,696]\u001b[0m Trial 32 finished with value: 1.7502768490977325 and parameters: {'feature_fraction': 0.25, 'max_depth': 7, 'num_leaves': 57, 'min_data_in_leaf': 1743, 'lambda_l1': 3.912963363943884e-05, 'lambda_l2': 1.3388842185898171e-08, 'bagging_fraction': 0.9, 'bagging_freq': 3}. Best is trial 31 with value: 1.7501632972636298.\u001b[0m\n",
      "\u001b[32m[I 2021-06-29 00:40:00,916]\u001b[0m Trial 33 finished with value: 1.75086427114963 and parameters: {'feature_fraction': 0.30000000000000004, 'max_depth': 7, 'num_leaves': 58, 'min_data_in_leaf': 1698, 'lambda_l1': 0.0004238735513251069, 'lambda_l2': 1.456995467985077e-08, 'bagging_fraction': 0.9, 'bagging_freq': 2}. Best is trial 31 with value: 1.7501632972636298.\u001b[0m\n",
      "\u001b[32m[I 2021-06-29 00:40:40,319]\u001b[0m Trial 34 finished with value: 1.7517079193962957 and parameters: {'feature_fraction': 0.30000000000000004, 'max_depth': 7, 'num_leaves': 83, 'min_data_in_leaf': 1001, 'lambda_l1': 1.612930837969969e-05, 'lambda_l2': 1.3102231357870072e-08, 'bagging_fraction': 0.9, 'bagging_freq': 3}. Best is trial 31 with value: 1.7501632972636298.\u001b[0m\n",
      "\u001b[32m[I 2021-06-29 00:41:21,310]\u001b[0m Trial 35 finished with value: 1.752230743365465 and parameters: {'feature_fraction': 0.1, 'max_depth': 6, 'num_leaves': 55, 'min_data_in_leaf': 1816, 'lambda_l1': 1.733771503194696e-06, 'lambda_l2': 8.230053041670945e-07, 'bagging_fraction': 0.8, 'bagging_freq': 2}. Best is trial 31 with value: 1.7501632972636298.\u001b[0m\n",
      "\u001b[32m[I 2021-06-29 00:42:01,688]\u001b[0m Trial 36 finished with value: 1.7504175770524903 and parameters: {'feature_fraction': 0.2, 'max_depth': 7, 'num_leaves': 58, 'min_data_in_leaf': 1510, 'lambda_l1': 2.718633185332602e-07, 'lambda_l2': 6.028215884810164e-09, 'bagging_fraction': 0.95, 'bagging_freq': 3}. Best is trial 31 with value: 1.7501632972636298.\u001b[0m\n",
      "\u001b[32m[I 2021-06-29 00:42:42,586]\u001b[0m Trial 37 finished with value: 1.7507673050455903 and parameters: {'feature_fraction': 0.25, 'max_depth': 6, 'num_leaves': 53, 'min_data_in_leaf': 1298, 'lambda_l1': 5.293273197514665e-05, 'lambda_l2': 1.0716527760672931e-09, 'bagging_fraction': 0.9, 'bagging_freq': 3}. Best is trial 31 with value: 1.7501632972636298.\u001b[0m\n",
      "\u001b[32m[I 2021-06-29 00:43:16,090]\u001b[0m Trial 38 finished with value: 1.7597169255329412 and parameters: {'feature_fraction': 0.4, 'max_depth': 7, 'num_leaves': 70, 'min_data_in_leaf': 41, 'lambda_l1': 0.001049132321161187, 'lambda_l2': 1.9966255956640473e-08, 'bagging_fraction': 0.8, 'bagging_freq': 2}. Best is trial 31 with value: 1.7501632972636298.\u001b[0m\n",
      "\u001b[32m[I 2021-06-29 00:44:02,720]\u001b[0m Trial 39 finished with value: 1.7510899367954011 and parameters: {'feature_fraction': 0.30000000000000004, 'max_depth': 6, 'num_leaves': 38, 'min_data_in_leaf': 2208, 'lambda_l1': 2.5064933349433645e-05, 'lambda_l2': 4.333526934777703, 'bagging_fraction': 0.8500000000000001, 'bagging_freq': 4}. Best is trial 31 with value: 1.7501632972636298.\u001b[0m\n",
      "Finished hyperparemeter search! (elapsed time: 1372.403 sec.) The best_iteration is 71.\n",
      "Making booster(s)...\n",
      "Finished making booster(s)! (elapsed time: 9.011 sec.)\n"
     ]
    },
    {
     "name": "stdout",
     "output_type": "stream",
     "text": [
      "23.02\n",
      "2021-06-29 00:44:11.736007\n",
      "1.7493061424496734\n"
     ]
    }
   ],
   "source": [
    "# sklearn.preprocessing.StandardScaler\n",
    "from sklearn.preprocessing import StandardScaler\n",
    "s_scaler = StandardScaler()\n",
    "s_model, s_preds = do_all(X_test, y_test, X_train, y_train, s_scaler)"
   ]
  },
  {
   "cell_type": "code",
   "execution_count": 11,
   "id": "4a937c19",
   "metadata": {},
   "outputs": [
    {
     "name": "stderr",
     "output_type": "stream",
     "text": [
      "/opt/conda/lib/python3.9/site-packages/sklearn/utils/validation.py:70: FutureWarning: Pass classifier=True as keyword args. From version 1.0 (renaming of 0.25) passing these as positional arguments will result in an error\n",
      "  warnings.warn(f\"Pass {args_msg} as keyword args. From version \"\n",
      "\u001b[32m[I 2021-06-29 00:44:13,668]\u001b[0m A new study created in memory with name: no-name-b028abd8-3cbd-4951-89bf-1ff8ece2572c\u001b[0m\n",
      "Searching the best hyperparameters...\n"
     ]
    },
    {
     "name": "stdout",
     "output_type": "stream",
     "text": [
      "2021-06-29 00:44:13.654486\n"
     ]
    },
    {
     "name": "stderr",
     "output_type": "stream",
     "text": [
      "\u001b[32m[I 2021-06-29 00:44:38,999]\u001b[0m Trial 0 finished with value: 1.752735842442296 and parameters: {'feature_fraction': 0.75, 'max_depth': 6, 'num_leaves': 31, 'min_data_in_leaf': 1610, 'lambda_l1': 8.464653842780308e-07, 'lambda_l2': 0.0628773336081306, 'bagging_fraction': 0.6, 'bagging_freq': 3}. Best is trial 0 with value: 1.752735842442296.\u001b[0m\n",
      "\u001b[32m[I 2021-06-29 00:45:15,162]\u001b[0m Trial 1 finished with value: 1.7539922180052199 and parameters: {'feature_fraction': 0.25, 'max_depth': 2, 'num_leaves': 4, 'min_data_in_leaf': 3695, 'lambda_l1': 2.5515168025967488e-09, 'lambda_l2': 1.0136355000393835, 'bagging_fraction': 0.65, 'bagging_freq': 1}. Best is trial 0 with value: 1.752735842442296.\u001b[0m\n",
      "\u001b[32m[I 2021-06-29 00:45:59,848]\u001b[0m Trial 2 finished with value: 1.7516990898285745 and parameters: {'feature_fraction': 0.35, 'max_depth': 3, 'num_leaves': 7, 'min_data_in_leaf': 2961, 'lambda_l1': 0.0007070863500725007, 'lambda_l2': 1.7862936917343375e-09, 'bagging_fraction': 0.9, 'bagging_freq': 6}. Best is trial 2 with value: 1.7516990898285745.\u001b[0m\n",
      "\u001b[32m[I 2021-06-29 00:46:31,324]\u001b[0m Trial 3 finished with value: 1.752311166130103 and parameters: {'feature_fraction': 0.65, 'max_depth': 6, 'num_leaves': 30, 'min_data_in_leaf': 2403, 'lambda_l1': 1.328671464381486e-05, 'lambda_l2': 5.624998175611061e-07, 'bagging_fraction': 0.9, 'bagging_freq': 7}. Best is trial 2 with value: 1.7516990898285745.\u001b[0m\n",
      "\u001b[32m[I 2021-06-29 00:47:04,985]\u001b[0m Trial 4 finished with value: 1.7546902868107541 and parameters: {'feature_fraction': 0.1, 'max_depth': 6, 'num_leaves': 62, 'min_data_in_leaf': 429, 'lambda_l1': 0.28713592411020317, 'lambda_l2': 8.674791299926095, 'bagging_fraction': 0.5, 'bagging_freq': 10}. Best is trial 2 with value: 1.7516990898285745.\u001b[0m\n",
      "\u001b[32m[I 2021-06-29 00:47:39,009]\u001b[0m Trial 5 finished with value: 1.7646682987695417 and parameters: {'feature_fraction': 0.2, 'max_depth': 1, 'num_leaves': 2, 'min_data_in_leaf': 488, 'lambda_l1': 1.1328278006728288e-06, 'lambda_l2': 1.0427626276772086e-07, 'bagging_fraction': 0.95, 'bagging_freq': 8}. Best is trial 2 with value: 1.7516990898285745.\u001b[0m\n",
      "\u001b[32m[I 2021-06-29 00:47:58,246]\u001b[0m Trial 6 finished with value: 1.8130620888227238 and parameters: {'feature_fraction': 0.55, 'max_depth': 2, 'num_leaves': 4, 'min_data_in_leaf': 22652, 'lambda_l1': 1.2741465245770524e-06, 'lambda_l2': 0.09965861173595333, 'bagging_fraction': 0.6, 'bagging_freq': 10}. Best is trial 2 with value: 1.7516990898285745.\u001b[0m\n",
      "\u001b[32m[I 2021-06-29 00:48:16,734]\u001b[0m Trial 7 finished with value: 1.8146522960134845 and parameters: {'feature_fraction': 0.1, 'max_depth': 3, 'num_leaves': 4, 'min_data_in_leaf': 21991, 'lambda_l1': 1.1122833412435713, 'lambda_l2': 0.02982627068817189, 'bagging_fraction': 0.6, 'bagging_freq': 3}. Best is trial 2 with value: 1.7516990898285745.\u001b[0m\n",
      "\u001b[32m[I 2021-06-29 00:48:53,630]\u001b[0m Trial 8 finished with value: 1.754118952606537 and parameters: {'feature_fraction': 0.1, 'max_depth': 7, 'num_leaves': 70, 'min_data_in_leaf': 981, 'lambda_l1': 0.00010447592384437581, 'lambda_l2': 6.501662210179897e-09, 'bagging_fraction': 0.6, 'bagging_freq': 10}. Best is trial 2 with value: 1.7516990898285745.\u001b[0m\n",
      "\u001b[32m[I 2021-06-29 00:49:23,236]\u001b[0m Trial 9 finished with value: 1.751836163420527 and parameters: {'feature_fraction': 0.75, 'max_depth': 4, 'num_leaves': 9, 'min_data_in_leaf': 2928, 'lambda_l1': 3.3872826855563978, 'lambda_l2': 1.6961072921331249e-09, 'bagging_fraction': 0.8, 'bagging_freq': 6}. Best is trial 2 with value: 1.7516990898285745.\u001b[0m\n",
      "\u001b[32m[I 2021-06-29 00:49:52,444]\u001b[0m Trial 10 finished with value: 1.7524822485073621 and parameters: {'feature_fraction': 1.0, 'max_depth': 4, 'num_leaves': 10, 'min_data_in_leaf': 7273, 'lambda_l1': 0.006231666389243075, 'lambda_l2': 7.592865433215162e-05, 'bagging_fraction': 0.8500000000000001, 'bagging_freq': 4}. Best is trial 2 with value: 1.7516990898285745.\u001b[0m\n",
      "\u001b[32m[I 2021-06-29 00:50:37,634]\u001b[0m Trial 11 finished with value: 1.751787734981835 and parameters: {'feature_fraction': 0.4, 'max_depth': 4, 'num_leaves': 9, 'min_data_in_leaf': 6238, 'lambda_l1': 6.963254273146643, 'lambda_l2': 2.7599729842692685e-09, 'bagging_fraction': 0.8, 'bagging_freq': 6}. Best is trial 2 with value: 1.7516990898285745.\u001b[0m\n",
      "\u001b[32m[I 2021-06-29 00:51:22,535]\u001b[0m Trial 12 finished with value: 1.753349284540242 and parameters: {'feature_fraction': 0.5, 'max_depth': 3, 'num_leaves': 8, 'min_data_in_leaf': 8369, 'lambda_l1': 0.010813296956622608, 'lambda_l2': 4.976824324430879e-06, 'bagging_fraction': 0.75, 'bagging_freq': 5}. Best is trial 2 with value: 1.7516990898285745.\u001b[0m\n",
      "\u001b[32m[I 2021-06-29 00:52:15,868]\u001b[0m Trial 13 finished with value: 1.7510499921243408 and parameters: {'feature_fraction': 0.35, 'max_depth': 5, 'num_leaves': 16, 'min_data_in_leaf': 4612, 'lambda_l1': 2.3144320413445836e-09, 'lambda_l2': 3.5070242452775906e-09, 'bagging_fraction': 0.95, 'bagging_freq': 8}. Best is trial 13 with value: 1.7510499921243408.\u001b[0m\n",
      "\u001b[32m[I 2021-06-29 00:53:07,114]\u001b[0m Trial 14 finished with value: 1.750941712669163 and parameters: {'feature_fraction': 0.35, 'max_depth': 5, 'num_leaves': 20, 'min_data_in_leaf': 4650, 'lambda_l1': 9.85288419637551e-09, 'lambda_l2': 6.082779364519119e-08, 'bagging_fraction': 0.95, 'bagging_freq': 8}. Best is trial 14 with value: 1.750941712669163.\u001b[0m\n",
      "\u001b[32m[I 2021-06-29 00:53:57,362]\u001b[0m Trial 15 finished with value: 1.750697125096536 and parameters: {'feature_fraction': 0.30000000000000004, 'max_depth': 5, 'num_leaves': 20, 'min_data_in_leaf': 4829, 'lambda_l1': 1.2510356272318715e-09, 'lambda_l2': 6.82416230551812e-08, 'bagging_fraction': 0.95, 'bagging_freq': 8}. Best is trial 15 with value: 1.750697125096536.\u001b[0m\n",
      "\u001b[32m[I 2021-06-29 00:54:46,361]\u001b[0m Trial 16 finished with value: 1.7509319528693017 and parameters: {'feature_fraction': 0.25, 'max_depth': 5, 'num_leaves': 24, 'min_data_in_leaf': 4042, 'lambda_l1': 2.028682013070619e-08, 'lambda_l2': 1.0870754033210981e-07, 'bagging_fraction': 0.95, 'bagging_freq': 8}. Best is trial 15 with value: 1.750697125096536.\u001b[0m\n",
      "\u001b[32m[I 2021-06-29 00:55:21,426]\u001b[0m Trial 17 finished with value: 1.7574149644361483 and parameters: {'feature_fraction': 0.2, 'max_depth': 7, 'num_leaves': 121, 'min_data_in_leaf': 83, 'lambda_l1': 3.172204057490359e-08, 'lambda_l2': 1.4681625279894418e-05, 'bagging_fraction': 0.8500000000000001, 'bagging_freq': 9}. Best is trial 15 with value: 1.750697125096536.\u001b[0m\n",
      "\u001b[32m[I 2021-06-29 00:56:12,054]\u001b[0m Trial 18 finished with value: 1.7513996138795456 and parameters: {'feature_fraction': 0.5, 'max_depth': 5, 'num_leaves': 26, 'min_data_in_leaf': 3804, 'lambda_l1': 8.151673271242986e-08, 'lambda_l2': 6.449162457558058e-07, 'bagging_fraction': 0.9, 'bagging_freq': 9}. Best is trial 15 with value: 1.750697125096536.\u001b[0m\n",
      "\u001b[32m[I 2021-06-29 00:56:47,373]\u001b[0m Trial 19 finished with value: 1.7513911041863999 and parameters: {'feature_fraction': 0.2, 'max_depth': 5, 'num_leaves': 22, 'min_data_in_leaf': 4319, 'lambda_l1': 1.5249325879679011e-09, 'lambda_l2': 0.0017235288501014627, 'bagging_fraction': 0.7, 'bagging_freq': 7}. Best is trial 15 with value: 1.750697125096536.\u001b[0m\n",
      "\u001b[32m[I 2021-06-29 00:57:28,890]\u001b[0m Trial 20 finished with value: 1.7512993283496043 and parameters: {'feature_fraction': 0.25, 'max_depth': 6, 'num_leaves': 44, 'min_data_in_leaf': 1746, 'lambda_l1': 1.2094154101771567e-07, 'lambda_l2': 8.947074252274598e-08, 'bagging_fraction': 0.8500000000000001, 'bagging_freq': 9}. Best is trial 15 with value: 1.750697125096536.\u001b[0m\n",
      "\u001b[32m[I 2021-06-29 00:58:23,413]\u001b[0m Trial 21 finished with value: 1.7511487097414675 and parameters: {'feature_fraction': 0.4, 'max_depth': 5, 'num_leaves': 19, 'min_data_in_leaf': 4869, 'lambda_l1': 1.0879499843585736e-08, 'lambda_l2': 3.799188352189644e-08, 'bagging_fraction': 0.95, 'bagging_freq': 8}. Best is trial 15 with value: 1.750697125096536.\u001b[0m\n",
      "\u001b[32m[I 2021-06-29 00:59:19,826]\u001b[0m Trial 22 finished with value: 1.75095282179795 and parameters: {'feature_fraction': 0.35, 'max_depth': 5, 'num_leaves': 23, 'min_data_in_leaf': 4251, 'lambda_l1': 1.3117677460551327e-09, 'lambda_l2': 2.650679491586268e-06, 'bagging_fraction': 0.95, 'bagging_freq': 7}. Best is trial 15 with value: 1.750697125096536.\u001b[0m\n"
     ]
    },
    {
     "name": "stderr",
     "output_type": "stream",
     "text": [
      "\u001b[32m[I 2021-06-29 01:00:06,517]\u001b[0m Trial 23 finished with value: 1.7510551989981535 and parameters: {'feature_fraction': 0.30000000000000004, 'max_depth': 6, 'num_leaves': 35, 'min_data_in_leaf': 2067, 'lambda_l1': 9.11232766464077e-09, 'lambda_l2': 1.3700344424916127e-08, 'bagging_fraction': 0.9, 'bagging_freq': 8}. Best is trial 15 with value: 1.750697125096536.\u001b[0m\n",
      "\u001b[32m[I 2021-06-29 01:01:01,891]\u001b[0m Trial 24 finished with value: 1.7515635447365416 and parameters: {'feature_fraction': 0.45000000000000007, 'max_depth': 4, 'num_leaves': 16, 'min_data_in_leaf': 5491, 'lambda_l1': 1.78433362770519e-07, 'lambda_l2': 3.305125899525349e-07, 'bagging_fraction': 0.95, 'bagging_freq': 9}. Best is trial 15 with value: 1.750697125096536.\u001b[0m\n",
      "\u001b[32m[I 2021-06-29 01:01:36,130]\u001b[0m Trial 25 finished with value: 1.7513560534881438 and parameters: {'feature_fraction': 0.15000000000000002, 'max_depth': 5, 'num_leaves': 20, 'min_data_in_leaf': 4974, 'lambda_l1': 2.553015994579268e-08, 'lambda_l2': 0.00019310498407925484, 'bagging_fraction': 0.8, 'bagging_freq': 7}. Best is trial 15 with value: 1.750697125096536.\u001b[0m\n",
      "\u001b[32m[I 2021-06-29 01:02:14,042]\u001b[0m Trial 26 finished with value: 1.75171120590261 and parameters: {'feature_fraction': 0.30000000000000004, 'max_depth': 7, 'num_leaves': 49, 'min_data_in_leaf': 1046, 'lambda_l1': 6.685650134377709e-06, 'lambda_l2': 2.624195225877227e-08, 'bagging_fraction': 0.9, 'bagging_freq': 5}. Best is trial 15 with value: 1.750697125096536.\u001b[0m\n",
      "\u001b[32m[I 2021-06-29 01:02:49,395]\u001b[0m Trial 27 finished with value: 1.7515554447027255 and parameters: {'feature_fraction': 0.6, 'max_depth': 5, 'num_leaves': 13, 'min_data_in_leaf': 6160, 'lambda_l1': 1.105547632704717e-09, 'lambda_l2': 1.490248803387582e-06, 'bagging_fraction': 0.8500000000000001, 'bagging_freq': 8}. Best is trial 15 with value: 1.750697125096536.\u001b[0m\n",
      "\u001b[32m[I 2021-06-29 01:03:41,803]\u001b[0m Trial 28 finished with value: 1.7512432728071996 and parameters: {'feature_fraction': 0.45000000000000007, 'max_depth': 6, 'num_leaves': 37, 'min_data_in_leaf': 2697, 'lambda_l1': 7.2259553531161295e-09, 'lambda_l2': 1.9528144086906113e-05, 'bagging_fraction': 0.95, 'bagging_freq': 9}. Best is trial 15 with value: 1.750697125096536.\u001b[0m\n",
      "\u001b[32m[I 2021-06-29 01:04:11,463]\u001b[0m Trial 29 finished with value: 1.7520367582442493 and parameters: {'feature_fraction': 0.25, 'max_depth': 4, 'num_leaves': 16, 'min_data_in_leaf': 3604, 'lambda_l1': 2.2685515611713024e-07, 'lambda_l2': 1.1980375801981308e-07, 'bagging_fraction': 0.5, 'bagging_freq': 7}. Best is trial 15 with value: 1.750697125096536.\u001b[0m\n",
      "\u001b[32m[I 2021-06-29 01:05:01,056]\u001b[0m Trial 30 finished with value: 1.750878261941526 and parameters: {'feature_fraction': 0.30000000000000004, 'max_depth': 5, 'num_leaves': 26, 'min_data_in_leaf': 3404, 'lambda_l1': 6.943723962659389e-07, 'lambda_l2': 0.0005195396165586038, 'bagging_fraction': 0.9, 'bagging_freq': 10}. Best is trial 15 with value: 1.750697125096536.\u001b[0m\n",
      "\u001b[32m[I 2021-06-29 01:05:50,231]\u001b[0m Trial 31 finished with value: 1.7507590721131059 and parameters: {'feature_fraction': 0.30000000000000004, 'max_depth': 5, 'num_leaves': 25, 'min_data_in_leaf': 3975, 'lambda_l1': 4.449024335919212e-06, 'lambda_l2': 0.0005582323086921163, 'bagging_fraction': 0.9, 'bagging_freq': 10}. Best is trial 15 with value: 1.750697125096536.\u001b[0m\n",
      "\u001b[32m[I 2021-06-29 01:06:35,952]\u001b[0m Trial 32 finished with value: 1.7506595172959556 and parameters: {'feature_fraction': 0.25, 'max_depth': 6, 'num_leaves': 30, 'min_data_in_leaf': 3319, 'lambda_l1': 8.095831233910879e-06, 'lambda_l2': 0.0015973288435126712, 'bagging_fraction': 0.9, 'bagging_freq': 10}. Best is trial 32 with value: 1.7506595172959556.\u001b[0m\n",
      "\u001b[32m[I 2021-06-29 01:07:16,013]\u001b[0m Trial 33 finished with value: 1.7503669184846071 and parameters: {'feature_fraction': 0.15000000000000002, 'max_depth': 6, 'num_leaves': 29, 'min_data_in_leaf': 3434, 'lambda_l1': 1.3881934989782429e-05, 'lambda_l2': 0.004409986526084021, 'bagging_fraction': 0.9, 'bagging_freq': 10}. Best is trial 33 with value: 1.7503669184846071.\u001b[0m\n",
      "\u001b[32m[I 2021-06-29 01:07:49,252]\u001b[0m Trial 34 finished with value: 1.750403618147247 and parameters: {'feature_fraction': 0.15000000000000002, 'max_depth': 7, 'num_leaves': 55, 'min_data_in_leaf': 1273, 'lambda_l1': 5.4194875662408615e-05, 'lambda_l2': 0.00495956558840475, 'bagging_fraction': 0.8500000000000001, 'bagging_freq': 1}. Best is trial 33 with value: 1.7503669184846071.\u001b[0m\n",
      "\u001b[32m[I 2021-06-29 01:08:23,511]\u001b[0m Trial 35 finished with value: 1.7507329059648207 and parameters: {'feature_fraction': 0.15000000000000002, 'max_depth': 7, 'num_leaves': 83, 'min_data_in_leaf': 1166, 'lambda_l1': 6.801005853301221e-05, 'lambda_l2': 0.005356034342496161, 'bagging_fraction': 0.8500000000000001, 'bagging_freq': 1}. Best is trial 33 with value: 1.7503669184846071.\u001b[0m\n",
      "\u001b[32m[I 2021-06-29 01:08:58,431]\u001b[0m Trial 36 finished with value: 1.7505080352139992 and parameters: {'feature_fraction': 0.15000000000000002, 'max_depth': 6, 'num_leaves': 31, 'min_data_in_leaf': 1427, 'lambda_l1': 0.00046778382714079427, 'lambda_l2': 0.3684553740432049, 'bagging_fraction': 0.75, 'bagging_freq': 2}. Best is trial 33 with value: 1.7503669184846071.\u001b[0m\n",
      "\u001b[32m[I 2021-06-29 01:09:39,118]\u001b[0m Trial 37 finished with value: 1.7502006200042295 and parameters: {'feature_fraction': 0.15000000000000002, 'max_depth': 6, 'num_leaves': 31, 'min_data_in_leaf': 1405, 'lambda_l1': 0.00011457900113101973, 'lambda_l2': 1.2430824134115115, 'bagging_fraction': 0.75, 'bagging_freq': 2}. Best is trial 37 with value: 1.7502006200042295.\u001b[0m\n",
      "\u001b[32m[I 2021-06-29 01:10:13,598]\u001b[0m Trial 38 finished with value: 1.7506205713640821 and parameters: {'feature_fraction': 0.15000000000000002, 'max_depth': 7, 'num_leaves': 53, 'min_data_in_leaf': 1360, 'lambda_l1': 0.0009710060975537264, 'lambda_l2': 1.5654976887120904, 'bagging_fraction': 0.7, 'bagging_freq': 2}. Best is trial 37 with value: 1.7502006200042295.\u001b[0m\n",
      "\u001b[32m[I 2021-06-29 01:10:49,389]\u001b[0m Trial 39 finished with value: 1.7524755320854077 and parameters: {'feature_fraction': 0.1, 'max_depth': 6, 'num_leaves': 37, 'min_data_in_leaf': 1596, 'lambda_l1': 0.00011701322271247258, 'lambda_l2': 0.14328109450811985, 'bagging_fraction': 0.75, 'bagging_freq': 1}. Best is trial 37 with value: 1.7502006200042295.\u001b[0m\n",
      "Finished hyperparemeter search! (elapsed time: 1595.884 sec.) The best_iteration is 83.\n",
      "Making booster(s)...\n",
      "Finished making booster(s)! (elapsed time: 8.703 sec.)\n"
     ]
    },
    {
     "name": "stdout",
     "output_type": "stream",
     "text": [
      "26.74\n",
      "2021-06-29 01:10:58.097073\n",
      "1.7489021090251153\n"
     ]
    }
   ],
   "source": [
    "# sklearn.preprocessing.RobustScaler\n",
    "from sklearn.preprocessing import RobustScaler\n",
    "r_scaler = RobustScaler()\n",
    "r_model, r_preds = do_all(X_test, y_test, X_train, y_train, r_scaler)"
   ]
  },
  {
   "cell_type": "code",
   "execution_count": 12,
   "id": "5970b7cc",
   "metadata": {},
   "outputs": [
    {
     "name": "stderr",
     "output_type": "stream",
     "text": [
      "/opt/conda/lib/python3.9/site-packages/sklearn/utils/validation.py:70: FutureWarning: Pass classifier=True as keyword args. From version 1.0 (renaming of 0.25) passing these as positional arguments will result in an error\n",
      "  warnings.warn(f\"Pass {args_msg} as keyword args. From version \"\n",
      "\u001b[32m[I 2021-06-29 01:11:00,202]\u001b[0m A new study created in memory with name: no-name-9f19a523-e77c-4450-bdd9-db4e8d53cc34\u001b[0m\n",
      "Searching the best hyperparameters...\n"
     ]
    },
    {
     "name": "stdout",
     "output_type": "stream",
     "text": [
      "2021-06-29 01:11:00.188573\n"
     ]
    },
    {
     "name": "stderr",
     "output_type": "stream",
     "text": [
      "\u001b[32m[I 2021-06-29 01:11:20,634]\u001b[0m Trial 0 finished with value: 1.7671590460424642 and parameters: {'feature_fraction': 0.6, 'max_depth': 1, 'num_leaves': 2, 'min_data_in_leaf': 15385, 'lambda_l1': 0.0008249311597741806, 'lambda_l2': 3.0541921795844616e-05, 'bagging_fraction': 0.7, 'bagging_freq': 10}. Best is trial 0 with value: 1.7671590460424642.\u001b[0m\n",
      "\u001b[32m[I 2021-06-29 01:11:42,603]\u001b[0m Trial 1 finished with value: 1.7590215065549752 and parameters: {'feature_fraction': 0.6, 'max_depth': 7, 'num_leaves': 115, 'min_data_in_leaf': 239, 'lambda_l1': 3.5677007990132073e-09, 'lambda_l2': 0.0004870285908221216, 'bagging_fraction': 0.6, 'bagging_freq': 8}. Best is trial 1 with value: 1.7590215065549752.\u001b[0m\n",
      "\u001b[32m[I 2021-06-29 01:12:17,230]\u001b[0m Trial 2 finished with value: 1.751606713932146 and parameters: {'feature_fraction': 0.2, 'max_depth': 5, 'num_leaves': 16, 'min_data_in_leaf': 3733, 'lambda_l1': 1.788570789507071e-05, 'lambda_l2': 0.000738251959879624, 'bagging_fraction': 0.65, 'bagging_freq': 8}. Best is trial 2 with value: 1.751606713932146.\u001b[0m\n",
      "\u001b[32m[I 2021-06-29 01:12:58,835]\u001b[0m Trial 3 finished with value: 1.752078006300232 and parameters: {'feature_fraction': 0.1, 'max_depth': 7, 'num_leaves': 64, 'min_data_in_leaf': 1354, 'lambda_l1': 2.842659982898223, 'lambda_l2': 4.194143981454739e-09, 'bagging_fraction': 0.8, 'bagging_freq': 9}. Best is trial 2 with value: 1.751606713932146.\u001b[0m\n",
      "\u001b[32m[I 2021-06-29 01:13:35,479]\u001b[0m Trial 4 finished with value: 1.7507062024175604 and parameters: {'feature_fraction': 0.15000000000000002, 'max_depth': 4, 'num_leaves': 16, 'min_data_in_leaf': 3612, 'lambda_l1': 0.019162217272681498, 'lambda_l2': 0.0690497493823166, 'bagging_fraction': 0.8, 'bagging_freq': 5}. Best is trial 4 with value: 1.7507062024175604.\u001b[0m\n",
      "\u001b[32m[I 2021-06-29 01:14:12,613]\u001b[0m Trial 5 finished with value: 1.7513266249699395 and parameters: {'feature_fraction': 0.25, 'max_depth': 6, 'num_leaves': 13, 'min_data_in_leaf': 3287, 'lambda_l1': 8.055811806342846e-09, 'lambda_l2': 4.819235945836454e-06, 'bagging_fraction': 0.6, 'bagging_freq': 4}. Best is trial 4 with value: 1.7507062024175604.\u001b[0m\n",
      "\u001b[32m[I 2021-06-29 01:14:53,400]\u001b[0m Trial 6 finished with value: 1.7518585715141597 and parameters: {'feature_fraction': 0.30000000000000004, 'max_depth': 3, 'num_leaves': 5, 'min_data_in_leaf': 4661, 'lambda_l1': 0.0019885115354363733, 'lambda_l2': 2.7511875252765485e-05, 'bagging_fraction': 0.8, 'bagging_freq': 3}. Best is trial 4 with value: 1.7507062024175604.\u001b[0m\n",
      "\u001b[32m[I 2021-06-29 01:14:54,393]\u001b[0m Trial 7 finished with value: 2.075296214639907 and parameters: {'feature_fraction': 0.1, 'max_depth': 2, 'num_leaves': 3, 'min_data_in_leaf': 30420, 'lambda_l1': 6.908824419900877e-05, 'lambda_l2': 0.6362873266656738, 'bagging_fraction': 0.75, 'bagging_freq': 6}. Best is trial 4 with value: 1.7507062024175604.\u001b[0m\n",
      "\u001b[32m[I 2021-06-29 01:14:55,029]\u001b[0m Trial 8 finished with value: 2.075296214639907 and parameters: {'feature_fraction': 1.0, 'max_depth': 1, 'num_leaves': 2, 'min_data_in_leaf': 49641, 'lambda_l1': 0.00025391011630952835, 'lambda_l2': 0.0012919308232671799, 'bagging_fraction': 0.7, 'bagging_freq': 6}. Best is trial 4 with value: 1.7507062024175604.\u001b[0m\n",
      "\u001b[32m[I 2021-06-29 01:15:20,655]\u001b[0m Trial 9 finished with value: 1.7536626107199846 and parameters: {'feature_fraction': 0.9500000000000001, 'max_depth': 4, 'num_leaves': 8, 'min_data_in_leaf': 232, 'lambda_l1': 2.2976125286167584, 'lambda_l2': 1.6772175065178066e-08, 'bagging_fraction': 0.65, 'bagging_freq': 4}. Best is trial 4 with value: 1.7507062024175604.\u001b[0m\n",
      "\u001b[32m[I 2021-06-29 01:16:09,973]\u001b[0m Trial 10 finished with value: 1.751437112537626 and parameters: {'feature_fraction': 0.45000000000000007, 'max_depth': 4, 'num_leaves': 16, 'min_data_in_leaf': 5238, 'lambda_l1': 0.13892022452437378, 'lambda_l2': 4.342757208457791, 'bagging_fraction': 0.95, 'bagging_freq': 1}. Best is trial 4 with value: 1.7507062024175604.\u001b[0m\n",
      "\u001b[32m[I 2021-06-29 01:16:59,257]\u001b[0m Trial 11 finished with value: 1.7508220297289108 and parameters: {'feature_fraction': 0.35, 'max_depth': 6, 'num_leaves': 34, 'min_data_in_leaf': 2929, 'lambda_l1': 3.0118456897850027e-09, 'lambda_l2': 6.560705513057149e-07, 'bagging_fraction': 0.9, 'bagging_freq': 4}. Best is trial 4 with value: 1.7507062024175604.\u001b[0m\n",
      "\u001b[32m[I 2021-06-29 01:17:55,243]\u001b[0m Trial 12 finished with value: 1.751478626979252 and parameters: {'feature_fraction': 0.4, 'max_depth': 5, 'num_leaves': 26, 'min_data_in_leaf': 2962, 'lambda_l1': 2.801591701517645e-07, 'lambda_l2': 3.374534991265528e-07, 'bagging_fraction': 0.95, 'bagging_freq': 2}. Best is trial 4 with value: 1.7507062024175604.\u001b[0m\n",
      "\u001b[32m[I 2021-06-29 01:18:26,774]\u001b[0m Trial 13 finished with value: 1.7524625199343622 and parameters: {'feature_fraction': 0.75, 'max_depth': 6, 'num_leaves': 44, 'min_data_in_leaf': 2208, 'lambda_l1': 0.10711200410703844, 'lambda_l2': 0.0716011822464389, 'bagging_fraction': 0.8500000000000001, 'bagging_freq': 5}. Best is trial 4 with value: 1.7507062024175604.\u001b[0m\n",
      "\u001b[32m[I 2021-06-29 01:19:14,327]\u001b[0m Trial 14 finished with value: 1.7524808271288133 and parameters: {'feature_fraction': 0.4, 'max_depth': 3, 'num_leaves': 8, 'min_data_in_leaf': 8012, 'lambda_l1': 3.8942049320365694e-07, 'lambda_l2': 0.030882669822185984, 'bagging_fraction': 0.9, 'bagging_freq': 5}. Best is trial 4 with value: 1.7507062024175604.\u001b[0m\n",
      "\u001b[32m[I 2021-06-29 01:19:38,609]\u001b[0m Trial 15 finished with value: 1.7543489465955997 and parameters: {'feature_fraction': 0.1, 'max_depth': 5, 'num_leaves': 25, 'min_data_in_leaf': 3927, 'lambda_l1': 0.04411192301145784, 'lambda_l2': 3.2546761590341664e-07, 'bagging_fraction': 0.5, 'bagging_freq': 7}. Best is trial 4 with value: 1.7507062024175604.\u001b[0m\n",
      "\u001b[32m[I 2021-06-29 01:20:19,890]\u001b[0m Trial 16 finished with value: 1.7507730809406161 and parameters: {'feature_fraction': 0.30000000000000004, 'max_depth': 6, 'num_leaves': 43, 'min_data_in_leaf': 2307, 'lambda_l1': 3.531357105945569e-06, 'lambda_l2': 4.3780797154915245e-07, 'bagging_fraction': 0.8500000000000001, 'bagging_freq': 3}. Best is trial 4 with value: 1.7507062024175604.\u001b[0m\n",
      "\u001b[32m[I 2021-06-29 01:20:54,962]\u001b[0m Trial 17 finished with value: 1.7524114020573613 and parameters: {'feature_fraction': 0.2, 'max_depth': 3, 'num_leaves': 8, 'min_data_in_leaf': 6680, 'lambda_l1': 2.886974992940811e-06, 'lambda_l2': 0.008844243141009837, 'bagging_fraction': 0.8, 'bagging_freq': 1}. Best is trial 4 with value: 1.7507062024175604.\u001b[0m\n",
      "\u001b[32m[I 2021-06-29 01:21:36,587]\u001b[0m Trial 18 finished with value: 1.7501203500801814 and parameters: {'feature_fraction': 0.2, 'max_depth': 7, 'num_leaves': 57, 'min_data_in_leaf': 1735, 'lambda_l1': 0.010268463854502427, 'lambda_l2': 7.136214274955154, 'bagging_fraction': 0.8500000000000001, 'bagging_freq': 2}. Best is trial 18 with value: 1.7501203500801814.\u001b[0m\n",
      "\u001b[32m[I 2021-06-29 01:21:58,838]\u001b[0m Trial 19 finished with value: 1.756596176718844 and parameters: {'feature_fraction': 0.7000000000000001, 'max_depth': 2, 'num_leaves': 4, 'min_data_in_leaf': 11812, 'lambda_l1': 0.0070655069213468105, 'lambda_l2': 8.307028269661531, 'bagging_fraction': 0.75, 'bagging_freq': 2}. Best is trial 18 with value: 1.7501203500801814.\u001b[0m\n",
      "\u001b[32m[I 2021-06-29 01:22:38,614]\u001b[0m Trial 20 finished with value: 1.7508137796719965 and parameters: {'feature_fraction': 0.2, 'max_depth': 7, 'num_leaves': 103, 'min_data_in_leaf': 925, 'lambda_l1': 0.016209051438839484, 'lambda_l2': 0.46360200934805135, 'bagging_fraction': 0.8500000000000001, 'bagging_freq': 2}. Best is trial 18 with value: 1.7501203500801814.\u001b[0m\n",
      "\u001b[32m[I 2021-06-29 01:23:22,515]\u001b[0m Trial 21 finished with value: 1.751584537430542 and parameters: {'feature_fraction': 0.5, 'max_depth': 6, 'num_leaves': 58, 'min_data_in_leaf': 1683, 'lambda_l1': 5.351503529287751e-06, 'lambda_l2': 7.613874233155625, 'bagging_fraction': 0.8500000000000001, 'bagging_freq': 3}. Best is trial 18 with value: 1.7501203500801814.\u001b[0m\n",
      "\u001b[32m[I 2021-06-29 01:24:01,485]\u001b[0m Trial 22 finished with value: 1.752353567330114 and parameters: {'feature_fraction': 0.30000000000000004, 'max_depth': 7, 'num_leaves': 87, 'min_data_in_leaf': 718, 'lambda_l1': 0.5591001969878208, 'lambda_l2': 0.6510719507266067, 'bagging_fraction': 0.9, 'bagging_freq': 3}. Best is trial 18 with value: 1.7501203500801814.\u001b[0m\n"
     ]
    },
    {
     "name": "stderr",
     "output_type": "stream",
     "text": [
      "\u001b[32m[I 2021-06-29 01:24:37,300]\u001b[0m Trial 23 finished with value: 1.7501850978501872 and parameters: {'feature_fraction': 0.15000000000000002, 'max_depth': 5, 'num_leaves': 21, 'min_data_in_leaf': 2127, 'lambda_l1': 0.003061103672916891, 'lambda_l2': 1.6292100817480127e-08, 'bagging_fraction': 0.8, 'bagging_freq': 1}. Best is trial 18 with value: 1.7501203500801814.\u001b[0m\n",
      "\u001b[32m[I 2021-06-29 01:25:06,722]\u001b[0m Trial 24 finished with value: 1.7522038117218148 and parameters: {'feature_fraction': 0.1, 'max_depth': 4, 'num_leaves': 13, 'min_data_in_leaf': 2195, 'lambda_l1': 0.005387254482265552, 'lambda_l2': 1.396375787829532e-09, 'bagging_fraction': 0.8, 'bagging_freq': 1}. Best is trial 18 with value: 1.7501203500801814.\u001b[0m\n",
      "\u001b[32m[I 2021-06-29 01:25:42,347]\u001b[0m Trial 25 finished with value: 1.7504404371784699 and parameters: {'feature_fraction': 0.15000000000000002, 'max_depth': 5, 'num_leaves': 22, 'min_data_in_leaf': 1960, 'lambda_l1': 0.0005821019407155449, 'lambda_l2': 0.11095675789656184, 'bagging_fraction': 0.75, 'bagging_freq': 1}. Best is trial 18 with value: 1.7501203500801814.\u001b[0m\n",
      "\u001b[32m[I 2021-06-29 01:26:18,549]\u001b[0m Trial 26 finished with value: 1.7506910044499484 and parameters: {'feature_fraction': 0.2, 'max_depth': 5, 'num_leaves': 21, 'min_data_in_leaf': 1771, 'lambda_l1': 0.0003535350869662585, 'lambda_l2': 0.006144505974677996, 'bagging_fraction': 0.75, 'bagging_freq': 1}. Best is trial 18 with value: 1.7501203500801814.\u001b[0m\n",
      "\u001b[32m[I 2021-06-29 01:26:54,085]\u001b[0m Trial 27 finished with value: 1.7504890202453016 and parameters: {'feature_fraction': 0.15000000000000002, 'max_depth': 5, 'num_leaves': 22, 'min_data_in_leaf': 2591, 'lambda_l1': 6.622673392744589e-05, 'lambda_l2': 3.226621391800555, 'bagging_fraction': 0.7, 'bagging_freq': 2}. Best is trial 18 with value: 1.7501203500801814.\u001b[0m\n",
      "\u001b[32m[I 2021-06-29 01:27:32,381]\u001b[0m Trial 28 finished with value: 1.7511979726561482 and parameters: {'feature_fraction': 0.25, 'max_depth': 5, 'num_leaves': 31, 'min_data_in_leaf': 1950, 'lambda_l1': 0.002999699717048399, 'lambda_l2': 0.23256656054403935, 'bagging_fraction': 0.75, 'bagging_freq': 1}. Best is trial 18 with value: 1.7501203500801814.\u001b[0m\n",
      "\u001b[32m[I 2021-06-29 01:28:10,278]\u001b[0m Trial 29 finished with value: 1.752262812542898 and parameters: {'feature_fraction': 0.55, 'max_depth': 6, 'num_leaves': 60, 'min_data_in_leaf': 1665, 'lambda_l1': 0.0008854925081124347, 'lambda_l2': 6.410129913735001e-05, 'bagging_fraction': 0.65, 'bagging_freq': 2}. Best is trial 18 with value: 1.7501203500801814.\u001b[0m\n",
      "\u001b[32m[I 2021-06-29 01:28:31,517]\u001b[0m Trial 30 finished with value: 1.7604300081137545 and parameters: {'feature_fraction': 0.85, 'max_depth': 7, 'num_leaves': 77, 'min_data_in_leaf': 67, 'lambda_l1': 0.5818620463727258, 'lambda_l2': 1.2092533624535522e-05, 'bagging_fraction': 0.7, 'bagging_freq': 1}. Best is trial 18 with value: 1.7501203500801814.\u001b[0m\n",
      "\u001b[32m[I 2021-06-29 01:29:05,336]\u001b[0m Trial 31 finished with value: 1.7505088592602878 and parameters: {'feature_fraction': 0.15000000000000002, 'max_depth': 5, 'num_leaves': 21, 'min_data_in_leaf': 2706, 'lambda_l1': 5.5182826326574767e-05, 'lambda_l2': 1.7697773265342247, 'bagging_fraction': 0.7, 'bagging_freq': 2}. Best is trial 18 with value: 1.7501203500801814.\u001b[0m\n",
      "\u001b[32m[I 2021-06-29 01:29:42,139]\u001b[0m Trial 32 finished with value: 1.7503329408238084 and parameters: {'feature_fraction': 0.15000000000000002, 'max_depth': 5, 'num_leaves': 21, 'min_data_in_leaf': 1236, 'lambda_l1': 0.000335022166258012, 'lambda_l2': 2.8907174151326287, 'bagging_fraction': 0.75, 'bagging_freq': 2}. Best is trial 18 with value: 1.7501203500801814.\u001b[0m\n",
      "\u001b[32m[I 2021-06-29 01:30:19,328]\u001b[0m Trial 33 finished with value: 1.7519385461427532 and parameters: {'feature_fraction': 0.25, 'max_depth': 4, 'num_leaves': 12, 'min_data_in_leaf': 928, 'lambda_l1': 0.0006366877590224603, 'lambda_l2': 4.692030420072402e-08, 'bagging_fraction': 0.75, 'bagging_freq': 3}. Best is trial 18 with value: 1.7501203500801814.\u001b[0m\n",
      "\u001b[32m[I 2021-06-29 01:30:55,991]\u001b[0m Trial 34 finished with value: 1.7525568176390762 and parameters: {'feature_fraction': 0.1, 'max_depth': 5, 'num_leaves': 18, 'min_data_in_leaf': 1463, 'lambda_l1': 0.00021372606198864872, 'lambda_l2': 0.0003204994098051404, 'bagging_fraction': 0.8, 'bagging_freq': 10}. Best is trial 18 with value: 1.7501203500801814.\u001b[0m\n",
      "\u001b[32m[I 2021-06-29 01:31:30,294]\u001b[0m Trial 35 finished with value: 1.7505544479801383 and parameters: {'feature_fraction': 0.15000000000000002, 'max_depth': 6, 'num_leaves': 29, 'min_data_in_leaf': 1253, 'lambda_l1': 0.0014379283314317134, 'lambda_l2': 1.6417073626912455, 'bagging_fraction': 0.8500000000000001, 'bagging_freq': 1}. Best is trial 18 with value: 1.7501203500801814.\u001b[0m\n",
      "\u001b[32m[I 2021-06-29 01:32:16,640]\u001b[0m Trial 36 finished with value: 1.7525505155030305 and parameters: {'feature_fraction': 0.35, 'max_depth': 4, 'num_leaves': 11, 'min_data_in_leaf': 596, 'lambda_l1': 0.014514331421711529, 'lambda_l2': 0.14934613467560115, 'bagging_fraction': 0.9, 'bagging_freq': 2}. Best is trial 18 with value: 1.7501203500801814.\u001b[0m\n",
      "\u001b[32m[I 2021-06-29 01:32:51,307]\u001b[0m Trial 37 finished with value: 1.751090371690032 and parameters: {'feature_fraction': 0.25, 'max_depth': 7, 'num_leaves': 40, 'min_data_in_leaf': 1923, 'lambda_l1': 3.3896837935120665e-05, 'lambda_l2': 0.0017908731398645428, 'bagging_fraction': 0.6, 'bagging_freq': 4}. Best is trial 18 with value: 1.7501203500801814.\u001b[0m\n",
      "\u001b[32m[I 2021-06-29 01:33:28,067]\u001b[0m Trial 38 finished with value: 1.7506803148448469 and parameters: {'feature_fraction': 0.15000000000000002, 'max_depth': 5, 'num_leaves': 19, 'min_data_in_leaf': 1268, 'lambda_l1': 0.055654501113389314, 'lambda_l2': 0.017653301017950835, 'bagging_fraction': 0.8, 'bagging_freq': 3}. Best is trial 18 with value: 1.7501203500801814.\u001b[0m\n",
      "\u001b[32m[I 2021-06-29 01:33:57,155]\u001b[0m Trial 39 finished with value: 1.7551103216731918 and parameters: {'feature_fraction': 0.1, 'max_depth': 3, 'num_leaves': 7, 'min_data_in_leaf': 5744, 'lambda_l1': 1.1823114668273166e-05, 'lambda_l2': 9.377676846513523, 'bagging_fraction': 0.65, 'bagging_freq': 1}. Best is trial 18 with value: 1.7501203500801814.\u001b[0m\n",
      "Finished hyperparemeter search! (elapsed time: 1376.945 sec.) The best_iteration is 74.\n",
      "Making booster(s)...\n",
      "Finished making booster(s)! (elapsed time: 9.048 sec.)\n"
     ]
    },
    {
     "name": "stdout",
     "output_type": "stream",
     "text": [
      "23.1\n",
      "2021-06-29 01:34:06.209114\n",
      "1.748532183865077\n"
     ]
    }
   ],
   "source": [
    "# sklearn.preprocessing.MinMaxScaler\n",
    "from sklearn.preprocessing import MinMaxScaler\n",
    "mm_scaler = MinMaxScaler()\n",
    "mm_model, mm_preds = do_all(X_test, y_test, X_train, y_train, mm_scaler)"
   ]
  },
  {
   "cell_type": "code",
   "execution_count": 13,
   "id": "63b426cc",
   "metadata": {},
   "outputs": [
    {
     "name": "stderr",
     "output_type": "stream",
     "text": [
      "/opt/conda/lib/python3.9/site-packages/sklearn/utils/validation.py:70: FutureWarning: Pass classifier=True as keyword args. From version 1.0 (renaming of 0.25) passing these as positional arguments will result in an error\n",
      "  warnings.warn(f\"Pass {args_msg} as keyword args. From version \"\n",
      "\u001b[32m[I 2021-06-29 01:34:08,197]\u001b[0m A new study created in memory with name: no-name-20637bf7-b507-47db-9df5-fcf47e93da30\u001b[0m\n",
      "Searching the best hyperparameters...\n"
     ]
    },
    {
     "name": "stdout",
     "output_type": "stream",
     "text": [
      "2021-06-29 01:34:08.183865\n"
     ]
    },
    {
     "name": "stderr",
     "output_type": "stream",
     "text": [
      "\u001b[32m[I 2021-06-29 01:34:31,175]\u001b[0m Trial 0 finished with value: 1.7568680092817224 and parameters: {'feature_fraction': 0.5, 'max_depth': 6, 'num_leaves': 39, 'min_data_in_leaf': 316, 'lambda_l1': 0.0011078523102291912, 'lambda_l2': 5.729242841835486e-07, 'bagging_fraction': 0.5, 'bagging_freq': 9}. Best is trial 0 with value: 1.7568680092817224.\u001b[0m\n",
      "\u001b[32m[I 2021-06-29 01:34:56,024]\u001b[0m Trial 1 finished with value: 1.7529458656740484 and parameters: {'feature_fraction': 0.8, 'max_depth': 5, 'num_leaves': 12, 'min_data_in_leaf': 8091, 'lambda_l1': 4.501526507906666, 'lambda_l2': 0.0025224348967209705, 'bagging_fraction': 0.7, 'bagging_freq': 4}. Best is trial 1 with value: 1.7529458656740484.\u001b[0m\n",
      "\u001b[32m[I 2021-06-29 01:35:10,900]\u001b[0m Trial 2 finished with value: 1.7630318944575554 and parameters: {'feature_fraction': 0.7000000000000001, 'max_depth': 4, 'num_leaves': 3, 'min_data_in_leaf': 12164, 'lambda_l1': 2.8425314125029986e-08, 'lambda_l2': 0.5999605228740887, 'bagging_fraction': 0.55, 'bagging_freq': 10}. Best is trial 1 with value: 1.7529458656740484.\u001b[0m\n",
      "\u001b[32m[I 2021-06-29 01:35:13,990]\u001b[0m Trial 3 finished with value: 2.075296214639907 and parameters: {'feature_fraction': 0.55, 'max_depth': 2, 'num_leaves': 4, 'min_data_in_leaf': 20769, 'lambda_l1': 2.115508581334871e-09, 'lambda_l2': 6.910186019178889e-06, 'bagging_fraction': 0.5, 'bagging_freq': 4}. Best is trial 1 with value: 1.7529458656740484.\u001b[0m\n",
      "\u001b[32m[I 2021-06-29 01:35:14,968]\u001b[0m Trial 4 finished with value: 2.075296214639907 and parameters: {'feature_fraction': 0.85, 'max_depth': 2, 'num_leaves': 3, 'min_data_in_leaf': 29365, 'lambda_l1': 7.306764854635527e-08, 'lambda_l2': 7.685424178041446, 'bagging_fraction': 0.55, 'bagging_freq': 1}. Best is trial 1 with value: 1.7529458656740484.\u001b[0m\n",
      "\u001b[32m[I 2021-06-29 01:35:48,749]\u001b[0m Trial 5 finished with value: 1.7517703599380028 and parameters: {'feature_fraction': 0.85, 'max_depth': 6, 'num_leaves': 9, 'min_data_in_leaf': 6345, 'lambda_l1': 1.5730084416900055e-07, 'lambda_l2': 5.64607250898304, 'bagging_fraction': 0.9, 'bagging_freq': 1}. Best is trial 5 with value: 1.7517703599380028.\u001b[0m\n",
      "\u001b[32m[I 2021-06-29 01:35:49,461]\u001b[0m Trial 6 finished with value: 2.075296214639907 and parameters: {'feature_fraction': 0.9500000000000001, 'max_depth': 6, 'num_leaves': 2, 'min_data_in_leaf': 47307, 'lambda_l1': 3.0243926742719444e-07, 'lambda_l2': 0.07586891450745606, 'bagging_fraction': 0.5, 'bagging_freq': 4}. Best is trial 5 with value: 1.7517703599380028.\u001b[0m\n",
      "\u001b[32m[I 2021-06-29 01:36:17,774]\u001b[0m Trial 7 finished with value: 1.759844165406053 and parameters: {'feature_fraction': 0.1, 'max_depth': 3, 'num_leaves': 4, 'min_data_in_leaf': 15491, 'lambda_l1': 0.00032988119558001737, 'lambda_l2': 0.16850919491157895, 'bagging_fraction': 0.9, 'bagging_freq': 9}. Best is trial 5 with value: 1.7517703599380028.\u001b[0m\n",
      "\u001b[32m[I 2021-06-29 01:36:18,895]\u001b[0m Trial 8 finished with value: 2.075296214639907 and parameters: {'feature_fraction': 0.5, 'max_depth': 1, 'num_leaves': 2, 'min_data_in_leaf': 34273, 'lambda_l1': 0.007137964926051058, 'lambda_l2': 0.00019008316463846743, 'bagging_fraction': 0.55, 'bagging_freq': 4}. Best is trial 5 with value: 1.7517703599380028.\u001b[0m\n",
      "\u001b[32m[I 2021-06-29 01:36:57,588]\u001b[0m Trial 9 finished with value: 1.7529730813812474 and parameters: {'feature_fraction': 0.2, 'max_depth': 4, 'num_leaves': 5, 'min_data_in_leaf': 9101, 'lambda_l1': 1.0775427459290572e-05, 'lambda_l2': 0.001483697862929116, 'bagging_fraction': 0.9, 'bagging_freq': 8}. Best is trial 5 with value: 1.7517703599380028.\u001b[0m\n",
      "\u001b[32m[I 2021-06-29 01:37:18,712]\u001b[0m Trial 10 finished with value: 1.7542517698807756 and parameters: {'feature_fraction': 1.0, 'max_depth': 7, 'num_leaves': 111, 'min_data_in_leaf': 879, 'lambda_l1': 5.426080243144637e-06, 'lambda_l2': 2.801693517800344e-08, 'bagging_fraction': 0.8, 'bagging_freq': 1}. Best is trial 5 with value: 1.7517703599380028.\u001b[0m\n",
      "\u001b[32m[I 2021-06-29 01:37:44,983]\u001b[0m Trial 11 finished with value: 1.7520278675122927 and parameters: {'feature_fraction': 0.75, 'max_depth': 5, 'num_leaves': 14, 'min_data_in_leaf': 6887, 'lambda_l1': 6.279176642665049, 'lambda_l2': 0.005653958870011579, 'bagging_fraction': 0.7, 'bagging_freq': 2}. Best is trial 5 with value: 1.7517703599380028.\u001b[0m\n",
      "\u001b[32m[I 2021-06-29 01:38:21,487]\u001b[0m Trial 12 finished with value: 1.7510968428363065 and parameters: {'feature_fraction': 0.7000000000000001, 'max_depth': 7, 'num_leaves': 44, 'min_data_in_leaf': 2262, 'lambda_l1': 9.06483210090637, 'lambda_l2': 5.862134675925743, 'bagging_fraction': 0.7, 'bagging_freq': 2}. Best is trial 12 with value: 1.7510968428363065.\u001b[0m\n",
      "\u001b[32m[I 2021-06-29 01:38:51,901]\u001b[0m Trial 13 finished with value: 1.7521232827144981 and parameters: {'feature_fraction': 0.65, 'max_depth': 7, 'num_leaves': 65, 'min_data_in_leaf': 1501, 'lambda_l1': 0.07357879494221385, 'lambda_l2': 7.764046218936606, 'bagging_fraction': 0.8, 'bagging_freq': 2}. Best is trial 12 with value: 1.7510968428363065.\u001b[0m\n",
      "\u001b[32m[I 2021-06-29 01:39:29,742]\u001b[0m Trial 14 finished with value: 1.7510753089850302 and parameters: {'feature_fraction': 0.35, 'max_depth': 7, 'num_leaves': 45, 'min_data_in_leaf': 2091, 'lambda_l1': 0.26959928313847586, 'lambda_l2': 9.330130525715472, 'bagging_fraction': 0.65, 'bagging_freq': 6}. Best is trial 14 with value: 1.7510753089850302.\u001b[0m\n",
      "\u001b[32m[I 2021-06-29 01:40:05,440]\u001b[0m Trial 15 finished with value: 1.751760650038653 and parameters: {'feature_fraction': 0.35, 'max_depth': 7, 'num_leaves': 62, 'min_data_in_leaf': 1586, 'lambda_l1': 0.28164320246407115, 'lambda_l2': 2.620118772696143e-09, 'bagging_fraction': 0.65, 'bagging_freq': 7}. Best is trial 14 with value: 1.7510753089850302.\u001b[0m\n",
      "\u001b[32m[I 2021-06-29 01:40:45,385]\u001b[0m Trial 16 finished with value: 1.7512360766663395 and parameters: {'feature_fraction': 0.35, 'max_depth': 7, 'num_leaves': 44, 'min_data_in_leaf': 2220, 'lambda_l1': 0.5109058777234298, 'lambda_l2': 1.1776739789443025, 'bagging_fraction': 0.65, 'bagging_freq': 6}. Best is trial 14 with value: 1.7510753089850302.\u001b[0m\n",
      "\u001b[32m[I 2021-06-29 01:41:35,586]\u001b[0m Trial 17 finished with value: 1.750531872717086 and parameters: {'feature_fraction': 0.35, 'max_depth': 5, 'num_leaves': 32, 'min_data_in_leaf': 2942, 'lambda_l1': 8.72009304655727, 'lambda_l2': 0.04050572120132298, 'bagging_fraction': 0.8, 'bagging_freq': 6}. Best is trial 17 with value: 1.750531872717086.\u001b[0m\n",
      "\u001b[32m[I 2021-06-29 01:42:22,642]\u001b[0m Trial 18 finished with value: 1.7511329840529684 and parameters: {'feature_fraction': 0.30000000000000004, 'max_depth': 5, 'num_leaves': 27, 'min_data_in_leaf': 3294, 'lambda_l1': 0.008795052312338195, 'lambda_l2': 0.108272019527902, 'bagging_fraction': 0.8, 'bagging_freq': 6}. Best is trial 17 with value: 1.750531872717086.\u001b[0m\n",
      "\u001b[32m[I 2021-06-29 01:42:49,988]\u001b[0m Trial 19 finished with value: 1.7538019524779933 and parameters: {'feature_fraction': 0.1, 'max_depth': 3, 'num_leaves': 7, 'min_data_in_leaf': 5253, 'lambda_l1': 0.8590289285011671, 'lambda_l2': 0.011120227220662476, 'bagging_fraction': 0.75, 'bagging_freq': 5}. Best is trial 17 with value: 1.750531872717086.\u001b[0m\n",
      "\u001b[32m[I 2021-06-29 01:43:22,029]\u001b[0m Trial 20 finished with value: 1.7514472740725544 and parameters: {'feature_fraction': 0.25, 'max_depth': 6, 'num_leaves': 56, 'min_data_in_leaf': 1759, 'lambda_l1': 0.03342255771127054, 'lambda_l2': 1.992453431902188e-05, 'bagging_fraction': 0.6, 'bagging_freq': 7}. Best is trial 17 with value: 1.750531872717086.\u001b[0m\n",
      "\u001b[32m[I 2021-06-29 01:44:09,504]\u001b[0m Trial 21 finished with value: 1.7504374520767496 and parameters: {'feature_fraction': 0.4, 'max_depth': 7, 'num_leaves': 82, 'min_data_in_leaf': 1067, 'lambda_l1': 7.844611239146525, 'lambda_l2': 1.2849026070971394, 'bagging_fraction': 0.75, 'bagging_freq': 5}. Best is trial 21 with value: 1.7504374520767496.\u001b[0m\n",
      "\u001b[32m[I 2021-06-29 01:45:03,161]\u001b[0m Trial 22 finished with value: 1.750254813734653 and parameters: {'feature_fraction': 0.4, 'max_depth': 5, 'num_leaves': 23, 'min_data_in_leaf': 2929, 'lambda_l1': 8.365608549840967, 'lambda_l2': 0.790475587034417, 'bagging_fraction': 0.8500000000000001, 'bagging_freq': 5}. Best is trial 22 with value: 1.750254813734653.\u001b[0m\n"
     ]
    },
    {
     "name": "stderr",
     "output_type": "stream",
     "text": [
      "\u001b[32m[I 2021-06-29 01:45:59,113]\u001b[0m Trial 23 finished with value: 1.7505121662532954 and parameters: {'feature_fraction': 0.45000000000000007, 'max_depth': 5, 'num_leaves': 24, 'min_data_in_leaf': 3108, 'lambda_l1': 8.296682179247139, 'lambda_l2': 0.026114211251894146, 'bagging_fraction': 0.8500000000000001, 'bagging_freq': 5}. Best is trial 22 with value: 1.750254813734653.\u001b[0m\n",
      "\u001b[32m[I 2021-06-29 01:46:55,270]\u001b[0m Trial 24 finished with value: 1.7512346742417564 and parameters: {'feature_fraction': 0.45000000000000007, 'max_depth': 4, 'num_leaves': 16, 'min_data_in_leaf': 4005, 'lambda_l1': 1.7357483701608072, 'lambda_l2': 1.3200529601468172, 'bagging_fraction': 0.95, 'bagging_freq': 5}. Best is trial 22 with value: 1.750254813734653.\u001b[0m\n",
      "\u001b[32m[I 2021-06-29 01:47:35,820]\u001b[0m Trial 25 finished with value: 1.7508719295723811 and parameters: {'feature_fraction': 0.6, 'max_depth': 5, 'num_leaves': 22, 'min_data_in_leaf': 3051, 'lambda_l1': 8.665620937266626, 'lambda_l2': 0.000597477668758779, 'bagging_fraction': 0.8500000000000001, 'bagging_freq': 3}. Best is trial 22 with value: 1.750254813734653.\u001b[0m\n",
      "\u001b[32m[I 2021-06-29 01:48:23,407]\u001b[0m Trial 26 finished with value: 1.7519983523798874 and parameters: {'feature_fraction': 0.45000000000000007, 'max_depth': 3, 'num_leaves': 8, 'min_data_in_leaf': 4684, 'lambda_l1': 0.10685579112646049, 'lambda_l2': 0.01592276916380481, 'bagging_fraction': 0.8500000000000001, 'bagging_freq': 5}. Best is trial 22 with value: 1.750254813734653.\u001b[0m\n",
      "\u001b[32m[I 2021-06-29 01:49:07,215]\u001b[0m Trial 27 finished with value: 1.7502647984481574 and parameters: {'feature_fraction': 0.2, 'max_depth': 6, 'num_leaves': 21, 'min_data_in_leaf': 2754, 'lambda_l1': 1.6118986156230086, 'lambda_l2': 0.3749153998879175, 'bagging_fraction': 0.95, 'bagging_freq': 3}. Best is trial 22 with value: 1.750254813734653.\u001b[0m\n",
      "\u001b[32m[I 2021-06-29 01:49:50,582]\u001b[0m Trial 28 finished with value: 1.7500348975104836 and parameters: {'feature_fraction': 0.15000000000000002, 'max_depth': 6, 'num_leaves': 19, 'min_data_in_leaf': 3806, 'lambda_l1': 1.2480206570135473, 'lambda_l2': 0.24896148279832223, 'bagging_fraction': 0.95, 'bagging_freq': 3}. Best is trial 28 with value: 1.7500348975104836.\u001b[0m\n",
      "\u001b[32m[I 2021-06-29 01:50:38,653]\u001b[0m Trial 29 finished with value: 1.7502281922380738 and parameters: {'feature_fraction': 0.2, 'max_depth': 6, 'num_leaves': 20, 'min_data_in_leaf': 3593, 'lambda_l1': 0.002043437919860068, 'lambda_l2': 0.2738358488047635, 'bagging_fraction': 0.95, 'bagging_freq': 3}. Best is trial 28 with value: 1.7500348975104836.\u001b[0m\n",
      "\u001b[32m[I 2021-06-29 01:51:22,701]\u001b[0m Trial 30 finished with value: 1.7501341098401995 and parameters: {'feature_fraction': 0.15000000000000002, 'max_depth': 6, 'num_leaves': 32, 'min_data_in_leaf': 2610, 'lambda_l1': 0.0012551584255168146, 'lambda_l2': 9.214985328986758e-05, 'bagging_fraction': 0.95, 'bagging_freq': 3}. Best is trial 28 with value: 1.7500348975104836.\u001b[0m\n",
      "\u001b[32m[I 2021-06-29 01:52:05,219]\u001b[0m Trial 31 finished with value: 1.7502136567719575 and parameters: {'feature_fraction': 0.15000000000000002, 'max_depth': 6, 'num_leaves': 33, 'min_data_in_leaf': 2612, 'lambda_l1': 0.0014055904076128042, 'lambda_l2': 1.1299970239074078e-06, 'bagging_fraction': 0.95, 'bagging_freq': 3}. Best is trial 28 with value: 1.7500348975104836.\u001b[0m\n",
      "\u001b[32m[I 2021-06-29 01:52:47,798]\u001b[0m Trial 32 finished with value: 1.7501482105367319 and parameters: {'feature_fraction': 0.15000000000000002, 'max_depth': 6, 'num_leaves': 35, 'min_data_in_leaf': 2587, 'lambda_l1': 0.0012942418529052512, 'lambda_l2': 1.4929248720644658e-07, 'bagging_fraction': 0.95, 'bagging_freq': 3}. Best is trial 28 with value: 1.7500348975104836.\u001b[0m\n",
      "\u001b[32m[I 2021-06-29 01:53:29,902]\u001b[0m Trial 33 finished with value: 1.7517353685468513 and parameters: {'feature_fraction': 0.1, 'max_depth': 6, 'num_leaves': 36, 'min_data_in_leaf': 2557, 'lambda_l1': 4.5999581745819524e-05, 'lambda_l2': 4.405711529455178e-07, 'bagging_fraction': 0.95, 'bagging_freq': 3}. Best is trial 28 with value: 1.7500348975104836.\u001b[0m\n",
      "\u001b[32m[I 2021-06-29 01:54:13,853]\u001b[0m Trial 34 finished with value: 1.7500685001681204 and parameters: {'feature_fraction': 0.15000000000000002, 'max_depth': 6, 'num_leaves': 30, 'min_data_in_leaf': 2572, 'lambda_l1': 0.00037784120669778884, 'lambda_l2': 3.157973749600886e-07, 'bagging_fraction': 0.9, 'bagging_freq': 2}. Best is trial 28 with value: 1.7500348975104836.\u001b[0m\n",
      "\u001b[32m[I 2021-06-29 01:54:58,014]\u001b[0m Trial 35 finished with value: 1.750382640792329 and parameters: {'feature_fraction': 0.15000000000000002, 'max_depth': 6, 'num_leaves': 29, 'min_data_in_leaf': 3414, 'lambda_l1': 0.00015825849414530824, 'lambda_l2': 5.343710434350714e-08, 'bagging_fraction': 0.9, 'bagging_freq': 2}. Best is trial 28 with value: 1.7500348975104836.\u001b[0m\n",
      "\u001b[32m[I 2021-06-29 01:55:36,358]\u001b[0m Trial 36 finished with value: 1.7536333213379585 and parameters: {'feature_fraction': 0.25, 'max_depth': 6, 'num_leaves': 41, 'min_data_in_leaf': 238, 'lambda_l1': 2.852473930893492e-05, 'lambda_l2': 1.0612809324873752e-09, 'bagging_fraction': 0.9, 'bagging_freq': 2}. Best is trial 28 with value: 1.7500348975104836.\u001b[0m\n",
      "\u001b[32m[I 2021-06-29 01:56:12,555]\u001b[0m Trial 37 finished with value: 1.750305406422423 and parameters: {'feature_fraction': 0.15000000000000002, 'max_depth': 5, 'num_leaves': 32, 'min_data_in_leaf': 2490, 'lambda_l1': 1.7466237467022378e-06, 'lambda_l2': 2.9185698828830536e-05, 'bagging_fraction': 0.95, 'bagging_freq': 1}. Best is trial 28 with value: 1.7500348975104836.\u001b[0m\n",
      "\u001b[32m[I 2021-06-29 01:56:57,479]\u001b[0m Trial 38 finished with value: 1.7509957284074296 and parameters: {'feature_fraction': 0.25, 'max_depth': 4, 'num_leaves': 11, 'min_data_in_leaf': 4200, 'lambda_l1': 0.00035208596847679076, 'lambda_l2': 2.2891401970118833e-06, 'bagging_fraction': 0.9, 'bagging_freq': 4}. Best is trial 28 with value: 1.7500348975104836.\u001b[0m\n",
      "\u001b[32m[I 2021-06-29 01:57:39,434]\u001b[0m Trial 39 finished with value: 1.7521470392093719 and parameters: {'feature_fraction': 0.1, 'max_depth': 6, 'num_leaves': 37, 'min_data_in_leaf': 1955, 'lambda_l1': 0.00907391738310319, 'lambda_l2': 1.3025876064466053e-07, 'bagging_fraction': 0.9, 'bagging_freq': 4}. Best is trial 28 with value: 1.7500348975104836.\u001b[0m\n",
      "Finished hyperparemeter search! (elapsed time: 1411.215 sec.) The best_iteration is 100.\n",
      "Making booster(s)...\n",
      "Finished making booster(s)! (elapsed time: 10.632 sec.)\n"
     ]
    },
    {
     "name": "stdout",
     "output_type": "stream",
     "text": [
      "23.7\n",
      "2021-06-29 01:57:50.071466\n",
      "1.748080002371117\n"
     ]
    }
   ],
   "source": [
    "# sklearn.preprocessing.Normalizer\n",
    "from sklearn.preprocessing import Normalizer\n",
    "the_normalizer = Normalizer()\n",
    "n_model, n_preds = do_all(X_test, y_test, X_train, y_train, the_normalizer)"
   ]
  },
  {
   "cell_type": "code",
   "execution_count": 14,
   "id": "51be0213",
   "metadata": {},
   "outputs": [
    {
     "name": "stderr",
     "output_type": "stream",
     "text": [
      "/opt/conda/lib/python3.9/site-packages/sklearn/utils/validation.py:70: FutureWarning: Pass classifier=True as keyword args. From version 1.0 (renaming of 0.25) passing these as positional arguments will result in an error\n",
      "  warnings.warn(f\"Pass {args_msg} as keyword args. From version \"\n",
      "\u001b[32m[I 2021-06-29 01:57:52,012]\u001b[0m A new study created in memory with name: no-name-e3d52dbb-9a4b-411a-8729-6e876cabd7c1\u001b[0m\n",
      "Searching the best hyperparameters...\n"
     ]
    },
    {
     "name": "stdout",
     "output_type": "stream",
     "text": [
      "2021-06-29 01:57:51.991728\n"
     ]
    },
    {
     "name": "stderr",
     "output_type": "stream",
     "text": [
      "\u001b[32m[I 2021-06-29 01:58:36,320]\u001b[0m Trial 0 finished with value: 1.7513615940697114 and parameters: {'feature_fraction': 0.4, 'max_depth': 6, 'num_leaves': 48, 'min_data_in_leaf': 1909, 'lambda_l1': 2.2131975276087785, 'lambda_l2': 1.1668309414051117e-08, 'bagging_fraction': 0.75, 'bagging_freq': 7}. Best is trial 0 with value: 1.7513615940697114.\u001b[0m\n",
      "\u001b[32m[I 2021-06-29 01:58:53,708]\u001b[0m Trial 1 finished with value: 1.7636431673069404 and parameters: {'feature_fraction': 0.8, 'max_depth': 4, 'num_leaves': 5, 'min_data_in_leaf': 18286, 'lambda_l1': 3.430126155682148e-07, 'lambda_l2': 4.355883902321961e-08, 'bagging_fraction': 0.8, 'bagging_freq': 6}. Best is trial 0 with value: 1.7513615940697114.\u001b[0m\n",
      "\u001b[32m[I 2021-06-29 01:59:13,307]\u001b[0m Trial 2 finished with value: 1.7551602282318934 and parameters: {'feature_fraction': 0.9500000000000001, 'max_depth': 5, 'num_leaves': 31, 'min_data_in_leaf': 1576, 'lambda_l1': 0.00015672892410501104, 'lambda_l2': 4.873229845531388e-07, 'bagging_fraction': 0.5, 'bagging_freq': 10}. Best is trial 0 with value: 1.7513615940697114.\u001b[0m\n",
      "\u001b[32m[I 2021-06-29 01:59:31,792]\u001b[0m Trial 3 finished with value: 1.7522596412893896 and parameters: {'feature_fraction': 0.8, 'max_depth': 7, 'num_leaves': 73, 'min_data_in_leaf': 983, 'lambda_l1': 0.0008591173360281456, 'lambda_l2': 9.853767376757999, 'bagging_fraction': 0.6, 'bagging_freq': 1}. Best is trial 0 with value: 1.7513615940697114.\u001b[0m\n",
      "\u001b[32m[I 2021-06-29 01:59:42,491]\u001b[0m Trial 4 finished with value: 1.7713540786748283 and parameters: {'feature_fraction': 0.7000000000000001, 'max_depth': 4, 'num_leaves': 5, 'min_data_in_leaf': 14198, 'lambda_l1': 4.77808062180573e-06, 'lambda_l2': 2.4469588676494426e-06, 'bagging_fraction': 0.5, 'bagging_freq': 6}. Best is trial 0 with value: 1.7513615940697114.\u001b[0m\n",
      "\u001b[32m[I 2021-06-29 02:00:05,118]\u001b[0m Trial 5 finished with value: 1.7547639050088724 and parameters: {'feature_fraction': 0.65, 'max_depth': 4, 'num_leaves': 6, 'min_data_in_leaf': 12779, 'lambda_l1': 1.0198519954224794, 'lambda_l2': 7.588881886960703, 'bagging_fraction': 0.9, 'bagging_freq': 4}. Best is trial 0 with value: 1.7513615940697114.\u001b[0m\n",
      "\u001b[32m[I 2021-06-29 02:00:42,605]\u001b[0m Trial 6 finished with value: 1.7713782782418879 and parameters: {'feature_fraction': 0.5, 'max_depth': 2, 'num_leaves': 3, 'min_data_in_leaf': 24951, 'lambda_l1': 0.28581219418176956, 'lambda_l2': 0.001701231661221564, 'bagging_fraction': 0.9, 'bagging_freq': 10}. Best is trial 0 with value: 1.7513615940697114.\u001b[0m\n",
      "\u001b[32m[I 2021-06-29 02:01:17,869]\u001b[0m Trial 7 finished with value: 1.7512470350200484 and parameters: {'feature_fraction': 0.15000000000000002, 'max_depth': 7, 'num_leaves': 26, 'min_data_in_leaf': 1993, 'lambda_l1': 0.03731348568623495, 'lambda_l2': 0.19244311933093788, 'bagging_fraction': 0.6, 'bagging_freq': 5}. Best is trial 7 with value: 1.7512470350200484.\u001b[0m\n",
      "\u001b[32m[I 2021-06-29 02:01:54,355]\u001b[0m Trial 8 finished with value: 1.7507914000920626 and parameters: {'feature_fraction': 0.2, 'max_depth': 6, 'num_leaves': 22, 'min_data_in_leaf': 3677, 'lambda_l1': 1.4980309007340027e-07, 'lambda_l2': 3.3401943362582993e-06, 'bagging_fraction': 0.65, 'bagging_freq': 1}. Best is trial 8 with value: 1.7507914000920626.\u001b[0m\n",
      "\u001b[32m[I 2021-06-29 02:02:40,320]\u001b[0m Trial 9 finished with value: 1.7525550856772831 and parameters: {'feature_fraction': 0.45000000000000007, 'max_depth': 6, 'num_leaves': 62, 'min_data_in_leaf': 944, 'lambda_l1': 0.0007074585507914169, 'lambda_l2': 0.00011227606799766367, 'bagging_fraction': 0.95, 'bagging_freq': 3}. Best is trial 8 with value: 1.7507914000920626.\u001b[0m\n",
      "\u001b[32m[I 2021-06-29 02:02:41,451]\u001b[0m Trial 10 finished with value: 2.075296214639907 and parameters: {'feature_fraction': 0.15000000000000002, 'max_depth': 1, 'num_leaves': 2, 'min_data_in_leaf': 46642, 'lambda_l1': 6.8107154387542745e-09, 'lambda_l2': 1.1629630658673363e-09, 'bagging_fraction': 0.65, 'bagging_freq': 1}. Best is trial 8 with value: 1.7507914000920626.\u001b[0m\n",
      "\u001b[32m[I 2021-06-29 02:03:18,478]\u001b[0m Trial 11 finished with value: 1.757430791762939 and parameters: {'feature_fraction': 0.1, 'max_depth': 7, 'num_leaves': 109, 'min_data_in_leaf': 338, 'lambda_l1': 1.5390843608074325e-09, 'lambda_l2': 0.022142084588865733, 'bagging_fraction': 0.6, 'bagging_freq': 3}. Best is trial 8 with value: 1.7507914000920626.\u001b[0m\n",
      "\u001b[32m[I 2021-06-29 02:03:59,181]\u001b[0m Trial 12 finished with value: 1.7513693737337377 and parameters: {'feature_fraction': 0.25, 'max_depth': 7, 'num_leaves': 33, 'min_data_in_leaf': 2986, 'lambda_l1': 0.020769568812500232, 'lambda_l2': 0.24530197280857255, 'bagging_fraction': 0.65, 'bagging_freq': 8}. Best is trial 8 with value: 1.7507914000920626.\u001b[0m\n",
      "\u001b[32m[I 2021-06-29 02:04:35,744]\u001b[0m Trial 13 finished with value: 1.7513791563747625 and parameters: {'feature_fraction': 0.30000000000000004, 'max_depth': 6, 'num_leaves': 20, 'min_data_in_leaf': 3678, 'lambda_l1': 1.5345276447120505e-07, 'lambda_l2': 2.3897367294730127e-05, 'bagging_fraction': 0.55, 'bagging_freq': 4}. Best is trial 8 with value: 1.7507914000920626.\u001b[0m\n",
      "\u001b[32m[I 2021-06-29 02:05:06,128]\u001b[0m Trial 14 finished with value: 1.7530599983925168 and parameters: {'feature_fraction': 0.1, 'max_depth': 5, 'num_leaves': 22, 'min_data_in_leaf': 4502, 'lambda_l1': 0.01947747342319363, 'lambda_l2': 0.0012396524326036653, 'bagging_fraction': 0.7, 'bagging_freq': 2}. Best is trial 8 with value: 1.7507914000920626.\u001b[0m\n",
      "\u001b[32m[I 2021-06-29 02:05:40,599]\u001b[0m Trial 15 finished with value: 1.758912020530613 and parameters: {'feature_fraction': 0.25, 'max_depth': 7, 'num_leaves': 88, 'min_data_in_leaf': 42, 'lambda_l1': 1.6490206653646767e-05, 'lambda_l2': 0.11773086628636538, 'bagging_fraction': 0.75, 'bagging_freq': 8}. Best is trial 8 with value: 1.7507914000920626.\u001b[0m\n",
      "\u001b[32m[I 2021-06-29 02:06:21,064]\u001b[0m Trial 16 finished with value: 1.7514499716156404 and parameters: {'feature_fraction': 0.35, 'max_depth': 5, 'num_leaves': 28, 'min_data_in_leaf': 2948, 'lambda_l1': 3.5229240992197554e-08, 'lambda_l2': 4.746739375260069e-06, 'bagging_fraction': 0.6, 'bagging_freq': 5}. Best is trial 8 with value: 1.7507914000920626.\u001b[0m\n",
      "\u001b[32m[I 2021-06-29 02:06:51,829]\u001b[0m Trial 17 finished with value: 1.752977121374085 and parameters: {'feature_fraction': 0.2, 'max_depth': 3, 'num_leaves': 8, 'min_data_in_leaf': 6551, 'lambda_l1': 0.026324067603862574, 'lambda_l2': 0.00020114508059399316, 'bagging_fraction': 0.7, 'bagging_freq': 2}. Best is trial 8 with value: 1.7507914000920626.\u001b[0m\n",
      "\u001b[32m[I 2021-06-29 02:07:19,119]\u001b[0m Trial 18 finished with value: 1.7532314627346088 and parameters: {'feature_fraction': 0.1, 'max_depth': 6, 'num_leaves': 42, 'min_data_in_leaf': 2356, 'lambda_l1': 3.016982522474684e-06, 'lambda_l2': 0.7871001819930827, 'bagging_fraction': 0.55, 'bagging_freq': 8}. Best is trial 8 with value: 1.7507914000920626.\u001b[0m\n",
      "\u001b[32m[I 2021-06-29 02:08:06,613]\u001b[0m Trial 19 finished with value: 1.7510213344748657 and parameters: {'feature_fraction': 0.35, 'max_depth': 6, 'num_leaves': 14, 'min_data_in_leaf': 5167, 'lambda_l1': 0.0013772499958871896, 'lambda_l2': 0.005334729055020434, 'bagging_fraction': 0.8, 'bagging_freq': 5}. Best is trial 8 with value: 1.7507914000920626.\u001b[0m\n",
      "\u001b[32m[I 2021-06-29 02:09:03,013]\u001b[0m Trial 20 finished with value: 1.751558123897614 and parameters: {'feature_fraction': 0.55, 'max_depth': 5, 'num_leaves': 14, 'min_data_in_leaf': 5737, 'lambda_l1': 0.0013163798177366992, 'lambda_l2': 0.0033060116256964957, 'bagging_fraction': 0.8, 'bagging_freq': 2}. Best is trial 8 with value: 1.7507914000920626.\u001b[0m\n",
      "\u001b[32m[I 2021-06-29 02:09:51,008]\u001b[0m Trial 21 finished with value: 1.7509752015211937 and parameters: {'feature_fraction': 0.30000000000000004, 'max_depth': 6, 'num_leaves': 15, 'min_data_in_leaf': 4957, 'lambda_l1': 0.1072430688099611, 'lambda_l2': 0.01580898468274114, 'bagging_fraction': 0.8, 'bagging_freq': 5}. Best is trial 8 with value: 1.7507914000920626.\u001b[0m\n",
      "\u001b[32m[I 2021-06-29 02:10:38,475]\u001b[0m Trial 22 finished with value: 1.7511933665894517 and parameters: {'feature_fraction': 0.35, 'max_depth': 6, 'num_leaves': 11, 'min_data_in_leaf': 6413, 'lambda_l1': 7.432964157451117, 'lambda_l2': 0.01715591059935341, 'bagging_fraction': 0.8500000000000001, 'bagging_freq': 4}. Best is trial 8 with value: 1.7507914000920626.\u001b[0m\n"
     ]
    },
    {
     "name": "stderr",
     "output_type": "stream",
     "text": [
      "\u001b[32m[I 2021-06-29 02:11:25,462]\u001b[0m Trial 23 finished with value: 1.7512181136742981 and parameters: {'feature_fraction': 0.30000000000000004, 'max_depth': 5, 'num_leaves': 16, 'min_data_in_leaf': 4896, 'lambda_l1': 0.003764465169600782, 'lambda_l2': 0.0005779030049657008, 'bagging_fraction': 0.8, 'bagging_freq': 7}. Best is trial 8 with value: 1.7507914000920626.\u001b[0m\n",
      "\u001b[32m[I 2021-06-29 02:12:23,462]\u001b[0m Trial 24 finished with value: 1.7514271725658759 and parameters: {'feature_fraction': 0.45000000000000007, 'max_depth': 6, 'num_leaves': 19, 'min_data_in_leaf': 4799, 'lambda_l1': 6.458498845461467e-05, 'lambda_l2': 0.016673454148543345, 'bagging_fraction': 0.8500000000000001, 'bagging_freq': 5}. Best is trial 8 with value: 1.7507914000920626.\u001b[0m\n",
      "\u001b[32m[I 2021-06-29 02:12:56,297]\u001b[0m Trial 25 finished with value: 1.7537529143048924 and parameters: {'feature_fraction': 0.2, 'max_depth': 3, 'num_leaves': 8, 'min_data_in_leaf': 8226, 'lambda_l1': 0.22867753656801237, 'lambda_l2': 5.7535139082888494e-05, 'bagging_fraction': 0.75, 'bagging_freq': 7}. Best is trial 8 with value: 1.7507914000920626.\u001b[0m\n",
      "\u001b[32m[I 2021-06-29 02:13:38,483]\u001b[0m Trial 26 finished with value: 1.751269786535122 and parameters: {'feature_fraction': 0.6, 'max_depth': 6, 'num_leaves': 37, 'min_data_in_leaf': 2646, 'lambda_l1': 0.00010833135390352887, 'lambda_l2': 1.2566586720174325e-05, 'bagging_fraction': 0.8500000000000001, 'bagging_freq': 3}. Best is trial 8 with value: 1.7507914000920626.\u001b[0m\n",
      "\u001b[32m[I 2021-06-29 02:14:28,689]\u001b[0m Trial 27 finished with value: 1.7520661845482253 and parameters: {'feature_fraction': 0.4, 'max_depth': 5, 'num_leaves': 13, 'min_data_in_leaf': 3827, 'lambda_l1': 0.003566721383761909, 'lambda_l2': 4.562672759389939e-07, 'bagging_fraction': 0.7, 'bagging_freq': 9}. Best is trial 8 with value: 1.7507914000920626.\u001b[0m\n",
      "\u001b[32m[I 2021-06-29 02:15:10,081]\u001b[0m Trial 28 finished with value: 1.7515557710365885 and parameters: {'feature_fraction': 0.30000000000000004, 'max_depth': 7, 'num_leaves': 51, 'min_data_in_leaf': 1165, 'lambda_l1': 7.798930370228383e-07, 'lambda_l2': 1.309703499742094, 'bagging_fraction': 0.8, 'bagging_freq': 6}. Best is trial 8 with value: 1.7507914000920626.\u001b[0m\n",
      "\u001b[32m[I 2021-06-29 02:15:48,490]\u001b[0m Trial 29 finished with value: 1.7506679150781075 and parameters: {'feature_fraction': 0.2, 'max_depth': 6, 'num_leaves': 25, 'min_data_in_leaf': 3992, 'lambda_l1': 7.247896087013018, 'lambda_l2': 0.0051091454043363065, 'bagging_fraction': 0.75, 'bagging_freq': 4}. Best is trial 29 with value: 1.7506679150781075.\u001b[0m\n",
      "\u001b[32m[I 2021-06-29 02:16:26,888]\u001b[0m Trial 30 finished with value: 1.750680642814638 and parameters: {'feature_fraction': 0.2, 'max_depth': 6, 'num_leaves': 25, 'min_data_in_leaf': 3990, 'lambda_l1': 8.38182535542785, 'lambda_l2': 1.0165859329073221e-08, 'bagging_fraction': 0.75, 'bagging_freq': 4}. Best is trial 29 with value: 1.7506679150781075.\u001b[0m\n",
      "\u001b[32m[I 2021-06-29 02:17:04,451]\u001b[0m Trial 31 finished with value: 1.7507890109874047 and parameters: {'feature_fraction': 0.2, 'max_depth': 6, 'num_leaves': 23, 'min_data_in_leaf': 4014, 'lambda_l1': 5.560542868153732, 'lambda_l2': 1.7520458829880082e-09, 'bagging_fraction': 0.75, 'bagging_freq': 4}. Best is trial 29 with value: 1.7506679150781075.\u001b[0m\n",
      "\u001b[32m[I 2021-06-29 02:17:44,237]\u001b[0m Trial 32 finished with value: 1.7506433837824986 and parameters: {'feature_fraction': 0.2, 'max_depth': 6, 'num_leaves': 24, 'min_data_in_leaf': 3882, 'lambda_l1': 7.652426474795948, 'lambda_l2': 1.8299574098521473e-09, 'bagging_fraction': 0.75, 'bagging_freq': 4}. Best is trial 32 with value: 1.7506433837824986.\u001b[0m\n",
      "\u001b[32m[I 2021-06-29 02:18:18,361]\u001b[0m Trial 33 finished with value: 1.7504539698332207 and parameters: {'feature_fraction': 0.15000000000000002, 'max_depth': 5, 'num_leaves': 25, 'min_data_in_leaf': 3965, 'lambda_l1': 7.86084371025692, 'lambda_l2': 2.775022017772547e-09, 'bagging_fraction': 0.75, 'bagging_freq': 4}. Best is trial 33 with value: 1.7504539698332207.\u001b[0m\n",
      "\u001b[32m[I 2021-06-29 02:18:55,127]\u001b[0m Trial 34 finished with value: 1.7501337899261777 and parameters: {'feature_fraction': 0.15000000000000002, 'max_depth': 5, 'num_leaves': 26, 'min_data_in_leaf': 3356, 'lambda_l1': 1.288655202553031, 'lambda_l2': 1.1696481613904602e-08, 'bagging_fraction': 0.75, 'bagging_freq': 3}. Best is trial 34 with value: 1.7501337899261777.\u001b[0m\n",
      "\u001b[32m[I 2021-06-29 02:19:23,407]\u001b[0m Trial 35 finished with value: 1.752678942985725 and parameters: {'feature_fraction': 0.1, 'max_depth': 4, 'num_leaves': 11, 'min_data_in_leaf': 3331, 'lambda_l1': 1.3591979252581472, 'lambda_l2': 2.6224105894303547e-08, 'bagging_fraction': 0.7, 'bagging_freq': 3}. Best is trial 34 with value: 1.7501337899261777.\u001b[0m\n",
      "\u001b[32m[I 2021-06-29 02:19:58,176]\u001b[0m Trial 36 finished with value: 1.7501337160159873 and parameters: {'feature_fraction': 0.15000000000000002, 'max_depth': 5, 'num_leaves': 29, 'min_data_in_leaf': 3380, 'lambda_l1': 1.2509196604112092, 'lambda_l2': 5.764843356715783e-09, 'bagging_fraction': 0.75, 'bagging_freq': 3}. Best is trial 36 with value: 1.7501337160159873.\u001b[0m\n",
      "\u001b[32m[I 2021-06-29 02:20:29,171]\u001b[0m Trial 37 finished with value: 1.750796135035897 and parameters: {'feature_fraction': 0.15000000000000002, 'max_depth': 4, 'num_leaves': 16, 'min_data_in_leaf': 3342, 'lambda_l1': 0.6790895562728408, 'lambda_l2': 6.309308665810133e-09, 'bagging_fraction': 0.7, 'bagging_freq': 2}. Best is trial 36 with value: 1.7501337160159873.\u001b[0m\n",
      "\u001b[32m[I 2021-06-29 02:20:58,367]\u001b[0m Trial 38 finished with value: 1.7519835523086429 and parameters: {'feature_fraction': 0.9, 'max_depth': 5, 'num_leaves': 29, 'min_data_in_leaf': 3389, 'lambda_l1': 2.0900277476133153, 'lambda_l2': 1.4198942900811265e-07, 'bagging_fraction': 0.8500000000000001, 'bagging_freq': 3}. Best is trial 36 with value: 1.7501337160159873.\u001b[0m\n",
      "\u001b[32m[I 2021-06-29 02:21:22,367]\u001b[0m Trial 39 finished with value: 1.757292241046898 and parameters: {'feature_fraction': 0.1, 'max_depth': 4, 'num_leaves': 4, 'min_data_in_leaf': 9073, 'lambda_l1': 0.43073515493213593, 'lambda_l2': 3.802677997474265e-09, 'bagging_fraction': 0.75, 'bagging_freq': 3}. Best is trial 36 with value: 1.7501337160159873.\u001b[0m\n",
      "Finished hyperparemeter search! (elapsed time: 1410.334 sec.) The best_iteration is 100.\n",
      "Making booster(s)...\n",
      "Finished making booster(s)! (elapsed time: 8.217 sec.)\n"
     ]
    },
    {
     "name": "stdout",
     "output_type": "stream",
     "text": [
      "23.64\n",
      "2021-06-29 02:21:30.589224\n",
      "1.7485294661546393\n"
     ]
    },
    {
     "data": {
      "text/plain": [
       "array([[0.02387077, 0.01783118, 0.0152909 , ..., 0.05110071, 0.21169561,\n",
       "        0.05152337],\n",
       "       [0.03727782, 0.04332348, 0.04273437, ..., 0.08331729, 0.28000717,\n",
       "        0.10058811],\n",
       "       [0.03828316, 0.02640484, 0.0205466 , ..., 0.09690139, 0.48066512,\n",
       "        0.08846737],\n",
       "       ...,\n",
       "       [0.04533367, 0.03506324, 0.03849023, ..., 0.09728498, 0.38061466,\n",
       "        0.13545339],\n",
       "       [0.04634373, 0.17672905, 0.11701944, ..., 0.05458129, 0.20125497,\n",
       "        0.15897843],\n",
       "       [0.04587652, 0.04569913, 0.03700641, ..., 0.10268204, 0.42361828,\n",
       "        0.11791756]])"
      ]
     },
     "execution_count": 14,
     "metadata": {},
     "output_type": "execute_result"
    }
   ],
   "source": [
    "# do nothing to data\n",
    "base = do_train(X_train, y_train)\n",
    "do_test(X_test, y_test, base)"
   ]
  }
 ],
 "metadata": {
  "kernelspec": {
   "display_name": "Python 3",
   "language": "python",
   "name": "python3"
  },
  "language_info": {
   "codemirror_mode": {
    "name": "ipython",
    "version": 3
   },
   "file_extension": ".py",
   "mimetype": "text/x-python",
   "name": "python",
   "nbconvert_exporter": "python",
   "pygments_lexer": "ipython3",
   "version": "3.9.4"
  }
 },
 "nbformat": 4,
 "nbformat_minor": 5
}
